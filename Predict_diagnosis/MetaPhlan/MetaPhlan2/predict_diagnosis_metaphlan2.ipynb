{
 "cells": [
  {
   "cell_type": "code",
   "execution_count": 2,
   "metadata": {
    "collapsed": true,
    "pycharm": {
     "name": "#%%\n"
    }
   },
   "outputs": [],
   "source": [
    "import pandas as pd\n",
    "import seaborn as sns\n",
    "import numpy as np\n",
    "from functools import reduce\n",
    "from pandas.api.types import is_numeric_dtype\n",
    "import matplotlib.pyplot as plt\n",
    "from sklearn import datasets\n",
    "\n",
    "\n",
    "from sklearn.metrics import roc_curve\n",
    "from sklearn.model_selection import GridSearchCV\n",
    "from sklearn.neighbors import KNeighborsClassifier\n",
    "from sklearn.neighbors import RadiusNeighborsClassifier\n",
    "from sklearn.linear_model import LogisticRegression\n",
    "from sklearn.tree import DecisionTreeClassifier\n",
    "from sklearn.linear_model import LogisticRegressionCV\n",
    "from sklearn.ensemble import RandomForestClassifier\n",
    "from sklearn.neural_network import MLPClassifier\n",
    "\n",
    "from sklearn.preprocessing import StandardScaler\n",
    "from sklearn.model_selection import train_test_split\n",
    "\n",
    "from sklearn import svm\n",
    "from sklearn.metrics import roc_auc_score\n",
    "from sklearn.metrics import roc_curve\n",
    "from sklearn.metrics import confusion_matrix\n",
    "from sklearn.metrics import cohen_kappa_score, make_scorer, f1_score, accuracy_score"
   ]
  },
  {
   "cell_type": "markdown",
   "source": [
    "##### Upload Data\n",
    "read CSV file"
   ],
   "metadata": {
    "collapsed": false,
    "pycharm": {
     "name": "#%% md\n"
    }
   }
  },
  {
   "cell_type": "code",
   "execution_count": 562,
   "outputs": [],
   "source": [
    "project1 = pd.read_excel(\"/Users/odedsabah/Desktop/metaphlan_file/df_project_1.xlsx\")\n",
    "project2 = pd.read_excel(\"/Users/odedsabah/Desktop/metaphlan_file/df_project_2.xlsx\")\n",
    "project3 = pd.read_excel(\"/Users/odedsabah/Desktop/metaphlan_file/df_project_3.xlsx\")"
   ],
   "metadata": {
    "collapsed": false,
    "pycharm": {
     "name": "#%%\n"
    }
   }
  },
  {
   "cell_type": "code",
   "execution_count": 563,
   "outputs": [],
   "source": [
    "project1 = project1.rename(columns={\"name\":\"s__name\",\"type\" :\"s__type\"})\n",
    "project2 = project2.rename(columns={\"name\":\"s__name\",\"type\" :\"s__type\"})\n",
    "project3 = project3.rename(columns={\"name\":\"s__name\",\"type\" :\"s__type\"})"
   ],
   "metadata": {
    "collapsed": false,
    "pycharm": {
     "name": "#%%\n"
    }
   }
  },
  {
   "cell_type": "code",
   "execution_count": 564,
   "outputs": [],
   "source": [
    "project1 = project1.loc[:,project1.columns.str.startswith('s')]\n",
    "project2 = project2.loc[:,project2.columns.str.startswith('s')]\n",
    "project3 = project3.loc[:,project3.columns.str.startswith('s')]"
   ],
   "metadata": {
    "collapsed": false,
    "pycharm": {
     "name": "#%%\n"
    }
   }
  },
  {
   "cell_type": "code",
   "execution_count": 566,
   "outputs": [],
   "source": [
    "project1 = project1.T.reset_index()\n",
    "project2 = project2.T.reset_index()\n",
    "project3 = project3.T.reset_index()\n",
    "project1.columns = project1.iloc[0]\n",
    "project2.columns = project2.iloc[0]\n",
    "project3.columns = project3.iloc[0]\n",
    "project1 = project1.iloc[1:].rename_axis(None, axis=1)\n",
    "project2 = project2.iloc[1:].rename_axis(None, axis=1)\n",
    "project3 = project3.iloc[1:].rename_axis(None, axis=1)"
   ],
   "metadata": {
    "collapsed": false,
    "pycharm": {
     "name": "#%%\n"
    }
   }
  },
  {
   "cell_type": "code",
   "execution_count": 567,
   "outputs": [],
   "source": [
    "dfs = [project1, project2, project3]"
   ],
   "metadata": {
    "collapsed": false,
    "pycharm": {
     "name": "#%%\n"
    }
   }
  },
  {
   "cell_type": "code",
   "execution_count": 568,
   "outputs": [],
   "source": [
    "species_main = reduce(lambda  left,right: pd.merge(left,right,on=['s__name'],\n",
    "                                            how='outer'), dfs)\n"
   ],
   "metadata": {
    "collapsed": false,
    "pycharm": {
     "name": "#%%\n"
    }
   }
  },
  {
   "cell_type": "code",
   "execution_count": 570,
   "outputs": [],
   "source": [
    "species_main = species_main.fillna(0).T"
   ],
   "metadata": {
    "collapsed": false,
    "pycharm": {
     "name": "#%%\n"
    }
   }
  },
  {
   "cell_type": "code",
   "execution_count": 571,
   "outputs": [],
   "source": [
    "species_main.columns = species_main.iloc[0]\n",
    "species_main = species_main.iloc[1:].rename_axis(None, axis=1)"
   ],
   "metadata": {
    "collapsed": false,
    "pycharm": {
     "name": "#%%\n"
    }
   }
  },
  {
   "cell_type": "code",
   "execution_count": 573,
   "outputs": [
    {
     "ename": "TypeError",
     "evalue": "first argument must be an iterable of pandas objects, you passed an object of type \"DataFrame\"",
     "output_type": "error",
     "traceback": [
      "\u001B[0;31m---------------------------------------------------------------------------\u001B[0m",
      "\u001B[0;31mTypeError\u001B[0m                                 Traceback (most recent call last)",
      "Input \u001B[0;32mIn [573]\u001B[0m, in \u001B[0;36m<cell line: 2>\u001B[0;34m()\u001B[0m\n\u001B[1;32m      1\u001B[0m species_main \u001B[38;5;241m=\u001B[39m species_main\u001B[38;5;241m.\u001B[39mloc[:, (species_main \u001B[38;5;241m==\u001B[39m \u001B[38;5;241m0\u001B[39m)\u001B[38;5;241m.\u001B[39mmean() \u001B[38;5;241m<\u001B[39m \u001B[38;5;241m0.8\u001B[39m]\n\u001B[0;32m----> 2\u001B[0m species_main \u001B[38;5;241m=\u001B[39m \u001B[43mpd\u001B[49m\u001B[38;5;241;43m.\u001B[39;49m\u001B[43mconcat\u001B[49m\u001B[43m(\u001B[49m\u001B[43mspecies_main\u001B[49m\u001B[43m,\u001B[49m\u001B[43m)\u001B[49m\n\u001B[1;32m      3\u001B[0m species_main \u001B[38;5;241m=\u001B[39m species_main\u001B[38;5;241m.\u001B[39mreset_index()\n\u001B[1;32m      4\u001B[0m species_main\u001B[38;5;241m.\u001B[39mto_csv(\u001B[38;5;124m\"\u001B[39m\u001B[38;5;124m/Users/odedsabah/Desktop/metaphlan_p.csv\u001B[39m\u001B[38;5;124m\"\u001B[39m)\n",
      "File \u001B[0;32m/Library/Frameworks/Python.framework/Versions/3.8/lib/python3.8/site-packages/pandas/util/_decorators.py:311\u001B[0m, in \u001B[0;36mdeprecate_nonkeyword_arguments.<locals>.decorate.<locals>.wrapper\u001B[0;34m(*args, **kwargs)\u001B[0m\n\u001B[1;32m    305\u001B[0m \u001B[38;5;28;01mif\u001B[39;00m \u001B[38;5;28mlen\u001B[39m(args) \u001B[38;5;241m>\u001B[39m num_allow_args:\n\u001B[1;32m    306\u001B[0m     warnings\u001B[38;5;241m.\u001B[39mwarn(\n\u001B[1;32m    307\u001B[0m         msg\u001B[38;5;241m.\u001B[39mformat(arguments\u001B[38;5;241m=\u001B[39marguments),\n\u001B[1;32m    308\u001B[0m         \u001B[38;5;167;01mFutureWarning\u001B[39;00m,\n\u001B[1;32m    309\u001B[0m         stacklevel\u001B[38;5;241m=\u001B[39mstacklevel,\n\u001B[1;32m    310\u001B[0m     )\n\u001B[0;32m--> 311\u001B[0m \u001B[38;5;28;01mreturn\u001B[39;00m \u001B[43mfunc\u001B[49m\u001B[43m(\u001B[49m\u001B[38;5;241;43m*\u001B[39;49m\u001B[43margs\u001B[49m\u001B[43m,\u001B[49m\u001B[43m \u001B[49m\u001B[38;5;241;43m*\u001B[39;49m\u001B[38;5;241;43m*\u001B[39;49m\u001B[43mkwargs\u001B[49m\u001B[43m)\u001B[49m\n",
      "File \u001B[0;32m/Library/Frameworks/Python.framework/Versions/3.8/lib/python3.8/site-packages/pandas/core/reshape/concat.py:347\u001B[0m, in \u001B[0;36mconcat\u001B[0;34m(objs, axis, join, ignore_index, keys, levels, names, verify_integrity, sort, copy)\u001B[0m\n\u001B[1;32m    143\u001B[0m \u001B[38;5;129m@deprecate_nonkeyword_arguments\u001B[39m(version\u001B[38;5;241m=\u001B[39m\u001B[38;5;28;01mNone\u001B[39;00m, allowed_args\u001B[38;5;241m=\u001B[39m[\u001B[38;5;124m\"\u001B[39m\u001B[38;5;124mobjs\u001B[39m\u001B[38;5;124m\"\u001B[39m])\n\u001B[1;32m    144\u001B[0m \u001B[38;5;28;01mdef\u001B[39;00m \u001B[38;5;21mconcat\u001B[39m(\n\u001B[1;32m    145\u001B[0m     objs: Iterable[NDFrame] \u001B[38;5;241m|\u001B[39m Mapping[Hashable, NDFrame],\n\u001B[0;32m   (...)\u001B[0m\n\u001B[1;32m    154\u001B[0m     copy: \u001B[38;5;28mbool\u001B[39m \u001B[38;5;241m=\u001B[39m \u001B[38;5;28;01mTrue\u001B[39;00m,\n\u001B[1;32m    155\u001B[0m ) \u001B[38;5;241m-\u001B[39m\u001B[38;5;241m>\u001B[39m DataFrame \u001B[38;5;241m|\u001B[39m Series:\n\u001B[1;32m    156\u001B[0m     \u001B[38;5;124;03m\"\"\"\u001B[39;00m\n\u001B[1;32m    157\u001B[0m \u001B[38;5;124;03m    Concatenate pandas objects along a particular axis with optional set logic\u001B[39;00m\n\u001B[1;32m    158\u001B[0m \u001B[38;5;124;03m    along the other axes.\u001B[39;00m\n\u001B[0;32m   (...)\u001B[0m\n\u001B[1;32m    345\u001B[0m \u001B[38;5;124;03m    ValueError: Indexes have overlapping values: ['a']\u001B[39;00m\n\u001B[1;32m    346\u001B[0m \u001B[38;5;124;03m    \"\"\"\u001B[39;00m\n\u001B[0;32m--> 347\u001B[0m     op \u001B[38;5;241m=\u001B[39m \u001B[43m_Concatenator\u001B[49m\u001B[43m(\u001B[49m\n\u001B[1;32m    348\u001B[0m \u001B[43m        \u001B[49m\u001B[43mobjs\u001B[49m\u001B[43m,\u001B[49m\n\u001B[1;32m    349\u001B[0m \u001B[43m        \u001B[49m\u001B[43maxis\u001B[49m\u001B[38;5;241;43m=\u001B[39;49m\u001B[43maxis\u001B[49m\u001B[43m,\u001B[49m\n\u001B[1;32m    350\u001B[0m \u001B[43m        \u001B[49m\u001B[43mignore_index\u001B[49m\u001B[38;5;241;43m=\u001B[39;49m\u001B[43mignore_index\u001B[49m\u001B[43m,\u001B[49m\n\u001B[1;32m    351\u001B[0m \u001B[43m        \u001B[49m\u001B[43mjoin\u001B[49m\u001B[38;5;241;43m=\u001B[39;49m\u001B[43mjoin\u001B[49m\u001B[43m,\u001B[49m\n\u001B[1;32m    352\u001B[0m \u001B[43m        \u001B[49m\u001B[43mkeys\u001B[49m\u001B[38;5;241;43m=\u001B[39;49m\u001B[43mkeys\u001B[49m\u001B[43m,\u001B[49m\n\u001B[1;32m    353\u001B[0m \u001B[43m        \u001B[49m\u001B[43mlevels\u001B[49m\u001B[38;5;241;43m=\u001B[39;49m\u001B[43mlevels\u001B[49m\u001B[43m,\u001B[49m\n\u001B[1;32m    354\u001B[0m \u001B[43m        \u001B[49m\u001B[43mnames\u001B[49m\u001B[38;5;241;43m=\u001B[39;49m\u001B[43mnames\u001B[49m\u001B[43m,\u001B[49m\n\u001B[1;32m    355\u001B[0m \u001B[43m        \u001B[49m\u001B[43mverify_integrity\u001B[49m\u001B[38;5;241;43m=\u001B[39;49m\u001B[43mverify_integrity\u001B[49m\u001B[43m,\u001B[49m\n\u001B[1;32m    356\u001B[0m \u001B[43m        \u001B[49m\u001B[43mcopy\u001B[49m\u001B[38;5;241;43m=\u001B[39;49m\u001B[43mcopy\u001B[49m\u001B[43m,\u001B[49m\n\u001B[1;32m    357\u001B[0m \u001B[43m        \u001B[49m\u001B[43msort\u001B[49m\u001B[38;5;241;43m=\u001B[39;49m\u001B[43msort\u001B[49m\u001B[43m,\u001B[49m\n\u001B[1;32m    358\u001B[0m \u001B[43m    \u001B[49m\u001B[43m)\u001B[49m\n\u001B[1;32m    360\u001B[0m     \u001B[38;5;28;01mreturn\u001B[39;00m op\u001B[38;5;241m.\u001B[39mget_result()\n",
      "File \u001B[0;32m/Library/Frameworks/Python.framework/Versions/3.8/lib/python3.8/site-packages/pandas/core/reshape/concat.py:382\u001B[0m, in \u001B[0;36m_Concatenator.__init__\u001B[0;34m(self, objs, axis, join, keys, levels, names, ignore_index, verify_integrity, copy, sort)\u001B[0m\n\u001B[1;32m    368\u001B[0m \u001B[38;5;28;01mdef\u001B[39;00m \u001B[38;5;21m__init__\u001B[39m(\n\u001B[1;32m    369\u001B[0m     \u001B[38;5;28mself\u001B[39m,\n\u001B[1;32m    370\u001B[0m     objs: Iterable[NDFrame] \u001B[38;5;241m|\u001B[39m Mapping[Hashable, NDFrame],\n\u001B[0;32m   (...)\u001B[0m\n\u001B[1;32m    379\u001B[0m     sort\u001B[38;5;241m=\u001B[39m\u001B[38;5;28;01mFalse\u001B[39;00m,\n\u001B[1;32m    380\u001B[0m ):\n\u001B[1;32m    381\u001B[0m     \u001B[38;5;28;01mif\u001B[39;00m \u001B[38;5;28misinstance\u001B[39m(objs, (ABCSeries, ABCDataFrame, \u001B[38;5;28mstr\u001B[39m)):\n\u001B[0;32m--> 382\u001B[0m         \u001B[38;5;28;01mraise\u001B[39;00m \u001B[38;5;167;01mTypeError\u001B[39;00m(\n\u001B[1;32m    383\u001B[0m             \u001B[38;5;124m\"\u001B[39m\u001B[38;5;124mfirst argument must be an iterable of pandas \u001B[39m\u001B[38;5;124m\"\u001B[39m\n\u001B[1;32m    384\u001B[0m             \u001B[38;5;124mf\u001B[39m\u001B[38;5;124m'\u001B[39m\u001B[38;5;124mobjects, you passed an object of type \u001B[39m\u001B[38;5;124m\"\u001B[39m\u001B[38;5;132;01m{\u001B[39;00m\u001B[38;5;28mtype\u001B[39m(objs)\u001B[38;5;241m.\u001B[39m\u001B[38;5;18m__name__\u001B[39m\u001B[38;5;132;01m}\u001B[39;00m\u001B[38;5;124m\"\u001B[39m\u001B[38;5;124m'\u001B[39m\n\u001B[1;32m    385\u001B[0m         )\n\u001B[1;32m    387\u001B[0m     \u001B[38;5;28;01mif\u001B[39;00m join \u001B[38;5;241m==\u001B[39m \u001B[38;5;124m\"\u001B[39m\u001B[38;5;124mouter\u001B[39m\u001B[38;5;124m\"\u001B[39m:\n\u001B[1;32m    388\u001B[0m         \u001B[38;5;28mself\u001B[39m\u001B[38;5;241m.\u001B[39mintersect \u001B[38;5;241m=\u001B[39m \u001B[38;5;28;01mFalse\u001B[39;00m\n",
      "\u001B[0;31mTypeError\u001B[0m: first argument must be an iterable of pandas objects, you passed an object of type \"DataFrame\""
     ]
    }
   ],
   "source": [
    "species_main = species_main.loc[:, (species_main == 0).mean() < 0.8]\n",
    "species_main = pd.concat(species_main,)\n",
    "species_main = species_main.reset_index()\n",
    "species_main.to_csv(\"/Users/odedsabah/Desktop/metaphlan_p.csv\")"
   ],
   "metadata": {
    "collapsed": false,
    "pycharm": {
     "name": "#%%\n"
    }
   }
  },
  {
   "cell_type": "code",
   "execution_count": 69,
   "outputs": [],
   "source": [
    "species_main_ = pd.read_csv(\"/Users/odedsabah/Desktop/metaphlan_p.csv\")\n",
    "# species_main_['s__type'] = species_main_['s__type'].replace({0:'CD', 1:'Control'})"
   ],
   "metadata": {
    "collapsed": false,
    "pycharm": {
     "name": "#%%\n"
    }
   }
  },
  {
   "cell_type": "code",
   "execution_count": 160,
   "outputs": [
    {
     "data": {
      "text/plain": "       Unnamed: 0  s__Bacteroides_ovatus  s__Escherichia_coli  \\\n0    SAMN03469288               45.51221             12.09859   \n1    SAMN03469504                0.02861              0.02464   \n2    SAMN03469276                0.00195              0.00000   \n3    SAMN03469316                5.60650              0.83270   \n4    SAMN03469464               54.85986              0.48055   \n..            ...                    ...                  ...   \n259      ESM5GEYU                0.00803              4.57888   \n260      CSM67U9X                0.69948              0.06476   \n261      HSM5MD6E               14.49594              0.00000   \n262      MSM9VZMQ                0.00000              0.00000   \n263      HSM67VDR                3.24017              0.01021   \n\n     s__Escherichia_unclassified  s__Bacteroides_xylanisolvens  \\\n0                       11.68906                       7.91162   \n1                        0.00000                       0.80095   \n2                        0.01251                       0.00000   \n3                        0.12691                       0.74131   \n4                        0.12514                       0.64406   \n..                           ...                           ...   \n259                      0.07183                       0.00000   \n260                      0.05109                       1.22794   \n261                      0.00000                       0.00000   \n262                      0.02042                       0.89860   \n263                      0.00618                       0.42901   \n\n     s__Ruminococcus_gnavus  s__Faecalibacterium_prausnitzii  \\\n0                   3.15804                          2.74788   \n1                   0.01479                         28.20785   \n2                   0.07909                          7.47017   \n3                   0.00000                          9.10991   \n4                   0.47938                          0.00065   \n..                      ...                              ...   \n259                 0.01710                         12.77383   \n260                 0.00363                          3.09731   \n261                 0.04105                         15.48679   \n262                 0.00000                          4.14365   \n263                 0.02357                          3.62380   \n\n     s__Veillonella_unclassified  s__Bifidobacterium_longum  \\\n0                        1.13993                    0.59935   \n1                        0.00593                    0.05351   \n2                        0.00000                    0.12190   \n3                        0.00370                   18.69388   \n4                        0.00921                    1.41463   \n..                           ...                        ...   \n259                      2.28975                    0.06505   \n260                      0.04253                    0.02383   \n261                      0.00000                    0.00000   \n262                      0.08869                    0.00116   \n263                      0.08967                    0.08810   \n\n     s__Clostridium_hathewayi  ...  s__Lachnospiraceae_bacterium_2_1_58FAA  \\\n0                     0.55046  ...                                 0.00000   \n1                     0.00279  ...                                 0.00000   \n2                     0.03736  ...                                 0.00000   \n3                     0.00000  ...                                 0.00000   \n4                     0.83822  ...                                 0.00939   \n..                        ...  ...                                     ...   \n259                   0.53365  ...                                 0.00312   \n260                   0.00000  ...                                 0.00000   \n261                   0.00000  ...                                 0.00174   \n262                   0.00000  ...                                 0.00000   \n263                   0.00000  ...                                 0.00000   \n\n     s__Roseburia_intestinalis  s__Ruminococcus_bromii  s__Coprococcus_catus  \\\n0                      0.00000                 0.00000               0.00000   \n1                      0.00000                 0.00000               0.00000   \n2                      0.00000                 0.00000               0.00000   \n3                      0.00000                 0.00000               0.00000   \n4                      0.00000                 0.00000               0.00000   \n..                         ...                     ...                   ...   \n259                    0.23775                 0.00117               0.00000   \n260                    0.01914                 0.00000               0.00000   \n261                    0.00000                 0.19408               0.00000   \n262                    2.76490                 0.48160               0.00000   \n263                    4.00475                 0.00000               0.00196   \n\n     s__Barnesiella_intestinihominis  s__Alistipes_shahii  \\\n0                            0.00000              0.00000   \n1                            0.00000              0.00000   \n2                            0.00000              0.00000   \n3                            0.00000              0.00000   \n4                            0.00000              0.00000   \n..                               ...                  ...   \n259                          0.00000              0.00000   \n260                          0.00512              0.61255   \n261                          0.00000              0.98328   \n262                          7.73334              1.76415   \n263                          0.00000              0.15820   \n\n     s__Bacteroides_massiliensis  s__Akkermansia_muciniphila  \\\n0                        0.00000                     0.00000   \n1                        0.00000                     0.00000   \n2                        0.00000                     0.00000   \n3                        0.00000                     0.00000   \n4                        0.00000                     0.00000   \n..                           ...                         ...   \n259                      0.07727                     0.00000   \n260                      5.55624                     0.01166   \n261                     12.71782                     0.02290   \n262                     12.96372                     0.00000   \n263                      5.88306                     0.00000   \n\n     s__Ruminococcus_lactaris  s__type  \n0                     0.00000      0.0  \n1                     0.00000      0.0  \n2                     0.00000      0.0  \n3                     0.00000      0.0  \n4                     0.00000      0.0  \n..                        ...      ...  \n259                   0.00000      1.0  \n260                   1.62146      0.0  \n261                   0.04996      1.0  \n262                   0.12673      1.0  \n263                   0.00000      1.0  \n\n[264 rows x 91 columns]",
      "text/html": "<div>\n<style scoped>\n    .dataframe tbody tr th:only-of-type {\n        vertical-align: middle;\n    }\n\n    .dataframe tbody tr th {\n        vertical-align: top;\n    }\n\n    .dataframe thead th {\n        text-align: right;\n    }\n</style>\n<table border=\"1\" class=\"dataframe\">\n  <thead>\n    <tr style=\"text-align: right;\">\n      <th></th>\n      <th>Unnamed: 0</th>\n      <th>s__Bacteroides_ovatus</th>\n      <th>s__Escherichia_coli</th>\n      <th>s__Escherichia_unclassified</th>\n      <th>s__Bacteroides_xylanisolvens</th>\n      <th>s__Ruminococcus_gnavus</th>\n      <th>s__Faecalibacterium_prausnitzii</th>\n      <th>s__Veillonella_unclassified</th>\n      <th>s__Bifidobacterium_longum</th>\n      <th>s__Clostridium_hathewayi</th>\n      <th>...</th>\n      <th>s__Lachnospiraceae_bacterium_2_1_58FAA</th>\n      <th>s__Roseburia_intestinalis</th>\n      <th>s__Ruminococcus_bromii</th>\n      <th>s__Coprococcus_catus</th>\n      <th>s__Barnesiella_intestinihominis</th>\n      <th>s__Alistipes_shahii</th>\n      <th>s__Bacteroides_massiliensis</th>\n      <th>s__Akkermansia_muciniphila</th>\n      <th>s__Ruminococcus_lactaris</th>\n      <th>s__type</th>\n    </tr>\n  </thead>\n  <tbody>\n    <tr>\n      <th>0</th>\n      <td>SAMN03469288</td>\n      <td>45.51221</td>\n      <td>12.09859</td>\n      <td>11.68906</td>\n      <td>7.91162</td>\n      <td>3.15804</td>\n      <td>2.74788</td>\n      <td>1.13993</td>\n      <td>0.59935</td>\n      <td>0.55046</td>\n      <td>...</td>\n      <td>0.00000</td>\n      <td>0.00000</td>\n      <td>0.00000</td>\n      <td>0.00000</td>\n      <td>0.00000</td>\n      <td>0.00000</td>\n      <td>0.00000</td>\n      <td>0.00000</td>\n      <td>0.00000</td>\n      <td>0.0</td>\n    </tr>\n    <tr>\n      <th>1</th>\n      <td>SAMN03469504</td>\n      <td>0.02861</td>\n      <td>0.02464</td>\n      <td>0.00000</td>\n      <td>0.80095</td>\n      <td>0.01479</td>\n      <td>28.20785</td>\n      <td>0.00593</td>\n      <td>0.05351</td>\n      <td>0.00279</td>\n      <td>...</td>\n      <td>0.00000</td>\n      <td>0.00000</td>\n      <td>0.00000</td>\n      <td>0.00000</td>\n      <td>0.00000</td>\n      <td>0.00000</td>\n      <td>0.00000</td>\n      <td>0.00000</td>\n      <td>0.00000</td>\n      <td>0.0</td>\n    </tr>\n    <tr>\n      <th>2</th>\n      <td>SAMN03469276</td>\n      <td>0.00195</td>\n      <td>0.00000</td>\n      <td>0.01251</td>\n      <td>0.00000</td>\n      <td>0.07909</td>\n      <td>7.47017</td>\n      <td>0.00000</td>\n      <td>0.12190</td>\n      <td>0.03736</td>\n      <td>...</td>\n      <td>0.00000</td>\n      <td>0.00000</td>\n      <td>0.00000</td>\n      <td>0.00000</td>\n      <td>0.00000</td>\n      <td>0.00000</td>\n      <td>0.00000</td>\n      <td>0.00000</td>\n      <td>0.00000</td>\n      <td>0.0</td>\n    </tr>\n    <tr>\n      <th>3</th>\n      <td>SAMN03469316</td>\n      <td>5.60650</td>\n      <td>0.83270</td>\n      <td>0.12691</td>\n      <td>0.74131</td>\n      <td>0.00000</td>\n      <td>9.10991</td>\n      <td>0.00370</td>\n      <td>18.69388</td>\n      <td>0.00000</td>\n      <td>...</td>\n      <td>0.00000</td>\n      <td>0.00000</td>\n      <td>0.00000</td>\n      <td>0.00000</td>\n      <td>0.00000</td>\n      <td>0.00000</td>\n      <td>0.00000</td>\n      <td>0.00000</td>\n      <td>0.00000</td>\n      <td>0.0</td>\n    </tr>\n    <tr>\n      <th>4</th>\n      <td>SAMN03469464</td>\n      <td>54.85986</td>\n      <td>0.48055</td>\n      <td>0.12514</td>\n      <td>0.64406</td>\n      <td>0.47938</td>\n      <td>0.00065</td>\n      <td>0.00921</td>\n      <td>1.41463</td>\n      <td>0.83822</td>\n      <td>...</td>\n      <td>0.00939</td>\n      <td>0.00000</td>\n      <td>0.00000</td>\n      <td>0.00000</td>\n      <td>0.00000</td>\n      <td>0.00000</td>\n      <td>0.00000</td>\n      <td>0.00000</td>\n      <td>0.00000</td>\n      <td>0.0</td>\n    </tr>\n    <tr>\n      <th>...</th>\n      <td>...</td>\n      <td>...</td>\n      <td>...</td>\n      <td>...</td>\n      <td>...</td>\n      <td>...</td>\n      <td>...</td>\n      <td>...</td>\n      <td>...</td>\n      <td>...</td>\n      <td>...</td>\n      <td>...</td>\n      <td>...</td>\n      <td>...</td>\n      <td>...</td>\n      <td>...</td>\n      <td>...</td>\n      <td>...</td>\n      <td>...</td>\n      <td>...</td>\n      <td>...</td>\n    </tr>\n    <tr>\n      <th>259</th>\n      <td>ESM5GEYU</td>\n      <td>0.00803</td>\n      <td>4.57888</td>\n      <td>0.07183</td>\n      <td>0.00000</td>\n      <td>0.01710</td>\n      <td>12.77383</td>\n      <td>2.28975</td>\n      <td>0.06505</td>\n      <td>0.53365</td>\n      <td>...</td>\n      <td>0.00312</td>\n      <td>0.23775</td>\n      <td>0.00117</td>\n      <td>0.00000</td>\n      <td>0.00000</td>\n      <td>0.00000</td>\n      <td>0.07727</td>\n      <td>0.00000</td>\n      <td>0.00000</td>\n      <td>1.0</td>\n    </tr>\n    <tr>\n      <th>260</th>\n      <td>CSM67U9X</td>\n      <td>0.69948</td>\n      <td>0.06476</td>\n      <td>0.05109</td>\n      <td>1.22794</td>\n      <td>0.00363</td>\n      <td>3.09731</td>\n      <td>0.04253</td>\n      <td>0.02383</td>\n      <td>0.00000</td>\n      <td>...</td>\n      <td>0.00000</td>\n      <td>0.01914</td>\n      <td>0.00000</td>\n      <td>0.00000</td>\n      <td>0.00512</td>\n      <td>0.61255</td>\n      <td>5.55624</td>\n      <td>0.01166</td>\n      <td>1.62146</td>\n      <td>0.0</td>\n    </tr>\n    <tr>\n      <th>261</th>\n      <td>HSM5MD6E</td>\n      <td>14.49594</td>\n      <td>0.00000</td>\n      <td>0.00000</td>\n      <td>0.00000</td>\n      <td>0.04105</td>\n      <td>15.48679</td>\n      <td>0.00000</td>\n      <td>0.00000</td>\n      <td>0.00000</td>\n      <td>...</td>\n      <td>0.00174</td>\n      <td>0.00000</td>\n      <td>0.19408</td>\n      <td>0.00000</td>\n      <td>0.00000</td>\n      <td>0.98328</td>\n      <td>12.71782</td>\n      <td>0.02290</td>\n      <td>0.04996</td>\n      <td>1.0</td>\n    </tr>\n    <tr>\n      <th>262</th>\n      <td>MSM9VZMQ</td>\n      <td>0.00000</td>\n      <td>0.00000</td>\n      <td>0.02042</td>\n      <td>0.89860</td>\n      <td>0.00000</td>\n      <td>4.14365</td>\n      <td>0.08869</td>\n      <td>0.00116</td>\n      <td>0.00000</td>\n      <td>...</td>\n      <td>0.00000</td>\n      <td>2.76490</td>\n      <td>0.48160</td>\n      <td>0.00000</td>\n      <td>7.73334</td>\n      <td>1.76415</td>\n      <td>12.96372</td>\n      <td>0.00000</td>\n      <td>0.12673</td>\n      <td>1.0</td>\n    </tr>\n    <tr>\n      <th>263</th>\n      <td>HSM67VDR</td>\n      <td>3.24017</td>\n      <td>0.01021</td>\n      <td>0.00618</td>\n      <td>0.42901</td>\n      <td>0.02357</td>\n      <td>3.62380</td>\n      <td>0.08967</td>\n      <td>0.08810</td>\n      <td>0.00000</td>\n      <td>...</td>\n      <td>0.00000</td>\n      <td>4.00475</td>\n      <td>0.00000</td>\n      <td>0.00196</td>\n      <td>0.00000</td>\n      <td>0.15820</td>\n      <td>5.88306</td>\n      <td>0.00000</td>\n      <td>0.00000</td>\n      <td>1.0</td>\n    </tr>\n  </tbody>\n</table>\n<p>264 rows × 91 columns</p>\n</div>"
     },
     "execution_count": 160,
     "metadata": {},
     "output_type": "execute_result"
    }
   ],
   "source": [
    "species_main_"
   ],
   "metadata": {
    "collapsed": false,
    "pycharm": {
     "name": "#%%\n"
    }
   }
  },
  {
   "cell_type": "code",
   "execution_count": 97,
   "outputs": [
    {
     "data": {
      "text/plain": "DecisionTreeClassifier()",
      "text/html": "<style>#sk-container-id-6 {color: black;background-color: white;}#sk-container-id-6 pre{padding: 0;}#sk-container-id-6 div.sk-toggleable {background-color: white;}#sk-container-id-6 label.sk-toggleable__label {cursor: pointer;display: block;width: 100%;margin-bottom: 0;padding: 0.3em;box-sizing: border-box;text-align: center;}#sk-container-id-6 label.sk-toggleable__label-arrow:before {content: \"▸\";float: left;margin-right: 0.25em;color: #696969;}#sk-container-id-6 label.sk-toggleable__label-arrow:hover:before {color: black;}#sk-container-id-6 div.sk-estimator:hover label.sk-toggleable__label-arrow:before {color: black;}#sk-container-id-6 div.sk-toggleable__content {max-height: 0;max-width: 0;overflow: hidden;text-align: left;background-color: #f0f8ff;}#sk-container-id-6 div.sk-toggleable__content pre {margin: 0.2em;color: black;border-radius: 0.25em;background-color: #f0f8ff;}#sk-container-id-6 input.sk-toggleable__control:checked~div.sk-toggleable__content {max-height: 200px;max-width: 100%;overflow: auto;}#sk-container-id-6 input.sk-toggleable__control:checked~label.sk-toggleable__label-arrow:before {content: \"▾\";}#sk-container-id-6 div.sk-estimator input.sk-toggleable__control:checked~label.sk-toggleable__label {background-color: #d4ebff;}#sk-container-id-6 div.sk-label input.sk-toggleable__control:checked~label.sk-toggleable__label {background-color: #d4ebff;}#sk-container-id-6 input.sk-hidden--visually {border: 0;clip: rect(1px 1px 1px 1px);clip: rect(1px, 1px, 1px, 1px);height: 1px;margin: -1px;overflow: hidden;padding: 0;position: absolute;width: 1px;}#sk-container-id-6 div.sk-estimator {font-family: monospace;background-color: #f0f8ff;border: 1px dotted black;border-radius: 0.25em;box-sizing: border-box;margin-bottom: 0.5em;}#sk-container-id-6 div.sk-estimator:hover {background-color: #d4ebff;}#sk-container-id-6 div.sk-parallel-item::after {content: \"\";width: 100%;border-bottom: 1px solid gray;flex-grow: 1;}#sk-container-id-6 div.sk-label:hover label.sk-toggleable__label {background-color: #d4ebff;}#sk-container-id-6 div.sk-serial::before {content: \"\";position: absolute;border-left: 1px solid gray;box-sizing: border-box;top: 0;bottom: 0;left: 50%;z-index: 0;}#sk-container-id-6 div.sk-serial {display: flex;flex-direction: column;align-items: center;background-color: white;padding-right: 0.2em;padding-left: 0.2em;position: relative;}#sk-container-id-6 div.sk-item {position: relative;z-index: 1;}#sk-container-id-6 div.sk-parallel {display: flex;align-items: stretch;justify-content: center;background-color: white;position: relative;}#sk-container-id-6 div.sk-item::before, #sk-container-id-6 div.sk-parallel-item::before {content: \"\";position: absolute;border-left: 1px solid gray;box-sizing: border-box;top: 0;bottom: 0;left: 50%;z-index: -1;}#sk-container-id-6 div.sk-parallel-item {display: flex;flex-direction: column;z-index: 1;position: relative;background-color: white;}#sk-container-id-6 div.sk-parallel-item:first-child::after {align-self: flex-end;width: 50%;}#sk-container-id-6 div.sk-parallel-item:last-child::after {align-self: flex-start;width: 50%;}#sk-container-id-6 div.sk-parallel-item:only-child::after {width: 0;}#sk-container-id-6 div.sk-dashed-wrapped {border: 1px dashed gray;margin: 0 0.4em 0.5em 0.4em;box-sizing: border-box;padding-bottom: 0.4em;background-color: white;}#sk-container-id-6 div.sk-label label {font-family: monospace;font-weight: bold;display: inline-block;line-height: 1.2em;}#sk-container-id-6 div.sk-label-container {text-align: center;}#sk-container-id-6 div.sk-container {/* jupyter's `normalize.less` sets `[hidden] { display: none; }` but bootstrap.min.css set `[hidden] { display: none !important; }` so we also need the `!important` here to be able to override the default hidden behavior on the sphinx rendered scikit-learn.org. See: https://github.com/scikit-learn/scikit-learn/issues/21755 */display: inline-block !important;position: relative;}#sk-container-id-6 div.sk-text-repr-fallback {display: none;}</style><div id=\"sk-container-id-6\" class=\"sk-top-container\"><div class=\"sk-text-repr-fallback\"><pre>DecisionTreeClassifier()</pre><b>In a Jupyter environment, please rerun this cell to show the HTML representation or trust the notebook. <br />On GitHub, the HTML representation is unable to render, please try loading this page with nbviewer.org.</b></div><div class=\"sk-container\" hidden><div class=\"sk-item\"><div class=\"sk-estimator sk-toggleable\"><input class=\"sk-toggleable__control sk-hidden--visually\" id=\"sk-estimator-id-6\" type=\"checkbox\" checked><label for=\"sk-estimator-id-6\" class=\"sk-toggleable__label sk-toggleable__label-arrow\">DecisionTreeClassifier</label><div class=\"sk-toggleable__content\"><pre>DecisionTreeClassifier()</pre></div></div></div></div></div>"
     },
     "execution_count": 97,
     "metadata": {},
     "output_type": "execute_result"
    }
   ],
   "source": [
    "X = species_main_.iloc[:,1:90]\n",
    "y = species_main_.iloc[:,-1]\n",
    "mod1 = DecisionTreeClassifier()\n",
    "mod1.fit(X,y)"
   ],
   "metadata": {
    "collapsed": false,
    "pycharm": {
     "name": "#%%\n"
    }
   }
  },
  {
   "cell_type": "code",
   "execution_count": 146,
   "outputs": [
    {
     "data": {
      "text/plain": "<Figure size 720x720 with 1 Axes>",
      "image/png": "[encoded data removed]"
     },
     "metadata": {},
     "output_type": "display_data"
    }
   ],
   "source": [
    "import matplotlib.pyplot as plt\n",
    "from sklearn import tree\n",
    "plt.figure(figsize=(10,10))\n",
    "tree.plot_tree(mod1)\n",
    "plt.savefig('/Users/odedsabah/Desktop/test123.png', dpi=800) # high resolution graph"
   ],
   "metadata": {
    "collapsed": false,
    "pycharm": {
     "name": "#%%\n"
    }
   }
  },
  {
   "cell_type": "code",
   "execution_count": 85,
   "outputs": [],
   "source": [
    "pred = mod1.predict(X)"
   ],
   "metadata": {
    "collapsed": false,
    "pycharm": {
     "name": "#%%\n"
    }
   }
  },
  {
   "cell_type": "code",
   "execution_count": 86,
   "outputs": [
    {
     "data": {
      "text/plain": "s__type  -1.0   0.0   1.0\nrow_0                    \n-1.0        1     1     0\n 0.0        0   197     1\n 1.0        0     0    64",
      "text/html": "<div>\n<style scoped>\n    .dataframe tbody tr th:only-of-type {\n        vertical-align: middle;\n    }\n\n    .dataframe tbody tr th {\n        vertical-align: top;\n    }\n\n    .dataframe thead th {\n        text-align: right;\n    }\n</style>\n<table border=\"1\" class=\"dataframe\">\n  <thead>\n    <tr style=\"text-align: right;\">\n      <th>s__type</th>\n      <th>-1.0</th>\n      <th>0.0</th>\n      <th>1.0</th>\n    </tr>\n    <tr>\n      <th>row_0</th>\n      <th></th>\n      <th></th>\n      <th></th>\n    </tr>\n  </thead>\n  <tbody>\n    <tr>\n      <th>-1.0</th>\n      <td>1</td>\n      <td>1</td>\n      <td>0</td>\n    </tr>\n    <tr>\n      <th>0.0</th>\n      <td>0</td>\n      <td>197</td>\n      <td>1</td>\n    </tr>\n    <tr>\n      <th>1.0</th>\n      <td>0</td>\n      <td>0</td>\n      <td>64</td>\n    </tr>\n  </tbody>\n</table>\n</div>"
     },
     "execution_count": 86,
     "metadata": {},
     "output_type": "execute_result"
    }
   ],
   "source": [
    "pd.crosstab(pred, y)"
   ],
   "metadata": {
    "collapsed": false,
    "pycharm": {
     "name": "#%%\n"
    }
   }
  },
  {
   "cell_type": "code",
   "execution_count": 87,
   "outputs": [
    {
     "data": {
      "text/plain": "RandomForestClassifier()",
      "text/html": "<style>#sk-container-id-4 {color: black;background-color: white;}#sk-container-id-4 pre{padding: 0;}#sk-container-id-4 div.sk-toggleable {background-color: white;}#sk-container-id-4 label.sk-toggleable__label {cursor: pointer;display: block;width: 100%;margin-bottom: 0;padding: 0.3em;box-sizing: border-box;text-align: center;}#sk-container-id-4 label.sk-toggleable__label-arrow:before {content: \"▸\";float: left;margin-right: 0.25em;color: #696969;}#sk-container-id-4 label.sk-toggleable__label-arrow:hover:before {color: black;}#sk-container-id-4 div.sk-estimator:hover label.sk-toggleable__label-arrow:before {color: black;}#sk-container-id-4 div.sk-toggleable__content {max-height: 0;max-width: 0;overflow: hidden;text-align: left;background-color: #f0f8ff;}#sk-container-id-4 div.sk-toggleable__content pre {margin: 0.2em;color: black;border-radius: 0.25em;background-color: #f0f8ff;}#sk-container-id-4 input.sk-toggleable__control:checked~div.sk-toggleable__content {max-height: 200px;max-width: 100%;overflow: auto;}#sk-container-id-4 input.sk-toggleable__control:checked~label.sk-toggleable__label-arrow:before {content: \"▾\";}#sk-container-id-4 div.sk-estimator input.sk-toggleable__control:checked~label.sk-toggleable__label {background-color: #d4ebff;}#sk-container-id-4 div.sk-label input.sk-toggleable__control:checked~label.sk-toggleable__label {background-color: #d4ebff;}#sk-container-id-4 input.sk-hidden--visually {border: 0;clip: rect(1px 1px 1px 1px);clip: rect(1px, 1px, 1px, 1px);height: 1px;margin: -1px;overflow: hidden;padding: 0;position: absolute;width: 1px;}#sk-container-id-4 div.sk-estimator {font-family: monospace;background-color: #f0f8ff;border: 1px dotted black;border-radius: 0.25em;box-sizing: border-box;margin-bottom: 0.5em;}#sk-container-id-4 div.sk-estimator:hover {background-color: #d4ebff;}#sk-container-id-4 div.sk-parallel-item::after {content: \"\";width: 100%;border-bottom: 1px solid gray;flex-grow: 1;}#sk-container-id-4 div.sk-label:hover label.sk-toggleable__label {background-color: #d4ebff;}#sk-container-id-4 div.sk-serial::before {content: \"\";position: absolute;border-left: 1px solid gray;box-sizing: border-box;top: 0;bottom: 0;left: 50%;z-index: 0;}#sk-container-id-4 div.sk-serial {display: flex;flex-direction: column;align-items: center;background-color: white;padding-right: 0.2em;padding-left: 0.2em;position: relative;}#sk-container-id-4 div.sk-item {position: relative;z-index: 1;}#sk-container-id-4 div.sk-parallel {display: flex;align-items: stretch;justify-content: center;background-color: white;position: relative;}#sk-container-id-4 div.sk-item::before, #sk-container-id-4 div.sk-parallel-item::before {content: \"\";position: absolute;border-left: 1px solid gray;box-sizing: border-box;top: 0;bottom: 0;left: 50%;z-index: -1;}#sk-container-id-4 div.sk-parallel-item {display: flex;flex-direction: column;z-index: 1;position: relative;background-color: white;}#sk-container-id-4 div.sk-parallel-item:first-child::after {align-self: flex-end;width: 50%;}#sk-container-id-4 div.sk-parallel-item:last-child::after {align-self: flex-start;width: 50%;}#sk-container-id-4 div.sk-parallel-item:only-child::after {width: 0;}#sk-container-id-4 div.sk-dashed-wrapped {border: 1px dashed gray;margin: 0 0.4em 0.5em 0.4em;box-sizing: border-box;padding-bottom: 0.4em;background-color: white;}#sk-container-id-4 div.sk-label label {font-family: monospace;font-weight: bold;display: inline-block;line-height: 1.2em;}#sk-container-id-4 div.sk-label-container {text-align: center;}#sk-container-id-4 div.sk-container {/* jupyter's `normalize.less` sets `[hidden] { display: none; }` but bootstrap.min.css set `[hidden] { display: none !important; }` so we also need the `!important` here to be able to override the default hidden behavior on the sphinx rendered scikit-learn.org. See: https://github.com/scikit-learn/scikit-learn/issues/21755 */display: inline-block !important;position: relative;}#sk-container-id-4 div.sk-text-repr-fallback {display: none;}</style><div id=\"sk-container-id-4\" class=\"sk-top-container\"><div class=\"sk-text-repr-fallback\"><pre>RandomForestClassifier()</pre><b>In a Jupyter environment, please rerun this cell to show the HTML representation or trust the notebook. <br />On GitHub, the HTML representation is unable to render, please try loading this page with nbviewer.org.</b></div><div class=\"sk-container\" hidden><div class=\"sk-item\"><div class=\"sk-estimator sk-toggleable\"><input class=\"sk-toggleable__control sk-hidden--visually\" id=\"sk-estimator-id-4\" type=\"checkbox\" checked><label for=\"sk-estimator-id-4\" class=\"sk-toggleable__label sk-toggleable__label-arrow\">RandomForestClassifier</label><div class=\"sk-toggleable__content\"><pre>RandomForestClassifier()</pre></div></div></div></div></div>"
     },
     "execution_count": 87,
     "metadata": {},
     "output_type": "execute_result"
    }
   ],
   "source": [
    "mod2 = RandomForestClassifier()\n",
    "\n",
    "mod2.fit(X,y)"
   ],
   "metadata": {
    "collapsed": false,
    "pycharm": {
     "name": "#%%\n"
    }
   }
  },
  {
   "cell_type": "code",
   "execution_count": 93,
   "outputs": [],
   "source": [
    "pred2 = mod2.predict(X)"
   ],
   "metadata": {
    "collapsed": false,
    "pycharm": {
     "name": "#%%\n"
    }
   }
  },
  {
   "cell_type": "code",
   "execution_count": 89,
   "outputs": [],
   "source": [
    "cm_RF = pd.crosstab(pred2, y)"
   ],
   "metadata": {
    "collapsed": false,
    "pycharm": {
     "name": "#%%\n"
    }
   }
  },
  {
   "cell_type": "code",
   "execution_count": 90,
   "outputs": [
    {
     "data": {
      "text/plain": "<AxesSubplot:xlabel='s__type', ylabel='row_0'>"
     },
     "execution_count": 90,
     "metadata": {},
     "output_type": "execute_result"
    },
    {
     "data": {
      "text/plain": "<Figure size 432x288 with 2 Axes>",
      "image/png": "[encoded data removed]"
     },
     "metadata": {},
     "output_type": "display_data"
    }
   ],
   "source": [
    "sns.heatmap(cm_RF, cmap=\"YlGnBu\", annot=True)"
   ],
   "metadata": {
    "collapsed": false,
    "pycharm": {
     "name": "#%%\n"
    }
   }
  },
  {
   "cell_type": "code",
   "execution_count": 135,
   "outputs": [],
   "source": [
    "MTX_X = species_main_.iloc[:,1:90]\n",
    "MTX_y = species_main_.iloc[:,-1]\n",
    "\n",
    "#fill NA's\n",
    "MTX_X.fillna(MTX_X.median(), inplace=True)\n",
    "MTX_X = StandardScaler().fit_transform(MTX_X)\n",
    "\n",
    "from sklearn.model_selection import train_test_split\n",
    "X_train, X_test, y_train, y_test = train_test_split(MTX_X, MTX_y, test_size=0.50, random_state=42)"
   ],
   "metadata": {
    "collapsed": false,
    "pycharm": {
     "name": "#%%\n"
    }
   }
  },
  {
   "cell_type": "code",
   "execution_count": 136,
   "outputs": [],
   "source": [
    "from sklearn.svm import LinearSVC\n",
    "from sklearn.feature_selection import SelectFromModel\n",
    "lsvc = LinearSVC(C=0.01, dual=False).fit(X_train, y_train)\n",
    "model = SelectFromModel(lsvc, prefit=True)\n",
    "X_train = model.transform(X_train)\n",
    "X_test = model.transform(X_test)"
   ],
   "metadata": {
    "collapsed": false,
    "pycharm": {
     "name": "#%%\n"
    }
   }
  },
  {
   "cell_type": "code",
   "execution_count": 152,
   "outputs": [
    {
     "name": "stdout",
     "output_type": "stream",
     "text": [
      "Best Model:\n",
      "RandomForestClassifier(max_features=None, n_estimators=250, random_state=0)\n"
     ]
    },
    {
     "data": {
      "text/plain": "array([[ 0,  1,  0],\n       [ 0, 95,  3],\n       [ 0, 25,  8]])"
     },
     "execution_count": 152,
     "metadata": {},
     "output_type": "execute_result"
    }
   ],
   "source": [
    "n_estimators_RF = [50, 100, 250, 500, 1000]\n",
    "max_features_RF = [ None]\n",
    "parameters_RF = {'n_estimators': n_estimators_RF,\n",
    "                'max_features': max_features_RF}\n",
    "\n",
    "RF_model = RandomForestClassifier(max_depth=None,\n",
    "                                  min_samples_split=2, random_state=0)\n",
    "RF_clf = GridSearchCV(RF_model, parameters_RF, cv=5, scoring=\"accuracy\")\n",
    "\n",
    "RF_clf.fit(X_train, y_train)\n",
    "\n",
    "print(\"Best Model:\")\n",
    "RF_model = RF_clf.best_estimator_\n",
    "print(RF_model)\n",
    "\n",
    "RF_predictions = RF_model.predict(X_test)\n",
    "\n",
    "# creating a confusion matrix\n",
    "cm_RF_ = confusion_matrix(y_test, RF_predictions)\n",
    "cm_RF_"
   ],
   "metadata": {
    "collapsed": false,
    "pycharm": {
     "name": "#%%\n"
    }
   }
  },
  {
   "cell_type": "code",
   "execution_count": 153,
   "outputs": [
    {
     "data": {
      "text/plain": "<AxesSubplot:>"
     },
     "execution_count": 153,
     "metadata": {},
     "output_type": "execute_result"
    },
    {
     "data": {
      "text/plain": "<Figure size 432x288 with 2 Axes>",
      "image/png": "[encoded data removed]"
     },
     "metadata": {},
     "output_type": "display_data"
    }
   ],
   "source": [
    "sns.heatmap(cm_RF_, cmap=\"YlGnBu\", annot=True)"
   ],
   "metadata": {
    "collapsed": false,
    "pycharm": {
     "name": "#%%\n"
    }
   }
  },
  {
   "cell_type": "code",
   "execution_count": 174,
   "outputs": [],
   "source": [
    "Genotype_between_phenotype = pd.read_csv(\"/Users/odedsabah/Desktop/Genotype_between_phenotype.csv\")"
   ],
   "metadata": {
    "collapsed": false,
    "pycharm": {
     "name": "#%%\n"
    }
   }
  }
 ],
 "metadata": {
  "kernelspec": {
   "display_name": "Python 3",
   "language": "python",
   "name": "python3"
  },
  "language_info": {
   "codemirror_mode": {
    "name": "ipython",
    "version": 2
   },
   "file_extension": ".py",
   "mimetype": "text/x-python",
   "name": "python",
   "nbconvert_exporter": "python",
   "pygments_lexer": "ipython2",
   "version": "2.7.6"
  }
 },
 "nbformat": 4,
 "nbformat_minor": 0
}