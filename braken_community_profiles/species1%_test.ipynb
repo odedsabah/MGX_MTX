{
 "cells": [
  {
   "cell_type": "code",
   "execution_count": null,
   "outputs": [],
   "source": [
    "import glob\n",
    "import pandas as pd\n",
    "import os"
   ],
   "metadata": {
    "collapsed": false,
    "pycharm": {
     "name": "#%%\n"
    }
   }
  },
  {
   "cell_type": "code",
   "execution_count": null,
   "outputs": [],
   "source": [
    "root_dir = \"/Users/odedsabah/Desktop/python/bacreria\"\n",
    "raw_files_dir = root_dir + \"/raw.d\"\n",
    "out_dir = root_dir + \"/1.create_table\"\n",
    "\n",
    "healthy = 1\n",
    "sick = 0"
   ],
   "metadata": {
    "collapsed": false,
    "pycharm": {
     "name": "#%%\n"
    }
   }
  },
  {
   "cell_type": "code",
   "execution_count": null,
   "outputs": [],
   "source": [
    "def get_data(file_name):\n",
    "    '''\n",
    "    This function reads the information from a metaphlan file and stores it in two lists (bacteria_name, percent_list)\n",
    "    '''\n",
    "    f = open(file_name, \"r\")\n",
    "    f.readline()  # the first row is not important\n",
    "    d = dict()\n",
    "    for line in f:\n",
    "        line_split = line.split()  # line is a string split sepereted in to array of word\n",
    "        d[line_split[0].split(\"|\")[-1]] = line_split[1]\n",
    "    return d"
   ],
   "metadata": {
    "collapsed": false,
    "pycharm": {
     "name": "#%%\n"
    }
   }
  },
  {
   "cell_type": "code",
   "execution_count": null,
   "outputs": [],
   "source": [
    "def create_xl(dir_names, out_file):\n",
    "    columns = [\"name\"]\n",
    "    df = pd.DataFrame(columns=columns)\n",
    "    for a in dir_names:\n",
    "        files = (glob.glob(raw_files_dir + \"/\" + a + '/*.txt'))  # open all files in project dir\n",
    "        for g in files:\n",
    "            if g == raw_files_dir + \"/\" + a + \"/sample2status.txt\":  # open every file that is not the label file\n",
    "                continue\n",
    "            d = (get_data(g))\n",
    "            d[\"name\"] = g.split('\\\\')[-1][:-4]  # sample name\n",
    "            for key in d:\n",
    "                if key not in columns:\n",
    "                    columns.append(key)\n",
    "                    df[key] = 0  # it means this don't appear in df so we add it\n",
    "            for c in columns:\n",
    "                if c not in d.keys():\n",
    "                    d[c] = 0  # it means this bacteria don't appear in d so we add it to him\n",
    "            df = df.append(d, ignore_index=True)\n",
    "\n",
    "    df[\"type\"] = -1\n",
    "    for a in dir_names:  # in this loop we add for every row it's label, healthy==1, sick==0\n",
    "        f = open(raw_files_dir + \"/\" + a+ \"/sample2status.txt\", \"r\")\n",
    "        for line in f:\n",
    "            s = line.split()\n",
    "            name = raw_files_dir + \"/\" + a + '/' + s[0]\n",
    "            if s[1] == \"Healthy\":\n",
    "                df.loc[df.name == name, \"type\"] = healthy\n",
    "            else:\n",
    "                df.loc[df.name == name, \"type\"] = sick\n",
    "    df.to_excel(out_file)"
   ],
   "metadata": {
    "collapsed": false,
    "pycharm": {
     "name": "#%%\n"
    }
   }
  },
  {
   "cell_type": "code",
   "execution_count": null,
   "outputs": [],
   "source": [
    "def main():\n",
    "    os.chdir(root_dir)\n",
    "    dir_names = ['project_1', 'project_2', 'project_3']\n",
    "\n",
    "    # Create separate file for each project\n",
    "    for project in dir_names:\n",
    "        print(project + \"...\")\n",
    "        create_xl([project], out_dir + \"/df_\" + project + \".xlsx\")\n",
    "\n",
    "    # Create a unified file for all projects\n",
    "    print(\"Unified...\")\n",
    "    create_xl(dir_names, out_dir + \"/df_project.xlsx\")\n",
    "\n",
    "    print(\"Done\")\n",
    "\n",
    "main()"
   ],
   "metadata": {
    "collapsed": false,
    "pycharm": {
     "name": "#%%\n"
    }
   }
  }
 ],
 "metadata": {
  "kernelspec": {
   "display_name": "Python 3",
   "language": "python",
   "name": "python3"
  },
  "language_info": {
   "codemirror_mode": {
    "name": "ipython",
    "version": 2
   },
   "file_extension": ".py",
   "mimetype": "text/x-python",
   "name": "python",
   "nbconvert_exporter": "python",
   "pygments_lexer": "ipython2",
   "version": "2.7.6"
  }
 },
 "nbformat": 4,
 "nbformat_minor": 0
}