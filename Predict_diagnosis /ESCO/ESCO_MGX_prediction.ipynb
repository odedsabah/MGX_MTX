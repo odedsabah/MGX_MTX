{
 "cells": [
  {
   "cell_type": "code",
   "execution_count": 1,
   "metadata": {
    "collapsed": true,
    "pycharm": {
     "name": "#%%\n"
    }
   },
   "outputs": [],
   "source": [
    "import pandas as pd\n",
    "import seaborn as sns\n",
    "import numpy as np\n",
    "\n",
    "import matplotlib.pyplot as plt\n",
    "\n",
    "\n",
    "from sklearn.metrics import roc_curve\n",
    "from sklearn.model_selection import GridSearchCV\n",
    "from sklearn.neighbors import KNeighborsClassifier\n",
    "from sklearn.neighbors import RadiusNeighborsClassifier\n",
    "from sklearn.linear_model import LogisticRegression\n",
    "from sklearn.tree import DecisionTreeClassifier\n",
    "from sklearn.linear_model import LogisticRegressionCV\n",
    "from sklearn.ensemble import RandomForestClassifier\n",
    "from sklearn.neural_network import MLPClassifier\n",
    "\n",
    "from sklearn.preprocessing import StandardScaler\n",
    "from sklearn.model_selection import train_test_split\n",
    "\n",
    "from sklearn import svm\n",
    "from sklearn.metrics import roc_auc_score\n",
    "from sklearn.metrics import roc_curve\n",
    "from sklearn.metrics import confusion_matrix\n",
    "from sklearn.metrics import cohen_kappa_score, make_scorer, f1_score, accuracy_score"
   ]
  },
  {
   "cell_type": "code",
   "execution_count": 2,
   "outputs": [
    {
     "data": {
      "text/plain": "             s__43-108_sp001915545:1  s__Absiella_dolichum:1  \\\nExternal ID                                                    \nCSM5MCVL                       0.023                   0.000   \nCSM5MCVN                       0.018                   0.000   \nCSM5MCW6                       0.034                   0.000   \nCSM5MCWC                       0.026                   0.004   \nCSM5MCWE                       0.000                   0.002   \n...                              ...                     ...   \nPSMA265D                       0.006                   0.005   \nPSMA265F                       0.012                   0.005   \nPSMA265H                       0.006                   0.018   \nPSMA265J                       0.007                   0.005   \nPSMA265L                       0.008                   0.023   \n\n             s__Absiella_innocuum:1  s__Absiella_sp000163515:1  \\\nExternal ID                                                      \nCSM5MCVL                      0.000                      0.002   \nCSM5MCVN                      0.001                      0.002   \nCSM5MCW6                      0.010                      0.006   \nCSM5MCWC                      0.454                      0.004   \nCSM5MCWE                      0.304                      0.002   \n...                             ...                        ...   \nPSMA265D                      0.048                      0.031   \nPSMA265F                      0.073                      0.561   \nPSMA265H                      0.094                      0.573   \nPSMA265J                      0.045                      0.255   \nPSMA265L                      0.086                      0.684   \n\n             s__Absiella_sp000165065:1  s__Acetatifactor_sp003447295:1  \\\nExternal ID                                                              \nCSM5MCVL                         0.000                           0.001   \nCSM5MCVN                         0.000                           0.000   \nCSM5MCW6                         0.000                           0.001   \nCSM5MCWC                         0.012                           0.019   \nCSM5MCWE                         0.008                           0.021   \n...                                ...                             ...   \nPSMA265D                         0.003                           0.018   \nPSMA265F                         0.003                           0.005   \nPSMA265H                         0.002                           0.010   \nPSMA265J                         0.001                           0.010   \nPSMA265L                         0.005                           0.007   \n\n             s__Acetatifactor_sp900066365:1  s__Acetatifactor_sp900066365:2  \\\nExternal ID                                                                   \nCSM5MCVL                              0.000                           0.002   \nCSM5MCVN                              0.000                           0.002   \nCSM5MCW6                              0.001                           0.003   \nCSM5MCWC                              0.000                           0.130   \nCSM5MCWE                              0.000                           0.057   \n...                                     ...                             ...   \nPSMA265D                              0.000                           0.025   \nPSMA265F                              0.000                           0.037   \nPSMA265H                              0.001                           0.024   \nPSMA265J                              0.004                           0.024   \nPSMA265L                              0.002                           0.030   \n\n             s__Acetatifactor_sp900066565:1  s__Acidaminococcus_intestini:1  \\\nExternal ID                                                                   \nCSM5MCVL                              0.001                           0.145   \nCSM5MCVN                              0.001                           3.072   \nCSM5MCW6                              0.004                           0.001   \nCSM5MCWC                              0.040                           0.000   \nCSM5MCWE                              0.018                           0.000   \n...                                     ...                             ...   \nPSMA265D                              0.038                           0.001   \nPSMA265F                              0.022                           0.000   \nPSMA265H                              0.025                           0.001   \nPSMA265J                              0.060                           0.000   \nPSMA265L                              0.024                           0.001   \n\n             ...  s__esco_HumanRef_tmp_v1.0.1_961  \\\nExternal ID  ...                                    \nCSM5MCVL     ...                            0.000   \nCSM5MCVN     ...                            0.000   \nCSM5MCW6     ...                            0.001   \nCSM5MCWC     ...                            0.000   \nCSM5MCWE     ...                            0.001   \n...          ...                              ...   \nPSMA265D     ...                            0.000   \nPSMA265F     ...                            0.000   \nPSMA265H     ...                            0.000   \nPSMA265J     ...                            0.000   \nPSMA265L     ...                            0.001   \n\n             s__esco_HumanRef_tmp_v1.0.1_966  s__esco_HumanRef_tmp_v1.0.1_968  \\\nExternal ID                                                                     \nCSM5MCVL                               0.000                            0.000   \nCSM5MCVN                               0.000                            0.000   \nCSM5MCW6                               0.001                            0.002   \nCSM5MCWC                               0.000                            0.003   \nCSM5MCWE                               0.000                            0.002   \n...                                      ...                              ...   \nPSMA265D                               0.000                            0.006   \nPSMA265F                               0.000                            0.010   \nPSMA265H                               0.000                            0.006   \nPSMA265J                               0.000                            0.005   \nPSMA265L                               0.000                            0.006   \n\n             s__esco_HumanRef_tmp_v1.0.1_973  s__esco_HumanRef_tmp_v1.0.1_983  \\\nExternal ID                                                                     \nCSM5MCVL                               0.003                            0.000   \nCSM5MCVN                               0.002                            0.000   \nCSM5MCW6                               0.005                            0.000   \nCSM5MCWC                               0.000                            0.000   \nCSM5MCWE                               0.000                            0.000   \n...                                      ...                              ...   \nPSMA265D                               0.000                            0.001   \nPSMA265F                               0.000                            0.002   \nPSMA265H                               0.000                            0.001   \nPSMA265J                               0.000                            0.001   \nPSMA265L                               0.000                            0.001   \n\n             s__esco_HumanRef_tmp_v1.0.1_989  s__esco_HumanRef_tmp_v1.0.1_990  \\\nExternal ID                                                                     \nCSM5MCVL                               0.001                            0.000   \nCSM5MCVN                               0.001                            0.000   \nCSM5MCW6                               0.000                            0.000   \nCSM5MCWC                               0.019                            0.000   \nCSM5MCWE                               0.015                            0.001   \n...                                      ...                              ...   \nPSMA265D                               0.007                            0.003   \nPSMA265F                               0.012                            0.005   \nPSMA265H                               0.010                            0.003   \nPSMA265J                               0.006                            0.002   \nPSMA265L                               0.008                            0.003   \n\n             s__esco_HumanRef_tmp_v1.0.1_998  s__esco_HumanRef_tmp_v1.0.1_999  \\\nExternal ID                                                                     \nCSM5MCVL                               0.002                              0.0   \nCSM5MCVN                               0.002                              0.0   \nCSM5MCW6                               0.000                              0.0   \nCSM5MCWC                               0.000                              0.0   \nCSM5MCWE                               0.000                              0.0   \n...                                      ...                              ...   \nPSMA265D                               0.000                              0.0   \nPSMA265F                               0.000                              0.0   \nPSMA265H                               0.000                              0.0   \nPSMA265J                               0.000                              0.0   \nPSMA265L                               0.000                              0.0   \n\n             Diagnosis  \nExternal ID             \nCSM5MCVL            CD  \nCSM5MCVN            CD  \nCSM5MCW6            CD  \nCSM5MCWC            CD  \nCSM5MCWE            CD  \n...                ...  \nPSMA265D       Control  \nPSMA265F       Control  \nPSMA265H       Control  \nPSMA265J       Control  \nPSMA265L       Control  \n\n[1315 rows x 1402 columns]",
      "text/html": "<div>\n<style scoped>\n    .dataframe tbody tr th:only-of-type {\n        vertical-align: middle;\n    }\n\n    .dataframe tbody tr th {\n        vertical-align: top;\n    }\n\n    .dataframe thead th {\n        text-align: right;\n    }\n</style>\n<table border=\"1\" class=\"dataframe\">\n  <thead>\n    <tr style=\"text-align: right;\">\n      <th></th>\n      <th>s__43-108_sp001915545:1</th>\n      <th>s__Absiella_dolichum:1</th>\n      <th>s__Absiella_innocuum:1</th>\n      <th>s__Absiella_sp000163515:1</th>\n      <th>s__Absiella_sp000165065:1</th>\n      <th>s__Acetatifactor_sp003447295:1</th>\n      <th>s__Acetatifactor_sp900066365:1</th>\n      <th>s__Acetatifactor_sp900066365:2</th>\n      <th>s__Acetatifactor_sp900066565:1</th>\n      <th>s__Acidaminococcus_intestini:1</th>\n      <th>...</th>\n      <th>s__esco_HumanRef_tmp_v1.0.1_961</th>\n      <th>s__esco_HumanRef_tmp_v1.0.1_966</th>\n      <th>s__esco_HumanRef_tmp_v1.0.1_968</th>\n      <th>s__esco_HumanRef_tmp_v1.0.1_973</th>\n      <th>s__esco_HumanRef_tmp_v1.0.1_983</th>\n      <th>s__esco_HumanRef_tmp_v1.0.1_989</th>\n      <th>s__esco_HumanRef_tmp_v1.0.1_990</th>\n      <th>s__esco_HumanRef_tmp_v1.0.1_998</th>\n      <th>s__esco_HumanRef_tmp_v1.0.1_999</th>\n      <th>Diagnosis</th>\n    </tr>\n    <tr>\n      <th>External ID</th>\n      <th></th>\n      <th></th>\n      <th></th>\n      <th></th>\n      <th></th>\n      <th></th>\n      <th></th>\n      <th></th>\n      <th></th>\n      <th></th>\n      <th></th>\n      <th></th>\n      <th></th>\n      <th></th>\n      <th></th>\n      <th></th>\n      <th></th>\n      <th></th>\n      <th></th>\n      <th></th>\n      <th></th>\n    </tr>\n  </thead>\n  <tbody>\n    <tr>\n      <th>CSM5MCVL</th>\n      <td>0.023</td>\n      <td>0.000</td>\n      <td>0.000</td>\n      <td>0.002</td>\n      <td>0.000</td>\n      <td>0.001</td>\n      <td>0.000</td>\n      <td>0.002</td>\n      <td>0.001</td>\n      <td>0.145</td>\n      <td>...</td>\n      <td>0.000</td>\n      <td>0.000</td>\n      <td>0.000</td>\n      <td>0.003</td>\n      <td>0.000</td>\n      <td>0.001</td>\n      <td>0.000</td>\n      <td>0.002</td>\n      <td>0.0</td>\n      <td>CD</td>\n    </tr>\n    <tr>\n      <th>CSM5MCVN</th>\n      <td>0.018</td>\n      <td>0.000</td>\n      <td>0.001</td>\n      <td>0.002</td>\n      <td>0.000</td>\n      <td>0.000</td>\n      <td>0.000</td>\n      <td>0.002</td>\n      <td>0.001</td>\n      <td>3.072</td>\n      <td>...</td>\n      <td>0.000</td>\n      <td>0.000</td>\n      <td>0.000</td>\n      <td>0.002</td>\n      <td>0.000</td>\n      <td>0.001</td>\n      <td>0.000</td>\n      <td>0.002</td>\n      <td>0.0</td>\n      <td>CD</td>\n    </tr>\n    <tr>\n      <th>CSM5MCW6</th>\n      <td>0.034</td>\n      <td>0.000</td>\n      <td>0.010</td>\n      <td>0.006</td>\n      <td>0.000</td>\n      <td>0.001</td>\n      <td>0.001</td>\n      <td>0.003</td>\n      <td>0.004</td>\n      <td>0.001</td>\n      <td>...</td>\n      <td>0.001</td>\n      <td>0.001</td>\n      <td>0.002</td>\n      <td>0.005</td>\n      <td>0.000</td>\n      <td>0.000</td>\n      <td>0.000</td>\n      <td>0.000</td>\n      <td>0.0</td>\n      <td>CD</td>\n    </tr>\n    <tr>\n      <th>CSM5MCWC</th>\n      <td>0.026</td>\n      <td>0.004</td>\n      <td>0.454</td>\n      <td>0.004</td>\n      <td>0.012</td>\n      <td>0.019</td>\n      <td>0.000</td>\n      <td>0.130</td>\n      <td>0.040</td>\n      <td>0.000</td>\n      <td>...</td>\n      <td>0.000</td>\n      <td>0.000</td>\n      <td>0.003</td>\n      <td>0.000</td>\n      <td>0.000</td>\n      <td>0.019</td>\n      <td>0.000</td>\n      <td>0.000</td>\n      <td>0.0</td>\n      <td>CD</td>\n    </tr>\n    <tr>\n      <th>CSM5MCWE</th>\n      <td>0.000</td>\n      <td>0.002</td>\n      <td>0.304</td>\n      <td>0.002</td>\n      <td>0.008</td>\n      <td>0.021</td>\n      <td>0.000</td>\n      <td>0.057</td>\n      <td>0.018</td>\n      <td>0.000</td>\n      <td>...</td>\n      <td>0.001</td>\n      <td>0.000</td>\n      <td>0.002</td>\n      <td>0.000</td>\n      <td>0.000</td>\n      <td>0.015</td>\n      <td>0.001</td>\n      <td>0.000</td>\n      <td>0.0</td>\n      <td>CD</td>\n    </tr>\n    <tr>\n      <th>...</th>\n      <td>...</td>\n      <td>...</td>\n      <td>...</td>\n      <td>...</td>\n      <td>...</td>\n      <td>...</td>\n      <td>...</td>\n      <td>...</td>\n      <td>...</td>\n      <td>...</td>\n      <td>...</td>\n      <td>...</td>\n      <td>...</td>\n      <td>...</td>\n      <td>...</td>\n      <td>...</td>\n      <td>...</td>\n      <td>...</td>\n      <td>...</td>\n      <td>...</td>\n      <td>...</td>\n    </tr>\n    <tr>\n      <th>PSMA265D</th>\n      <td>0.006</td>\n      <td>0.005</td>\n      <td>0.048</td>\n      <td>0.031</td>\n      <td>0.003</td>\n      <td>0.018</td>\n      <td>0.000</td>\n      <td>0.025</td>\n      <td>0.038</td>\n      <td>0.001</td>\n      <td>...</td>\n      <td>0.000</td>\n      <td>0.000</td>\n      <td>0.006</td>\n      <td>0.000</td>\n      <td>0.001</td>\n      <td>0.007</td>\n      <td>0.003</td>\n      <td>0.000</td>\n      <td>0.0</td>\n      <td>Control</td>\n    </tr>\n    <tr>\n      <th>PSMA265F</th>\n      <td>0.012</td>\n      <td>0.005</td>\n      <td>0.073</td>\n      <td>0.561</td>\n      <td>0.003</td>\n      <td>0.005</td>\n      <td>0.000</td>\n      <td>0.037</td>\n      <td>0.022</td>\n      <td>0.000</td>\n      <td>...</td>\n      <td>0.000</td>\n      <td>0.000</td>\n      <td>0.010</td>\n      <td>0.000</td>\n      <td>0.002</td>\n      <td>0.012</td>\n      <td>0.005</td>\n      <td>0.000</td>\n      <td>0.0</td>\n      <td>Control</td>\n    </tr>\n    <tr>\n      <th>PSMA265H</th>\n      <td>0.006</td>\n      <td>0.018</td>\n      <td>0.094</td>\n      <td>0.573</td>\n      <td>0.002</td>\n      <td>0.010</td>\n      <td>0.001</td>\n      <td>0.024</td>\n      <td>0.025</td>\n      <td>0.001</td>\n      <td>...</td>\n      <td>0.000</td>\n      <td>0.000</td>\n      <td>0.006</td>\n      <td>0.000</td>\n      <td>0.001</td>\n      <td>0.010</td>\n      <td>0.003</td>\n      <td>0.000</td>\n      <td>0.0</td>\n      <td>Control</td>\n    </tr>\n    <tr>\n      <th>PSMA265J</th>\n      <td>0.007</td>\n      <td>0.005</td>\n      <td>0.045</td>\n      <td>0.255</td>\n      <td>0.001</td>\n      <td>0.010</td>\n      <td>0.004</td>\n      <td>0.024</td>\n      <td>0.060</td>\n      <td>0.000</td>\n      <td>...</td>\n      <td>0.000</td>\n      <td>0.000</td>\n      <td>0.005</td>\n      <td>0.000</td>\n      <td>0.001</td>\n      <td>0.006</td>\n      <td>0.002</td>\n      <td>0.000</td>\n      <td>0.0</td>\n      <td>Control</td>\n    </tr>\n    <tr>\n      <th>PSMA265L</th>\n      <td>0.008</td>\n      <td>0.023</td>\n      <td>0.086</td>\n      <td>0.684</td>\n      <td>0.005</td>\n      <td>0.007</td>\n      <td>0.002</td>\n      <td>0.030</td>\n      <td>0.024</td>\n      <td>0.001</td>\n      <td>...</td>\n      <td>0.001</td>\n      <td>0.000</td>\n      <td>0.006</td>\n      <td>0.000</td>\n      <td>0.001</td>\n      <td>0.008</td>\n      <td>0.003</td>\n      <td>0.000</td>\n      <td>0.0</td>\n      <td>Control</td>\n    </tr>\n  </tbody>\n</table>\n<p>1315 rows × 1402 columns</p>\n</div>"
     },
     "execution_count": 2,
     "metadata": {},
     "output_type": "execute_result"
    }
   ],
   "source": [
    "mp = pd.read_csv('~/Desktop/To_prediction/ESCO_all_pheno_MGX.csv').rename(columns={'Unnamed: 0' : 'External ID'})\n",
    "mp = mp.set_index('External ID')\n",
    "mp"
   ],
   "metadata": {
    "collapsed": false,
    "pycharm": {
     "name": "#%%\n"
    }
   }
  },
  {
   "cell_type": "code",
   "execution_count": 40,
   "outputs": [],
   "source": [
    "mp = pd.read_csv('~/Downloads/ESCO_all_pheno__.csv').rename(columns={'Unnamed: 0' : 'External ID'})\n",
    "mp = mp.set_index('External ID')\n",
    "mp = mp.replace(np.NAN, 0)"
   ],
   "metadata": {
    "collapsed": false,
    "pycharm": {
     "name": "#%%\n"
    }
   }
  },
  {
   "cell_type": "code",
   "execution_count": 3,
   "outputs": [
    {
     "name": "stderr",
     "output_type": "stream",
     "text": [
      "\n",
      "KeyboardInterrupt\n",
      "\n"
     ]
    }
   ],
   "source": [
    "for column in mp.columns:\n",
    "    # print(column)\n",
    "    sns.scatterplot(data=mp[column])\n",
    "    plt.show()"
   ],
   "metadata": {
    "collapsed": false,
    "pycharm": {
     "name": "#%%\n"
    }
   }
  },
  {
   "cell_type": "code",
   "execution_count": 1,
   "outputs": [
    {
     "ename": "NameError",
     "evalue": "name 'mp' is not defined",
     "output_type": "error",
     "traceback": [
      "\u001B[0;31m---------------------------------------------------------------------------\u001B[0m",
      "\u001B[0;31mNameError\u001B[0m                                 Traceback (most recent call last)",
      "Input \u001B[0;32mIn [1]\u001B[0m, in \u001B[0;36m<cell line: 1>\u001B[0;34m()\u001B[0m\n\u001B[0;32m----> 1\u001B[0m \u001B[38;5;28;01mfor\u001B[39;00m i \u001B[38;5;129;01min\u001B[39;00m \u001B[43mmp\u001B[49m\u001B[38;5;241m.\u001B[39mcolumns:\n\u001B[1;32m      2\u001B[0m     plt\u001B[38;5;241m.\u001B[39mfigure()\n\u001B[1;32m      3\u001B[0m     plt\u001B[38;5;241m.\u001B[39mtight_layout()\n",
      "\u001B[0;31mNameError\u001B[0m: name 'mp' is not defined"
     ]
    }
   ],
   "source": [
    "for i in mp.columns:\n",
    "    plt.figure()\n",
    "    plt.tight_layout()\n",
    "    sns.set(rc={\"figure.figsize\":(8, 5)})\n",
    "    f, (ax_box, ax_hist) = plt.subplots(2, sharex=True)\n",
    "    plt.gca().set(xlabel= i,ylabel='Frequency')\n",
    "    sns.boxplot(mp[i], ax=ax_box , linewidth= 1.0)\n",
    "    sns.histplot(mp[i], ax=ax_hist , bins = 10,kde=True)"
   ],
   "metadata": {
    "collapsed": false,
    "pycharm": {
     "name": "#%%\n"
    }
   }
  },
  {
   "cell_type": "code",
   "execution_count": 41,
   "outputs": [
    {
     "data": {
      "text/plain": "             fecalcal_max Diagnosis\nExternal ID                        \nCSM67UA2         37.17836        CD\nCSM5MCVN         16.32450        CD\nCSM67UBZ         14.30000        UC\nCSM5MCXL         70.91411        UC\nCSM5MCY8        232.60620        UC\n...                   ...       ...\nPSM7J19N         16.78459    nonIBD\nPSM6XBW3         79.82248    nonIBD\nPSM7J12J        289.22620        CD\nPSM7J1BX         21.31494        UC\nPSMA264O        127.56480        UC\n\n[83 rows x 2 columns]",
      "text/html": "<div>\n<style scoped>\n    .dataframe tbody tr th:only-of-type {\n        vertical-align: middle;\n    }\n\n    .dataframe tbody tr th {\n        vertical-align: top;\n    }\n\n    .dataframe thead th {\n        text-align: right;\n    }\n</style>\n<table border=\"1\" class=\"dataframe\">\n  <thead>\n    <tr style=\"text-align: right;\">\n      <th></th>\n      <th>fecalcal_max</th>\n      <th>Diagnosis</th>\n    </tr>\n    <tr>\n      <th>External ID</th>\n      <th></th>\n      <th></th>\n    </tr>\n  </thead>\n  <tbody>\n    <tr>\n      <th>CSM67UA2</th>\n      <td>37.17836</td>\n      <td>CD</td>\n    </tr>\n    <tr>\n      <th>CSM5MCVN</th>\n      <td>16.32450</td>\n      <td>CD</td>\n    </tr>\n    <tr>\n      <th>CSM67UBZ</th>\n      <td>14.30000</td>\n      <td>UC</td>\n    </tr>\n    <tr>\n      <th>CSM5MCXL</th>\n      <td>70.91411</td>\n      <td>UC</td>\n    </tr>\n    <tr>\n      <th>CSM5MCY8</th>\n      <td>232.60620</td>\n      <td>UC</td>\n    </tr>\n    <tr>\n      <th>...</th>\n      <td>...</td>\n      <td>...</td>\n    </tr>\n    <tr>\n      <th>PSM7J19N</th>\n      <td>16.78459</td>\n      <td>nonIBD</td>\n    </tr>\n    <tr>\n      <th>PSM6XBW3</th>\n      <td>79.82248</td>\n      <td>nonIBD</td>\n    </tr>\n    <tr>\n      <th>PSM7J12J</th>\n      <td>289.22620</td>\n      <td>CD</td>\n    </tr>\n    <tr>\n      <th>PSM7J1BX</th>\n      <td>21.31494</td>\n      <td>UC</td>\n    </tr>\n    <tr>\n      <th>PSMA264O</th>\n      <td>127.56480</td>\n      <td>UC</td>\n    </tr>\n  </tbody>\n</table>\n<p>83 rows × 2 columns</p>\n</div>"
     },
     "execution_count": 41,
     "metadata": {},
     "output_type": "execute_result"
    }
   ],
   "source": [
    "select_sampels = pd.read_csv('~/Desktop/selected_samples_MGX.csv')\n",
    "select_sampels = select_sampels.set_index('External ID')\n",
    "select_sampels.drop(\"Participant ID\", inplace=True, axis=1)\n",
    "select_sampels"
   ],
   "metadata": {
    "collapsed": false,
    "pycharm": {
     "name": "#%%\n"
    }
   }
  },
  {
   "cell_type": "code",
   "execution_count": 42,
   "outputs": [
    {
     "data": {
      "text/plain": "             s__43-108_sp001915545:1  s__Absiella_dolichum:1  \\\nExternal ID                                                    \nCSM67UA2                    3.963316                6.907755   \nCSM5MCVN                    4.017384                0.000000   \nCSM67UBZ                    3.506558                6.907755   \nCSM5MCXL                    2.688248                6.214608   \nCSM5MCY8                    3.123566                6.907755   \n...                              ...                     ...   \nPSM7J19N                    4.961845                6.907755   \nPSM6XBW3                    6.907755                6.907755   \nPSM7J12J                    5.521461                0.000000   \nPSM7J1BX                    2.918771                6.907755   \nPSMA264O                    4.135167                6.214608   \n\n             s__Absiella_innocuum:1  s__Absiella_sp000163515:1  \\\nExternal ID                                                      \nCSM67UA2                   6.214608                   4.422849   \nCSM5MCVN                   6.907755                   6.214608   \nCSM67UBZ                   5.809143                   3.772261   \nCSM5MCXL                   6.214608                   6.907755   \nCSM5MCY8                   5.521461                   3.816713   \n...                             ...                        ...   \nPSM7J19N                   6.214608                   4.961845   \nPSM6XBW3                  -1.428635                   5.115996   \nPSM7J12J                   2.263364                   0.000000   \nPSM7J1BX                   5.115996                   4.342806   \nPSMA264O                   4.074542                   3.123566   \n\n             s__Absiella_sp000165065:1  s__Acetatifactor_sp003447295:1  \\\nExternal ID                                                              \nCSM67UA2                      0.000000                        4.422849   \nCSM5MCVN                      0.000000                        0.000000   \nCSM67UBZ                      6.907755                        6.907755   \nCSM5MCXL                      6.907755                        6.907755   \nCSM5MCY8                      0.000000                        6.214608   \n...                                ...                             ...   \nPSM7J19N                      6.907755                        3.123566   \nPSM6XBW3                      3.194183                        6.907755   \nPSM7J12J                      5.298317                        6.907755   \nPSM7J1BX                      0.000000                        5.809143   \nPSMA264O                      0.000000                        6.214608   \n\n             s__Acetatifactor_sp900066365:1  s__Acetatifactor_sp900066365:2  \\\nExternal ID                                                                   \nCSM67UA2                           0.000000                        6.214608   \nCSM5MCVN                           0.000000                        6.214608   \nCSM67UBZ                           0.000000                        4.199705   \nCSM5MCXL                           5.809143                        6.214608   \nCSM5MCY8                           0.000000                        5.809143   \n...                                     ...                             ...   \nPSM7J19N                           2.918771                        0.757153   \nPSM6XBW3                           0.000000                        0.000000   \nPSM7J12J                           0.000000                        0.000000   \nPSM7J1BX                           0.000000                        4.961845   \nPSMA264O                           0.000000                        5.521461   \n\n             s__Acetatifactor_sp900066565:1  s__Acidaminococcus_intestini:1  \\\nExternal ID                                                                   \nCSM67UA2                           5.809143                        0.000000   \nCSM5MCVN                           6.907755                       -1.122329   \nCSM67UBZ                           6.214608                        0.959720   \nCSM5MCXL                           5.521461                        6.907755   \nCSM5MCY8                           3.729701                        4.710531   \n...                                     ...                             ...   \nPSM7J19N                           0.219401                        5.809143   \nPSM6XBW3                           6.214608                        5.115996   \nPSM7J12J                           6.907755                        0.000000   \nPSM7J1BX                           5.521461                        5.521461   \nPSMA264O                           4.961845                        6.907755   \n\n             ...  s__esco_HumanRef_tmp_v1.0.1_961  \\\nExternal ID  ...                                    \nCSM67UA2     ...                         0.000000   \nCSM5MCVN     ...                         0.000000   \nCSM67UBZ     ...                         0.000000   \nCSM5MCXL     ...                         0.000000   \nCSM5MCY8     ...                         0.000000   \n...          ...                              ...   \nPSM7J19N     ...                         0.000000   \nPSM6XBW3     ...                         6.214608   \nPSM7J12J     ...                         0.000000   \nPSM7J1BX     ...                         5.298317   \nPSMA264O     ...                         0.000000   \n\n             s__esco_HumanRef_tmp_v1.0.1_966  s__esco_HumanRef_tmp_v1.0.1_968  \\\nExternal ID                                                                     \nCSM67UA2                            0.000000                         6.214608   \nCSM5MCVN                            0.000000                         0.000000   \nCSM67UBZ                            6.907755                         0.000000   \nCSM5MCXL                            0.000000                         6.907755   \nCSM5MCY8                            4.605170                         6.214608   \n...                                      ...                              ...   \nPSM7J19N                            6.907755                         6.214608   \nPSM6XBW3                            6.907755                         4.422849   \nPSM7J12J                            0.000000                         0.000000   \nPSM7J1BX                            0.000000                         0.000000   \nPSMA264O                            0.000000                         0.000000   \n\n             s__esco_HumanRef_tmp_v1.0.1_973  s__esco_HumanRef_tmp_v1.0.1_983  \\\nExternal ID                                                                     \nCSM67UA2                            6.214608                         0.000000   \nCSM5MCVN                            6.214608                         0.000000   \nCSM67UBZ                            6.214608                         6.907755   \nCSM5MCXL                            6.214608                         0.000000   \nCSM5MCY8                            5.809143                         0.000000   \n...                                      ...                              ...   \nPSM7J19N                            6.907755                         0.000000   \nPSM6XBW3                            0.000000                         6.907755   \nPSM7J12J                            6.214608                         0.000000   \nPSM7J1BX                            6.214608                         0.000000   \nPSMA264O                            6.214608                         0.000000   \n\n             s__esco_HumanRef_tmp_v1.0.1_989  s__esco_HumanRef_tmp_v1.0.1_990  \\\nExternal ID                                                                     \nCSM67UA2                            0.000000                         0.000000   \nCSM5MCVN                            6.907755                         0.000000   \nCSM67UBZ                            5.809143                         6.907755   \nCSM5MCXL                            6.907755                         0.000000   \nCSM5MCY8                            3.611918                         5.809143   \n...                                      ...                              ...   \nPSM7J19N                            6.907755                         6.907755   \nPSM6XBW3                            3.540459                         6.907755   \nPSM7J12J                            6.907755                         0.000000   \nPSM7J1BX                            6.214608                         0.000000   \nPSMA264O                            0.000000                         0.000000   \n\n             s__esco_HumanRef_tmp_v1.0.1_998  s__esco_HumanRef_tmp_v1.0.1_999  \\\nExternal ID                                                                     \nCSM67UA2                            6.214608                          0.00000   \nCSM5MCVN                            6.214608                          0.00000   \nCSM67UBZ                            0.000000                          0.00001   \nCSM5MCXL                            6.214608                          0.00000   \nCSM5MCY8                            6.907755                          0.00002   \n...                                      ...                              ...   \nPSM7J19N                            6.907755                          0.00001   \nPSM6XBW3                            0.000000                          0.00001   \nPSM7J12J                            0.000000                          0.00000   \nPSM7J1BX                            6.214608                          0.00000   \nPSMA264O                            6.907755                          0.00000   \n\n             diagnosis  \nExternal ID             \nCSM67UA2            CD  \nCSM5MCVN            CD  \nCSM67UBZ            UC  \nCSM5MCXL            UC  \nCSM5MCY8            UC  \n...                ...  \nPSM7J19N        nonIBD  \nPSM6XBW3        nonIBD  \nPSM7J12J            CD  \nPSM7J1BX            UC  \nPSMA264O            UC  \n\n[83 rows x 1399 columns]",
      "text/html": "<div>\n<style scoped>\n    .dataframe tbody tr th:only-of-type {\n        vertical-align: middle;\n    }\n\n    .dataframe tbody tr th {\n        vertical-align: top;\n    }\n\n    .dataframe thead th {\n        text-align: right;\n    }\n</style>\n<table border=\"1\" class=\"dataframe\">\n  <thead>\n    <tr style=\"text-align: right;\">\n      <th></th>\n      <th>s__43-108_sp001915545:1</th>\n      <th>s__Absiella_dolichum:1</th>\n      <th>s__Absiella_innocuum:1</th>\n      <th>s__Absiella_sp000163515:1</th>\n      <th>s__Absiella_sp000165065:1</th>\n      <th>s__Acetatifactor_sp003447295:1</th>\n      <th>s__Acetatifactor_sp900066365:1</th>\n      <th>s__Acetatifactor_sp900066365:2</th>\n      <th>s__Acetatifactor_sp900066565:1</th>\n      <th>s__Acidaminococcus_intestini:1</th>\n      <th>...</th>\n      <th>s__esco_HumanRef_tmp_v1.0.1_961</th>\n      <th>s__esco_HumanRef_tmp_v1.0.1_966</th>\n      <th>s__esco_HumanRef_tmp_v1.0.1_968</th>\n      <th>s__esco_HumanRef_tmp_v1.0.1_973</th>\n      <th>s__esco_HumanRef_tmp_v1.0.1_983</th>\n      <th>s__esco_HumanRef_tmp_v1.0.1_989</th>\n      <th>s__esco_HumanRef_tmp_v1.0.1_990</th>\n      <th>s__esco_HumanRef_tmp_v1.0.1_998</th>\n      <th>s__esco_HumanRef_tmp_v1.0.1_999</th>\n      <th>diagnosis</th>\n    </tr>\n    <tr>\n      <th>External ID</th>\n      <th></th>\n      <th></th>\n      <th></th>\n      <th></th>\n      <th></th>\n      <th></th>\n      <th></th>\n      <th></th>\n      <th></th>\n      <th></th>\n      <th></th>\n      <th></th>\n      <th></th>\n      <th></th>\n      <th></th>\n      <th></th>\n      <th></th>\n      <th></th>\n      <th></th>\n      <th></th>\n      <th></th>\n    </tr>\n  </thead>\n  <tbody>\n    <tr>\n      <th>CSM67UA2</th>\n      <td>3.963316</td>\n      <td>6.907755</td>\n      <td>6.214608</td>\n      <td>4.422849</td>\n      <td>0.000000</td>\n      <td>4.422849</td>\n      <td>0.000000</td>\n      <td>6.214608</td>\n      <td>5.809143</td>\n      <td>0.000000</td>\n      <td>...</td>\n      <td>0.000000</td>\n      <td>0.000000</td>\n      <td>6.214608</td>\n      <td>6.214608</td>\n      <td>0.000000</td>\n      <td>0.000000</td>\n      <td>0.000000</td>\n      <td>6.214608</td>\n      <td>0.00000</td>\n      <td>CD</td>\n    </tr>\n    <tr>\n      <th>CSM5MCVN</th>\n      <td>4.017384</td>\n      <td>0.000000</td>\n      <td>6.907755</td>\n      <td>6.214608</td>\n      <td>0.000000</td>\n      <td>0.000000</td>\n      <td>0.000000</td>\n      <td>6.214608</td>\n      <td>6.907755</td>\n      <td>-1.122329</td>\n      <td>...</td>\n      <td>0.000000</td>\n      <td>0.000000</td>\n      <td>0.000000</td>\n      <td>6.214608</td>\n      <td>0.000000</td>\n      <td>6.907755</td>\n      <td>0.000000</td>\n      <td>6.214608</td>\n      <td>0.00000</td>\n      <td>CD</td>\n    </tr>\n    <tr>\n      <th>CSM67UBZ</th>\n      <td>3.506558</td>\n      <td>6.907755</td>\n      <td>5.809143</td>\n      <td>3.772261</td>\n      <td>6.907755</td>\n      <td>6.907755</td>\n      <td>0.000000</td>\n      <td>4.199705</td>\n      <td>6.214608</td>\n      <td>0.959720</td>\n      <td>...</td>\n      <td>0.000000</td>\n      <td>6.907755</td>\n      <td>0.000000</td>\n      <td>6.214608</td>\n      <td>6.907755</td>\n      <td>5.809143</td>\n      <td>6.907755</td>\n      <td>0.000000</td>\n      <td>0.00001</td>\n      <td>UC</td>\n    </tr>\n    <tr>\n      <th>CSM5MCXL</th>\n      <td>2.688248</td>\n      <td>6.214608</td>\n      <td>6.214608</td>\n      <td>6.907755</td>\n      <td>6.907755</td>\n      <td>6.907755</td>\n      <td>5.809143</td>\n      <td>6.214608</td>\n      <td>5.521461</td>\n      <td>6.907755</td>\n      <td>...</td>\n      <td>0.000000</td>\n      <td>0.000000</td>\n      <td>6.907755</td>\n      <td>6.214608</td>\n      <td>0.000000</td>\n      <td>6.907755</td>\n      <td>0.000000</td>\n      <td>6.214608</td>\n      <td>0.00000</td>\n      <td>UC</td>\n    </tr>\n    <tr>\n      <th>CSM5MCY8</th>\n      <td>3.123566</td>\n      <td>6.907755</td>\n      <td>5.521461</td>\n      <td>3.816713</td>\n      <td>0.000000</td>\n      <td>6.214608</td>\n      <td>0.000000</td>\n      <td>5.809143</td>\n      <td>3.729701</td>\n      <td>4.710531</td>\n      <td>...</td>\n      <td>0.000000</td>\n      <td>4.605170</td>\n      <td>6.214608</td>\n      <td>5.809143</td>\n      <td>0.000000</td>\n      <td>3.611918</td>\n      <td>5.809143</td>\n      <td>6.907755</td>\n      <td>0.00002</td>\n      <td>UC</td>\n    </tr>\n    <tr>\n      <th>...</th>\n      <td>...</td>\n      <td>...</td>\n      <td>...</td>\n      <td>...</td>\n      <td>...</td>\n      <td>...</td>\n      <td>...</td>\n      <td>...</td>\n      <td>...</td>\n      <td>...</td>\n      <td>...</td>\n      <td>...</td>\n      <td>...</td>\n      <td>...</td>\n      <td>...</td>\n      <td>...</td>\n      <td>...</td>\n      <td>...</td>\n      <td>...</td>\n      <td>...</td>\n      <td>...</td>\n    </tr>\n    <tr>\n      <th>PSM7J19N</th>\n      <td>4.961845</td>\n      <td>6.907755</td>\n      <td>6.214608</td>\n      <td>4.961845</td>\n      <td>6.907755</td>\n      <td>3.123566</td>\n      <td>2.918771</td>\n      <td>0.757153</td>\n      <td>0.219401</td>\n      <td>5.809143</td>\n      <td>...</td>\n      <td>0.000000</td>\n      <td>6.907755</td>\n      <td>6.214608</td>\n      <td>6.907755</td>\n      <td>0.000000</td>\n      <td>6.907755</td>\n      <td>6.907755</td>\n      <td>6.907755</td>\n      <td>0.00001</td>\n      <td>nonIBD</td>\n    </tr>\n    <tr>\n      <th>PSM6XBW3</th>\n      <td>6.907755</td>\n      <td>6.907755</td>\n      <td>-1.428635</td>\n      <td>5.115996</td>\n      <td>3.194183</td>\n      <td>6.907755</td>\n      <td>0.000000</td>\n      <td>0.000000</td>\n      <td>6.214608</td>\n      <td>5.115996</td>\n      <td>...</td>\n      <td>6.214608</td>\n      <td>6.907755</td>\n      <td>4.422849</td>\n      <td>0.000000</td>\n      <td>6.907755</td>\n      <td>3.540459</td>\n      <td>6.907755</td>\n      <td>0.000000</td>\n      <td>0.00001</td>\n      <td>nonIBD</td>\n    </tr>\n    <tr>\n      <th>PSM7J12J</th>\n      <td>5.521461</td>\n      <td>0.000000</td>\n      <td>2.263364</td>\n      <td>0.000000</td>\n      <td>5.298317</td>\n      <td>6.907755</td>\n      <td>0.000000</td>\n      <td>0.000000</td>\n      <td>6.907755</td>\n      <td>0.000000</td>\n      <td>...</td>\n      <td>0.000000</td>\n      <td>0.000000</td>\n      <td>0.000000</td>\n      <td>6.214608</td>\n      <td>0.000000</td>\n      <td>6.907755</td>\n      <td>0.000000</td>\n      <td>0.000000</td>\n      <td>0.00000</td>\n      <td>CD</td>\n    </tr>\n    <tr>\n      <th>PSM7J1BX</th>\n      <td>2.918771</td>\n      <td>6.907755</td>\n      <td>5.115996</td>\n      <td>4.342806</td>\n      <td>0.000000</td>\n      <td>5.809143</td>\n      <td>0.000000</td>\n      <td>4.961845</td>\n      <td>5.521461</td>\n      <td>5.521461</td>\n      <td>...</td>\n      <td>5.298317</td>\n      <td>0.000000</td>\n      <td>0.000000</td>\n      <td>6.214608</td>\n      <td>0.000000</td>\n      <td>6.214608</td>\n      <td>0.000000</td>\n      <td>6.214608</td>\n      <td>0.00000</td>\n      <td>UC</td>\n    </tr>\n    <tr>\n      <th>PSMA264O</th>\n      <td>4.135167</td>\n      <td>6.214608</td>\n      <td>4.074542</td>\n      <td>3.123566</td>\n      <td>0.000000</td>\n      <td>6.214608</td>\n      <td>0.000000</td>\n      <td>5.521461</td>\n      <td>4.961845</td>\n      <td>6.907755</td>\n      <td>...</td>\n      <td>0.000000</td>\n      <td>0.000000</td>\n      <td>0.000000</td>\n      <td>6.214608</td>\n      <td>0.000000</td>\n      <td>0.000000</td>\n      <td>0.000000</td>\n      <td>6.907755</td>\n      <td>0.00000</td>\n      <td>UC</td>\n    </tr>\n  </tbody>\n</table>\n<p>83 rows × 1399 columns</p>\n</div>"
     },
     "execution_count": 42,
     "metadata": {},
     "output_type": "execute_result"
    }
   ],
   "source": [
    "mp = mp.loc[select_sampels.index,:]\n",
    "mp = mp.loc[:,mp.columns.str.startswith('s__')]\n",
    "mp[\"diagnosis\"] = select_sampels.iloc[:,-1]\n",
    "mp"
   ],
   "metadata": {
    "collapsed": false,
    "pycharm": {
     "name": "#%%\n"
    }
   }
  },
  {
   "cell_type": "code",
   "execution_count": 45,
   "outputs": [],
   "source": [
    "MTX_X = mp.iloc[:,1:1398]\n",
    "MTX_y = mp.iloc[:,-1]\n",
    "\n",
    "#fill NA's\n",
    "MTX_X.fillna(MTX_X.median(), inplace=True)\n",
    "MTX_X = StandardScaler().fit_transform(MTX_X)\n",
    "\n",
    "from sklearn.model_selection import train_test_split\n",
    "X_train, X_test, y_train, y_test = train_test_split(MTX_X, MTX_y, test_size=0.40, random_state=42)"
   ],
   "metadata": {
    "collapsed": false,
    "pycharm": {
     "name": "#%%\n"
    }
   }
  },
  {
   "cell_type": "code",
   "execution_count": 50,
   "outputs": [
    {
     "name": "stdout",
     "output_type": "stream",
     "text": [
      "Best Model:\n",
      "RandomForestClassifier(max_features=32, min_samples_split=5, n_estimators=50,\n",
      "                       random_state=42)\n"
     ]
    },
    {
     "data": {
      "text/plain": "<AxesSubplot:>"
     },
     "execution_count": 50,
     "metadata": {},
     "output_type": "execute_result"
    },
    {
     "data": {
      "text/plain": "<Figure size 432x288 with 2 Axes>",
      "image/png": "[encoded data removed]"
     },
     "metadata": {},
     "output_type": "display_data"
    }
   ],
   "source": [
    "n_estimators_RF = [50, 100, 250, 500, 1000]\n",
    "max_features_RF = [2,4,8,16,32,None]\n",
    "parameters_RF = {'n_estimators': n_estimators_RF,\n",
    "                'max_features': max_features_RF}\n",
    "\n",
    "RF_model = RandomForestClassifier(max_depth=None,\n",
    "                                  min_samples_split=5, random_state=42)\n",
    "RF_clf = GridSearchCV(RF_model, parameters_RF, cv=5, scoring= 'accuracy') #completeness_score')\n",
    "\n",
    "RF_clf.fit(X_train, y_train)\n",
    "\n",
    "print(\"Best Model:\")\n",
    "RF_model = RF_clf.best_estimator_\n",
    "print(RF_model)\n",
    "\n",
    "RF_predictions = RF_model.predict(X_test)\n",
    "\n",
    "# creating a confusion matrix\n",
    "labels = np.unique(y_test)\n",
    "cm_RF = confusion_matrix(y_test, RF_predictions,labels=labels)\n",
    "cm_RF = pd.DataFrame(cm_RF, index=labels, columns=labels)\n",
    "sns.heatmap(cm_RF, cmap=\"YlGnBu\", annot=True)"
   ],
   "metadata": {
    "collapsed": false,
    "pycharm": {
     "name": "#%%\n"
    }
   }
  },
  {
   "cell_type": "code",
   "execution_count": 51,
   "outputs": [
    {
     "name": "stdout",
     "output_type": "stream",
     "text": [
      "Accuracy 38.24%\n"
     ]
    }
   ],
   "source": [
    "from sklearn import metrics\n",
    "print(f'Accuracy {round(metrics.accuracy_score(y_test, RF_predictions)*100,2)}%')"
   ],
   "metadata": {
    "collapsed": false,
    "pycharm": {
     "name": "#%%\n"
    }
   }
  },
  {
   "cell_type": "code",
   "execution_count": null,
   "outputs": [],
   "source": [],
   "metadata": {
    "collapsed": false,
    "pycharm": {
     "name": "#%%\n"
    }
   }
  }
 ],
 "metadata": {
  "kernelspec": {
   "display_name": "Python 3",
   "language": "python",
   "name": "python3"
  },
  "language_info": {
   "codemirror_mode": {
    "name": "ipython",
    "version": 2
   },
   "file_extension": ".py",
   "mimetype": "text/x-python",
   "name": "python",
   "nbconvert_exporter": "python",
   "pygments_lexer": "ipython2",
   "version": "2.7.6"
  }
 },
 "nbformat": 4,
 "nbformat_minor": 0
}