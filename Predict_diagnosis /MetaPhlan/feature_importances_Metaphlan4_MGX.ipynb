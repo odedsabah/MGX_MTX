{
 "cells": [
  {
   "cell_type": "code",
   "execution_count": 41,
   "metadata": {
    "collapsed": true,
    "pycharm": {
     "name": "#%%\n"
    }
   },
   "outputs": [],
   "source": [
    "import pandas as pd\n",
    "import seaborn as sns\n",
    "import numpy as np\n",
    "\n",
    "import matplotlib.pyplot as plt\n",
    "from sklearn.model_selection import GridSearchCV\n",
    "from sklearn.neighbors import KNeighborsClassifier\n",
    "from sklearn.neighbors import RadiusNeighborsClassifier\n",
    "from sklearn.linear_model import LogisticRegression\n",
    "from sklearn.tree import DecisionTreeClassifier\n",
    "from sklearn.linear_model import LogisticRegressionCV\n",
    "from sklearn.ensemble import RandomForestClassifier\n",
    "from sklearn.neural_network import MLPClassifier\n",
    "\n",
    "from sklearn.preprocessing import StandardScaler\n",
    "from sklearn.metrics import confusion_matrix\n",
    "from sklearn import metrics\n",
    "from sklearn.ensemble import RandomForestClassifier\n",
    "from sklearn.preprocessing import label_binarize\n",
    "import sweetviz as sv\n",
    "from pandas_profiling import ProfileReport"
   ]
  },
  {
   "cell_type": "code",
   "execution_count": 50,
   "outputs": [
    {
     "data": {
      "text/plain": "             k__Bacteria  p__Firmicutes  p__Bacteroidetes  p__Proteobacteria  \\\nExternal ID                                                                    \nPSM7J14T       100.00000       71.02855          26.85212            1.89661   \nCSM79HOL       100.00000       34.80297          63.49096            1.49113   \nCSM67U9D       100.00000       54.68728          44.23327            0.82266   \nMSM6J2MF       100.00000       96.47442           0.24335            3.10878   \nHSM7J4N4       100.00000       27.30707          71.32484            1.35394   \n...                  ...            ...               ...                ...   \nMSMA26BL       100.00000       36.18427          61.89923            1.72077   \nMSM79H9A        99.84673       36.69046          58.88541            0.98279   \nHSM7J4KK       100.00000       33.89929          62.37670            1.84729   \nMSM79HC4       100.00000       80.54021          16.09695            0.89052   \nHSM7J4G1       100.00000       33.42414          65.48134            0.77557   \n\n             p__Actinobacteria  c__Clostridia  c__Bacteroidia  \\\nExternal ID                                                     \nPSM7J14T               0.22272       55.95542        26.85212   \nCSM79HOL               0.21495       30.54465        63.49096   \nCSM67U9D               0.25679       50.51548        44.23327   \nMSM6J2MF               0.16437       82.71787         0.24335   \nHSM7J4N4               0.01415       25.32084        71.32484   \n...                        ...            ...             ...   \nMSMA26BL               0.19572       34.43199        61.89923   \nMSM79H9A               0.58879       33.53007        58.88541   \nHSM7J4KK               0.81156       31.61819        62.23758   \nMSM79HC4               0.68033       75.44387        16.09695   \nHSM7J4G1               0.23973       30.90241        65.47409   \n\n             c__Negativicutes  c__Firmicutes_unclassified  \\\nExternal ID                                                 \nPSM7J14T             12.28881                     2.64634   \nCSM79HOL              2.56962                     0.32024   \nCSM67U9D              2.28682                     0.51562   \nMSM6J2MF             13.23502                     0.51562   \nHSM7J4N4              1.39104                     0.44382   \n...                       ...                         ...   \nMSMA26BL              1.54756                     0.03789   \nMSM79H9A              0.38769                     0.00567   \nHSM7J4KK              0.55590                     0.16380   \nMSM79HC4              3.38109                     1.36633   \nHSM7J4G1              1.49743                     0.21606   \n\n             c__Betaproteobacteria  ...  t__SGB47656  t__SGB14139  t__SGB1890  \\\nExternal ID                         ...                                         \nPSM7J14T                   0.98112  ...      0.00000      0.00000     0.00000   \nCSM79HOL                   1.44817  ...      0.00000      0.00000     0.00000   \nCSM67U9D                   0.73302  ...      0.00000      0.00000     0.00000   \nMSM6J2MF                   0.73302  ...      0.00000      0.00000     0.00000   \nHSM7J4N4                   0.01219  ...      0.00000      0.00000     0.00000   \n...                            ...  ...          ...          ...         ...   \nMSMA26BL                   1.05422  ...      0.01596      0.00765     0.00649   \nMSM79H9A                   0.04974  ...      0.01596      0.00765     0.00649   \nHSM7J4KK                   0.93262  ...      0.01596      0.00765     0.00649   \nMSM79HC4                   0.73091  ...      0.01596      0.00765     0.00649   \nHSM7J4G1                   0.09251  ...      0.01596      0.00765     0.00649   \n\n             s__Prevotella_sp_DNF00663  s__Collinsella_SGB14747  t__SGB3322  \\\nExternal ID                                                                   \nPSM7J14T                       0.00000                  0.00000     0.00000   \nCSM79HOL                       0.00000                  0.00000     0.00000   \nCSM67U9D                       0.00000                  0.00000     0.00000   \nMSM6J2MF                       0.00000                  0.00000     0.00000   \nHSM7J4N4                       0.00000                  0.00000     0.00000   \n...                                ...                      ...         ...   \nMSMA26BL                       0.02668                  0.01905     0.02668   \nMSM79H9A                       0.02668                  0.01905     0.02668   \nHSM7J4KK                       0.02668                  0.01905     0.02668   \nMSM79HC4                       0.02668                  0.01905     0.02668   \nHSM7J4G1                       0.02668                  0.01905     0.02668   \n\n             t__SGB14747  t__SGB4194  t__SGB6499  t__SGB4510  \nExternal ID                                                   \nPSM7J14T         0.00000     0.00000     0.00000     0.00000  \nCSM79HOL         0.00000     0.00000     0.00000     0.00000  \nCSM67U9D         0.00000     0.00000     0.00000     0.00000  \nMSM6J2MF         0.00000     0.00000     0.00000     0.00000  \nHSM7J4N4         0.00000     0.00000     0.00000     0.00000  \n...                  ...         ...         ...         ...  \nMSMA26BL         0.01905     0.21992     0.02074     0.01415  \nMSM79H9A         0.01905     0.21992     0.02074     0.01415  \nHSM7J4KK         0.01905     0.21992     0.02074     0.01415  \nMSM79HC4         0.01905     0.21992     0.02074     0.01415  \nHSM7J4G1         0.01905     0.21992     0.02074     0.01415  \n\n[1338 rows x 3417 columns]",
      "text/html": "<div>\n<style scoped>\n    .dataframe tbody tr th:only-of-type {\n        vertical-align: middle;\n    }\n\n    .dataframe tbody tr th {\n        vertical-align: top;\n    }\n\n    .dataframe thead th {\n        text-align: right;\n    }\n</style>\n<table border=\"1\" class=\"dataframe\">\n  <thead>\n    <tr style=\"text-align: right;\">\n      <th></th>\n      <th>k__Bacteria</th>\n      <th>p__Firmicutes</th>\n      <th>p__Bacteroidetes</th>\n      <th>p__Proteobacteria</th>\n      <th>p__Actinobacteria</th>\n      <th>c__Clostridia</th>\n      <th>c__Bacteroidia</th>\n      <th>c__Negativicutes</th>\n      <th>c__Firmicutes_unclassified</th>\n      <th>c__Betaproteobacteria</th>\n      <th>...</th>\n      <th>t__SGB47656</th>\n      <th>t__SGB14139</th>\n      <th>t__SGB1890</th>\n      <th>s__Prevotella_sp_DNF00663</th>\n      <th>s__Collinsella_SGB14747</th>\n      <th>t__SGB3322</th>\n      <th>t__SGB14747</th>\n      <th>t__SGB4194</th>\n      <th>t__SGB6499</th>\n      <th>t__SGB4510</th>\n    </tr>\n    <tr>\n      <th>External ID</th>\n      <th></th>\n      <th></th>\n      <th></th>\n      <th></th>\n      <th></th>\n      <th></th>\n      <th></th>\n      <th></th>\n      <th></th>\n      <th></th>\n      <th></th>\n      <th></th>\n      <th></th>\n      <th></th>\n      <th></th>\n      <th></th>\n      <th></th>\n      <th></th>\n      <th></th>\n      <th></th>\n      <th></th>\n    </tr>\n  </thead>\n  <tbody>\n    <tr>\n      <th>PSM7J14T</th>\n      <td>100.00000</td>\n      <td>71.02855</td>\n      <td>26.85212</td>\n      <td>1.89661</td>\n      <td>0.22272</td>\n      <td>55.95542</td>\n      <td>26.85212</td>\n      <td>12.28881</td>\n      <td>2.64634</td>\n      <td>0.98112</td>\n      <td>...</td>\n      <td>0.00000</td>\n      <td>0.00000</td>\n      <td>0.00000</td>\n      <td>0.00000</td>\n      <td>0.00000</td>\n      <td>0.00000</td>\n      <td>0.00000</td>\n      <td>0.00000</td>\n      <td>0.00000</td>\n      <td>0.00000</td>\n    </tr>\n    <tr>\n      <th>CSM79HOL</th>\n      <td>100.00000</td>\n      <td>34.80297</td>\n      <td>63.49096</td>\n      <td>1.49113</td>\n      <td>0.21495</td>\n      <td>30.54465</td>\n      <td>63.49096</td>\n      <td>2.56962</td>\n      <td>0.32024</td>\n      <td>1.44817</td>\n      <td>...</td>\n      <td>0.00000</td>\n      <td>0.00000</td>\n      <td>0.00000</td>\n      <td>0.00000</td>\n      <td>0.00000</td>\n      <td>0.00000</td>\n      <td>0.00000</td>\n      <td>0.00000</td>\n      <td>0.00000</td>\n      <td>0.00000</td>\n    </tr>\n    <tr>\n      <th>CSM67U9D</th>\n      <td>100.00000</td>\n      <td>54.68728</td>\n      <td>44.23327</td>\n      <td>0.82266</td>\n      <td>0.25679</td>\n      <td>50.51548</td>\n      <td>44.23327</td>\n      <td>2.28682</td>\n      <td>0.51562</td>\n      <td>0.73302</td>\n      <td>...</td>\n      <td>0.00000</td>\n      <td>0.00000</td>\n      <td>0.00000</td>\n      <td>0.00000</td>\n      <td>0.00000</td>\n      <td>0.00000</td>\n      <td>0.00000</td>\n      <td>0.00000</td>\n      <td>0.00000</td>\n      <td>0.00000</td>\n    </tr>\n    <tr>\n      <th>MSM6J2MF</th>\n      <td>100.00000</td>\n      <td>96.47442</td>\n      <td>0.24335</td>\n      <td>3.10878</td>\n      <td>0.16437</td>\n      <td>82.71787</td>\n      <td>0.24335</td>\n      <td>13.23502</td>\n      <td>0.51562</td>\n      <td>0.73302</td>\n      <td>...</td>\n      <td>0.00000</td>\n      <td>0.00000</td>\n      <td>0.00000</td>\n      <td>0.00000</td>\n      <td>0.00000</td>\n      <td>0.00000</td>\n      <td>0.00000</td>\n      <td>0.00000</td>\n      <td>0.00000</td>\n      <td>0.00000</td>\n    </tr>\n    <tr>\n      <th>HSM7J4N4</th>\n      <td>100.00000</td>\n      <td>27.30707</td>\n      <td>71.32484</td>\n      <td>1.35394</td>\n      <td>0.01415</td>\n      <td>25.32084</td>\n      <td>71.32484</td>\n      <td>1.39104</td>\n      <td>0.44382</td>\n      <td>0.01219</td>\n      <td>...</td>\n      <td>0.00000</td>\n      <td>0.00000</td>\n      <td>0.00000</td>\n      <td>0.00000</td>\n      <td>0.00000</td>\n      <td>0.00000</td>\n      <td>0.00000</td>\n      <td>0.00000</td>\n      <td>0.00000</td>\n      <td>0.00000</td>\n    </tr>\n    <tr>\n      <th>...</th>\n      <td>...</td>\n      <td>...</td>\n      <td>...</td>\n      <td>...</td>\n      <td>...</td>\n      <td>...</td>\n      <td>...</td>\n      <td>...</td>\n      <td>...</td>\n      <td>...</td>\n      <td>...</td>\n      <td>...</td>\n      <td>...</td>\n      <td>...</td>\n      <td>...</td>\n      <td>...</td>\n      <td>...</td>\n      <td>...</td>\n      <td>...</td>\n      <td>...</td>\n      <td>...</td>\n    </tr>\n    <tr>\n      <th>MSMA26BL</th>\n      <td>100.00000</td>\n      <td>36.18427</td>\n      <td>61.89923</td>\n      <td>1.72077</td>\n      <td>0.19572</td>\n      <td>34.43199</td>\n      <td>61.89923</td>\n      <td>1.54756</td>\n      <td>0.03789</td>\n      <td>1.05422</td>\n      <td>...</td>\n      <td>0.01596</td>\n      <td>0.00765</td>\n      <td>0.00649</td>\n      <td>0.02668</td>\n      <td>0.01905</td>\n      <td>0.02668</td>\n      <td>0.01905</td>\n      <td>0.21992</td>\n      <td>0.02074</td>\n      <td>0.01415</td>\n    </tr>\n    <tr>\n      <th>MSM79H9A</th>\n      <td>99.84673</td>\n      <td>36.69046</td>\n      <td>58.88541</td>\n      <td>0.98279</td>\n      <td>0.58879</td>\n      <td>33.53007</td>\n      <td>58.88541</td>\n      <td>0.38769</td>\n      <td>0.00567</td>\n      <td>0.04974</td>\n      <td>...</td>\n      <td>0.01596</td>\n      <td>0.00765</td>\n      <td>0.00649</td>\n      <td>0.02668</td>\n      <td>0.01905</td>\n      <td>0.02668</td>\n      <td>0.01905</td>\n      <td>0.21992</td>\n      <td>0.02074</td>\n      <td>0.01415</td>\n    </tr>\n    <tr>\n      <th>HSM7J4KK</th>\n      <td>100.00000</td>\n      <td>33.89929</td>\n      <td>62.37670</td>\n      <td>1.84729</td>\n      <td>0.81156</td>\n      <td>31.61819</td>\n      <td>62.23758</td>\n      <td>0.55590</td>\n      <td>0.16380</td>\n      <td>0.93262</td>\n      <td>...</td>\n      <td>0.01596</td>\n      <td>0.00765</td>\n      <td>0.00649</td>\n      <td>0.02668</td>\n      <td>0.01905</td>\n      <td>0.02668</td>\n      <td>0.01905</td>\n      <td>0.21992</td>\n      <td>0.02074</td>\n      <td>0.01415</td>\n    </tr>\n    <tr>\n      <th>MSM79HC4</th>\n      <td>100.00000</td>\n      <td>80.54021</td>\n      <td>16.09695</td>\n      <td>0.89052</td>\n      <td>0.68033</td>\n      <td>75.44387</td>\n      <td>16.09695</td>\n      <td>3.38109</td>\n      <td>1.36633</td>\n      <td>0.73091</td>\n      <td>...</td>\n      <td>0.01596</td>\n      <td>0.00765</td>\n      <td>0.00649</td>\n      <td>0.02668</td>\n      <td>0.01905</td>\n      <td>0.02668</td>\n      <td>0.01905</td>\n      <td>0.21992</td>\n      <td>0.02074</td>\n      <td>0.01415</td>\n    </tr>\n    <tr>\n      <th>HSM7J4G1</th>\n      <td>100.00000</td>\n      <td>33.42414</td>\n      <td>65.48134</td>\n      <td>0.77557</td>\n      <td>0.23973</td>\n      <td>30.90241</td>\n      <td>65.47409</td>\n      <td>1.49743</td>\n      <td>0.21606</td>\n      <td>0.09251</td>\n      <td>...</td>\n      <td>0.01596</td>\n      <td>0.00765</td>\n      <td>0.00649</td>\n      <td>0.02668</td>\n      <td>0.01905</td>\n      <td>0.02668</td>\n      <td>0.01905</td>\n      <td>0.21992</td>\n      <td>0.02074</td>\n      <td>0.01415</td>\n    </tr>\n  </tbody>\n</table>\n<p>1338 rows × 3417 columns</p>\n</div>"
     },
     "execution_count": 50,
     "metadata": {},
     "output_type": "execute_result"
    }
   ],
   "source": [
    "mp = pd.read_csv('~/Desktop/To_prediction/Metaphlan4_all_pheno.csv').rename(columns={'Unnamed: 0' : 'External ID'})\n",
    "mp = mp.set_index('External ID')\n",
    "mp"
   ],
   "metadata": {
    "collapsed": false,
    "pycharm": {
     "name": "#%%\n"
    }
   }
  },
  {
   "cell_type": "code",
   "execution_count": 51,
   "outputs": [],
   "source": [
    "select_sampels = pd.read_csv('~/Desktop/selected_samples_MGX.csv')\n",
    "select_sampels = select_sampels.set_index('External ID')\n",
    "select_sampels.drop(\"Participant ID\", inplace=True, axis=1)"
   ],
   "metadata": {
    "collapsed": false,
    "pycharm": {
     "name": "#%%\n"
    }
   }
  },
  {
   "cell_type": "code",
   "execution_count": 65,
   "outputs": [],
   "source": [
    "mp = mp.loc[select_sampels.index,:]\n",
    "mp = mp.loc[:,mp.columns.str.startswith('s__')]\n",
    "mp[\"diagnosis\"] = select_sampels.iloc[:,-1]\n",
    "# mp.reset_index(inplace=True)\n",
    "\n",
    "features = mp.iloc[:, 1:-1]\n",
    "targets = mp.iloc[:, -1]"
   ],
   "metadata": {
    "collapsed": false,
    "pycharm": {
     "name": "#%%\n"
    }
   }
  },
  {
   "cell_type": "code",
   "execution_count": 66,
   "outputs": [
    {
     "name": "stdout",
     "output_type": "stream",
     "text": [
      "Best Model:\n",
      "RandomForestClassifier(max_features=3, min_samples_split=5, n_estimators=3,\n",
      "                       random_state=42)\n",
      "{'s__Victivallales_bacterium': 0.18806123552958998}\n",
      "Accuracy 90.48%\n"
     ]
    },
    {
     "data": {
      "text/plain": "<Figure size 432x288 with 2 Axes>",
      "image/png": "[encoded data removed]"
     },
     "metadata": {},
     "output_type": "display_data"
    }
   ],
   "source": [
    "MGX_X = features\n",
    "MGX_y = targets\n",
    "\n",
    "#fill NA's\n",
    "MGX_X.fillna(MGX_X.median(), inplace=True)\n",
    "MTX_X = StandardScaler().fit_transform(MGX_X)\n",
    "\n",
    "from sklearn.model_selection import train_test_split\n",
    "X_train, X_test, y_train, y_test = train_test_split(MTX_X, MGX_y, test_size=0.50, random_state=42)\n",
    "\n",
    "n_estimators_RF = [3] #[5, 10, 25, 50, 100]\n",
    "max_features_RF = [3] #[2,4,8,16,32,None]\n",
    "parameters_RF = {'n_estimators': n_estimators_RF,\n",
    "                'max_features': max_features_RF}\n",
    "RF_model = RandomForestClassifier(max_depth=None,\n",
    "                                  min_samples_split=5, random_state=42)\n",
    "RF_clf = GridSearchCV(RF_model, parameters_RF, cv=5, scoring= 'accuracy') #completeness_score')\n",
    "RF_clf.fit(X_train, y_train)\n",
    "print(\"Best Model:\")\n",
    "RF_model = RF_clf.best_estimator_\n",
    "print(RF_model)\n",
    "RF_predictions = RF_model.predict(X_test)\n",
    "##########################################################################\n",
    "imp_df = pd.DataFrame({\n",
    "\"\": features.columns,\n",
    "\"feature_importances\": RF_clf.best_estimator_.feature_importances_\n",
    "})\n",
    "feature_importances = imp_df.sort_values(by=\"feature_importances\", ascending=False).rename(columns={\"\":\"feature_name\"})\n",
    "##########################################################################\n",
    "labels = np.unique(y_test)\n",
    "cm_RF = confusion_matrix(y_test, RF_predictions,labels=labels)\n",
    "cm_RF = pd.DataFrame(cm_RF, index=labels, columns=labels)\n",
    "sns.heatmap(cm_RF, cmap=\"YlGnBu\", annot=True)\n",
    "##########################################################################\n",
    "dominant_species = dict(zip(feature_importances.feature_name.iloc[:1], feature_importances.feature_importances.iloc[:1]))\n",
    "features = mp.drop(list(dominant_species.keys()), axis=1) # Highest feature remove\n",
    "print(dominant_species)\n",
    "print(f'Accuracy {round(metrics.accuracy_score(y_test, RF_predictions) * 100, 2)}%')\n"
   ],
   "metadata": {
    "collapsed": false,
    "pycharm": {
     "name": "#%%\n"
    }
   }
  },
  {
   "cell_type": "code",
   "execution_count": 54,
   "outputs": [],
   "source": [
    "dominant_species = dict(zip(feature_importances.feature_name.iloc[:1], feature_importances.feature_importances.iloc[:1]))\n",
    "# features = features.drop(list(dominant_species.keys()), axis=1) # Highest feature remove\n"
   ],
   "metadata": {
    "collapsed": false,
    "pycharm": {
     "name": "#%%\n"
    }
   }
  },
  {
   "cell_type": "code",
   "execution_count": null,
   "outputs": [],
   "source": [],
   "metadata": {
    "collapsed": false,
    "pycharm": {
     "name": "#%%\n"
    }
   }
  }
 ],
 "metadata": {
  "kernelspec": {
   "display_name": "Python 3",
   "language": "python",
   "name": "python3"
  },
  "language_info": {
   "codemirror_mode": {
    "name": "ipython",
    "version": 2
   },
   "file_extension": ".py",
   "mimetype": "text/x-python",
   "name": "python",
   "nbconvert_exporter": "python",
   "pygments_lexer": "ipython2",
   "version": "2.7.6"
  }
 },
 "nbformat": 4,
 "nbformat_minor": 0
}