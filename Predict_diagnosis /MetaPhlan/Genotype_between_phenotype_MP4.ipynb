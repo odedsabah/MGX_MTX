{
 "cells": [
  {
   "cell_type": "code",
   "execution_count": 1,
   "outputs": [],
   "source": [
    "import pandas as pd\n",
    "import seaborn as sns\n",
    "import numpy as np\n",
    "import matplotlib.pyplot as plt\n",
    "\n",
    "\n",
    "from sklearn.metrics import roc_curve\n",
    "from sklearn.model_selection import GridSearchCV\n",
    "from sklearn.neighbors import KNeighborsClassifier\n",
    "from sklearn.neighbors import RadiusNeighborsClassifier\n",
    "from sklearn.linear_model import LogisticRegression\n",
    "from sklearn.tree import DecisionTreeClassifier\n",
    "from sklearn.linear_model import LogisticRegressionCV\n",
    "from sklearn.ensemble import RandomForestClassifier\n",
    "from sklearn.neural_network import MLPClassifier\n",
    "\n",
    "from sklearn.preprocessing import StandardScaler\n",
    "from sklearn.model_selection import train_test_split\n",
    "\n",
    "from sklearn import svm\n",
    "from sklearn.metrics import roc_auc_score\n",
    "from sklearn.metrics import roc_curve\n",
    "from sklearn.metrics import confusion_matrix\n",
    "from sklearn.metrics import cohen_kappa_score, make_scorer, f1_score, accuracy_score"
   ],
   "metadata": {
    "collapsed": false,
    "pycharm": {
     "name": "#%%\n"
    }
   }
  },
  {
   "cell_type": "code",
   "execution_count": 2,
   "outputs": [],
   "source": [
    "Genotype_between_phenotype = pd.read_csv(\"~/Downloads/MGX_VS_MTX_mp4.csv\")"
   ],
   "metadata": {
    "collapsed": false,
    "pycharm": {
     "name": "#%%\n"
    }
   }
  },
  {
   "cell_type": "code",
   "execution_count": 3,
   "outputs": [
    {
     "data": {
      "text/plain": "(742, 584)"
     },
     "execution_count": 3,
     "metadata": {},
     "output_type": "execute_result"
    }
   ],
   "source": [
    "Genotype_between_phenotype.shape"
   ],
   "metadata": {
    "collapsed": false,
    "pycharm": {
     "name": "#%%\n"
    }
   }
  },
  {
   "cell_type": "code",
   "execution_count": 4,
   "outputs": [],
   "source": [
    "Genotype_between_phenotype.set_index('Unnamed: 0', inplace=True)"
   ],
   "metadata": {
    "collapsed": false,
    "pycharm": {
     "name": "#%%\n"
    }
   }
  },
  {
   "cell_type": "code",
   "execution_count": 5,
   "outputs": [
    {
     "data": {
      "text/plain": "             fecalcal_max Diagnosis\nExternal ID                        \nCSM67UA2         37.17836        CD\nCSM5MCVN         16.32450        CD\nCSM67UBZ         12.70000        UC\nCSM5MCXL         70.91411        UC\nCSM5MCY8        232.60620        UC\n...                   ...       ...\nPSM7J19F        263.01820        CD\nPSM7J19N         13.47861    nonIBD\nPSM7J17X         16.97915    nonIBD\nPSM7J12J        289.22620        CD\nPSMA264U        127.56480        UC\n\n[78 rows x 2 columns]",
      "text/html": "<div>\n<style scoped>\n    .dataframe tbody tr th:only-of-type {\n        vertical-align: middle;\n    }\n\n    .dataframe tbody tr th {\n        vertical-align: top;\n    }\n\n    .dataframe thead th {\n        text-align: right;\n    }\n</style>\n<table border=\"1\" class=\"dataframe\">\n  <thead>\n    <tr style=\"text-align: right;\">\n      <th></th>\n      <th>fecalcal_max</th>\n      <th>Diagnosis</th>\n    </tr>\n    <tr>\n      <th>External ID</th>\n      <th></th>\n      <th></th>\n    </tr>\n  </thead>\n  <tbody>\n    <tr>\n      <th>CSM67UA2</th>\n      <td>37.17836</td>\n      <td>CD</td>\n    </tr>\n    <tr>\n      <th>CSM5MCVN</th>\n      <td>16.32450</td>\n      <td>CD</td>\n    </tr>\n    <tr>\n      <th>CSM67UBZ</th>\n      <td>12.70000</td>\n      <td>UC</td>\n    </tr>\n    <tr>\n      <th>CSM5MCXL</th>\n      <td>70.91411</td>\n      <td>UC</td>\n    </tr>\n    <tr>\n      <th>CSM5MCY8</th>\n      <td>232.60620</td>\n      <td>UC</td>\n    </tr>\n    <tr>\n      <th>...</th>\n      <td>...</td>\n      <td>...</td>\n    </tr>\n    <tr>\n      <th>PSM7J19F</th>\n      <td>263.01820</td>\n      <td>CD</td>\n    </tr>\n    <tr>\n      <th>PSM7J19N</th>\n      <td>13.47861</td>\n      <td>nonIBD</td>\n    </tr>\n    <tr>\n      <th>PSM7J17X</th>\n      <td>16.97915</td>\n      <td>nonIBD</td>\n    </tr>\n    <tr>\n      <th>PSM7J12J</th>\n      <td>289.22620</td>\n      <td>CD</td>\n    </tr>\n    <tr>\n      <th>PSMA264U</th>\n      <td>127.56480</td>\n      <td>UC</td>\n    </tr>\n  </tbody>\n</table>\n<p>78 rows × 2 columns</p>\n</div>"
     },
     "execution_count": 5,
     "metadata": {},
     "output_type": "execute_result"
    }
   ],
   "source": [
    "select_sampels_MTX = pd.read_csv('~/Desktop/selected_samples_MTX.csv')\n",
    "select_sampels_MTX = select_sampels_MTX.set_index('External ID')\n",
    "select_sampels_MTX.drop(\"Participant ID\", inplace=True, axis=1)\n",
    "select_sampels_MTX"
   ],
   "metadata": {
    "collapsed": false,
    "pycharm": {
     "name": "#%%\n"
    }
   }
  },
  {
   "cell_type": "code",
   "execution_count": 6,
   "outputs": [
    {
     "data": {
      "text/plain": "             s__Acidaminococcaceae_unclassified_SGB5785  \\\nExternal ID                                               \nCSM67UA2                                       0.187061   \nCSM5MCVN                                       0.278514   \nCSM67UBZ                                       0.175623   \nCSM5MCXL                                       0.000000   \nCSM5MCY8                                       0.175623   \n...                                                 ...   \nPSM7J19F                                       0.249238   \nPSM7J19N                                       0.000000   \nPSM7J17X                                       0.000000   \nPSM7J12J                                       0.187061   \nPSMA264U                                       0.704035   \n\n             s__Acidaminococcus_intestini  s__Actinomyces_urogenitalis  \\\nExternal ID                                                              \nCSM67UA2                         0.577893                     4.143272   \nCSM5MCVN                         0.665641                     4.143272   \nCSM67UBZ                         1.621073                     0.000000   \nCSM5MCXL                         0.000000                     0.000000   \nCSM5MCY8                         0.482534                     0.000000   \n...                                   ...                          ...   \nPSM7J19F                         0.056828                     4.143272   \nPSM7J19N                         0.055100                     0.000000   \nPSM7J17X                         0.164802                     0.000000   \nPSM7J12J                         0.253434                     4.143272   \nPSMA264U                         0.443636                     0.000000   \n\n             s__Adlercreutzia_equolifaciens  \\\nExternal ID                                   \nCSM67UA2                          88.133097   \nCSM5MCVN                          14.902626   \nCSM67UBZ                           0.000000   \nCSM5MCXL                           0.000000   \nCSM5MCY8                           0.000000   \n...                                     ...   \nPSM7J19F                           0.000000   \nPSM7J19N                          13.941638   \nPSM7J17X                          21.198675   \nPSM7J12J                        1226.246914   \nPSMA264U                           0.000000   \n\n             s__Agathobaculum_butyriciproducens  s__Aggregatibacter_segnis  \\\nExternal ID                                                                  \nCSM67UA2                              20.199513                   0.000000   \nCSM5MCVN                             171.918519                   0.000000   \nCSM67UBZ                              40.306569                   0.229356   \nCSM5MCXL                               0.000000                   0.000000   \nCSM5MCY8                               0.553275                   0.064041   \n...                                         ...                        ...   \nPSM7J19F                               1.796421                   0.000000   \nPSM7J19N                               0.321368                   0.000000   \nPSM7J17X                               0.321183                   0.000000   \nPSM7J12J                              65.426506                   0.000000   \nPSMA264U                               0.208109                   0.565038   \n\n             s__Akkermansia_muciniphila  s__Akkermansia_sp_BIOML_A40  \\\nExternal ID                                                            \nCSM67UA2                       1.348396                   109.219713   \nCSM5MCVN                      12.637706                   109.219713   \nCSM67UBZ                       0.397728                     0.000000   \nCSM5MCXL                       1.540965                     0.000000   \nCSM5MCY8                     198.752047                     0.000000   \n...                                 ...                          ...   \nPSM7J19F                       3.046012                     0.000000   \nPSM7J19N                       0.585376                     0.000000   \nPSM7J17X                     207.424819                     0.000000   \nPSM7J12J                       1.605800                   109.219713   \nPSMA264U                      56.897683                     0.000000   \n\n             s__Akkermansia_sp_KLE1605  s__Alistipes_communis  ...  \\\nExternal ID                                                    ...   \nCSM67UA2                      2.324021              12.239894  ...   \nCSM5MCVN                      1.012359               3.766273  ...   \nCSM67UBZ                      0.000000              49.122524  ...   \nCSM5MCXL                      0.000000               2.209756  ...   \nCSM5MCY8                      0.000000             214.252064  ...   \n...                                ...                    ...  ...   \nPSM7J19F                      0.858348               1.561954  ...   \nPSM7J19N                      1.421561               0.626916  ...   \nPSM7J17X                      0.001125               3.914578  ...   \nPSM7J12J                      2.324021               1.592497  ...   \nPSMA264U                      0.000000               3.897859  ...   \n\n             s__Varibaculum_SGB15480  s__Veillonella_atypica  \\\nExternal ID                                                    \nCSM67UA2                    6.084665                1.786096   \nCSM5MCVN                    2.041022                6.047215   \nCSM67UBZ                    0.000000                0.820858   \nCSM5MCXL                    0.000000                0.000000   \nCSM5MCY8                    0.000000                1.580211   \n...                              ...                     ...   \nPSM7J19F                    0.350389                0.000000   \nPSM7J19N                    0.000000                0.000000   \nPSM7J17X                    0.000000                0.000000   \nPSM7J12J                    2.041022                3.354306   \nPSMA264U                    0.000000                0.229014   \n\n             s__Veillonella_dispar  s__Veillonella_parvula  \\\nExternal ID                                                  \nCSM67UA2                  0.088867                0.142476   \nCSM5MCVN                  0.436526                0.889377   \nCSM67UBZ                158.045455                0.000000   \nCSM5MCXL                  0.000000                0.000000   \nCSM5MCY8                  0.464809                0.000000   \n...                            ...                     ...   \nPSM7J19F                 15.704629                1.479167   \nPSM7J19N                 33.978684                0.000000   \nPSM7J17X                  0.000000                0.000000   \nPSM7J12J                  0.044264                0.327361   \nPSMA264U                  4.015142               21.849246   \n\n             s__Veillonella_ratti  s__Veillonella_rogosae  \\\nExternal ID                                                 \nCSM67UA2                 0.000000                8.449032   \nCSM5MCVN                 0.557380                7.483429   \nCSM67UBZ                 0.464729                0.000000   \nCSM5MCXL                 0.000000                0.000000   \nCSM5MCY8                 0.113532                0.000000   \n...                           ...                     ...   \nPSM7J19F                 0.000000                0.000000   \nPSM7J19N                 0.000000                0.000000   \nPSM7J17X                 0.000000                0.000000   \nPSM7J12J                 0.557380                0.548455   \nPSMA264U                 0.108993               87.456897   \n\n             s__Veillonella_seminalis  s__Victivallales_bacterium  \\\nExternal ID                                                         \nCSM67UA2                     0.002912                    0.306410   \nCSM5MCVN                     0.032308                   39.736777   \nCSM67UBZ                     0.000000                    0.000000   \nCSM5MCXL                     0.000000                    0.000000   \nCSM5MCY8                     0.000000                    0.000000   \n...                               ...                         ...   \nPSM7J19F                     0.239410                    3.561779   \nPSM7J19N                     0.000000                    0.000000   \nPSM7J17X                     0.000000                    0.000000   \nPSM7J12J                     0.032308                   39.736777   \nPSMA264U                     0.000000                    0.000000   \n\n             s__Victivallis_vadensis  Diagnosis  \nExternal ID                                      \nCSM67UA2                   29.184211         CD  \nCSM5MCVN                    9.610458         CD  \nCSM67UBZ                    0.000000         UC  \nCSM5MCXL                    0.000000         UC  \nCSM5MCY8                    0.000000         UC  \n...                              ...        ...  \nPSM7J19F                    1.688832         CD  \nPSM7J19N                    3.299574    Control  \nPSM7J17X                    7.384762    Control  \nPSM7J12J                   29.184211         CD  \nPSMA264U                    0.000000         UC  \n\n[78 rows x 583 columns]",
      "text/html": "<div>\n<style scoped>\n    .dataframe tbody tr th:only-of-type {\n        vertical-align: middle;\n    }\n\n    .dataframe tbody tr th {\n        vertical-align: top;\n    }\n\n    .dataframe thead th {\n        text-align: right;\n    }\n</style>\n<table border=\"1\" class=\"dataframe\">\n  <thead>\n    <tr style=\"text-align: right;\">\n      <th></th>\n      <th>s__Acidaminococcaceae_unclassified_SGB5785</th>\n      <th>s__Acidaminococcus_intestini</th>\n      <th>s__Actinomyces_urogenitalis</th>\n      <th>s__Adlercreutzia_equolifaciens</th>\n      <th>s__Agathobaculum_butyriciproducens</th>\n      <th>s__Aggregatibacter_segnis</th>\n      <th>s__Akkermansia_muciniphila</th>\n      <th>s__Akkermansia_sp_BIOML_A40</th>\n      <th>s__Akkermansia_sp_KLE1605</th>\n      <th>s__Alistipes_communis</th>\n      <th>...</th>\n      <th>s__Varibaculum_SGB15480</th>\n      <th>s__Veillonella_atypica</th>\n      <th>s__Veillonella_dispar</th>\n      <th>s__Veillonella_parvula</th>\n      <th>s__Veillonella_ratti</th>\n      <th>s__Veillonella_rogosae</th>\n      <th>s__Veillonella_seminalis</th>\n      <th>s__Victivallales_bacterium</th>\n      <th>s__Victivallis_vadensis</th>\n      <th>Diagnosis</th>\n    </tr>\n    <tr>\n      <th>External ID</th>\n      <th></th>\n      <th></th>\n      <th></th>\n      <th></th>\n      <th></th>\n      <th></th>\n      <th></th>\n      <th></th>\n      <th></th>\n      <th></th>\n      <th></th>\n      <th></th>\n      <th></th>\n      <th></th>\n      <th></th>\n      <th></th>\n      <th></th>\n      <th></th>\n      <th></th>\n      <th></th>\n      <th></th>\n    </tr>\n  </thead>\n  <tbody>\n    <tr>\n      <th>CSM67UA2</th>\n      <td>0.187061</td>\n      <td>0.577893</td>\n      <td>4.143272</td>\n      <td>88.133097</td>\n      <td>20.199513</td>\n      <td>0.000000</td>\n      <td>1.348396</td>\n      <td>109.219713</td>\n      <td>2.324021</td>\n      <td>12.239894</td>\n      <td>...</td>\n      <td>6.084665</td>\n      <td>1.786096</td>\n      <td>0.088867</td>\n      <td>0.142476</td>\n      <td>0.000000</td>\n      <td>8.449032</td>\n      <td>0.002912</td>\n      <td>0.306410</td>\n      <td>29.184211</td>\n      <td>CD</td>\n    </tr>\n    <tr>\n      <th>CSM5MCVN</th>\n      <td>0.278514</td>\n      <td>0.665641</td>\n      <td>4.143272</td>\n      <td>14.902626</td>\n      <td>171.918519</td>\n      <td>0.000000</td>\n      <td>12.637706</td>\n      <td>109.219713</td>\n      <td>1.012359</td>\n      <td>3.766273</td>\n      <td>...</td>\n      <td>2.041022</td>\n      <td>6.047215</td>\n      <td>0.436526</td>\n      <td>0.889377</td>\n      <td>0.557380</td>\n      <td>7.483429</td>\n      <td>0.032308</td>\n      <td>39.736777</td>\n      <td>9.610458</td>\n      <td>CD</td>\n    </tr>\n    <tr>\n      <th>CSM67UBZ</th>\n      <td>0.175623</td>\n      <td>1.621073</td>\n      <td>0.000000</td>\n      <td>0.000000</td>\n      <td>40.306569</td>\n      <td>0.229356</td>\n      <td>0.397728</td>\n      <td>0.000000</td>\n      <td>0.000000</td>\n      <td>49.122524</td>\n      <td>...</td>\n      <td>0.000000</td>\n      <td>0.820858</td>\n      <td>158.045455</td>\n      <td>0.000000</td>\n      <td>0.464729</td>\n      <td>0.000000</td>\n      <td>0.000000</td>\n      <td>0.000000</td>\n      <td>0.000000</td>\n      <td>UC</td>\n    </tr>\n    <tr>\n      <th>CSM5MCXL</th>\n      <td>0.000000</td>\n      <td>0.000000</td>\n      <td>0.000000</td>\n      <td>0.000000</td>\n      <td>0.000000</td>\n      <td>0.000000</td>\n      <td>1.540965</td>\n      <td>0.000000</td>\n      <td>0.000000</td>\n      <td>2.209756</td>\n      <td>...</td>\n      <td>0.000000</td>\n      <td>0.000000</td>\n      <td>0.000000</td>\n      <td>0.000000</td>\n      <td>0.000000</td>\n      <td>0.000000</td>\n      <td>0.000000</td>\n      <td>0.000000</td>\n      <td>0.000000</td>\n      <td>UC</td>\n    </tr>\n    <tr>\n      <th>CSM5MCY8</th>\n      <td>0.175623</td>\n      <td>0.482534</td>\n      <td>0.000000</td>\n      <td>0.000000</td>\n      <td>0.553275</td>\n      <td>0.064041</td>\n      <td>198.752047</td>\n      <td>0.000000</td>\n      <td>0.000000</td>\n      <td>214.252064</td>\n      <td>...</td>\n      <td>0.000000</td>\n      <td>1.580211</td>\n      <td>0.464809</td>\n      <td>0.000000</td>\n      <td>0.113532</td>\n      <td>0.000000</td>\n      <td>0.000000</td>\n      <td>0.000000</td>\n      <td>0.000000</td>\n      <td>UC</td>\n    </tr>\n    <tr>\n      <th>...</th>\n      <td>...</td>\n      <td>...</td>\n      <td>...</td>\n      <td>...</td>\n      <td>...</td>\n      <td>...</td>\n      <td>...</td>\n      <td>...</td>\n      <td>...</td>\n      <td>...</td>\n      <td>...</td>\n      <td>...</td>\n      <td>...</td>\n      <td>...</td>\n      <td>...</td>\n      <td>...</td>\n      <td>...</td>\n      <td>...</td>\n      <td>...</td>\n      <td>...</td>\n      <td>...</td>\n    </tr>\n    <tr>\n      <th>PSM7J19F</th>\n      <td>0.249238</td>\n      <td>0.056828</td>\n      <td>4.143272</td>\n      <td>0.000000</td>\n      <td>1.796421</td>\n      <td>0.000000</td>\n      <td>3.046012</td>\n      <td>0.000000</td>\n      <td>0.858348</td>\n      <td>1.561954</td>\n      <td>...</td>\n      <td>0.350389</td>\n      <td>0.000000</td>\n      <td>15.704629</td>\n      <td>1.479167</td>\n      <td>0.000000</td>\n      <td>0.000000</td>\n      <td>0.239410</td>\n      <td>3.561779</td>\n      <td>1.688832</td>\n      <td>CD</td>\n    </tr>\n    <tr>\n      <th>PSM7J19N</th>\n      <td>0.000000</td>\n      <td>0.055100</td>\n      <td>0.000000</td>\n      <td>13.941638</td>\n      <td>0.321368</td>\n      <td>0.000000</td>\n      <td>0.585376</td>\n      <td>0.000000</td>\n      <td>1.421561</td>\n      <td>0.626916</td>\n      <td>...</td>\n      <td>0.000000</td>\n      <td>0.000000</td>\n      <td>33.978684</td>\n      <td>0.000000</td>\n      <td>0.000000</td>\n      <td>0.000000</td>\n      <td>0.000000</td>\n      <td>0.000000</td>\n      <td>3.299574</td>\n      <td>Control</td>\n    </tr>\n    <tr>\n      <th>PSM7J17X</th>\n      <td>0.000000</td>\n      <td>0.164802</td>\n      <td>0.000000</td>\n      <td>21.198675</td>\n      <td>0.321183</td>\n      <td>0.000000</td>\n      <td>207.424819</td>\n      <td>0.000000</td>\n      <td>0.001125</td>\n      <td>3.914578</td>\n      <td>...</td>\n      <td>0.000000</td>\n      <td>0.000000</td>\n      <td>0.000000</td>\n      <td>0.000000</td>\n      <td>0.000000</td>\n      <td>0.000000</td>\n      <td>0.000000</td>\n      <td>0.000000</td>\n      <td>7.384762</td>\n      <td>Control</td>\n    </tr>\n    <tr>\n      <th>PSM7J12J</th>\n      <td>0.187061</td>\n      <td>0.253434</td>\n      <td>4.143272</td>\n      <td>1226.246914</td>\n      <td>65.426506</td>\n      <td>0.000000</td>\n      <td>1.605800</td>\n      <td>109.219713</td>\n      <td>2.324021</td>\n      <td>1.592497</td>\n      <td>...</td>\n      <td>2.041022</td>\n      <td>3.354306</td>\n      <td>0.044264</td>\n      <td>0.327361</td>\n      <td>0.557380</td>\n      <td>0.548455</td>\n      <td>0.032308</td>\n      <td>39.736777</td>\n      <td>29.184211</td>\n      <td>CD</td>\n    </tr>\n    <tr>\n      <th>PSMA264U</th>\n      <td>0.704035</td>\n      <td>0.443636</td>\n      <td>0.000000</td>\n      <td>0.000000</td>\n      <td>0.208109</td>\n      <td>0.565038</td>\n      <td>56.897683</td>\n      <td>0.000000</td>\n      <td>0.000000</td>\n      <td>3.897859</td>\n      <td>...</td>\n      <td>0.000000</td>\n      <td>0.229014</td>\n      <td>4.015142</td>\n      <td>21.849246</td>\n      <td>0.108993</td>\n      <td>87.456897</td>\n      <td>0.000000</td>\n      <td>0.000000</td>\n      <td>0.000000</td>\n      <td>UC</td>\n    </tr>\n  </tbody>\n</table>\n<p>78 rows × 583 columns</p>\n</div>"
     },
     "execution_count": 6,
     "metadata": {},
     "output_type": "execute_result"
    }
   ],
   "source": [
    "mp = Genotype_between_phenotype.loc[select_sampels_MTX.index,:]\n",
    "# mp[\"diagnosis\"] = select_sampels_MTX.iloc[:,-1]\n",
    "mp"
   ],
   "metadata": {
    "collapsed": false,
    "pycharm": {
     "name": "#%%\n"
    }
   }
  },
  {
   "cell_type": "code",
   "execution_count": 16,
   "outputs": [],
   "source": [
    "features = mp.iloc[:,1:582]\n",
    "targets = mp.iloc[:,-1]\n",
    "\n",
    "MTX_X = features\n",
    "MTX_y = targets\n",
    "\n",
    "#fill NA's\n",
    "MTX_X.fillna(MTX_X.median(), inplace=True)\n",
    "MTX_X = StandardScaler().fit_transform(MTX_X)\n",
    "\n",
    "from sklearn.model_selection import train_test_split\n",
    "X_train, X_test, y_train, y_test = train_test_split(MTX_X, MTX_y, test_size=0.30, random_state=43)\n"
   ],
   "metadata": {
    "collapsed": false,
    "pycharm": {
     "name": "#%%\n"
    }
   }
  },
  {
   "cell_type": "code",
   "execution_count": 17,
   "outputs": [
    {
     "name": "stdout",
     "output_type": "stream",
     "text": [
      "Best Model:\n",
      "RandomForestClassifier(max_features=2, min_samples_split=5, n_estimators=25,\n",
      "                       random_state=43)\n"
     ]
    },
    {
     "data": {
      "text/plain": "<AxesSubplot:>"
     },
     "execution_count": 17,
     "metadata": {},
     "output_type": "execute_result"
    },
    {
     "data": {
      "text/plain": "<Figure size 432x288 with 2 Axes>",
      "image/png": "[encoded data removed]"
     },
     "metadata": {},
     "output_type": "display_data"
    }
   ],
   "source": [
    "n_estimators_RF = [5, 10, 25, 50, 100]\n",
    "max_features_RF = [2,4,8,16,32,None]\n",
    "parameters_RF = {'n_estimators': n_estimators_RF,\n",
    "                'max_features': max_features_RF}\n",
    "\n",
    "RF_model = RandomForestClassifier(max_depth=None,\n",
    "                                  min_samples_split=5, random_state=43)\n",
    "RF_clf = GridSearchCV(RF_model, parameters_RF, cv=5, scoring= 'accuracy') #completeness_score')\n",
    "\n",
    "RF_clf.fit(X_train, y_train)\n",
    "\n",
    "print(\"Best Model:\")\n",
    "RF_model = RF_clf.best_estimator_\n",
    "print(RF_model)\n",
    "\n",
    "RF_predictions = RF_model.predict(X_test)\n",
    "\n",
    "# creating a confusion matrix\n",
    "labels = np.unique(y_test)\n",
    "cm_RF = confusion_matrix(y_test, RF_predictions,labels=labels)\n",
    "cm_RF = pd.DataFrame(cm_RF, index=labels, columns=labels)\n",
    "sns.heatmap(cm_RF, cmap=\"YlGnBu\", annot=True)"
   ],
   "metadata": {
    "collapsed": false,
    "pycharm": {
     "name": "#%%\n"
    }
   }
  },
  {
   "cell_type": "code",
   "execution_count": 18,
   "outputs": [
    {
     "name": "stdout",
     "output_type": "stream",
     "text": [
      "Accuracy 95.83%\n"
     ]
    }
   ],
   "source": [
    "from sklearn import metrics\n",
    "print(f'Accuracy {round(metrics.accuracy_score(y_test, RF_predictions)*100,2)}%')"
   ],
   "metadata": {
    "collapsed": false,
    "pycharm": {
     "name": "#%%\n"
    }
   }
  },
  {
   "cell_type": "code",
   "execution_count": 20,
   "outputs": [
    {
     "data": {
      "text/plain": "                                                      feature_importances\n501                          s__Phocaeicola_sartorii             0.049179\n116  s__Candidatus_Heteroclostridium_caecigallinarum             0.040073\n24                        s__Anaerococcus_obesiensis             0.026635\n383                              s__GGB9615_SGB15051             0.024163\n139               s__Clostridia_unclassified_SGB6376             0.021699",
      "text/html": "<div>\n<style scoped>\n    .dataframe tbody tr th:only-of-type {\n        vertical-align: middle;\n    }\n\n    .dataframe tbody tr th {\n        vertical-align: top;\n    }\n\n    .dataframe thead th {\n        text-align: right;\n    }\n</style>\n<table border=\"1\" class=\"dataframe\">\n  <thead>\n    <tr style=\"text-align: right;\">\n      <th></th>\n      <th></th>\n      <th>feature_importances</th>\n    </tr>\n  </thead>\n  <tbody>\n    <tr>\n      <th>501</th>\n      <td>s__Phocaeicola_sartorii</td>\n      <td>0.049179</td>\n    </tr>\n    <tr>\n      <th>116</th>\n      <td>s__Candidatus_Heteroclostridium_caecigallinarum</td>\n      <td>0.040073</td>\n    </tr>\n    <tr>\n      <th>24</th>\n      <td>s__Anaerococcus_obesiensis</td>\n      <td>0.026635</td>\n    </tr>\n    <tr>\n      <th>383</th>\n      <td>s__GGB9615_SGB15051</td>\n      <td>0.024163</td>\n    </tr>\n    <tr>\n      <th>139</th>\n      <td>s__Clostridia_unclassified_SGB6376</td>\n      <td>0.021699</td>\n    </tr>\n  </tbody>\n</table>\n</div>"
     },
     "metadata": {},
     "output_type": "display_data"
    },
    {
     "data": {
      "text/plain": "<Figure size 432x288 with 1 Axes>",
      "image/png": "[encoded data removed]"
     },
     "metadata": {},
     "output_type": "display_data"
    }
   ],
   "source": [
    "imp_df = pd.DataFrame({\n",
    "    \"\": features.columns,\n",
    "    \"feature_importances\": RF_clf.best_estimator_.feature_importances_\n",
    "})\n",
    "feature_importances_top_5 = imp_df.sort_values(by=\"feature_importances\", ascending=False).head(5)\n",
    "# feature_importances = imp_df.sort_values(by=\"feature_importances\", ascending=False).to_csv('~/Desktop/feature_importances_after_normalization.csv')\n",
    "display(feature_importances_top_5)\n",
    "sns.barplot(x='feature_importances', y= \"\", data= feature_importances_top_5)\n",
    "plt.show()\n",
    "feature_importances_top_5 = feature_importances_top_5.T\n",
    "feature_importances_top_5.columns = feature_importances_top_5.iloc[0]\n",
    "feature_importances_top_5 = feature_importances_top_5[1:1]\n"
   ],
   "metadata": {
    "collapsed": false,
    "pycharm": {
     "name": "#%%\n"
    }
   }
  },
  {
   "cell_type": "code",
   "execution_count": null,
   "outputs": [],
   "source": [],
   "metadata": {
    "collapsed": false,
    "pycharm": {
     "name": "#%%\n"
    }
   }
  }
 ],
 "metadata": {
  "kernelspec": {
   "display_name": "Python 3 (ipykernel)",
   "language": "python",
   "name": "python3"
  },
  "language_info": {
   "codemirror_mode": {
    "name": "ipython",
    "version": 3
   },
   "file_extension": ".py",
   "mimetype": "text/x-python",
   "name": "python",
   "nbconvert_exporter": "python",
   "pygments_lexer": "ipython3",
   "version": "3.8.2"
  }
 },
 "nbformat": 4,
 "nbformat_minor": 1
}