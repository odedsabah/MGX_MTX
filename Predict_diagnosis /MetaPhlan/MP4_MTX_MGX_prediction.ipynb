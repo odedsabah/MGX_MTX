{
 "cells": [
  {
   "cell_type": "code",
   "execution_count": 3,
   "metadata": {
    "collapsed": true,
    "pycharm": {
     "name": "#%%\n"
    }
   },
   "outputs": [],
   "source": [
    "import pandas as pd\n",
    "import seaborn as sns\n",
    "import numpy as np\n",
    "\n",
    "import matplotlib.pyplot as plt\n",
    "\n",
    "\n",
    "from sklearn.metrics import roc_curve\n",
    "from sklearn.model_selection import GridSearchCV\n",
    "from sklearn.neighbors import KNeighborsClassifier\n",
    "from sklearn.neighbors import RadiusNeighborsClassifier\n",
    "from sklearn.linear_model import LogisticRegression\n",
    "from sklearn.tree import DecisionTreeClassifier\n",
    "from sklearn.linear_model import LogisticRegressionCV\n",
    "from sklearn.ensemble import RandomForestClassifier\n",
    "from sklearn.neural_network import MLPClassifier\n",
    "\n",
    "from sklearn.preprocessing import StandardScaler\n",
    "from sklearn.model_selection import train_test_split\n",
    "\n",
    "from sklearn import svm\n",
    "from sklearn.metrics import roc_auc_score\n",
    "from sklearn.metrics import roc_curve\n",
    "from sklearn.metrics import confusion_matrix\n",
    "from sklearn.metrics import cohen_kappa_score, make_scorer, f1_score, accuracy_score"
   ]
  },
  {
   "cell_type": "code",
   "execution_count": 5,
   "outputs": [
    {
     "data": {
      "text/plain": "             s__Acidaminococcaceae_unclassified_SGB5785  \\\nExternal ID                                               \nPSM7J14T                                            0.0   \nCSM79HOL                                            0.0   \nCSM67U9D                                            0.0   \nHSM7J4N4                                            0.0   \nCSM79HJS                                            0.0   \n...                                                 ...   \nHSM7J4R2                                            0.0   \nMSM79H9A                                            0.0   \nHSM7J4KK                                            0.0   \nMSM79HC4                                            0.0   \nHSM7J4G1                                            0.0   \n\n             s__Acidaminococcus_intestini  s__Actinomyces_urogenitalis  \\\nExternal ID                                                              \nPSM7J14T                         0.000000                          0.0   \nCSM79HOL                         0.000000                          0.0   \nCSM67U9D                         0.000000                          0.0   \nHSM7J4N4                         0.000000                          0.0   \nCSM79HJS                         0.000000                          0.0   \n...                                   ...                          ...   \nHSM7J4R2                         0.043425                          0.0   \nMSM79H9A                         0.043425                          0.0   \nHSM7J4KK                        15.403279                          0.0   \nMSM79HC4                        15.403279                          0.0   \nHSM7J4G1                         0.663088                          0.0   \n\n             s__Adlercreutzia_equolifaciens  \\\nExternal ID                                   \nPSM7J14T                           0.000000   \nCSM79HOL                           0.000000   \nCSM67U9D                           0.000000   \nHSM7J4N4                           0.000000   \nCSM79HJS                           0.000000   \n...                                     ...   \nHSM7J4R2                           3.558248   \nMSM79H9A                           6.306147   \nHSM7J4KK                           6.306147   \nMSM79HC4                           6.306147   \nHSM7J4G1                           6.306147   \n\n             s__Agathobaculum_butyriciproducens  s__Aggregatibacter_segnis  \\\nExternal ID                                                                  \nPSM7J14T                               6.851839                        0.0   \nCSM79HOL                               8.558675                        0.0   \nCSM67U9D                              37.769374                        0.0   \nHSM7J4N4                              33.208078                        0.0   \nCSM79HJS                              21.670128                        0.0   \n...                                         ...                        ...   \nHSM7J4R2                               0.162435                        0.0   \nMSM79H9A                               0.060697                        0.0   \nHSM7J4KK                               0.439256                        0.0   \nMSM79HC4                               1.424949                        0.0   \nHSM7J4G1                               4.868852                        0.0   \n\n             s__Akkermansia_muciniphila  s__Akkermansia_sp_BIOML_A40  \\\nExternal ID                                                            \nPSM7J14T                       0.000000                          0.0   \nCSM79HOL                       0.000000                          0.0   \nCSM67U9D                       0.000000                          0.0   \nHSM7J4N4                       0.000000                          0.0   \nCSM79HJS                       0.000000                          0.0   \n...                                 ...                          ...   \nHSM7J4R2                       0.340896                          0.0   \nMSM79H9A                       2.729078                          0.0   \nHSM7J4KK                       1.370526                          0.0   \nMSM79HC4                       1.370526                          0.0   \nHSM7J4G1                      24.051448                          0.0   \n\n             s__Akkermansia_sp_KLE1605  s__Alistipes_communis  ...  \\\nExternal ID                                                    ...   \nPSM7J14T                      0.000000              28.202540  ...   \nCSM79HOL                      0.000000              10.125522  ...   \nCSM67U9D                      0.000000               9.424019  ...   \nHSM7J4N4                      0.000000             194.298516  ...   \nCSM79HJS                      0.000000             194.298516  ...   \n...                                ...                    ...  ...   \nHSM7J4R2                      0.535219              10.923160  ...   \nMSM79H9A                      0.535219               1.478479  ...   \nHSM7J4KK                      0.535219               3.838015  ...   \nMSM79HC4                      0.535219             483.946223  ...   \nHSM7J4G1                      0.535219             483.946223  ...   \n\n             s__Varibaculum_SGB15480  s__Veillonella_atypica  \\\nExternal ID                                                    \nPSM7J14T                         0.0                     0.0   \nCSM79HOL                         0.0                     0.0   \nCSM67U9D                         0.0                     0.0   \nHSM7J4N4                         0.0                     0.0   \nCSM79HJS                         0.0                     0.0   \n...                              ...                     ...   \nHSM7J4R2                         0.0                     0.0   \nMSM79H9A                         0.0                     0.0   \nHSM7J4KK                         0.0                     0.0   \nMSM79HC4                         0.0                     0.0   \nHSM7J4G1                         0.0                     0.0   \n\n             s__Veillonella_dispar  s__Veillonella_parvula  \\\nExternal ID                                                  \nPSM7J14T                  0.000000                     0.0   \nCSM79HOL                  0.000000                     0.0   \nCSM67U9D                  0.000000                     0.0   \nHSM7J4N4                  0.000000                     0.0   \nCSM79HJS                  0.000000                     0.0   \n...                            ...                     ...   \nHSM7J4R2               5044.205479                     0.0   \nMSM79H9A                 49.679843                     0.0   \nHSM7J4KK                 49.679843                     0.0   \nMSM79HC4                 18.602960                     0.0   \nHSM7J4G1                 18.602960                     0.0   \n\n             s__Veillonella_ratti  s__Veillonella_rogosae  \\\nExternal ID                                                 \nPSM7J14T                      0.0                     0.0   \nCSM79HOL                      0.0                     0.0   \nCSM67U9D                      0.0                     0.0   \nHSM7J4N4                      0.0                     0.0   \nCSM79HJS                      0.0                     0.0   \n...                           ...                     ...   \nHSM7J4R2                      0.0                     0.0   \nMSM79H9A                      0.0                     0.0   \nHSM7J4KK                      0.0                     0.0   \nMSM79HC4                      0.0                     0.0   \nHSM7J4G1                      0.0                     0.0   \n\n             s__Veillonella_seminalis  s__Victivallales_bacterium  \\\nExternal ID                                                         \nPSM7J14T                          0.0                         0.0   \nCSM79HOL                          0.0                         0.0   \nCSM67U9D                          0.0                         0.0   \nHSM7J4N4                          0.0                         0.0   \nCSM79HJS                          0.0                         0.0   \n...                               ...                         ...   \nHSM7J4R2                          0.0                         0.0   \nMSM79H9A                          0.0                         0.0   \nHSM7J4KK                          0.0                         0.0   \nMSM79HC4                          0.0                         0.0   \nHSM7J4G1                          0.0                         0.0   \n\n             s__Victivallis_vadensis  Diagnosis  \nExternal ID                                      \nPSM7J14T                    0.000000         CD  \nCSM79HOL                    0.000000         CD  \nCSM67U9D                    0.000000         CD  \nHSM7J4N4                    0.000000         CD  \nCSM79HJS                    0.000000         CD  \n...                              ...        ...  \nHSM7J4R2                    8.010331    Control  \nMSM79H9A                    8.010331    Control  \nHSM7J4KK                    8.010331    Control  \nMSM79HC4                    6.029549    Control  \nHSM7J4G1                    6.029549    Control  \n\n[742 rows x 583 columns]",
      "text/html": "<div>\n<style scoped>\n    .dataframe tbody tr th:only-of-type {\n        vertical-align: middle;\n    }\n\n    .dataframe tbody tr th {\n        vertical-align: top;\n    }\n\n    .dataframe thead th {\n        text-align: right;\n    }\n</style>\n<table border=\"1\" class=\"dataframe\">\n  <thead>\n    <tr style=\"text-align: right;\">\n      <th></th>\n      <th>s__Acidaminococcaceae_unclassified_SGB5785</th>\n      <th>s__Acidaminococcus_intestini</th>\n      <th>s__Actinomyces_urogenitalis</th>\n      <th>s__Adlercreutzia_equolifaciens</th>\n      <th>s__Agathobaculum_butyriciproducens</th>\n      <th>s__Aggregatibacter_segnis</th>\n      <th>s__Akkermansia_muciniphila</th>\n      <th>s__Akkermansia_sp_BIOML_A40</th>\n      <th>s__Akkermansia_sp_KLE1605</th>\n      <th>s__Alistipes_communis</th>\n      <th>...</th>\n      <th>s__Varibaculum_SGB15480</th>\n      <th>s__Veillonella_atypica</th>\n      <th>s__Veillonella_dispar</th>\n      <th>s__Veillonella_parvula</th>\n      <th>s__Veillonella_ratti</th>\n      <th>s__Veillonella_rogosae</th>\n      <th>s__Veillonella_seminalis</th>\n      <th>s__Victivallales_bacterium</th>\n      <th>s__Victivallis_vadensis</th>\n      <th>Diagnosis</th>\n    </tr>\n    <tr>\n      <th>External ID</th>\n      <th></th>\n      <th></th>\n      <th></th>\n      <th></th>\n      <th></th>\n      <th></th>\n      <th></th>\n      <th></th>\n      <th></th>\n      <th></th>\n      <th></th>\n      <th></th>\n      <th></th>\n      <th></th>\n      <th></th>\n      <th></th>\n      <th></th>\n      <th></th>\n      <th></th>\n      <th></th>\n      <th></th>\n    </tr>\n  </thead>\n  <tbody>\n    <tr>\n      <th>PSM7J14T</th>\n      <td>0.0</td>\n      <td>0.000000</td>\n      <td>0.0</td>\n      <td>0.000000</td>\n      <td>6.851839</td>\n      <td>0.0</td>\n      <td>0.000000</td>\n      <td>0.0</td>\n      <td>0.000000</td>\n      <td>28.202540</td>\n      <td>...</td>\n      <td>0.0</td>\n      <td>0.0</td>\n      <td>0.000000</td>\n      <td>0.0</td>\n      <td>0.0</td>\n      <td>0.0</td>\n      <td>0.0</td>\n      <td>0.0</td>\n      <td>0.000000</td>\n      <td>CD</td>\n    </tr>\n    <tr>\n      <th>CSM79HOL</th>\n      <td>0.0</td>\n      <td>0.000000</td>\n      <td>0.0</td>\n      <td>0.000000</td>\n      <td>8.558675</td>\n      <td>0.0</td>\n      <td>0.000000</td>\n      <td>0.0</td>\n      <td>0.000000</td>\n      <td>10.125522</td>\n      <td>...</td>\n      <td>0.0</td>\n      <td>0.0</td>\n      <td>0.000000</td>\n      <td>0.0</td>\n      <td>0.0</td>\n      <td>0.0</td>\n      <td>0.0</td>\n      <td>0.0</td>\n      <td>0.000000</td>\n      <td>CD</td>\n    </tr>\n    <tr>\n      <th>CSM67U9D</th>\n      <td>0.0</td>\n      <td>0.000000</td>\n      <td>0.0</td>\n      <td>0.000000</td>\n      <td>37.769374</td>\n      <td>0.0</td>\n      <td>0.000000</td>\n      <td>0.0</td>\n      <td>0.000000</td>\n      <td>9.424019</td>\n      <td>...</td>\n      <td>0.0</td>\n      <td>0.0</td>\n      <td>0.000000</td>\n      <td>0.0</td>\n      <td>0.0</td>\n      <td>0.0</td>\n      <td>0.0</td>\n      <td>0.0</td>\n      <td>0.000000</td>\n      <td>CD</td>\n    </tr>\n    <tr>\n      <th>HSM7J4N4</th>\n      <td>0.0</td>\n      <td>0.000000</td>\n      <td>0.0</td>\n      <td>0.000000</td>\n      <td>33.208078</td>\n      <td>0.0</td>\n      <td>0.000000</td>\n      <td>0.0</td>\n      <td>0.000000</td>\n      <td>194.298516</td>\n      <td>...</td>\n      <td>0.0</td>\n      <td>0.0</td>\n      <td>0.000000</td>\n      <td>0.0</td>\n      <td>0.0</td>\n      <td>0.0</td>\n      <td>0.0</td>\n      <td>0.0</td>\n      <td>0.000000</td>\n      <td>CD</td>\n    </tr>\n    <tr>\n      <th>CSM79HJS</th>\n      <td>0.0</td>\n      <td>0.000000</td>\n      <td>0.0</td>\n      <td>0.000000</td>\n      <td>21.670128</td>\n      <td>0.0</td>\n      <td>0.000000</td>\n      <td>0.0</td>\n      <td>0.000000</td>\n      <td>194.298516</td>\n      <td>...</td>\n      <td>0.0</td>\n      <td>0.0</td>\n      <td>0.000000</td>\n      <td>0.0</td>\n      <td>0.0</td>\n      <td>0.0</td>\n      <td>0.0</td>\n      <td>0.0</td>\n      <td>0.000000</td>\n      <td>CD</td>\n    </tr>\n    <tr>\n      <th>...</th>\n      <td>...</td>\n      <td>...</td>\n      <td>...</td>\n      <td>...</td>\n      <td>...</td>\n      <td>...</td>\n      <td>...</td>\n      <td>...</td>\n      <td>...</td>\n      <td>...</td>\n      <td>...</td>\n      <td>...</td>\n      <td>...</td>\n      <td>...</td>\n      <td>...</td>\n      <td>...</td>\n      <td>...</td>\n      <td>...</td>\n      <td>...</td>\n      <td>...</td>\n      <td>...</td>\n    </tr>\n    <tr>\n      <th>HSM7J4R2</th>\n      <td>0.0</td>\n      <td>0.043425</td>\n      <td>0.0</td>\n      <td>3.558248</td>\n      <td>0.162435</td>\n      <td>0.0</td>\n      <td>0.340896</td>\n      <td>0.0</td>\n      <td>0.535219</td>\n      <td>10.923160</td>\n      <td>...</td>\n      <td>0.0</td>\n      <td>0.0</td>\n      <td>5044.205479</td>\n      <td>0.0</td>\n      <td>0.0</td>\n      <td>0.0</td>\n      <td>0.0</td>\n      <td>0.0</td>\n      <td>8.010331</td>\n      <td>Control</td>\n    </tr>\n    <tr>\n      <th>MSM79H9A</th>\n      <td>0.0</td>\n      <td>0.043425</td>\n      <td>0.0</td>\n      <td>6.306147</td>\n      <td>0.060697</td>\n      <td>0.0</td>\n      <td>2.729078</td>\n      <td>0.0</td>\n      <td>0.535219</td>\n      <td>1.478479</td>\n      <td>...</td>\n      <td>0.0</td>\n      <td>0.0</td>\n      <td>49.679843</td>\n      <td>0.0</td>\n      <td>0.0</td>\n      <td>0.0</td>\n      <td>0.0</td>\n      <td>0.0</td>\n      <td>8.010331</td>\n      <td>Control</td>\n    </tr>\n    <tr>\n      <th>HSM7J4KK</th>\n      <td>0.0</td>\n      <td>15.403279</td>\n      <td>0.0</td>\n      <td>6.306147</td>\n      <td>0.439256</td>\n      <td>0.0</td>\n      <td>1.370526</td>\n      <td>0.0</td>\n      <td>0.535219</td>\n      <td>3.838015</td>\n      <td>...</td>\n      <td>0.0</td>\n      <td>0.0</td>\n      <td>49.679843</td>\n      <td>0.0</td>\n      <td>0.0</td>\n      <td>0.0</td>\n      <td>0.0</td>\n      <td>0.0</td>\n      <td>8.010331</td>\n      <td>Control</td>\n    </tr>\n    <tr>\n      <th>MSM79HC4</th>\n      <td>0.0</td>\n      <td>15.403279</td>\n      <td>0.0</td>\n      <td>6.306147</td>\n      <td>1.424949</td>\n      <td>0.0</td>\n      <td>1.370526</td>\n      <td>0.0</td>\n      <td>0.535219</td>\n      <td>483.946223</td>\n      <td>...</td>\n      <td>0.0</td>\n      <td>0.0</td>\n      <td>18.602960</td>\n      <td>0.0</td>\n      <td>0.0</td>\n      <td>0.0</td>\n      <td>0.0</td>\n      <td>0.0</td>\n      <td>6.029549</td>\n      <td>Control</td>\n    </tr>\n    <tr>\n      <th>HSM7J4G1</th>\n      <td>0.0</td>\n      <td>0.663088</td>\n      <td>0.0</td>\n      <td>6.306147</td>\n      <td>4.868852</td>\n      <td>0.0</td>\n      <td>24.051448</td>\n      <td>0.0</td>\n      <td>0.535219</td>\n      <td>483.946223</td>\n      <td>...</td>\n      <td>0.0</td>\n      <td>0.0</td>\n      <td>18.602960</td>\n      <td>0.0</td>\n      <td>0.0</td>\n      <td>0.0</td>\n      <td>0.0</td>\n      <td>0.0</td>\n      <td>6.029549</td>\n      <td>Control</td>\n    </tr>\n  </tbody>\n</table>\n<p>742 rows × 583 columns</p>\n</div>"
     },
     "execution_count": 5,
     "metadata": {},
     "output_type": "execute_result"
    }
   ],
   "source": [
    "mp = pd.read_csv('~/Downloads/ESCO_MGX_VS_MTX.csv').rename(columns={'Unnamed: 0' : 'External ID'})\n",
    "mp = mp.set_index('External ID')\n",
    "mp"
   ],
   "metadata": {
    "collapsed": false,
    "pycharm": {
     "name": "#%%\n"
    }
   }
  },
  {
   "cell_type": "code",
   "execution_count": 11,
   "outputs": [
    {
     "data": {
      "text/plain": "             fecalcal_max Diagnosis\nExternal ID                        \nCSM67UA2         37.17836        CD\nCSM5MCVN         16.32450        CD\nCSM67UBZ         12.70000        UC\nCSM5MCXL         70.91411        UC\nCSM5MCY8        232.60620        UC\n...                   ...       ...\nPSM7J19F        263.01820        CD\nPSM7J19N         13.47861    nonIBD\nPSM7J17X         16.97915    nonIBD\nPSM7J12J        289.22620        CD\nPSMA264U        127.56480        UC\n\n[78 rows x 2 columns]",
      "text/html": "<div>\n<style scoped>\n    .dataframe tbody tr th:only-of-type {\n        vertical-align: middle;\n    }\n\n    .dataframe tbody tr th {\n        vertical-align: top;\n    }\n\n    .dataframe thead th {\n        text-align: right;\n    }\n</style>\n<table border=\"1\" class=\"dataframe\">\n  <thead>\n    <tr style=\"text-align: right;\">\n      <th></th>\n      <th>fecalcal_max</th>\n      <th>Diagnosis</th>\n    </tr>\n    <tr>\n      <th>External ID</th>\n      <th></th>\n      <th></th>\n    </tr>\n  </thead>\n  <tbody>\n    <tr>\n      <th>CSM67UA2</th>\n      <td>37.17836</td>\n      <td>CD</td>\n    </tr>\n    <tr>\n      <th>CSM5MCVN</th>\n      <td>16.32450</td>\n      <td>CD</td>\n    </tr>\n    <tr>\n      <th>CSM67UBZ</th>\n      <td>12.70000</td>\n      <td>UC</td>\n    </tr>\n    <tr>\n      <th>CSM5MCXL</th>\n      <td>70.91411</td>\n      <td>UC</td>\n    </tr>\n    <tr>\n      <th>CSM5MCY8</th>\n      <td>232.60620</td>\n      <td>UC</td>\n    </tr>\n    <tr>\n      <th>...</th>\n      <td>...</td>\n      <td>...</td>\n    </tr>\n    <tr>\n      <th>PSM7J19F</th>\n      <td>263.01820</td>\n      <td>CD</td>\n    </tr>\n    <tr>\n      <th>PSM7J19N</th>\n      <td>13.47861</td>\n      <td>nonIBD</td>\n    </tr>\n    <tr>\n      <th>PSM7J17X</th>\n      <td>16.97915</td>\n      <td>nonIBD</td>\n    </tr>\n    <tr>\n      <th>PSM7J12J</th>\n      <td>289.22620</td>\n      <td>CD</td>\n    </tr>\n    <tr>\n      <th>PSMA264U</th>\n      <td>127.56480</td>\n      <td>UC</td>\n    </tr>\n  </tbody>\n</table>\n<p>78 rows × 2 columns</p>\n</div>"
     },
     "execution_count": 11,
     "metadata": {},
     "output_type": "execute_result"
    }
   ],
   "source": [
    "select_sampels_MGX = pd.read_csv('~/Desktop/selected_samples_MGX.csv')\n",
    "select_sampels_MTX = pd.read_csv('~/Desktop/selected_samples_MTX.csv')\n",
    "select_sampels_MGX = select_sampels_MGX.set_index('External ID')\n",
    "select_sampels_MTX = select_sampels_MTX.set_index('External ID')\n",
    "select_sampels_MGX.drop(\"Participant ID\", inplace=True, axis=1)\n",
    "select_sampels_MTX.drop(\"Participant ID\", inplace=True, axis=1)\n",
    "\n",
    "# select_sampels = pd.concat([select_sampels_MGX,select_sampels_MTX])\n",
    "# select_sampels = pd.read_csv('~/Desktop/fecalcal_higher.csv')\n",
    "# select_sampels = select_sampels.set_index('External ID')\n",
    "# select_sampels.drop([\"Participant ID\",\"Unnamed: 0\"], inplace=True, axis=1)\n",
    "select_sampels_MTX"
   ],
   "metadata": {
    "collapsed": false,
    "pycharm": {
     "name": "#%%\n"
    }
   }
  },
  {
   "cell_type": "code",
   "execution_count": 12,
   "outputs": [
    {
     "data": {
      "text/plain": "             s__Absiella_dolichum:1  s__Absiella_innocuum:1  \\\nExternal ID                                                   \nCSM67UA2                        1.0                1.000000   \nCSM5MCVN                        0.0                1.000000   \nCSM67UBZ                        0.0                1.333333   \nCSM5MCXL                        1.0                2.500000   \nCSM5MCY8                        3.0                2.500000   \n...                             ...                     ...   \nPSM7J19F                        0.0                0.666667   \nPSM7J19N                        0.0                0.500000   \nPSM7J17X                        0.0                0.694286   \nPSM7J12J                        0.0                1.971154   \nPSMA264U                        0.5                1.166667   \n\n             s__Absiella_sp000163515:1  s__Acetatifactor_sp003447295:1  \\\nExternal ID                                                              \nCSM67UA2                      0.916667                        0.083333   \nCSM5MCVN                      0.000000                        0.000000   \nCSM67UBZ                      1.869565                        0.000000   \nCSM5MCXL                      0.000000                        0.000000   \nCSM5MCY8                      0.863636                        0.000000   \n...                                ...                             ...   \nPSM7J19F                      0.672515                        0.263158   \nPSM7J19N                      0.142857                        0.454545   \nPSM7J17X                      0.333333                        0.142857   \nPSM7J12J                      0.000000                        0.000000   \nPSMA264U                      1.400000                        0.500000   \n\n             s__Acetatifactor_sp900066365:1  s__Acetatifactor_sp900066365:2  \\\nExternal ID                                                                   \nCSM67UA2                           0.000000                        5.000000   \nCSM5MCVN                           0.000000                        1.500000   \nCSM67UBZ                           0.000000                        0.066667   \nCSM5MCXL                           0.000000                        0.000000   \nCSM5MCY8                           0.000000                        1.000000   \n...                                     ...                             ...   \nPSM7J19F                           0.000000                        0.125000   \nPSM7J19N                           0.203704                        0.432836   \nPSM7J17X                           0.000000                        0.833333   \nPSM7J12J                           0.000000                        0.000000   \nPSMA264U                           0.000000                        7.500000   \n\n             s__Acetatifactor_sp900066565:1  s__Acidaminococcus_intestini:1  \\\nExternal ID                                                                   \nCSM67UA2                           0.333333                        0.000000   \nCSM5MCVN                           0.000000                        0.388997   \nCSM67UBZ                           0.000000                        0.955614   \nCSM5MCXL                           0.250000                        1.000000   \nCSM5MCY8                           0.041667                        0.111111   \n...                                     ...                             ...   \nPSM7J19F                           0.083333                        0.429348   \nPSM7J19N                           0.266501                        0.333333   \nPSM7J17X                           0.007246                       40.000000   \nPSM7J12J                           0.000000                        0.000000   \nPSMA264U                           0.000000                        0.000000   \n\n             s__Acidaminococcus_massiliensis:1  \\\nExternal ID                                      \nCSM67UA2                                   0.0   \nCSM5MCVN                                   4.0   \nCSM67UBZ                                   0.0   \nCSM5MCXL                                   1.0   \nCSM5MCY8                                   0.0   \n...                                        ...   \nPSM7J19F                                   1.0   \nPSM7J19N                                   0.0   \nPSM7J17X                                   0.0   \nPSM7J12J                                   0.0   \nPSMA264U                                   1.0   \n\n             s__Acutalibacter_sp000435395:1  ...  \\\nExternal ID                                  ...   \nCSM67UA2                           3.500000  ...   \nCSM5MCVN                           0.000000  ...   \nCSM67UBZ                           1.777778  ...   \nCSM5MCXL                           2.000000  ...   \nCSM5MCY8                           2.000000  ...   \n...                                     ...  ...   \nPSM7J19F                           2.666667  ...   \nPSM7J19N                           2.000000  ...   \nPSM7J17X                           1.140459  ...   \nPSM7J12J                           0.000000  ...   \nPSMA264U                           3.000000  ...   \n\n             s__esco_HumanRef_tmp_v1.0.1_936  s__esco_HumanRef_tmp_v1.0.1_96  \\\nExternal ID                                                                    \nCSM67UA2                                 0.0                        0.000000   \nCSM5MCVN                                 0.0                        0.333333   \nCSM67UBZ                                 5.0                        0.000000   \nCSM5MCXL                                 0.0                        0.000000   \nCSM5MCY8                                 1.0                        0.222222   \n...                                      ...                             ...   \nPSM7J19F                                 0.0                        2.500000   \nPSM7J19N                                 3.0                       14.333333   \nPSM7J17X                                 0.0                       11.666667   \nPSM7J12J                                 0.0                        0.000000   \nPSMA264U                                 0.0                        4.500000   \n\n             s__esco_HumanRef_tmp_v1.0.1_961  s__esco_HumanRef_tmp_v1.0.1_966  \\\nExternal ID                                                                     \nCSM67UA2                                 0.0                              0.0   \nCSM5MCVN                                 0.0                              0.0   \nCSM67UBZ                                 0.0                              1.0   \nCSM5MCXL                                 0.0                              0.0   \nCSM5MCY8                                 0.0                              0.5   \n...                                      ...                              ...   \nPSM7J19F                                 0.0                              0.0   \nPSM7J19N                                 0.0                              5.0   \nPSM7J17X                                 0.0                              4.0   \nPSM7J12J                                 0.0                              0.0   \nPSMA264U                                 1.0                              4.0   \n\n             s__esco_HumanRef_tmp_v1.0.1_968  s__esco_HumanRef_tmp_v1.0.1_973  \\\nExternal ID                                                                     \nCSM67UA2                                 0.0                        34.500000   \nCSM5MCVN                                 0.0                        33.500000   \nCSM67UBZ                                 0.0                       298.500000   \nCSM5MCXL                                 0.0                        13.000000   \nCSM5MCY8                                 0.5                        96.333333   \n...                                      ...                              ...   \nPSM7J19F                                42.0                         2.333333   \nPSM7J19N                                13.0                         5.000000   \nPSM7J17X                                 0.0                         0.000000   \nPSM7J12J                                 0.0                         0.000000   \nPSMA264U                                 0.0                         1.333333   \n\n             s__esco_HumanRef_tmp_v1.0.1_989  s__esco_HumanRef_tmp_v1.0.1_998  \\\nExternal ID                                                                     \nCSM67UA2                             0.00000                            347.5   \nCSM5MCVN                             0.00000                            581.0   \nCSM67UBZ                             1.00000                              0.0   \nCSM5MCXL                             2.00000                            119.0   \nCSM5MCY8                             0.37037                             11.0   \n...                                      ...                              ...   \nPSM7J19F                             1.00000                             78.5   \nPSM7J19N                             0.00000                             69.0   \nPSM7J17X                             0.00000                              0.0   \nPSM7J12J                             0.00000                              0.0   \nPSMA264U                             0.00000                             63.0   \n\n             Diagnosis  diagnosis  \nExternal ID                        \nCSM67UA2            CD         CD  \nCSM5MCVN            CD         CD  \nCSM67UBZ            UC         UC  \nCSM5MCXL            UC         UC  \nCSM5MCY8            UC         UC  \n...                ...        ...  \nPSM7J19F            CD         CD  \nPSM7J19N       Control     nonIBD  \nPSM7J17X       Control     nonIBD  \nPSM7J12J            CD         CD  \nPSMA264U            UC         UC  \n\n[78 rows x 920 columns]",
      "text/html": "<div>\n<style scoped>\n    .dataframe tbody tr th:only-of-type {\n        vertical-align: middle;\n    }\n\n    .dataframe tbody tr th {\n        vertical-align: top;\n    }\n\n    .dataframe thead th {\n        text-align: right;\n    }\n</style>\n<table border=\"1\" class=\"dataframe\">\n  <thead>\n    <tr style=\"text-align: right;\">\n      <th></th>\n      <th>s__Absiella_dolichum:1</th>\n      <th>s__Absiella_innocuum:1</th>\n      <th>s__Absiella_sp000163515:1</th>\n      <th>s__Acetatifactor_sp003447295:1</th>\n      <th>s__Acetatifactor_sp900066365:1</th>\n      <th>s__Acetatifactor_sp900066365:2</th>\n      <th>s__Acetatifactor_sp900066565:1</th>\n      <th>s__Acidaminococcus_intestini:1</th>\n      <th>s__Acidaminococcus_massiliensis:1</th>\n      <th>s__Acutalibacter_sp000435395:1</th>\n      <th>...</th>\n      <th>s__esco_HumanRef_tmp_v1.0.1_936</th>\n      <th>s__esco_HumanRef_tmp_v1.0.1_96</th>\n      <th>s__esco_HumanRef_tmp_v1.0.1_961</th>\n      <th>s__esco_HumanRef_tmp_v1.0.1_966</th>\n      <th>s__esco_HumanRef_tmp_v1.0.1_968</th>\n      <th>s__esco_HumanRef_tmp_v1.0.1_973</th>\n      <th>s__esco_HumanRef_tmp_v1.0.1_989</th>\n      <th>s__esco_HumanRef_tmp_v1.0.1_998</th>\n      <th>Diagnosis</th>\n      <th>diagnosis</th>\n    </tr>\n    <tr>\n      <th>External ID</th>\n      <th></th>\n      <th></th>\n      <th></th>\n      <th></th>\n      <th></th>\n      <th></th>\n      <th></th>\n      <th></th>\n      <th></th>\n      <th></th>\n      <th></th>\n      <th></th>\n      <th></th>\n      <th></th>\n      <th></th>\n      <th></th>\n      <th></th>\n      <th></th>\n      <th></th>\n      <th></th>\n      <th></th>\n    </tr>\n  </thead>\n  <tbody>\n    <tr>\n      <th>CSM67UA2</th>\n      <td>1.0</td>\n      <td>1.000000</td>\n      <td>0.916667</td>\n      <td>0.083333</td>\n      <td>0.000000</td>\n      <td>5.000000</td>\n      <td>0.333333</td>\n      <td>0.000000</td>\n      <td>0.0</td>\n      <td>3.500000</td>\n      <td>...</td>\n      <td>0.0</td>\n      <td>0.000000</td>\n      <td>0.0</td>\n      <td>0.0</td>\n      <td>0.0</td>\n      <td>34.500000</td>\n      <td>0.00000</td>\n      <td>347.5</td>\n      <td>CD</td>\n      <td>CD</td>\n    </tr>\n    <tr>\n      <th>CSM5MCVN</th>\n      <td>0.0</td>\n      <td>1.000000</td>\n      <td>0.000000</td>\n      <td>0.000000</td>\n      <td>0.000000</td>\n      <td>1.500000</td>\n      <td>0.000000</td>\n      <td>0.388997</td>\n      <td>4.0</td>\n      <td>0.000000</td>\n      <td>...</td>\n      <td>0.0</td>\n      <td>0.333333</td>\n      <td>0.0</td>\n      <td>0.0</td>\n      <td>0.0</td>\n      <td>33.500000</td>\n      <td>0.00000</td>\n      <td>581.0</td>\n      <td>CD</td>\n      <td>CD</td>\n    </tr>\n    <tr>\n      <th>CSM67UBZ</th>\n      <td>0.0</td>\n      <td>1.333333</td>\n      <td>1.869565</td>\n      <td>0.000000</td>\n      <td>0.000000</td>\n      <td>0.066667</td>\n      <td>0.000000</td>\n      <td>0.955614</td>\n      <td>0.0</td>\n      <td>1.777778</td>\n      <td>...</td>\n      <td>5.0</td>\n      <td>0.000000</td>\n      <td>0.0</td>\n      <td>1.0</td>\n      <td>0.0</td>\n      <td>298.500000</td>\n      <td>1.00000</td>\n      <td>0.0</td>\n      <td>UC</td>\n      <td>UC</td>\n    </tr>\n    <tr>\n      <th>CSM5MCXL</th>\n      <td>1.0</td>\n      <td>2.500000</td>\n      <td>0.000000</td>\n      <td>0.000000</td>\n      <td>0.000000</td>\n      <td>0.000000</td>\n      <td>0.250000</td>\n      <td>1.000000</td>\n      <td>1.0</td>\n      <td>2.000000</td>\n      <td>...</td>\n      <td>0.0</td>\n      <td>0.000000</td>\n      <td>0.0</td>\n      <td>0.0</td>\n      <td>0.0</td>\n      <td>13.000000</td>\n      <td>2.00000</td>\n      <td>119.0</td>\n      <td>UC</td>\n      <td>UC</td>\n    </tr>\n    <tr>\n      <th>CSM5MCY8</th>\n      <td>3.0</td>\n      <td>2.500000</td>\n      <td>0.863636</td>\n      <td>0.000000</td>\n      <td>0.000000</td>\n      <td>1.000000</td>\n      <td>0.041667</td>\n      <td>0.111111</td>\n      <td>0.0</td>\n      <td>2.000000</td>\n      <td>...</td>\n      <td>1.0</td>\n      <td>0.222222</td>\n      <td>0.0</td>\n      <td>0.5</td>\n      <td>0.5</td>\n      <td>96.333333</td>\n      <td>0.37037</td>\n      <td>11.0</td>\n      <td>UC</td>\n      <td>UC</td>\n    </tr>\n    <tr>\n      <th>...</th>\n      <td>...</td>\n      <td>...</td>\n      <td>...</td>\n      <td>...</td>\n      <td>...</td>\n      <td>...</td>\n      <td>...</td>\n      <td>...</td>\n      <td>...</td>\n      <td>...</td>\n      <td>...</td>\n      <td>...</td>\n      <td>...</td>\n      <td>...</td>\n      <td>...</td>\n      <td>...</td>\n      <td>...</td>\n      <td>...</td>\n      <td>...</td>\n      <td>...</td>\n      <td>...</td>\n    </tr>\n    <tr>\n      <th>PSM7J19F</th>\n      <td>0.0</td>\n      <td>0.666667</td>\n      <td>0.672515</td>\n      <td>0.263158</td>\n      <td>0.000000</td>\n      <td>0.125000</td>\n      <td>0.083333</td>\n      <td>0.429348</td>\n      <td>1.0</td>\n      <td>2.666667</td>\n      <td>...</td>\n      <td>0.0</td>\n      <td>2.500000</td>\n      <td>0.0</td>\n      <td>0.0</td>\n      <td>42.0</td>\n      <td>2.333333</td>\n      <td>1.00000</td>\n      <td>78.5</td>\n      <td>CD</td>\n      <td>CD</td>\n    </tr>\n    <tr>\n      <th>PSM7J19N</th>\n      <td>0.0</td>\n      <td>0.500000</td>\n      <td>0.142857</td>\n      <td>0.454545</td>\n      <td>0.203704</td>\n      <td>0.432836</td>\n      <td>0.266501</td>\n      <td>0.333333</td>\n      <td>0.0</td>\n      <td>2.000000</td>\n      <td>...</td>\n      <td>3.0</td>\n      <td>14.333333</td>\n      <td>0.0</td>\n      <td>5.0</td>\n      <td>13.0</td>\n      <td>5.000000</td>\n      <td>0.00000</td>\n      <td>69.0</td>\n      <td>Control</td>\n      <td>nonIBD</td>\n    </tr>\n    <tr>\n      <th>PSM7J17X</th>\n      <td>0.0</td>\n      <td>0.694286</td>\n      <td>0.333333</td>\n      <td>0.142857</td>\n      <td>0.000000</td>\n      <td>0.833333</td>\n      <td>0.007246</td>\n      <td>40.000000</td>\n      <td>0.0</td>\n      <td>1.140459</td>\n      <td>...</td>\n      <td>0.0</td>\n      <td>11.666667</td>\n      <td>0.0</td>\n      <td>4.0</td>\n      <td>0.0</td>\n      <td>0.000000</td>\n      <td>0.00000</td>\n      <td>0.0</td>\n      <td>Control</td>\n      <td>nonIBD</td>\n    </tr>\n    <tr>\n      <th>PSM7J12J</th>\n      <td>0.0</td>\n      <td>1.971154</td>\n      <td>0.000000</td>\n      <td>0.000000</td>\n      <td>0.000000</td>\n      <td>0.000000</td>\n      <td>0.000000</td>\n      <td>0.000000</td>\n      <td>0.0</td>\n      <td>0.000000</td>\n      <td>...</td>\n      <td>0.0</td>\n      <td>0.000000</td>\n      <td>0.0</td>\n      <td>0.0</td>\n      <td>0.0</td>\n      <td>0.000000</td>\n      <td>0.00000</td>\n      <td>0.0</td>\n      <td>CD</td>\n      <td>CD</td>\n    </tr>\n    <tr>\n      <th>PSMA264U</th>\n      <td>0.5</td>\n      <td>1.166667</td>\n      <td>1.400000</td>\n      <td>0.500000</td>\n      <td>0.000000</td>\n      <td>7.500000</td>\n      <td>0.000000</td>\n      <td>0.000000</td>\n      <td>1.0</td>\n      <td>3.000000</td>\n      <td>...</td>\n      <td>0.0</td>\n      <td>4.500000</td>\n      <td>1.0</td>\n      <td>4.0</td>\n      <td>0.0</td>\n      <td>1.333333</td>\n      <td>0.00000</td>\n      <td>63.0</td>\n      <td>UC</td>\n      <td>UC</td>\n    </tr>\n  </tbody>\n</table>\n<p>78 rows × 920 columns</p>\n</div>"
     },
     "execution_count": 12,
     "metadata": {},
     "output_type": "execute_result"
    }
   ],
   "source": [
    "mp = mp.loc[select_sampels_MTX.index,:]\n",
    "# mp = mp.merge(select_sampels, how='inner', left_index=True, right_index=True)\n",
    "# mp = mp.loc[:,mp.columns.str.startswith('s__')]\n",
    "mp[\"diagnosis\"] = select_sampels_MTX.iloc[:,-1]\n",
    "# mp.to_csv(\"~/Desktop/Metaphlan3_to_cox.csv\")\n",
    "mp"
   ],
   "metadata": {
    "collapsed": false,
    "pycharm": {
     "name": "#%%\n"
    }
   }
  },
  {
   "cell_type": "code",
   "execution_count": 13,
   "outputs": [],
   "source": [
    "MTX_X = mp.iloc[:,1:918]\n",
    "MTX_y = mp.iloc[:,-1]\n",
    "\n",
    "#fill NA's\n",
    "MTX_X.fillna(MTX_X.median(), inplace=True)\n",
    "MTX_X = StandardScaler().fit_transform(MTX_X)\n",
    "\n",
    "from sklearn.model_selection import train_test_split\n",
    "X_train, X_test, y_train, y_test = train_test_split(MTX_X, MTX_y, test_size=0.40, random_state=42)"
   ],
   "metadata": {
    "collapsed": false,
    "pycharm": {
     "name": "#%%\n"
    }
   }
  },
  {
   "cell_type": "code",
   "execution_count": 17,
   "outputs": [
    {
     "name": "stdout",
     "output_type": "stream",
     "text": [
      "Best Model:\n",
      "RandomForestClassifier(max_features=4, min_samples_split=5, random_state=100)\n"
     ]
    },
    {
     "data": {
      "text/plain": "<AxesSubplot:>"
     },
     "execution_count": 17,
     "metadata": {},
     "output_type": "execute_result"
    },
    {
     "data": {
      "text/plain": "<Figure size 432x288 with 2 Axes>",
      "image/png": "[encoded data removed]"
     },
     "metadata": {},
     "output_type": "display_data"
    }
   ],
   "source": [
    "n_estimators_RF = [50, 100, 250, 500, 1000]\n",
    "max_features_RF = [2,4,8,16,32,None]\n",
    "parameters_RF = {'n_estimators': n_estimators_RF,\n",
    "                'max_features': max_features_RF}\n",
    "\n",
    "RF_model = RandomForestClassifier(max_depth=None,\n",
    "                                  min_samples_split=5, random_state=100)\n",
    "RF_clf = GridSearchCV(RF_model, parameters_RF, cv=5, scoring= 'accuracy') #completeness_score')\n",
    "\n",
    "RF_clf.fit(X_train, y_train)\n",
    "\n",
    "print(\"Best Model:\")\n",
    "RF_model = RF_clf.best_estimator_\n",
    "print(RF_model)\n",
    "\n",
    "RF_predictions = RF_model.predict(X_test)\n",
    "\n",
    "# creating a confusion matrix\n",
    "cm_RF = confusion_matrix(y_test, RF_predictions)\n",
    "cm_RF\n",
    "sns.heatmap(cm_RF, cmap=\"YlGnBu\", annot=True)"
   ],
   "metadata": {
    "collapsed": false,
    "pycharm": {
     "name": "#%%\n"
    }
   }
  },
  {
   "cell_type": "code",
   "execution_count": 18,
   "outputs": [
    {
     "data": {
      "text/plain": "<AxesSubplot:xlabel='diagnosis', ylabel='row_0'>"
     },
     "execution_count": 18,
     "metadata": {},
     "output_type": "execute_result"
    },
    {
     "data": {
      "text/plain": "<Figure size 432x288 with 2 Axes>",
      "image/png": "[encoded data removed]"
     },
     "metadata": {},
     "output_type": "display_data"
    }
   ],
   "source": [
    "mod2 = RandomForestClassifier()\n",
    "\n",
    "mod2.fit(X_train,y_train)\n",
    "\n",
    "pred2 = mod2.predict(X_test)\n",
    "cm_RF_ = pd.crosstab(pred2, y_test)\n",
    "\n",
    "sns.heatmap(cm_RF_, cmap=\"YlGnBu\", annot=True)"
   ],
   "metadata": {
    "collapsed": false,
    "pycharm": {
     "name": "#%%\n"
    }
   }
  },
  {
   "cell_type": "code",
   "execution_count": 19,
   "outputs": [
    {
     "name": "stdout",
     "output_type": "stream",
     "text": [
      "Accuracy 0.53125\n"
     ]
    }
   ],
   "source": [
    "from sklearn import metrics\n",
    "print(\"Accuracy\", metrics.accuracy_score(y_test, RF_predictions))"
   ],
   "metadata": {
    "collapsed": false,
    "pycharm": {
     "name": "#%%\n"
    }
   }
  },
  {
   "cell_type": "code",
   "execution_count": null,
   "outputs": [],
   "source": [],
   "metadata": {
    "collapsed": false,
    "pycharm": {
     "name": "#%%\n"
    }
   }
  }
 ],
 "metadata": {
  "kernelspec": {
   "display_name": "Python 3",
   "language": "python",
   "name": "python3"
  },
  "language_info": {
   "codemirror_mode": {
    "name": "ipython",
    "version": 2
   },
   "file_extension": ".py",
   "mimetype": "text/x-python",
   "name": "python",
   "nbconvert_exporter": "python",
   "pygments_lexer": "ipython2",
   "version": "2.7.6"
  }
 },
 "nbformat": 4,
 "nbformat_minor": 0
}