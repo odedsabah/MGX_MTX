{
 "cells": [
  {
   "cell_type": "code",
   "execution_count": 1,
   "metadata": {
    "collapsed": true,
    "pycharm": {
     "name": "#%%\n"
    }
   },
   "outputs": [],
   "source": [
    "import pandas as pd\n",
    "import seaborn as sns\n",
    "import numpy as np\n",
    "\n",
    "import matplotlib.pyplot as plt\n",
    "from sklearn.model_selection import GridSearchCV\n",
    "from sklearn.neighbors import KNeighborsClassifier\n",
    "from sklearn.neighbors import RadiusNeighborsClassifier\n",
    "from sklearn.linear_model import LogisticRegression\n",
    "from sklearn.tree import DecisionTreeClassifier\n",
    "from sklearn.linear_model import LogisticRegressionCV\n",
    "from sklearn.ensemble import RandomForestClassifier\n",
    "from sklearn.neural_network import MLPClassifier\n",
    "\n",
    "from sklearn.preprocessing import StandardScaler\n",
    "from sklearn.metrics import confusion_matrix\n",
    "from sklearn.ensemble import RandomForestClassifier\n",
    "from sklearn.preprocessing import label_binarize\n",
    "import sweetviz as sv\n",
    "from pandas_profiling import ProfileReport"
   ]
  },
  {
   "cell_type": "code",
   "execution_count": 23,
   "outputs": [],
   "source": [
    "mp = pd.read_csv('~/Desktop/To_prediction/Metaphlan4_all_pheno.csv').rename(columns={'Unnamed: 0' : 'External ID'})\n",
    "mp = mp.set_index('External ID')\n",
    "mp"
   ],
   "metadata": {
    "collapsed": false,
    "pycharm": {
     "name": "#%%\n"
    }
   }
  },
  {
   "cell_type": "code",
   "execution_count": null,
   "outputs": [],
   "source": [
    "for column in mp.columns:\n",
    "    # print(column)\n",
    "    sns.scatterplot(data=mp[column])\n",
    "    plt.show()"
   ],
   "metadata": {
    "collapsed": false,
    "pycharm": {
     "name": "#%%\n",
     "is_executing": true
    }
   }
  },
  {
   "cell_type": "code",
   "execution_count": 3,
   "outputs": [],
   "source": [
    "select_sampels = pd.read_csv('~/Desktop/selected_samples_MGX.csv')\n",
    "select_sampels = select_sampels.set_index('External ID')\n",
    "select_sampels.drop(\"Participant ID\", inplace=True, axis=1)"
   ],
   "metadata": {
    "collapsed": false,
    "pycharm": {
     "name": "#%%\n"
    }
   }
  },
  {
   "cell_type": "code",
   "execution_count": 4,
   "outputs": [
    {
     "data": {
      "text/plain": "             s__Phocaeicola_vulgatus  s__Eubacterium_rectale  \\\nExternal ID                                                    \nCSM67UA2                    36.02530                 1.45700   \nCSM5MCVN                    51.31297                 0.95498   \nCSM67UBZ                     0.00313                 1.29919   \nCSM5MCXL                    32.29455                 3.46622   \nCSM5MCY8                    40.22876                 0.56787   \n...                              ...                     ...   \nPSM7J19N                     5.47393                 1.38623   \nPSM6XBW3                    10.50664                 0.27922   \nPSM7J12J                     0.00515                 1.51739   \nPSM7J1BX                    11.31998                10.34149   \nPSMA264O                     8.33563                 0.19689   \n\n             s__Dialister_invisus  s__Roseburia_faecis  \\\nExternal ID                                              \nCSM67UA2                  1.91898              1.34449   \nCSM5MCVN                  1.54371              0.04588   \nCSM67UBZ                  1.03434              2.82078   \nCSM5MCXL                  2.09791              9.10884   \nCSM5MCY8                  0.15291              0.04742   \n...                           ...                  ...   \nPSM7J19N                  1.06951              0.02240   \nPSM6XBW3                  0.37723              0.32395   \nPSM7J12J                  2.24522              1.38714   \nPSM7J1BX                  0.39172              1.97898   \nPSMA264O                  0.79575              2.98076   \n\n             s__Roseburia_inulinivorans  s__Faecalibacterium_prausnitzii  \\\nExternal ID                                                                \nCSM67UA2                        0.03810                          0.90627   \nCSM5MCVN                        0.18414                          1.99150   \nCSM67UBZ                        0.00694                         10.84042   \nCSM5MCXL                        0.71850                          2.63304   \nCSM5MCY8                        0.30914                          2.20589   \n...                                 ...                              ...   \nPSM7J19N                        0.60937                          4.65083   \nPSM6XBW3                        0.08358                          3.69814   \nPSM7J12J                        0.20735                          4.37121   \nPSM7J1BX                        0.01503                          9.45264   \nPSMA264O                        0.95547                         13.34191   \n\n             s__Bacteroides_xylanisolvens  s__Firmicutes_bacterium_AF16_15  \\\nExternal ID                                                                  \nCSM67UA2                         19.83516                          0.28439   \nCSM5MCVN                          7.95270                          0.01466   \nCSM67UBZ                          1.39625                          0.00558   \nCSM5MCXL                          0.00904                          0.55343   \nCSM5MCY8                          0.01291                          0.15447   \n...                                   ...                              ...   \nPSM7J19N                          2.58785                          0.71590   \nPSM6XBW3                          0.32749                          0.19103   \nPSM7J12J                          1.14150                          0.01921   \nPSM7J1BX                          0.02448                          0.09630   \nPSMA264O                          0.12200                          0.05702   \n\n             s__Bacteroides_uniformis  s__Ruminococcus_bromii  ...  \\\nExternal ID                                                    ...   \nCSM67UA2                     17.15467                 0.03724  ...   \nCSM5MCVN                     18.67487                 0.34879  ...   \nCSM67UBZ                     16.65207                 1.02143  ...   \nCSM5MCXL                     12.83634                 0.12034  ...   \nCSM5MCY8                      8.33000                 0.22200  ...   \n...                               ...                     ...  ...   \nPSM7J19N                      4.14365                 0.16762  ...   \nPSM6XBW3                      1.19686                 0.13442  ...   \nPSM7J12J                      7.01159                 0.22608  ...   \nPSM7J1BX                      4.53008                 1.02152  ...   \nPSMA264O                      1.27741                 1.09056  ...   \n\n             s__GGB3632_SGB4921  s__GGB4710_SGB6522  s__GGB4706_SGB6513  \\\nExternal ID                                                               \nCSM67UA2                0.00000             0.00000             0.00000   \nCSM5MCVN                0.00000             0.00000             0.00000   \nCSM67UBZ                0.00000             0.00000             0.00000   \nCSM5MCXL                0.00000             0.00000             0.00000   \nCSM5MCY8                0.00000             0.00000             0.00000   \n...                         ...                 ...                 ...   \nPSM7J19N                0.05911             0.18696             0.23143   \nPSM6XBW3                0.05911             0.18696             0.23143   \nPSM7J12J                0.00000             0.00000             0.00000   \nPSM7J1BX                0.00000             0.00000             0.00000   \nPSMA264O                0.00000             0.00000             0.00000   \n\n             s__GGB3643_SGB4948  s__Sanguibacteroides_SGB1777  \\\nExternal ID                                                     \nCSM67UA2                0.00000                       0.00000   \nCSM5MCVN                0.00000                       0.00000   \nCSM67UBZ                0.00000                       0.00000   \nCSM5MCXL                0.00000                       0.00000   \nCSM5MCY8                0.00000                       0.00000   \n...                         ...                           ...   \nPSM7J19N                0.01579                       0.00464   \nPSM6XBW3                0.01579                       0.00464   \nPSM7J12J                0.00000                       0.00000   \nPSM7J1BX                0.00000                       0.00000   \nPSMA264O                0.00000                       0.00000   \n\n             s__GGB3632_SGB4920  s__Lachnospiraceae_bacterium_NSJ_46  \\\nExternal ID                                                            \nCSM67UA2                0.00000                              0.00000   \nCSM5MCVN                0.00000                              0.00000   \nCSM67UBZ                0.00000                              0.00000   \nCSM5MCXL                0.00000                              0.00000   \nCSM5MCY8                0.00000                              0.00000   \n...                         ...                                  ...   \nPSM7J19N                0.04352                              0.01596   \nPSM6XBW3                0.04352                              0.01596   \nPSM7J12J                0.00000                              0.00000   \nPSM7J1BX                0.00000                              0.00000   \nPSMA264O                0.00000                              0.00000   \n\n             s__Prevotella_sp_DNF00663  s__Collinsella_SGB14747  diagnosis  \nExternal ID                                                                 \nCSM67UA2                       0.00000                  0.00000         CD  \nCSM5MCVN                       0.00000                  0.00000         CD  \nCSM67UBZ                       0.00000                  0.00000         UC  \nCSM5MCXL                       0.00000                  0.00000         UC  \nCSM5MCY8                       0.00000                  0.00000         UC  \n...                                ...                      ...        ...  \nPSM7J19N                       0.02668                  0.01905     nonIBD  \nPSM6XBW3                       0.02668                  0.01905     nonIBD  \nPSM7J12J                       0.00000                  0.00000         CD  \nPSM7J1BX                       0.00000                  0.00000         UC  \nPSMA264O                       0.00000                  0.00000         UC  \n\n[83 rows x 1097 columns]",
      "text/html": "<div>\n<style scoped>\n    .dataframe tbody tr th:only-of-type {\n        vertical-align: middle;\n    }\n\n    .dataframe tbody tr th {\n        vertical-align: top;\n    }\n\n    .dataframe thead th {\n        text-align: right;\n    }\n</style>\n<table border=\"1\" class=\"dataframe\">\n  <thead>\n    <tr style=\"text-align: right;\">\n      <th></th>\n      <th>s__Phocaeicola_vulgatus</th>\n      <th>s__Eubacterium_rectale</th>\n      <th>s__Dialister_invisus</th>\n      <th>s__Roseburia_faecis</th>\n      <th>s__Roseburia_inulinivorans</th>\n      <th>s__Faecalibacterium_prausnitzii</th>\n      <th>s__Bacteroides_xylanisolvens</th>\n      <th>s__Firmicutes_bacterium_AF16_15</th>\n      <th>s__Bacteroides_uniformis</th>\n      <th>s__Ruminococcus_bromii</th>\n      <th>...</th>\n      <th>s__GGB3632_SGB4921</th>\n      <th>s__GGB4710_SGB6522</th>\n      <th>s__GGB4706_SGB6513</th>\n      <th>s__GGB3643_SGB4948</th>\n      <th>s__Sanguibacteroides_SGB1777</th>\n      <th>s__GGB3632_SGB4920</th>\n      <th>s__Lachnospiraceae_bacterium_NSJ_46</th>\n      <th>s__Prevotella_sp_DNF00663</th>\n      <th>s__Collinsella_SGB14747</th>\n      <th>diagnosis</th>\n    </tr>\n    <tr>\n      <th>External ID</th>\n      <th></th>\n      <th></th>\n      <th></th>\n      <th></th>\n      <th></th>\n      <th></th>\n      <th></th>\n      <th></th>\n      <th></th>\n      <th></th>\n      <th></th>\n      <th></th>\n      <th></th>\n      <th></th>\n      <th></th>\n      <th></th>\n      <th></th>\n      <th></th>\n      <th></th>\n      <th></th>\n      <th></th>\n    </tr>\n  </thead>\n  <tbody>\n    <tr>\n      <th>CSM67UA2</th>\n      <td>36.02530</td>\n      <td>1.45700</td>\n      <td>1.91898</td>\n      <td>1.34449</td>\n      <td>0.03810</td>\n      <td>0.90627</td>\n      <td>19.83516</td>\n      <td>0.28439</td>\n      <td>17.15467</td>\n      <td>0.03724</td>\n      <td>...</td>\n      <td>0.00000</td>\n      <td>0.00000</td>\n      <td>0.00000</td>\n      <td>0.00000</td>\n      <td>0.00000</td>\n      <td>0.00000</td>\n      <td>0.00000</td>\n      <td>0.00000</td>\n      <td>0.00000</td>\n      <td>CD</td>\n    </tr>\n    <tr>\n      <th>CSM5MCVN</th>\n      <td>51.31297</td>\n      <td>0.95498</td>\n      <td>1.54371</td>\n      <td>0.04588</td>\n      <td>0.18414</td>\n      <td>1.99150</td>\n      <td>7.95270</td>\n      <td>0.01466</td>\n      <td>18.67487</td>\n      <td>0.34879</td>\n      <td>...</td>\n      <td>0.00000</td>\n      <td>0.00000</td>\n      <td>0.00000</td>\n      <td>0.00000</td>\n      <td>0.00000</td>\n      <td>0.00000</td>\n      <td>0.00000</td>\n      <td>0.00000</td>\n      <td>0.00000</td>\n      <td>CD</td>\n    </tr>\n    <tr>\n      <th>CSM67UBZ</th>\n      <td>0.00313</td>\n      <td>1.29919</td>\n      <td>1.03434</td>\n      <td>2.82078</td>\n      <td>0.00694</td>\n      <td>10.84042</td>\n      <td>1.39625</td>\n      <td>0.00558</td>\n      <td>16.65207</td>\n      <td>1.02143</td>\n      <td>...</td>\n      <td>0.00000</td>\n      <td>0.00000</td>\n      <td>0.00000</td>\n      <td>0.00000</td>\n      <td>0.00000</td>\n      <td>0.00000</td>\n      <td>0.00000</td>\n      <td>0.00000</td>\n      <td>0.00000</td>\n      <td>UC</td>\n    </tr>\n    <tr>\n      <th>CSM5MCXL</th>\n      <td>32.29455</td>\n      <td>3.46622</td>\n      <td>2.09791</td>\n      <td>9.10884</td>\n      <td>0.71850</td>\n      <td>2.63304</td>\n      <td>0.00904</td>\n      <td>0.55343</td>\n      <td>12.83634</td>\n      <td>0.12034</td>\n      <td>...</td>\n      <td>0.00000</td>\n      <td>0.00000</td>\n      <td>0.00000</td>\n      <td>0.00000</td>\n      <td>0.00000</td>\n      <td>0.00000</td>\n      <td>0.00000</td>\n      <td>0.00000</td>\n      <td>0.00000</td>\n      <td>UC</td>\n    </tr>\n    <tr>\n      <th>CSM5MCY8</th>\n      <td>40.22876</td>\n      <td>0.56787</td>\n      <td>0.15291</td>\n      <td>0.04742</td>\n      <td>0.30914</td>\n      <td>2.20589</td>\n      <td>0.01291</td>\n      <td>0.15447</td>\n      <td>8.33000</td>\n      <td>0.22200</td>\n      <td>...</td>\n      <td>0.00000</td>\n      <td>0.00000</td>\n      <td>0.00000</td>\n      <td>0.00000</td>\n      <td>0.00000</td>\n      <td>0.00000</td>\n      <td>0.00000</td>\n      <td>0.00000</td>\n      <td>0.00000</td>\n      <td>UC</td>\n    </tr>\n    <tr>\n      <th>...</th>\n      <td>...</td>\n      <td>...</td>\n      <td>...</td>\n      <td>...</td>\n      <td>...</td>\n      <td>...</td>\n      <td>...</td>\n      <td>...</td>\n      <td>...</td>\n      <td>...</td>\n      <td>...</td>\n      <td>...</td>\n      <td>...</td>\n      <td>...</td>\n      <td>...</td>\n      <td>...</td>\n      <td>...</td>\n      <td>...</td>\n      <td>...</td>\n      <td>...</td>\n      <td>...</td>\n    </tr>\n    <tr>\n      <th>PSM7J19N</th>\n      <td>5.47393</td>\n      <td>1.38623</td>\n      <td>1.06951</td>\n      <td>0.02240</td>\n      <td>0.60937</td>\n      <td>4.65083</td>\n      <td>2.58785</td>\n      <td>0.71590</td>\n      <td>4.14365</td>\n      <td>0.16762</td>\n      <td>...</td>\n      <td>0.05911</td>\n      <td>0.18696</td>\n      <td>0.23143</td>\n      <td>0.01579</td>\n      <td>0.00464</td>\n      <td>0.04352</td>\n      <td>0.01596</td>\n      <td>0.02668</td>\n      <td>0.01905</td>\n      <td>nonIBD</td>\n    </tr>\n    <tr>\n      <th>PSM6XBW3</th>\n      <td>10.50664</td>\n      <td>0.27922</td>\n      <td>0.37723</td>\n      <td>0.32395</td>\n      <td>0.08358</td>\n      <td>3.69814</td>\n      <td>0.32749</td>\n      <td>0.19103</td>\n      <td>1.19686</td>\n      <td>0.13442</td>\n      <td>...</td>\n      <td>0.05911</td>\n      <td>0.18696</td>\n      <td>0.23143</td>\n      <td>0.01579</td>\n      <td>0.00464</td>\n      <td>0.04352</td>\n      <td>0.01596</td>\n      <td>0.02668</td>\n      <td>0.01905</td>\n      <td>nonIBD</td>\n    </tr>\n    <tr>\n      <th>PSM7J12J</th>\n      <td>0.00515</td>\n      <td>1.51739</td>\n      <td>2.24522</td>\n      <td>1.38714</td>\n      <td>0.20735</td>\n      <td>4.37121</td>\n      <td>1.14150</td>\n      <td>0.01921</td>\n      <td>7.01159</td>\n      <td>0.22608</td>\n      <td>...</td>\n      <td>0.00000</td>\n      <td>0.00000</td>\n      <td>0.00000</td>\n      <td>0.00000</td>\n      <td>0.00000</td>\n      <td>0.00000</td>\n      <td>0.00000</td>\n      <td>0.00000</td>\n      <td>0.00000</td>\n      <td>CD</td>\n    </tr>\n    <tr>\n      <th>PSM7J1BX</th>\n      <td>11.31998</td>\n      <td>10.34149</td>\n      <td>0.39172</td>\n      <td>1.97898</td>\n      <td>0.01503</td>\n      <td>9.45264</td>\n      <td>0.02448</td>\n      <td>0.09630</td>\n      <td>4.53008</td>\n      <td>1.02152</td>\n      <td>...</td>\n      <td>0.00000</td>\n      <td>0.00000</td>\n      <td>0.00000</td>\n      <td>0.00000</td>\n      <td>0.00000</td>\n      <td>0.00000</td>\n      <td>0.00000</td>\n      <td>0.00000</td>\n      <td>0.00000</td>\n      <td>UC</td>\n    </tr>\n    <tr>\n      <th>PSMA264O</th>\n      <td>8.33563</td>\n      <td>0.19689</td>\n      <td>0.79575</td>\n      <td>2.98076</td>\n      <td>0.95547</td>\n      <td>13.34191</td>\n      <td>0.12200</td>\n      <td>0.05702</td>\n      <td>1.27741</td>\n      <td>1.09056</td>\n      <td>...</td>\n      <td>0.00000</td>\n      <td>0.00000</td>\n      <td>0.00000</td>\n      <td>0.00000</td>\n      <td>0.00000</td>\n      <td>0.00000</td>\n      <td>0.00000</td>\n      <td>0.00000</td>\n      <td>0.00000</td>\n      <td>UC</td>\n    </tr>\n  </tbody>\n</table>\n<p>83 rows × 1097 columns</p>\n</div>"
     },
     "execution_count": 4,
     "metadata": {},
     "output_type": "execute_result"
    }
   ],
   "source": [
    "mp = mp.loc[select_sampels.index,:]\n",
    "mp = mp.loc[:,mp.columns.str.startswith('s__')]\n",
    "mp[\"diagnosis\"] = select_sampels.iloc[:,-1]\n",
    "mp"
   ],
   "metadata": {
    "collapsed": false,
    "pycharm": {
     "name": "#%%\n"
    }
   }
  },
  {
   "cell_type": "code",
   "execution_count": 14,
   "outputs": [],
   "source": [
    "MTX_X = mp.iloc[:,1:1096]\n",
    "MTX_y = select_sampels.iloc[:,-1]\n",
    "\n",
    "#fill NA's\n",
    "MTX_X.fillna(MTX_X.median(), inplace=True)\n",
    "MTX_X = StandardScaler().fit_transform(MTX_X)\n",
    "\n",
    "from sklearn.model_selection import train_test_split\n",
    "X_train, X_test, y_train, y_test = train_test_split(MTX_X, MTX_y, test_size=0.30, random_state=0)\n",
    "# y = label_binarize(y_train, classes=[0, 1, 2])\n",
    "# n_classes = y.shape[1]"
   ],
   "metadata": {
    "collapsed": false,
    "pycharm": {
     "name": "#%%\n"
    }
   }
  },
  {
   "cell_type": "code",
   "execution_count": 22,
   "outputs": [
    {
     "name": "stdout",
     "output_type": "stream",
     "text": [
      "Best Model:\n",
      "RandomForestClassifier(max_features=2, min_samples_split=5, random_state=0)\n"
     ]
    },
    {
     "data": {
      "text/plain": "<AxesSubplot:>"
     },
     "execution_count": 22,
     "metadata": {},
     "output_type": "execute_result"
    },
    {
     "data": {
      "text/plain": "<Figure size 432x288 with 2 Axes>",
      "image/png": "[encoded data removed]"
     },
     "metadata": {},
     "output_type": "display_data"
    }
   ],
   "source": [
    "n_estimators_RF = [5, 10, 25, 50, 100]\n",
    "max_features_RF = [2,4,8,16,32,None]\n",
    "parameters_RF = {'n_estimators': n_estimators_RF,\n",
    "                'max_features': max_features_RF}\n",
    "\n",
    "RF_model = RandomForestClassifier(max_depth=None,\n",
    "                                  min_samples_split=5, random_state=0)\n",
    "RF_clf = GridSearchCV(RF_model, parameters_RF, cv=5, scoring= 'accuracy') #completeness_score')\n",
    "\n",
    "RF_clf.fit(X_train, y_train)\n",
    "\n",
    "print(\"Best Model:\")\n",
    "RF_model = RF_clf.best_estimator_\n",
    "print(RF_model)\n",
    "\n",
    "RF_predictions = RF_model.predict(X_test)\n",
    "\n",
    "# creating a confusion matrix\n",
    "labels = np.unique(y_test)\n",
    "cm_RF = confusion_matrix(y_test, RF_predictions,labels=labels)\n",
    "cm_RF = pd.DataFrame(cm_RF, index=labels, columns=labels)\n",
    "sns.heatmap(cm_RF, cmap=\"YlGnBu\", annot=True)"
   ],
   "metadata": {
    "collapsed": false,
    "pycharm": {
     "name": "#%%\n"
    }
   }
  },
  {
   "cell_type": "code",
   "execution_count": 19,
   "outputs": [
    {
     "name": "stdout",
     "output_type": "stream",
     "text": [
      "Accuracy 96.0%\n"
     ]
    }
   ],
   "source": [
    "from sklearn import metrics\n",
    "print(f'Accuracy {round(metrics.accuracy_score(y_test, RF_predictions)*100,2)}%')"
   ],
   "metadata": {
    "collapsed": false,
    "pycharm": {
     "name": "#%%\n"
    }
   }
  }
 ],
 "metadata": {
  "kernelspec": {
   "display_name": "Python 3",
   "language": "python",
   "name": "python3"
  },
  "language_info": {
   "codemirror_mode": {
    "name": "ipython",
    "version": 2
   },
   "file_extension": ".py",
   "mimetype": "text/x-python",
   "name": "python",
   "nbconvert_exporter": "python",
   "pygments_lexer": "ipython2",
   "version": "2.7.6"
  }
 },
 "nbformat": 4,
 "nbformat_minor": 0
}