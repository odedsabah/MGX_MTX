{
 "cells": [
  {
   "cell_type": "code",
   "execution_count": 2,
   "metadata": {
    "collapsed": true,
    "pycharm": {
     "name": "#%%\n"
    }
   },
   "outputs": [],
   "source": [
    "import pandas as pd\n",
    "import seaborn as sns\n",
    "import numpy as np\n",
    "\n",
    "import matplotlib.pyplot as plt\n",
    "from sklearn.model_selection import GridSearchCV\n",
    "from sklearn.neighbors import KNeighborsClassifier\n",
    "from sklearn.neighbors import RadiusNeighborsClassifier\n",
    "from sklearn.linear_model import LogisticRegression\n",
    "from sklearn.tree import DecisionTreeClassifier\n",
    "from sklearn.linear_model import LogisticRegressionCV\n",
    "from sklearn.ensemble import RandomForestClassifier\n",
    "from sklearn.neural_network import MLPClassifier\n",
    "\n",
    "from sklearn.preprocessing import StandardScaler\n",
    "from sklearn.metrics import confusion_matrix\n",
    "from sklearn.ensemble import RandomForestClassifier\n",
    "from sklearn.preprocessing import label_binarize\n",
    "import sweetviz as sv\n",
    "import math\n",
    "from pandas_profiling import ProfileReport"
   ]
  },
  {
   "cell_type": "code",
   "execution_count": 201,
   "outputs": [
    {
     "data": {
      "text/plain": "             s__Phocaeicola_vulgatus  s__Eubacterium_rectale  \\\nExternal ID                                                    \nPSM7J14T                    15.31536                13.94141   \nCSM79HOL                    24.17052                 2.73550   \nCSM67U9D                    13.61937                 6.21772   \nMSM6J2MF                     0.00661                25.14628   \nHSM7J4N4                    12.53121                 0.07016   \n...                              ...                     ...   \nMSMA26BL                     7.85503                 3.04011   \nMSM79H9A                     1.31148                 0.39673   \nHSM7J4KK                    14.84775                 4.11094   \nMSM79HC4                     7.12941                 1.28025   \nHSM7J4G1                     0.09671                 7.00211   \n\n             s__Dialister_invisus  s__Roseburia_faecis  \\\nExternal ID                                              \nPSM7J14T                 10.69556              7.68462   \nCSM79HOL                 10.69556              3.82165   \nCSM67U9D                 10.69556              3.12140   \nMSM6J2MF                  0.45208              5.96816   \nHSM7J4N4                  0.45208              5.96816   \n...                           ...                  ...   \nMSMA26BL                  0.17321              0.33367   \nMSM79H9A                  0.17321              0.01473   \nHSM7J4KK                  0.17321              0.01473   \nMSM79HC4                  0.17321             20.78971   \nHSM7J4G1                  0.06266              0.10279   \n\n             s__Roseburia_inulinivorans  s__Faecalibacterium_prausnitzii  \\\nExternal ID                                                                \nPSM7J14T                        5.73822                          5.27124   \nCSM79HOL                        0.34793                          9.61561   \nCSM67U9D                        0.33679                         14.35164   \nMSM6J2MF                        1.09833                          9.39927   \nHSM7J4N4                        1.09833                          5.16674   \n...                                 ...                              ...   \nMSMA26BL                        0.34869                         14.87397   \nMSM79H9A                        0.34869                          0.19539   \nHSM7J4KK                        0.34869                          2.96621   \nMSM79HC4                        0.39784                         18.03702   \nHSM7J4G1                        0.14057                          2.26761   \n\n             s__Bacteroides_xylanisolvens  s__Firmicutes_bacterium_AF16_15  \\\nExternal ID                                                                  \nPSM7J14T                          2.86237                          2.64634   \nCSM79HOL                          2.86237                          0.32024   \nCSM67U9D                          0.00784                          0.51562   \nMSM6J2MF                          0.00784                          0.51562   \nHSM7J4N4                          1.39312                          0.44382   \n...                                   ...                              ...   \nMSMA26BL                          2.93778                          0.03789   \nMSM79H9A                          2.93778                          0.00492   \nHSM7J4KK                          0.26412                          0.16380   \nMSM79HC4                          0.79106                          1.36534   \nHSM7J4G1                          0.97850                          0.21606   \n\n             s__Bacteroides_uniformis  s__Ruminococcus_bromii  ...  \\\nExternal ID                                                    ...   \nPSM7J14T                      2.43370                 2.42332  ...   \nCSM79HOL                     15.73039                 2.42332  ...   \nCSM67U9D                     14.54934                 2.72283  ...   \nMSM6J2MF                      0.00027                 2.72283  ...   \nHSM7J4N4                      3.51972                 2.72283  ...   \n...                               ...                     ...  ...   \nMSMA26BL                      5.05285                 0.64399  ...   \nMSM79H9A                     10.47847                 8.31700  ...   \nHSM7J4KK                      1.18948                 8.31700  ...   \nMSM79HC4                      1.90996                 8.31700  ...   \nHSM7J4G1                      1.16375                 0.12676  ...   \n\n             s__GGB4700_SGB6506  s__GGB3632_SGB4921  s__GGB4710_SGB6522  \\\nExternal ID                                                               \nPSM7J14T                0.00000             0.00000             0.00000   \nCSM79HOL                0.00000             0.00000             0.00000   \nCSM67U9D                0.00000             0.00000             0.00000   \nMSM6J2MF                0.00000             0.00000             0.00000   \nHSM7J4N4                0.00000             0.00000             0.00000   \n...                         ...                 ...                 ...   \nMSMA26BL                0.05404             0.05911             0.18696   \nMSM79H9A                0.05404             0.05911             0.18696   \nHSM7J4KK                0.05404             0.05911             0.18696   \nMSM79HC4                0.05404             0.05911             0.18696   \nHSM7J4G1                0.05404             0.05911             0.18696   \n\n             s__GGB4706_SGB6513  s__GGB3643_SGB4948  \\\nExternal ID                                           \nPSM7J14T                0.00000             0.00000   \nCSM79HOL                0.00000             0.00000   \nCSM67U9D                0.00000             0.00000   \nMSM6J2MF                0.00000             0.00000   \nHSM7J4N4                0.00000             0.00000   \n...                         ...                 ...   \nMSMA26BL                0.23143             0.01579   \nMSM79H9A                0.23143             0.01579   \nHSM7J4KK                0.23143             0.01579   \nMSM79HC4                0.23143             0.01579   \nHSM7J4G1                0.23143             0.01579   \n\n             s__Sanguibacteroides_SGB1777  s__GGB3632_SGB4920  \\\nExternal ID                                                     \nPSM7J14T                          0.00000             0.00000   \nCSM79HOL                          0.00000             0.00000   \nCSM67U9D                          0.00000             0.00000   \nMSM6J2MF                          0.00000             0.00000   \nHSM7J4N4                          0.00000             0.00000   \n...                                   ...                 ...   \nMSMA26BL                          0.00464             0.04352   \nMSM79H9A                          0.00464             0.04352   \nHSM7J4KK                          0.00464             0.04352   \nMSM79HC4                          0.00464             0.04352   \nHSM7J4G1                          0.00464             0.04352   \n\n             s__Lachnospiraceae_bacterium_NSJ_46  s__Prevotella_sp_DNF00663  \\\nExternal ID                                                                   \nPSM7J14T                                 0.00000                    0.00000   \nCSM79HOL                                 0.00000                    0.00000   \nCSM67U9D                                 0.00000                    0.00000   \nMSM6J2MF                                 0.00000                    0.00000   \nHSM7J4N4                                 0.00000                    0.00000   \n...                                          ...                        ...   \nMSMA26BL                                 0.01596                    0.02668   \nMSM79H9A                                 0.01596                    0.02668   \nHSM7J4KK                                 0.01596                    0.02668   \nMSM79HC4                                 0.01596                    0.02668   \nHSM7J4G1                                 0.01596                    0.02668   \n\n             s__Collinsella_SGB14747  \nExternal ID                           \nPSM7J14T                     0.00000  \nCSM79HOL                     0.00000  \nCSM67U9D                     0.00000  \nMSM6J2MF                     0.00000  \nHSM7J4N4                     0.00000  \n...                              ...  \nMSMA26BL                     0.01905  \nMSM79H9A                     0.01905  \nHSM7J4KK                     0.01905  \nMSM79HC4                     0.01905  \nHSM7J4G1                     0.01905  \n\n[1338 rows x 1096 columns]",
      "text/html": "<div>\n<style scoped>\n    .dataframe tbody tr th:only-of-type {\n        vertical-align: middle;\n    }\n\n    .dataframe tbody tr th {\n        vertical-align: top;\n    }\n\n    .dataframe thead th {\n        text-align: right;\n    }\n</style>\n<table border=\"1\" class=\"dataframe\">\n  <thead>\n    <tr style=\"text-align: right;\">\n      <th></th>\n      <th>s__Phocaeicola_vulgatus</th>\n      <th>s__Eubacterium_rectale</th>\n      <th>s__Dialister_invisus</th>\n      <th>s__Roseburia_faecis</th>\n      <th>s__Roseburia_inulinivorans</th>\n      <th>s__Faecalibacterium_prausnitzii</th>\n      <th>s__Bacteroides_xylanisolvens</th>\n      <th>s__Firmicutes_bacterium_AF16_15</th>\n      <th>s__Bacteroides_uniformis</th>\n      <th>s__Ruminococcus_bromii</th>\n      <th>...</th>\n      <th>s__GGB4700_SGB6506</th>\n      <th>s__GGB3632_SGB4921</th>\n      <th>s__GGB4710_SGB6522</th>\n      <th>s__GGB4706_SGB6513</th>\n      <th>s__GGB3643_SGB4948</th>\n      <th>s__Sanguibacteroides_SGB1777</th>\n      <th>s__GGB3632_SGB4920</th>\n      <th>s__Lachnospiraceae_bacterium_NSJ_46</th>\n      <th>s__Prevotella_sp_DNF00663</th>\n      <th>s__Collinsella_SGB14747</th>\n    </tr>\n    <tr>\n      <th>External ID</th>\n      <th></th>\n      <th></th>\n      <th></th>\n      <th></th>\n      <th></th>\n      <th></th>\n      <th></th>\n      <th></th>\n      <th></th>\n      <th></th>\n      <th></th>\n      <th></th>\n      <th></th>\n      <th></th>\n      <th></th>\n      <th></th>\n      <th></th>\n      <th></th>\n      <th></th>\n      <th></th>\n      <th></th>\n    </tr>\n  </thead>\n  <tbody>\n    <tr>\n      <th>PSM7J14T</th>\n      <td>15.31536</td>\n      <td>13.94141</td>\n      <td>10.69556</td>\n      <td>7.68462</td>\n      <td>5.73822</td>\n      <td>5.27124</td>\n      <td>2.86237</td>\n      <td>2.64634</td>\n      <td>2.43370</td>\n      <td>2.42332</td>\n      <td>...</td>\n      <td>0.00000</td>\n      <td>0.00000</td>\n      <td>0.00000</td>\n      <td>0.00000</td>\n      <td>0.00000</td>\n      <td>0.00000</td>\n      <td>0.00000</td>\n      <td>0.00000</td>\n      <td>0.00000</td>\n      <td>0.00000</td>\n    </tr>\n    <tr>\n      <th>CSM79HOL</th>\n      <td>24.17052</td>\n      <td>2.73550</td>\n      <td>10.69556</td>\n      <td>3.82165</td>\n      <td>0.34793</td>\n      <td>9.61561</td>\n      <td>2.86237</td>\n      <td>0.32024</td>\n      <td>15.73039</td>\n      <td>2.42332</td>\n      <td>...</td>\n      <td>0.00000</td>\n      <td>0.00000</td>\n      <td>0.00000</td>\n      <td>0.00000</td>\n      <td>0.00000</td>\n      <td>0.00000</td>\n      <td>0.00000</td>\n      <td>0.00000</td>\n      <td>0.00000</td>\n      <td>0.00000</td>\n    </tr>\n    <tr>\n      <th>CSM67U9D</th>\n      <td>13.61937</td>\n      <td>6.21772</td>\n      <td>10.69556</td>\n      <td>3.12140</td>\n      <td>0.33679</td>\n      <td>14.35164</td>\n      <td>0.00784</td>\n      <td>0.51562</td>\n      <td>14.54934</td>\n      <td>2.72283</td>\n      <td>...</td>\n      <td>0.00000</td>\n      <td>0.00000</td>\n      <td>0.00000</td>\n      <td>0.00000</td>\n      <td>0.00000</td>\n      <td>0.00000</td>\n      <td>0.00000</td>\n      <td>0.00000</td>\n      <td>0.00000</td>\n      <td>0.00000</td>\n    </tr>\n    <tr>\n      <th>MSM6J2MF</th>\n      <td>0.00661</td>\n      <td>25.14628</td>\n      <td>0.45208</td>\n      <td>5.96816</td>\n      <td>1.09833</td>\n      <td>9.39927</td>\n      <td>0.00784</td>\n      <td>0.51562</td>\n      <td>0.00027</td>\n      <td>2.72283</td>\n      <td>...</td>\n      <td>0.00000</td>\n      <td>0.00000</td>\n      <td>0.00000</td>\n      <td>0.00000</td>\n      <td>0.00000</td>\n      <td>0.00000</td>\n      <td>0.00000</td>\n      <td>0.00000</td>\n      <td>0.00000</td>\n      <td>0.00000</td>\n    </tr>\n    <tr>\n      <th>HSM7J4N4</th>\n      <td>12.53121</td>\n      <td>0.07016</td>\n      <td>0.45208</td>\n      <td>5.96816</td>\n      <td>1.09833</td>\n      <td>5.16674</td>\n      <td>1.39312</td>\n      <td>0.44382</td>\n      <td>3.51972</td>\n      <td>2.72283</td>\n      <td>...</td>\n      <td>0.00000</td>\n      <td>0.00000</td>\n      <td>0.00000</td>\n      <td>0.00000</td>\n      <td>0.00000</td>\n      <td>0.00000</td>\n      <td>0.00000</td>\n      <td>0.00000</td>\n      <td>0.00000</td>\n      <td>0.00000</td>\n    </tr>\n    <tr>\n      <th>...</th>\n      <td>...</td>\n      <td>...</td>\n      <td>...</td>\n      <td>...</td>\n      <td>...</td>\n      <td>...</td>\n      <td>...</td>\n      <td>...</td>\n      <td>...</td>\n      <td>...</td>\n      <td>...</td>\n      <td>...</td>\n      <td>...</td>\n      <td>...</td>\n      <td>...</td>\n      <td>...</td>\n      <td>...</td>\n      <td>...</td>\n      <td>...</td>\n      <td>...</td>\n      <td>...</td>\n    </tr>\n    <tr>\n      <th>MSMA26BL</th>\n      <td>7.85503</td>\n      <td>3.04011</td>\n      <td>0.17321</td>\n      <td>0.33367</td>\n      <td>0.34869</td>\n      <td>14.87397</td>\n      <td>2.93778</td>\n      <td>0.03789</td>\n      <td>5.05285</td>\n      <td>0.64399</td>\n      <td>...</td>\n      <td>0.05404</td>\n      <td>0.05911</td>\n      <td>0.18696</td>\n      <td>0.23143</td>\n      <td>0.01579</td>\n      <td>0.00464</td>\n      <td>0.04352</td>\n      <td>0.01596</td>\n      <td>0.02668</td>\n      <td>0.01905</td>\n    </tr>\n    <tr>\n      <th>MSM79H9A</th>\n      <td>1.31148</td>\n      <td>0.39673</td>\n      <td>0.17321</td>\n      <td>0.01473</td>\n      <td>0.34869</td>\n      <td>0.19539</td>\n      <td>2.93778</td>\n      <td>0.00492</td>\n      <td>10.47847</td>\n      <td>8.31700</td>\n      <td>...</td>\n      <td>0.05404</td>\n      <td>0.05911</td>\n      <td>0.18696</td>\n      <td>0.23143</td>\n      <td>0.01579</td>\n      <td>0.00464</td>\n      <td>0.04352</td>\n      <td>0.01596</td>\n      <td>0.02668</td>\n      <td>0.01905</td>\n    </tr>\n    <tr>\n      <th>HSM7J4KK</th>\n      <td>14.84775</td>\n      <td>4.11094</td>\n      <td>0.17321</td>\n      <td>0.01473</td>\n      <td>0.34869</td>\n      <td>2.96621</td>\n      <td>0.26412</td>\n      <td>0.16380</td>\n      <td>1.18948</td>\n      <td>8.31700</td>\n      <td>...</td>\n      <td>0.05404</td>\n      <td>0.05911</td>\n      <td>0.18696</td>\n      <td>0.23143</td>\n      <td>0.01579</td>\n      <td>0.00464</td>\n      <td>0.04352</td>\n      <td>0.01596</td>\n      <td>0.02668</td>\n      <td>0.01905</td>\n    </tr>\n    <tr>\n      <th>MSM79HC4</th>\n      <td>7.12941</td>\n      <td>1.28025</td>\n      <td>0.17321</td>\n      <td>20.78971</td>\n      <td>0.39784</td>\n      <td>18.03702</td>\n      <td>0.79106</td>\n      <td>1.36534</td>\n      <td>1.90996</td>\n      <td>8.31700</td>\n      <td>...</td>\n      <td>0.05404</td>\n      <td>0.05911</td>\n      <td>0.18696</td>\n      <td>0.23143</td>\n      <td>0.01579</td>\n      <td>0.00464</td>\n      <td>0.04352</td>\n      <td>0.01596</td>\n      <td>0.02668</td>\n      <td>0.01905</td>\n    </tr>\n    <tr>\n      <th>HSM7J4G1</th>\n      <td>0.09671</td>\n      <td>7.00211</td>\n      <td>0.06266</td>\n      <td>0.10279</td>\n      <td>0.14057</td>\n      <td>2.26761</td>\n      <td>0.97850</td>\n      <td>0.21606</td>\n      <td>1.16375</td>\n      <td>0.12676</td>\n      <td>...</td>\n      <td>0.05404</td>\n      <td>0.05911</td>\n      <td>0.18696</td>\n      <td>0.23143</td>\n      <td>0.01579</td>\n      <td>0.00464</td>\n      <td>0.04352</td>\n      <td>0.01596</td>\n      <td>0.02668</td>\n      <td>0.01905</td>\n    </tr>\n  </tbody>\n</table>\n<p>1338 rows × 1096 columns</p>\n</div>"
     },
     "execution_count": 201,
     "metadata": {},
     "output_type": "execute_result"
    }
   ],
   "source": [
    "mp_MGX = pd.read_csv('~/Desktop/To_prediction/Metaphlan4_all_pheno.csv').rename(columns={'Unnamed: 0' : 'External ID'})\n",
    "mp_MGX = mp_MGX.set_index('External ID')\n",
    "mp_MGX = mp_MGX.loc[:,mp_MGX.columns.str.startswith('s__')]\n",
    "mp_MGX"
   ],
   "metadata": {
    "collapsed": false,
    "pycharm": {
     "name": "#%%\n"
    }
   }
  },
  {
   "cell_type": "code",
   "execution_count": 202,
   "outputs": [
    {
     "name": "stderr",
     "output_type": "stream",
     "text": [
      "/var/folders/qz/fy7nnm954f76spkqc86w7g_c0000gn/T/ipykernel_3391/3315607127.py:1: DtypeWarning: Columns (12,13,14,40,46,55,65,66,67,68,177,294,298,299,300,301,304,305,306,307,308,309,310,318,320,328,330,346,348,350,352,354,359,361,363,366,373,377,381,383,418,419,432,433,434,435,436,438,439,440,441,442,444,445,446,447,448,450,451,452,453,454) have mixed types. Specify dtype option on import or set low_memory=False.\n",
      "  metadata = pd.read_csv(\"~/Desktop/hmp2_metadata.csv\")\n"
     ]
    },
    {
     "data": {
      "text/plain": "     External ID Participant ID diagnosis  visit_num   fecalcal\n1080    CSM67UA2          C3001        CD         20   23.20350\n1083    CSM79HGP          C3001        CD         26   37.17836\n1092    CSM5MCVN          C3002        CD         13   15.97901\n1094    CSM67UBH          C3002        CD         19   14.51068\n1095    CSM67UBN          C3002        CD         22   16.32450\n...          ...            ...       ...        ...        ...\n2676    PSMA264Q          P6035        UC          6   63.81772\n2678    PSMA264U          P6035        UC          8   17.44622\n2680    PSMA267J          P6035        UC         12   15.50000\n2681    PSMA267P          P6035        UC         15   14.57958\n2683    PSMB4MBK          P6035        UC         21  127.56480\n\n[321 rows x 5 columns]",
      "text/html": "<div>\n<style scoped>\n    .dataframe tbody tr th:only-of-type {\n        vertical-align: middle;\n    }\n\n    .dataframe tbody tr th {\n        vertical-align: top;\n    }\n\n    .dataframe thead th {\n        text-align: right;\n    }\n</style>\n<table border=\"1\" class=\"dataframe\">\n  <thead>\n    <tr style=\"text-align: right;\">\n      <th></th>\n      <th>External ID</th>\n      <th>Participant ID</th>\n      <th>diagnosis</th>\n      <th>visit_num</th>\n      <th>fecalcal</th>\n    </tr>\n  </thead>\n  <tbody>\n    <tr>\n      <th>1080</th>\n      <td>CSM67UA2</td>\n      <td>C3001</td>\n      <td>CD</td>\n      <td>20</td>\n      <td>23.20350</td>\n    </tr>\n    <tr>\n      <th>1083</th>\n      <td>CSM79HGP</td>\n      <td>C3001</td>\n      <td>CD</td>\n      <td>26</td>\n      <td>37.17836</td>\n    </tr>\n    <tr>\n      <th>1092</th>\n      <td>CSM5MCVN</td>\n      <td>C3002</td>\n      <td>CD</td>\n      <td>13</td>\n      <td>15.97901</td>\n    </tr>\n    <tr>\n      <th>1094</th>\n      <td>CSM67UBH</td>\n      <td>C3002</td>\n      <td>CD</td>\n      <td>19</td>\n      <td>14.51068</td>\n    </tr>\n    <tr>\n      <th>1095</th>\n      <td>CSM67UBN</td>\n      <td>C3002</td>\n      <td>CD</td>\n      <td>22</td>\n      <td>16.32450</td>\n    </tr>\n    <tr>\n      <th>...</th>\n      <td>...</td>\n      <td>...</td>\n      <td>...</td>\n      <td>...</td>\n      <td>...</td>\n    </tr>\n    <tr>\n      <th>2676</th>\n      <td>PSMA264Q</td>\n      <td>P6035</td>\n      <td>UC</td>\n      <td>6</td>\n      <td>63.81772</td>\n    </tr>\n    <tr>\n      <th>2678</th>\n      <td>PSMA264U</td>\n      <td>P6035</td>\n      <td>UC</td>\n      <td>8</td>\n      <td>17.44622</td>\n    </tr>\n    <tr>\n      <th>2680</th>\n      <td>PSMA267J</td>\n      <td>P6035</td>\n      <td>UC</td>\n      <td>12</td>\n      <td>15.50000</td>\n    </tr>\n    <tr>\n      <th>2681</th>\n      <td>PSMA267P</td>\n      <td>P6035</td>\n      <td>UC</td>\n      <td>15</td>\n      <td>14.57958</td>\n    </tr>\n    <tr>\n      <th>2683</th>\n      <td>PSMB4MBK</td>\n      <td>P6035</td>\n      <td>UC</td>\n      <td>21</td>\n      <td>127.56480</td>\n    </tr>\n  </tbody>\n</table>\n<p>321 rows × 5 columns</p>\n</div>"
     },
     "execution_count": 202,
     "metadata": {},
     "output_type": "execute_result"
    }
   ],
   "source": [
    "metadata = pd.read_csv(\"~/Desktop/hmp2_metadata.csv\")\n",
    "fecalcal_info = metadata.loc[metadata.data_type == \"metagenomics\", [\"External ID\", \"Participant ID\", \"diagnosis\", \"visit_num\", \"fecalcal\", \"fecalcal_ng_ml\"]]\n",
    "fecalcal_info = fecalcal_info[~fecalcal_info[\"External ID\"].str.contains(\"_P\")]\n",
    "fecalcal_info = fecalcal_info[~fecalcal_info[\"External ID\"].str.contains(\"_TR\")]\n",
    "# print( fecalcal_info.drop(fecalcal_info[fecalcal_info[\"External ID\"].str.contains('_P')]))\n",
    "fc1 = [not math.isnan(x) for x in fecalcal_info.fecalcal]\n",
    "fc2 = [not math.isnan(x) for x in fecalcal_info.fecalcal_ng_ml]\n",
    "fc = [fc1[i] or fc2[i] for i in range(len(fc1))]\n",
    "fecalcal_info = fecalcal_info.loc[fc, :]\n",
    "fc1 = [not math.isnan(x) for x in fecalcal_info.fecalcal]\n",
    "fc2 = [not math.isnan(x) for x in fecalcal_info.fecalcal_ng_ml]\n",
    "fecalcal_info.fecalcal = fecalcal_info.fecalcal.fillna(fecalcal_info['fecalcal_ng_ml'])\n",
    "fecalcal_info.drop([\"fecalcal_ng_ml\"], inplace=True, axis=1)\n",
    "diagnosis = fecalcal_info.loc[:, [\"Participant ID\", \"diagnosis\"]].drop_duplicates()\n",
    "diagnosis[\"External ID\"] = fecalcal_info[\"External ID\"]\n",
    "# diagnosis.set_index([\"Participant ID\"], inplace=True)\n",
    "diagnosis\n",
    "fecalcal_info"
   ],
   "metadata": {
    "collapsed": false,
    "pycharm": {
     "name": "#%%\n"
    }
   }
  },
  {
   "cell_type": "code",
   "execution_count": 203,
   "outputs": [],
   "source": [
    "max = fecalcal_info.groupby(\"Participant ID\").max()\n",
    "min = fecalcal_info.groupby(\"Participant ID\").min()\n",
    "MM_fecalcal = pd.concat([max,min], axis=0).sort_index()\n",
    "MM_fecalcal = MM_fecalcal.drop(columns=[\"visit_num\"])"
   ],
   "metadata": {
    "collapsed": false,
    "pycharm": {
     "name": "#%%\n"
    }
   }
  },
  {
   "cell_type": "code",
   "execution_count": 204,
   "outputs": [
    {
     "data": {
      "text/plain": "            diagnosis   fecalcal      stage\nExternal ID                                \nCSM79HGP           CD   37.17836  remission\nCSM67UA2           CD   23.20350  remission\nCSM5MCVN           CD   14.51068  remission\nCSM67UBN           CD   16.32450  remission\nCSM79HLM           UC   14.30000  remission\n...               ...        ...        ...\nPSMA263W           CD  289.22620      flare\nPSM7J12V           UC   15.90414  remission\nPSM7J1BX           UC   21.31494  remission\nPSMB4MBK           UC  127.56480  remission\nPSMA264O           UC   14.57958  remission\n\n[120 rows x 3 columns]",
      "text/html": "<div>\n<style scoped>\n    .dataframe tbody tr th:only-of-type {\n        vertical-align: middle;\n    }\n\n    .dataframe tbody tr th {\n        vertical-align: top;\n    }\n\n    .dataframe thead th {\n        text-align: right;\n    }\n</style>\n<table border=\"1\" class=\"dataframe\">\n  <thead>\n    <tr style=\"text-align: right;\">\n      <th></th>\n      <th>diagnosis</th>\n      <th>fecalcal</th>\n      <th>stage</th>\n    </tr>\n    <tr>\n      <th>External ID</th>\n      <th></th>\n      <th></th>\n      <th></th>\n    </tr>\n  </thead>\n  <tbody>\n    <tr>\n      <th>CSM79HGP</th>\n      <td>CD</td>\n      <td>37.17836</td>\n      <td>remission</td>\n    </tr>\n    <tr>\n      <th>CSM67UA2</th>\n      <td>CD</td>\n      <td>23.20350</td>\n      <td>remission</td>\n    </tr>\n    <tr>\n      <th>CSM5MCVN</th>\n      <td>CD</td>\n      <td>14.51068</td>\n      <td>remission</td>\n    </tr>\n    <tr>\n      <th>CSM67UBN</th>\n      <td>CD</td>\n      <td>16.32450</td>\n      <td>remission</td>\n    </tr>\n    <tr>\n      <th>CSM79HLM</th>\n      <td>UC</td>\n      <td>14.30000</td>\n      <td>remission</td>\n    </tr>\n    <tr>\n      <th>...</th>\n      <td>...</td>\n      <td>...</td>\n      <td>...</td>\n    </tr>\n    <tr>\n      <th>PSMA263W</th>\n      <td>CD</td>\n      <td>289.22620</td>\n      <td>flare</td>\n    </tr>\n    <tr>\n      <th>PSM7J12V</th>\n      <td>UC</td>\n      <td>15.90414</td>\n      <td>remission</td>\n    </tr>\n    <tr>\n      <th>PSM7J1BX</th>\n      <td>UC</td>\n      <td>21.31494</td>\n      <td>remission</td>\n    </tr>\n    <tr>\n      <th>PSMB4MBK</th>\n      <td>UC</td>\n      <td>127.56480</td>\n      <td>remission</td>\n    </tr>\n    <tr>\n      <th>PSMA264O</th>\n      <td>UC</td>\n      <td>14.57958</td>\n      <td>remission</td>\n    </tr>\n  </tbody>\n</table>\n<p>120 rows × 3 columns</p>\n</div>"
     },
     "execution_count": 204,
     "metadata": {},
     "output_type": "execute_result"
    }
   ],
   "source": [
    "MM_fecalcal.loc[MM_fecalcal[\"fecalcal\"] < 150 , 'stage'] = 'remission'\n",
    "# MM_fecalcal.loc[MM_fecalcal[\"fecalcal\"].between(50,150) , 'stage'] = 'middle'\n",
    "MM_fecalcal.loc[MM_fecalcal[\"fecalcal\"] >= 150 , 'stage'] = 'flare'\n",
    "\n",
    "\n",
    "MM_fecalcal.set_index(\"External ID\",inplace=True)\n",
    "MM_fecalcal = MM_fecalcal.loc[MM_fecalcal[\"diagnosis\"] != \"nonIBD\"]\n",
    "MM_fecalcal"
   ],
   "metadata": {
    "collapsed": false,
    "pycharm": {
     "name": "#%%\n"
    }
   }
  },
  {
   "cell_type": "code",
   "execution_count": 263,
   "outputs": [
    {
     "data": {
      "text/plain": "             s__Phocaeicola_vulgatus  s__Eubacterium_rectale  \\\nExternal ID                                                    \nCSM5MCVN                    51.31297                 0.95498   \nCSM5MCWE                     0.17618                 0.00034   \nCSM5MCX3                    32.93516                 3.94442   \nCSM5MCXL                    32.29455                 3.46622   \nCSM5MCY8                    40.22876                 0.56787   \n...                              ...                     ...   \nPSM7J1CU                     0.01314                 1.82220   \nPSMA263W                     7.35833                 0.09147   \nPSMA264O                     8.33563                 0.19689   \nPSMA265N                    19.51505                 5.88628   \nPSMB4MBK                     5.38502                 3.65985   \n\n             s__Dialister_invisus  s__Roseburia_faecis  \\\nExternal ID                                              \nCSM5MCVN                  1.54371              0.04588   \nCSM5MCWE                  2.11566              0.77226   \nCSM5MCX3                  0.62092              0.41659   \nCSM5MCXL                  2.09791              9.10884   \nCSM5MCY8                  0.15291              0.04742   \n...                           ...                  ...   \nPSM7J1CU                  0.21039             11.49237   \nPSMA263W                  1.33126              0.37672   \nPSMA264O                  0.79575              2.98076   \nPSMA265N                  0.63127              2.20815   \nPSMB4MBK                 12.89226              4.77440   \n\n             s__Roseburia_inulinivorans  s__Faecalibacterium_prausnitzii  \\\nExternal ID                                                                \nCSM5MCVN                        0.18414                          1.99150   \nCSM5MCWE                        1.37207                          0.00574   \nCSM5MCX3                        1.16966                          6.48479   \nCSM5MCXL                        0.71850                          2.63304   \nCSM5MCY8                        0.30914                          2.20589   \n...                                 ...                              ...   \nPSM7J1CU                        0.19576                         17.15622   \nPSMA263W                        0.13550                          3.55648   \nPSMA264O                        0.95547                         13.34191   \nPSMA265N                        0.51131                          6.31577   \nPSMB4MBK                        1.14045                         23.38920   \n\n             s__Bacteroides_xylanisolvens  s__Firmicutes_bacterium_AF16_15  \\\nExternal ID                                                                  \nCSM5MCVN                          7.95270                          0.01466   \nCSM5MCWE                          2.53496                          0.24880   \nCSM5MCX3                          0.13339                          1.12532   \nCSM5MCXL                          0.00904                          0.55343   \nCSM5MCY8                          0.01291                          0.15447   \n...                                   ...                              ...   \nPSM7J1CU                         13.25230                          0.26376   \nPSMA263W                          0.07945                          0.19941   \nPSMA264O                          0.12200                          0.05702   \nPSMA265N                          1.91868                          0.98011   \nPSMB4MBK                          0.16979                          2.67771   \n\n             s__Bacteroides_uniformis  s__Ruminococcus_bromii  ...  \\\nExternal ID                                                    ...   \nCSM5MCVN                     18.67487                 0.34879  ...   \nCSM5MCWE                      0.00994                 0.48851  ...   \nCSM5MCX3                      2.54236                 0.63406  ...   \nCSM5MCXL                     12.83634                 0.12034  ...   \nCSM5MCY8                      8.33000                 0.22200  ...   \n...                               ...                     ...  ...   \nPSM7J1CU                      4.43274                 0.09877  ...   \nPSMA263W                      6.68211                 0.42610  ...   \nPSMA264O                      1.27741                 1.09056  ...   \nPSMA265N                     33.29117                 0.02798  ...   \nPSMB4MBK                      1.41950                 0.50100  ...   \n\n             s__GGB4706_SGB6513  s__GGB3643_SGB4948  \\\nExternal ID                                           \nCSM5MCVN                    0.0                 0.0   \nCSM5MCWE                    0.0                 0.0   \nCSM5MCX3                    0.0                 0.0   \nCSM5MCXL                    0.0                 0.0   \nCSM5MCY8                    0.0                 0.0   \n...                         ...                 ...   \nPSM7J1CU                    0.0                 0.0   \nPSMA263W                    0.0                 0.0   \nPSMA264O                    0.0                 0.0   \nPSMA265N                    0.0                 0.0   \nPSMB4MBK                    0.0                 0.0   \n\n             s__Sanguibacteroides_SGB1777  s__GGB3632_SGB4920  \\\nExternal ID                                                     \nCSM5MCVN                              0.0                 0.0   \nCSM5MCWE                              0.0                 0.0   \nCSM5MCX3                              0.0                 0.0   \nCSM5MCXL                              0.0                 0.0   \nCSM5MCY8                              0.0                 0.0   \n...                                   ...                 ...   \nPSM7J1CU                              0.0                 0.0   \nPSMA263W                              0.0                 0.0   \nPSMA264O                              0.0                 0.0   \nPSMA265N                              0.0                 0.0   \nPSMB4MBK                              0.0                 0.0   \n\n             s__Lachnospiraceae_bacterium_NSJ_46  s__Prevotella_sp_DNF00663  \\\nExternal ID                                                                   \nCSM5MCVN                                     0.0                        0.0   \nCSM5MCWE                                     0.0                        0.0   \nCSM5MCX3                                     0.0                        0.0   \nCSM5MCXL                                     0.0                        0.0   \nCSM5MCY8                                     0.0                        0.0   \n...                                          ...                        ...   \nPSM7J1CU                                     0.0                        0.0   \nPSMA263W                                     0.0                        0.0   \nPSMA264O                                     0.0                        0.0   \nPSMA265N                                     0.0                        0.0   \nPSMB4MBK                                     0.0                        0.0   \n\n             s__Collinsella_SGB14747  diagnosis    fecalcal      stage  \nExternal ID                                                             \nCSM5MCVN                         0.0         CD   14.510680  remission  \nCSM5MCWE                         0.0         CD   16.149950  remission  \nCSM5MCX3                         0.0         UC   12.698170  remission  \nCSM5MCXL                         0.0         UC   14.824100  remission  \nCSM5MCY8                         0.0         UC  212.600000      flare  \n...                              ...        ...         ...        ...  \nPSM7J1CU                         0.0         CD  276.832168      flare  \nPSMA263W                         0.0         CD  289.226200      flare  \nPSMA264O                         0.0         UC   14.579580  remission  \nPSMA265N                         0.0         CD  263.018200      flare  \nPSMB4MBK                         0.0         UC  127.564800  remission  \n\n[120 rows x 1099 columns]",
      "text/html": "<div>\n<style scoped>\n    .dataframe tbody tr th:only-of-type {\n        vertical-align: middle;\n    }\n\n    .dataframe tbody tr th {\n        vertical-align: top;\n    }\n\n    .dataframe thead th {\n        text-align: right;\n    }\n</style>\n<table border=\"1\" class=\"dataframe\">\n  <thead>\n    <tr style=\"text-align: right;\">\n      <th></th>\n      <th>s__Phocaeicola_vulgatus</th>\n      <th>s__Eubacterium_rectale</th>\n      <th>s__Dialister_invisus</th>\n      <th>s__Roseburia_faecis</th>\n      <th>s__Roseburia_inulinivorans</th>\n      <th>s__Faecalibacterium_prausnitzii</th>\n      <th>s__Bacteroides_xylanisolvens</th>\n      <th>s__Firmicutes_bacterium_AF16_15</th>\n      <th>s__Bacteroides_uniformis</th>\n      <th>s__Ruminococcus_bromii</th>\n      <th>...</th>\n      <th>s__GGB4706_SGB6513</th>\n      <th>s__GGB3643_SGB4948</th>\n      <th>s__Sanguibacteroides_SGB1777</th>\n      <th>s__GGB3632_SGB4920</th>\n      <th>s__Lachnospiraceae_bacterium_NSJ_46</th>\n      <th>s__Prevotella_sp_DNF00663</th>\n      <th>s__Collinsella_SGB14747</th>\n      <th>diagnosis</th>\n      <th>fecalcal</th>\n      <th>stage</th>\n    </tr>\n    <tr>\n      <th>External ID</th>\n      <th></th>\n      <th></th>\n      <th></th>\n      <th></th>\n      <th></th>\n      <th></th>\n      <th></th>\n      <th></th>\n      <th></th>\n      <th></th>\n      <th></th>\n      <th></th>\n      <th></th>\n      <th></th>\n      <th></th>\n      <th></th>\n      <th></th>\n      <th></th>\n      <th></th>\n      <th></th>\n      <th></th>\n    </tr>\n  </thead>\n  <tbody>\n    <tr>\n      <th>CSM5MCVN</th>\n      <td>51.31297</td>\n      <td>0.95498</td>\n      <td>1.54371</td>\n      <td>0.04588</td>\n      <td>0.18414</td>\n      <td>1.99150</td>\n      <td>7.95270</td>\n      <td>0.01466</td>\n      <td>18.67487</td>\n      <td>0.34879</td>\n      <td>...</td>\n      <td>0.0</td>\n      <td>0.0</td>\n      <td>0.0</td>\n      <td>0.0</td>\n      <td>0.0</td>\n      <td>0.0</td>\n      <td>0.0</td>\n      <td>CD</td>\n      <td>14.510680</td>\n      <td>remission</td>\n    </tr>\n    <tr>\n      <th>CSM5MCWE</th>\n      <td>0.17618</td>\n      <td>0.00034</td>\n      <td>2.11566</td>\n      <td>0.77226</td>\n      <td>1.37207</td>\n      <td>0.00574</td>\n      <td>2.53496</td>\n      <td>0.24880</td>\n      <td>0.00994</td>\n      <td>0.48851</td>\n      <td>...</td>\n      <td>0.0</td>\n      <td>0.0</td>\n      <td>0.0</td>\n      <td>0.0</td>\n      <td>0.0</td>\n      <td>0.0</td>\n      <td>0.0</td>\n      <td>CD</td>\n      <td>16.149950</td>\n      <td>remission</td>\n    </tr>\n    <tr>\n      <th>CSM5MCX3</th>\n      <td>32.93516</td>\n      <td>3.94442</td>\n      <td>0.62092</td>\n      <td>0.41659</td>\n      <td>1.16966</td>\n      <td>6.48479</td>\n      <td>0.13339</td>\n      <td>1.12532</td>\n      <td>2.54236</td>\n      <td>0.63406</td>\n      <td>...</td>\n      <td>0.0</td>\n      <td>0.0</td>\n      <td>0.0</td>\n      <td>0.0</td>\n      <td>0.0</td>\n      <td>0.0</td>\n      <td>0.0</td>\n      <td>UC</td>\n      <td>12.698170</td>\n      <td>remission</td>\n    </tr>\n    <tr>\n      <th>CSM5MCXL</th>\n      <td>32.29455</td>\n      <td>3.46622</td>\n      <td>2.09791</td>\n      <td>9.10884</td>\n      <td>0.71850</td>\n      <td>2.63304</td>\n      <td>0.00904</td>\n      <td>0.55343</td>\n      <td>12.83634</td>\n      <td>0.12034</td>\n      <td>...</td>\n      <td>0.0</td>\n      <td>0.0</td>\n      <td>0.0</td>\n      <td>0.0</td>\n      <td>0.0</td>\n      <td>0.0</td>\n      <td>0.0</td>\n      <td>UC</td>\n      <td>14.824100</td>\n      <td>remission</td>\n    </tr>\n    <tr>\n      <th>CSM5MCY8</th>\n      <td>40.22876</td>\n      <td>0.56787</td>\n      <td>0.15291</td>\n      <td>0.04742</td>\n      <td>0.30914</td>\n      <td>2.20589</td>\n      <td>0.01291</td>\n      <td>0.15447</td>\n      <td>8.33000</td>\n      <td>0.22200</td>\n      <td>...</td>\n      <td>0.0</td>\n      <td>0.0</td>\n      <td>0.0</td>\n      <td>0.0</td>\n      <td>0.0</td>\n      <td>0.0</td>\n      <td>0.0</td>\n      <td>UC</td>\n      <td>212.600000</td>\n      <td>flare</td>\n    </tr>\n    <tr>\n      <th>...</th>\n      <td>...</td>\n      <td>...</td>\n      <td>...</td>\n      <td>...</td>\n      <td>...</td>\n      <td>...</td>\n      <td>...</td>\n      <td>...</td>\n      <td>...</td>\n      <td>...</td>\n      <td>...</td>\n      <td>...</td>\n      <td>...</td>\n      <td>...</td>\n      <td>...</td>\n      <td>...</td>\n      <td>...</td>\n      <td>...</td>\n      <td>...</td>\n      <td>...</td>\n      <td>...</td>\n    </tr>\n    <tr>\n      <th>PSM7J1CU</th>\n      <td>0.01314</td>\n      <td>1.82220</td>\n      <td>0.21039</td>\n      <td>11.49237</td>\n      <td>0.19576</td>\n      <td>17.15622</td>\n      <td>13.25230</td>\n      <td>0.26376</td>\n      <td>4.43274</td>\n      <td>0.09877</td>\n      <td>...</td>\n      <td>0.0</td>\n      <td>0.0</td>\n      <td>0.0</td>\n      <td>0.0</td>\n      <td>0.0</td>\n      <td>0.0</td>\n      <td>0.0</td>\n      <td>CD</td>\n      <td>276.832168</td>\n      <td>flare</td>\n    </tr>\n    <tr>\n      <th>PSMA263W</th>\n      <td>7.35833</td>\n      <td>0.09147</td>\n      <td>1.33126</td>\n      <td>0.37672</td>\n      <td>0.13550</td>\n      <td>3.55648</td>\n      <td>0.07945</td>\n      <td>0.19941</td>\n      <td>6.68211</td>\n      <td>0.42610</td>\n      <td>...</td>\n      <td>0.0</td>\n      <td>0.0</td>\n      <td>0.0</td>\n      <td>0.0</td>\n      <td>0.0</td>\n      <td>0.0</td>\n      <td>0.0</td>\n      <td>CD</td>\n      <td>289.226200</td>\n      <td>flare</td>\n    </tr>\n    <tr>\n      <th>PSMA264O</th>\n      <td>8.33563</td>\n      <td>0.19689</td>\n      <td>0.79575</td>\n      <td>2.98076</td>\n      <td>0.95547</td>\n      <td>13.34191</td>\n      <td>0.12200</td>\n      <td>0.05702</td>\n      <td>1.27741</td>\n      <td>1.09056</td>\n      <td>...</td>\n      <td>0.0</td>\n      <td>0.0</td>\n      <td>0.0</td>\n      <td>0.0</td>\n      <td>0.0</td>\n      <td>0.0</td>\n      <td>0.0</td>\n      <td>UC</td>\n      <td>14.579580</td>\n      <td>remission</td>\n    </tr>\n    <tr>\n      <th>PSMA265N</th>\n      <td>19.51505</td>\n      <td>5.88628</td>\n      <td>0.63127</td>\n      <td>2.20815</td>\n      <td>0.51131</td>\n      <td>6.31577</td>\n      <td>1.91868</td>\n      <td>0.98011</td>\n      <td>33.29117</td>\n      <td>0.02798</td>\n      <td>...</td>\n      <td>0.0</td>\n      <td>0.0</td>\n      <td>0.0</td>\n      <td>0.0</td>\n      <td>0.0</td>\n      <td>0.0</td>\n      <td>0.0</td>\n      <td>CD</td>\n      <td>263.018200</td>\n      <td>flare</td>\n    </tr>\n    <tr>\n      <th>PSMB4MBK</th>\n      <td>5.38502</td>\n      <td>3.65985</td>\n      <td>12.89226</td>\n      <td>4.77440</td>\n      <td>1.14045</td>\n      <td>23.38920</td>\n      <td>0.16979</td>\n      <td>2.67771</td>\n      <td>1.41950</td>\n      <td>0.50100</td>\n      <td>...</td>\n      <td>0.0</td>\n      <td>0.0</td>\n      <td>0.0</td>\n      <td>0.0</td>\n      <td>0.0</td>\n      <td>0.0</td>\n      <td>0.0</td>\n      <td>UC</td>\n      <td>127.564800</td>\n      <td>remission</td>\n    </tr>\n  </tbody>\n</table>\n<p>120 rows × 1099 columns</p>\n</div>"
     },
     "execution_count": 263,
     "metadata": {},
     "output_type": "execute_result"
    }
   ],
   "source": [
    "main_RF = pd.merge(mp_MGX, MM_fecalcal, left_index=True, right_index=True)\n",
    "main_RF"
   ],
   "metadata": {
    "collapsed": false,
    "pycharm": {
     "name": "#%%\n"
    }
   }
  },
  {
   "cell_type": "code",
   "execution_count": 206,
   "outputs": [],
   "source": [
    "main_RF = main_RF.loc[:,main_RF.columns != \"diagnosis\"]\n",
    "# main_RF = main_RF.loc[:,main_RF.columns != \"fecalcal\"]\n",
    "\n",
    "MTX_X = main_RF.iloc[:,1:1097]\n",
    "MTX_y = main_RF.iloc[:,-1]\n",
    "\n",
    "#fill NA's\n",
    "MTX_X.fillna(MTX_X.median(), inplace=True)\n",
    "MTX_X = StandardScaler().fit_transform(MTX_X)\n",
    "\n",
    "from sklearn.model_selection import train_test_split\n",
    "X_train, X_test, y_train, y_test = train_test_split(MTX_X, MTX_y, test_size=0.30, random_state=42)\n"
   ],
   "metadata": {
    "collapsed": false,
    "pycharm": {
     "name": "#%%\n"
    }
   }
  },
  {
   "cell_type": "code",
   "execution_count": 261,
   "outputs": [
    {
     "name": "stdout",
     "output_type": "stream",
     "text": [
      "Best Model:\n",
      "RandomForestClassifier(max_features=None, n_estimators=5, random_state=42)\n"
     ]
    },
    {
     "data": {
      "text/plain": "<AxesSubplot:>"
     },
     "execution_count": 261,
     "metadata": {},
     "output_type": "execute_result"
    },
    {
     "data": {
      "text/plain": "<Figure size 432x288 with 2 Axes>",
      "image/png": "[encoded data removed]"
     },
     "metadata": {},
     "output_type": "display_data"
    }
   ],
   "source": [
    "n_estimators_RF = [5, 10, 25, 50, 100]\n",
    "max_features_RF = [2,4,8,16,32,None]\n",
    "parameters_RF = {'n_estimators': n_estimators_RF,\n",
    "                'max_features': max_features_RF}\n",
    "\n",
    "RF_model = RandomForestClassifier(max_depth=None,\n",
    "                                  min_samples_split=2, random_state=42)\n",
    "\n",
    "RF_clf = GridSearchCV(RF_model, parameters_RF, cv=5, scoring= 'accuracy') #completeness_score')\n",
    "\n",
    "RF_clf.fit(X_train, y_train)\n",
    "\n",
    "print(\"Best Model:\")\n",
    "RF_model = RF_clf.best_estimator_\n",
    "print(RF_model)\n",
    "\n",
    "RF_predictions = RF_model.predict(X_test)\n",
    "\n",
    "# creating a confusion matrix\n",
    "labels = np.unique(y_test)\n",
    "cm_RF = confusion_matrix(y_test, RF_predictions,labels=labels)\n",
    "cm_RF = pd.DataFrame(cm_RF, index=labels, columns=labels)\n",
    "sns.heatmap(cm_RF, cmap=\"YlGnBu\", annot=True)"
   ],
   "metadata": {
    "collapsed": false,
    "pycharm": {
     "name": "#%%\n"
    }
   }
  },
  {
   "cell_type": "code",
   "execution_count": 252,
   "outputs": [
    {
     "name": "stdout",
     "output_type": "stream",
     "text": [
      "Accuracy 97.22%\n"
     ]
    }
   ],
   "source": [
    "from sklearn import metrics\n",
    "print(f'Accuracy {round(metrics.accuracy_score(y_test, RF_predictions)*100,2)}%')"
   ],
   "metadata": {
    "collapsed": false,
    "pycharm": {
     "name": "#%%\n"
    }
   }
  }
 ],
 "metadata": {
  "kernelspec": {
   "display_name": "Python 3",
   "language": "python",
   "name": "python3"
  },
  "language_info": {
   "codemirror_mode": {
    "name": "ipython",
    "version": 2
   },
   "file_extension": ".py",
   "mimetype": "text/x-python",
   "name": "python",
   "nbconvert_exporter": "python",
   "pygments_lexer": "ipython2",
   "version": "2.7.6"
  }
 },
 "nbformat": 4,
 "nbformat_minor": 0
}