{
 "cells": [
  {
   "cell_type": "code",
   "execution_count": 2,
   "metadata": {
    "collapsed": true,
    "pycharm": {
     "name": "#%%\n"
    }
   },
   "outputs": [],
   "source": [
    "import pandas as pd\n",
    "import seaborn as sns\n",
    "import numpy as np\n",
    "\n",
    "import matplotlib.pyplot as plt\n",
    "from sklearn.model_selection import GridSearchCV\n",
    "from sklearn.neighbors import KNeighborsClassifier\n",
    "from sklearn.neighbors import RadiusNeighborsClassifier\n",
    "from sklearn.linear_model import LogisticRegression\n",
    "from sklearn.tree import DecisionTreeClassifier\n",
    "from sklearn.linear_model import LogisticRegressionCV\n",
    "from sklearn.ensemble import RandomForestClassifier\n",
    "from sklearn.neural_network import MLPClassifier\n",
    "\n",
    "from sklearn.preprocessing import StandardScaler\n",
    "from sklearn.metrics import confusion_matrix\n",
    "from sklearn.ensemble import RandomForestClassifier\n",
    "from sklearn.preprocessing import label_binarize\n",
    "import sweetviz as sv\n",
    "from pandas_profiling import ProfileReport"
   ]
  },
  {
   "cell_type": "code",
   "execution_count": 3,
   "outputs": [
    {
     "data": {
      "text/plain": "             k__Bacteria  p__Bacteroidetes  p__Firmicutes  p__Proteobacteria  \\\nExternal ID                                                                    \nPSM7J14T       100.00000          54.45901       42.30283            3.23816   \nCSM79HOL       100.00000          74.30125       19.73015            5.96860   \nCSM67U9D       100.00000          61.96323       33.78890            4.22338   \nHSM7J4N4       100.00000          98.82760        0.08455            1.08784   \nCSM79HJS       100.00000          67.99864       21.24469           10.51531   \n...                  ...               ...            ...                ...   \nHSM7J4R2       100.00000          67.21618       28.10759            4.53335   \nMSM79H9A        99.39144          65.91204       24.18585            1.24318   \nHSM7J4KK       100.00000          44.55882       47.48655            6.54281   \nMSM79HC4       100.00000          40.04887       56.68067            2.05744   \nHSM7J4G1       100.00000          44.42952       41.40166           13.72591   \n\n             c__Bacteroidia  c__Clostridia  c__Betaproteobacteria  \\\nExternal ID                                                         \nPSM7J14T           54.45901       42.13480                3.06251   \nCSM79HOL           74.30125       18.73846                5.90910   \nCSM67U9D           61.96323       30.09409                4.09011   \nHSM7J4N4           98.82760       30.09409                4.09011   \nCSM79HJS           67.99864       21.18760                6.34576   \n...                     ...            ...                    ...   \nHSM7J4R2           67.21618       28.10759                3.63017   \nMSM79H9A           65.91204       21.15077                3.63017   \nHSM7J4KK           44.47365       47.35033                4.39404   \nMSM79HC4           40.04887       56.29151                2.05744   \nHSM7J4G1           44.42952       39.78062                1.54839   \n\n             c__Deltaproteobacteria  c__Negativicutes  o__Bacteroidales  ...  \\\nExternal ID                                                              ...   \nPSM7J14T                    0.17565           0.16803          54.45901  ...   \nCSM79HOL                    0.05950           0.87724          74.30125  ...   \nCSM67U9D                    0.13327           3.02112          61.96323  ...   \nHSM7J4N4                    1.02587           0.08455          98.82760  ...   \nCSM79HJS                    4.16955           0.08455          67.99864  ...   \n...                             ...               ...               ...  ...   \nHSM7J4R2                    0.90317           2.24913          67.21618  ...   \nMSM79H9A                    0.90317           2.24913          65.91204  ...   \nHSM7J4KK                    1.54232           0.09869          44.47365  ...   \nMSM79HC4                    1.54232           0.32737          40.04887  ...   \nHSM7J4G1                    1.54232           0.72443          44.42952  ...   \n\n             t__SGB14005  t__SGB6358  t__SGB14007  t__SGB6276  t__SGB47307  \\\nExternal ID                                                                  \nPSM7J14T         0.00000     0.00000      0.00000     0.00000      0.00000   \nCSM79HOL         0.00000     0.00000      0.00000     0.00000      0.00000   \nCSM67U9D         0.00000     0.00000      0.00000     0.00000      0.00000   \nHSM7J4N4         0.00000     0.00000      0.00000     0.00000      0.00000   \nCSM79HJS         0.00000     0.00000      0.00000     0.00000      0.00000   \n...                  ...         ...          ...         ...          ...   \nHSM7J4R2         1.03302     5.24979      1.56167     0.02168      0.03508   \nMSM79H9A         1.03302     5.24979      1.56167     0.02168      0.03508   \nHSM7J4KK         1.03302     5.24979      1.56167     0.02168      0.03508   \nMSM79HC4         1.03302     5.24979      1.56167     0.02168      0.03508   \nHSM7J4G1         1.03302     5.24979      1.56167     0.02168      0.03508   \n\n             t__SGB6343  t__SGB4665  t__SGB4924_group  t__SGB6350  t__SGB4921  \nExternal ID                                                                    \nPSM7J14T        0.00000     0.00000           0.00000     0.00000     0.00000  \nCSM79HOL        0.00000     0.00000           0.00000     0.00000     0.00000  \nCSM67U9D        0.00000     0.00000           0.00000     0.00000     0.00000  \nHSM7J4N4        0.00000     0.00000           0.00000     0.00000     0.00000  \nCSM79HJS        0.00000     0.00000           0.00000     0.00000     0.00000  \n...                 ...         ...               ...         ...         ...  \nHSM7J4R2        0.01656     0.02498           0.00194     0.01401     0.00823  \nMSM79H9A        0.01656     0.02498           0.00194     0.01401     0.00823  \nHSM7J4KK        0.01656     0.02498           0.00194     0.01401     0.00823  \nMSM79HC4        0.01656     0.02498           0.00952     0.01401     0.00823  \nHSM7J4G1        0.01656     0.02498           0.00952     0.01401     0.00823  \n\n[742 rows x 1835 columns]",
      "text/html": "<div>\n<style scoped>\n    .dataframe tbody tr th:only-of-type {\n        vertical-align: middle;\n    }\n\n    .dataframe tbody tr th {\n        vertical-align: top;\n    }\n\n    .dataframe thead th {\n        text-align: right;\n    }\n</style>\n<table border=\"1\" class=\"dataframe\">\n  <thead>\n    <tr style=\"text-align: right;\">\n      <th></th>\n      <th>k__Bacteria</th>\n      <th>p__Bacteroidetes</th>\n      <th>p__Firmicutes</th>\n      <th>p__Proteobacteria</th>\n      <th>c__Bacteroidia</th>\n      <th>c__Clostridia</th>\n      <th>c__Betaproteobacteria</th>\n      <th>c__Deltaproteobacteria</th>\n      <th>c__Negativicutes</th>\n      <th>o__Bacteroidales</th>\n      <th>...</th>\n      <th>t__SGB14005</th>\n      <th>t__SGB6358</th>\n      <th>t__SGB14007</th>\n      <th>t__SGB6276</th>\n      <th>t__SGB47307</th>\n      <th>t__SGB6343</th>\n      <th>t__SGB4665</th>\n      <th>t__SGB4924_group</th>\n      <th>t__SGB6350</th>\n      <th>t__SGB4921</th>\n    </tr>\n    <tr>\n      <th>External ID</th>\n      <th></th>\n      <th></th>\n      <th></th>\n      <th></th>\n      <th></th>\n      <th></th>\n      <th></th>\n      <th></th>\n      <th></th>\n      <th></th>\n      <th></th>\n      <th></th>\n      <th></th>\n      <th></th>\n      <th></th>\n      <th></th>\n      <th></th>\n      <th></th>\n      <th></th>\n      <th></th>\n      <th></th>\n    </tr>\n  </thead>\n  <tbody>\n    <tr>\n      <th>PSM7J14T</th>\n      <td>100.00000</td>\n      <td>54.45901</td>\n      <td>42.30283</td>\n      <td>3.23816</td>\n      <td>54.45901</td>\n      <td>42.13480</td>\n      <td>3.06251</td>\n      <td>0.17565</td>\n      <td>0.16803</td>\n      <td>54.45901</td>\n      <td>...</td>\n      <td>0.00000</td>\n      <td>0.00000</td>\n      <td>0.00000</td>\n      <td>0.00000</td>\n      <td>0.00000</td>\n      <td>0.00000</td>\n      <td>0.00000</td>\n      <td>0.00000</td>\n      <td>0.00000</td>\n      <td>0.00000</td>\n    </tr>\n    <tr>\n      <th>CSM79HOL</th>\n      <td>100.00000</td>\n      <td>74.30125</td>\n      <td>19.73015</td>\n      <td>5.96860</td>\n      <td>74.30125</td>\n      <td>18.73846</td>\n      <td>5.90910</td>\n      <td>0.05950</td>\n      <td>0.87724</td>\n      <td>74.30125</td>\n      <td>...</td>\n      <td>0.00000</td>\n      <td>0.00000</td>\n      <td>0.00000</td>\n      <td>0.00000</td>\n      <td>0.00000</td>\n      <td>0.00000</td>\n      <td>0.00000</td>\n      <td>0.00000</td>\n      <td>0.00000</td>\n      <td>0.00000</td>\n    </tr>\n    <tr>\n      <th>CSM67U9D</th>\n      <td>100.00000</td>\n      <td>61.96323</td>\n      <td>33.78890</td>\n      <td>4.22338</td>\n      <td>61.96323</td>\n      <td>30.09409</td>\n      <td>4.09011</td>\n      <td>0.13327</td>\n      <td>3.02112</td>\n      <td>61.96323</td>\n      <td>...</td>\n      <td>0.00000</td>\n      <td>0.00000</td>\n      <td>0.00000</td>\n      <td>0.00000</td>\n      <td>0.00000</td>\n      <td>0.00000</td>\n      <td>0.00000</td>\n      <td>0.00000</td>\n      <td>0.00000</td>\n      <td>0.00000</td>\n    </tr>\n    <tr>\n      <th>HSM7J4N4</th>\n      <td>100.00000</td>\n      <td>98.82760</td>\n      <td>0.08455</td>\n      <td>1.08784</td>\n      <td>98.82760</td>\n      <td>30.09409</td>\n      <td>4.09011</td>\n      <td>1.02587</td>\n      <td>0.08455</td>\n      <td>98.82760</td>\n      <td>...</td>\n      <td>0.00000</td>\n      <td>0.00000</td>\n      <td>0.00000</td>\n      <td>0.00000</td>\n      <td>0.00000</td>\n      <td>0.00000</td>\n      <td>0.00000</td>\n      <td>0.00000</td>\n      <td>0.00000</td>\n      <td>0.00000</td>\n    </tr>\n    <tr>\n      <th>CSM79HJS</th>\n      <td>100.00000</td>\n      <td>67.99864</td>\n      <td>21.24469</td>\n      <td>10.51531</td>\n      <td>67.99864</td>\n      <td>21.18760</td>\n      <td>6.34576</td>\n      <td>4.16955</td>\n      <td>0.08455</td>\n      <td>67.99864</td>\n      <td>...</td>\n      <td>0.00000</td>\n      <td>0.00000</td>\n      <td>0.00000</td>\n      <td>0.00000</td>\n      <td>0.00000</td>\n      <td>0.00000</td>\n      <td>0.00000</td>\n      <td>0.00000</td>\n      <td>0.00000</td>\n      <td>0.00000</td>\n    </tr>\n    <tr>\n      <th>...</th>\n      <td>...</td>\n      <td>...</td>\n      <td>...</td>\n      <td>...</td>\n      <td>...</td>\n      <td>...</td>\n      <td>...</td>\n      <td>...</td>\n      <td>...</td>\n      <td>...</td>\n      <td>...</td>\n      <td>...</td>\n      <td>...</td>\n      <td>...</td>\n      <td>...</td>\n      <td>...</td>\n      <td>...</td>\n      <td>...</td>\n      <td>...</td>\n      <td>...</td>\n      <td>...</td>\n    </tr>\n    <tr>\n      <th>HSM7J4R2</th>\n      <td>100.00000</td>\n      <td>67.21618</td>\n      <td>28.10759</td>\n      <td>4.53335</td>\n      <td>67.21618</td>\n      <td>28.10759</td>\n      <td>3.63017</td>\n      <td>0.90317</td>\n      <td>2.24913</td>\n      <td>67.21618</td>\n      <td>...</td>\n      <td>1.03302</td>\n      <td>5.24979</td>\n      <td>1.56167</td>\n      <td>0.02168</td>\n      <td>0.03508</td>\n      <td>0.01656</td>\n      <td>0.02498</td>\n      <td>0.00194</td>\n      <td>0.01401</td>\n      <td>0.00823</td>\n    </tr>\n    <tr>\n      <th>MSM79H9A</th>\n      <td>99.39144</td>\n      <td>65.91204</td>\n      <td>24.18585</td>\n      <td>1.24318</td>\n      <td>65.91204</td>\n      <td>21.15077</td>\n      <td>3.63017</td>\n      <td>0.90317</td>\n      <td>2.24913</td>\n      <td>65.91204</td>\n      <td>...</td>\n      <td>1.03302</td>\n      <td>5.24979</td>\n      <td>1.56167</td>\n      <td>0.02168</td>\n      <td>0.03508</td>\n      <td>0.01656</td>\n      <td>0.02498</td>\n      <td>0.00194</td>\n      <td>0.01401</td>\n      <td>0.00823</td>\n    </tr>\n    <tr>\n      <th>HSM7J4KK</th>\n      <td>100.00000</td>\n      <td>44.55882</td>\n      <td>47.48655</td>\n      <td>6.54281</td>\n      <td>44.47365</td>\n      <td>47.35033</td>\n      <td>4.39404</td>\n      <td>1.54232</td>\n      <td>0.09869</td>\n      <td>44.47365</td>\n      <td>...</td>\n      <td>1.03302</td>\n      <td>5.24979</td>\n      <td>1.56167</td>\n      <td>0.02168</td>\n      <td>0.03508</td>\n      <td>0.01656</td>\n      <td>0.02498</td>\n      <td>0.00194</td>\n      <td>0.01401</td>\n      <td>0.00823</td>\n    </tr>\n    <tr>\n      <th>MSM79HC4</th>\n      <td>100.00000</td>\n      <td>40.04887</td>\n      <td>56.68067</td>\n      <td>2.05744</td>\n      <td>40.04887</td>\n      <td>56.29151</td>\n      <td>2.05744</td>\n      <td>1.54232</td>\n      <td>0.32737</td>\n      <td>40.04887</td>\n      <td>...</td>\n      <td>1.03302</td>\n      <td>5.24979</td>\n      <td>1.56167</td>\n      <td>0.02168</td>\n      <td>0.03508</td>\n      <td>0.01656</td>\n      <td>0.02498</td>\n      <td>0.00952</td>\n      <td>0.01401</td>\n      <td>0.00823</td>\n    </tr>\n    <tr>\n      <th>HSM7J4G1</th>\n      <td>100.00000</td>\n      <td>44.42952</td>\n      <td>41.40166</td>\n      <td>13.72591</td>\n      <td>44.42952</td>\n      <td>39.78062</td>\n      <td>1.54839</td>\n      <td>1.54232</td>\n      <td>0.72443</td>\n      <td>44.42952</td>\n      <td>...</td>\n      <td>1.03302</td>\n      <td>5.24979</td>\n      <td>1.56167</td>\n      <td>0.02168</td>\n      <td>0.03508</td>\n      <td>0.01656</td>\n      <td>0.02498</td>\n      <td>0.00952</td>\n      <td>0.01401</td>\n      <td>0.00823</td>\n    </tr>\n  </tbody>\n</table>\n<p>742 rows × 1835 columns</p>\n</div>"
     },
     "execution_count": 3,
     "metadata": {},
     "output_type": "execute_result"
    }
   ],
   "source": [
    "mp = pd.read_csv('~/Downloads/Metaphlan4_all_pheno_mtx.csv').rename(columns={'Unnamed: 0' : 'External ID'})\n",
    "mp = mp.set_index('External ID')\n",
    "mp"
   ],
   "metadata": {
    "collapsed": false,
    "pycharm": {
     "name": "#%%\n"
    }
   }
  },
  {
   "cell_type": "code",
   "execution_count": 6,
   "outputs": [],
   "source": [
    "select_sampels = pd.read_csv('~/Desktop/selected_samples_MTX.csv')\n",
    "select_sampels = select_sampels.set_index('External ID')\n",
    "select_sampels.drop(\"Participant ID\", inplace=True, axis=1)"
   ],
   "metadata": {
    "collapsed": false,
    "pycharm": {
     "name": "#%%\n"
    }
   }
  },
  {
   "cell_type": "code",
   "execution_count": 51,
   "outputs": [],
   "source": [
    "mp = mp.loc[select_sampels.index,:]\n",
    "mp = mp.loc[:,mp.columns.str.startswith('s__')]\n",
    "mp[\"diagnosis\"] = select_sampels.iloc[:,-1]\n",
    "mp"
   ],
   "metadata": {
    "collapsed": false,
    "pycharm": {
     "name": "#%%\n"
    }
   }
  },
  {
   "cell_type": "code",
   "execution_count": 45,
   "outputs": [],
   "source": [
    "MTX_X = mp.iloc[:,1:583]\n",
    "MTX_y = select_sampels.iloc[:,-1]\n",
    "\n",
    "#fill NA's\n",
    "MTX_X.fillna(MTX_X.median(), inplace=True)\n",
    "MTX_X = StandardScaler().fit_transform(MTX_X)\n",
    "\n",
    "from sklearn.model_selection import train_test_split\n",
    "X_train, X_test, y_train, y_test = train_test_split(MTX_X, MTX_y, test_size=0.30, random_state=0)\n",
    "# y = label_binarize(y_train, classes=[0, 1, 2])\n",
    "# n_classes = y.shape[1]"
   ],
   "metadata": {
    "collapsed": false,
    "pycharm": {
     "name": "#%%\n"
    }
   }
  },
  {
   "cell_type": "code",
   "execution_count": 50,
   "outputs": [
    {
     "name": "stdout",
     "output_type": "stream",
     "text": [
      "Best Model:\n",
      "RandomForestClassifier(max_features=2, min_samples_split=5, n_estimators=10,\n",
      "                       random_state=0)\n"
     ]
    },
    {
     "data": {
      "text/plain": "<AxesSubplot:>"
     },
     "execution_count": 50,
     "metadata": {},
     "output_type": "execute_result"
    },
    {
     "data": {
      "text/plain": "<Figure size 432x288 with 2 Axes>",
      "image/png": "[encoded data removed]"
     },
     "metadata": {},
     "output_type": "display_data"
    }
   ],
   "source": [
    "n_estimators_RF = [5, 10, 25, 50, 100]\n",
    "max_features_RF = [2,4,8,16,32,None]\n",
    "parameters_RF = {'n_estimators': n_estimators_RF,\n",
    "                'max_features': max_features_RF}\n",
    "\n",
    "RF_model = RandomForestClassifier(max_depth=None,\n",
    "                                  min_samples_split=5, random_state=0)\n",
    "RF_clf = GridSearchCV(RF_model, parameters_RF, cv=5, scoring= 'accuracy') #completeness_score')\n",
    "\n",
    "RF_clf.fit(X_train, y_train)\n",
    "\n",
    "print(\"Best Model:\")\n",
    "RF_model = RF_clf.best_estimator_\n",
    "print(RF_model)\n",
    "\n",
    "RF_predictions = RF_model.predict(X_test)\n",
    "\n",
    "# creating a confusion matrix\n",
    "labels = np.unique(y_test)\n",
    "cm_RF = confusion_matrix(y_test, RF_predictions,labels=labels)\n",
    "cm_RF = pd.DataFrame(cm_RF, index=labels, columns=labels)\n",
    "sns.heatmap(cm_RF, cmap=\"YlGnBu\", annot=True)"
   ],
   "metadata": {
    "collapsed": false,
    "pycharm": {
     "name": "#%%\n"
    }
   }
  },
  {
   "cell_type": "code",
   "execution_count": 47,
   "outputs": [
    {
     "name": "stdout",
     "output_type": "stream",
     "text": [
      "Accuracy 95.83%\n"
     ]
    }
   ],
   "source": [
    "from sklearn import metrics\n",
    "print(f'Accuracy {round(metrics.accuracy_score(y_test, RF_predictions)*100,2)}%')"
   ],
   "metadata": {
    "collapsed": false,
    "pycharm": {
     "name": "#%%\n"
    }
   }
  }
 ],
 "metadata": {
  "kernelspec": {
   "display_name": "Python 3",
   "language": "python",
   "name": "python3"
  },
  "language_info": {
   "codemirror_mode": {
    "name": "ipython",
    "version": 2
   },
   "file_extension": ".py",
   "mimetype": "text/x-python",
   "name": "python",
   "nbconvert_exporter": "python",
   "pygments_lexer": "ipython2",
   "version": "2.7.6"
  }
 },
 "nbformat": 4,
 "nbformat_minor": 0
}