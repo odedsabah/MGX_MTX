{
 "cells": [
  {
   "cell_type": "code",
   "execution_count": 3,
   "metadata": {
    "collapsed": true,
    "pycharm": {
     "name": "#%%\n"
    }
   },
   "outputs": [],
   "source": [
    "import pandas as pd\n",
    "import seaborn as sns\n",
    "import numpy as np\n",
    "\n",
    "import matplotlib.pyplot as plt\n",
    "\n",
    "\n",
    "from sklearn.metrics import roc_curve\n",
    "from sklearn.model_selection import GridSearchCV\n",
    "from sklearn.neighbors import KNeighborsClassifier\n",
    "from sklearn.neighbors import RadiusNeighborsClassifier\n",
    "from sklearn.linear_model import LogisticRegression\n",
    "from sklearn.tree import DecisionTreeClassifier\n",
    "from sklearn.linear_model import LogisticRegressionCV\n",
    "from sklearn.ensemble import RandomForestClassifier\n",
    "from sklearn.neural_network import MLPClassifier\n",
    "\n",
    "from sklearn.preprocessing import StandardScaler\n",
    "from sklearn.model_selection import train_test_split\n",
    "\n",
    "from sklearn import svm\n",
    "from sklearn.metrics import roc_auc_score\n",
    "from sklearn.metrics import roc_curve\n",
    "from sklearn.metrics import confusion_matrix\n",
    "from sklearn.metrics import cohen_kappa_score, make_scorer, f1_score, accuracy_score"
   ]
  },
  {
   "cell_type": "code",
   "execution_count": 4,
   "outputs": [
    {
     "data": {
      "text/plain": "             k__Bacteria  p__Firmicutes  p__Bacteroidetes  p__Actinobacteria  \\\nExternal ID                                                                    \nPSM7J14T       100.00000       67.61532          31.66794            0.36386   \nCSM79HOL       100.00000       28.91057          70.64680            0.34668   \nCSM67U9D       100.00000       47.11364          52.38839            0.42247   \nMSM6J2MF       100.00000       96.01353           0.22109            0.20955   \nHSM7J4N4       100.00000       17.14361          80.79733            0.05757   \n...                  ...            ...               ...                ...   \nMSMA26BL       100.00000       27.79505          71.62210            0.29711   \nMSM79H9A        99.66905       28.47878          65.11674            0.86353   \nHSM7J4KK       100.00000       19.76531          76.59708            1.49518   \nMSM79HC4       100.00000       76.87305          21.60764            1.29456   \nHSM7J4G1       100.00000       18.40620          80.04964            0.41987   \n\n             p__Proteobacteria  c__Negativicutes  c__Actinobacteria  \\\nExternal ID                                                           \nPSM7J14T               0.35288           2.98834            0.29015   \nCSM79HOL               0.09595           2.86351            0.28805   \nCSM67U9D               0.07550           2.56107            0.23156   \nMSM6J2MF               3.55583          10.64325            0.15724   \nHSM7J4N4               2.00149           0.80214            0.15724   \n...                        ...               ...                ...   \nMSMA26BL               0.28574           1.62632            0.27860   \nMSM79H9A               0.23498           0.27598            0.76428   \nHSM7J4KK               0.91694           0.89954            1.06601   \nMSM79HC4               0.21910           0.76407            1.02146   \nHSM7J4G1               1.10611           1.41417            0.18141   \n\n             c__Bacilli  c__Gammaproteobacteria  c__Coriobacteriia  ...  \\\nExternal ID                                                         ...   \nPSM7J14T        0.14747                 0.13561            0.07371  ...   \nCSM79HOL        0.14747                 0.13561            0.05863  ...   \nCSM67U9D        0.14747                 0.03417            0.19091  ...   \nMSM6J2MF        0.47343                 3.55583            0.05230  ...   \nHSM7J4N4        0.47343                 1.38644            0.05757  ...   \n...                 ...                     ...                ...  ...   \nMSMA26BL        0.04210                 0.25020            0.01850  ...   \nMSM79H9A        0.04392                 0.07296            0.09925  ...   \nHSM7J4KK        0.01202                 0.65780            0.42918  ...   \nMSM79HC4        0.06620                 0.07774            0.27311  ...   \nHSM7J4G1        0.11689                 0.91017            0.23846  ...   \n\n             s__Dysgonomonas_mossii  s__Lactobacillus_oris  \\\nExternal ID                                                  \nPSM7J14T                    0.00000                0.00000   \nCSM79HOL                    0.00000                0.00000   \nCSM67U9D                    0.00000                0.00000   \nMSM6J2MF                    0.00000                0.00000   \nHSM7J4N4                    0.00000                0.00000   \n...                             ...                    ...   \nMSMA26BL                    0.11053                0.00381   \nMSM79H9A                    0.11053                0.00381   \nHSM7J4KK                    0.11053                0.00381   \nMSM79HC4                    0.11053                0.00381   \nHSM7J4G1                    0.11053                0.00381   \n\n             s__Anaerostipes_sp_992a  s__Prevotella_amnii  \\\nExternal ID                                                 \nPSM7J14T                     0.00000                0.000   \nCSM79HOL                     0.00000                0.000   \nCSM67U9D                     0.00000                0.000   \nMSM6J2MF                     0.00000                0.000   \nHSM7J4N4                     0.00000                0.000   \n...                              ...                  ...   \nMSMA26BL                     0.34556                0.027   \nMSM79H9A                     0.34556                0.027   \nHSM7J4KK                     0.34556                0.027   \nMSM79HC4                     0.34556                0.027   \nHSM7J4G1                     0.34556                0.027   \n\n             s__Clostridium_sp_CAG_413  s__Bacteroides_pectinophilus  \\\nExternal ID                                                            \nPSM7J14T                       0.00000                       0.00000   \nCSM79HOL                       0.00000                       0.00000   \nCSM67U9D                       0.00000                       0.00000   \nMSM6J2MF                       0.00000                       0.00000   \nHSM7J4N4                       0.00000                       0.00000   \n...                                ...                           ...   \nMSMA26BL                       0.14151                       0.03613   \nMSM79H9A                       0.14151                       0.03613   \nHSM7J4KK                       0.14151                       0.03613   \nMSM79HC4                       0.14151                       0.03613   \nHSM7J4G1                       0.14151                       0.03613   \n\n             s__Bacteroides_sp_CAG_661  s__Bacteroides_sp_CAG_598  \\\nExternal ID                                                         \nPSM7J14T                       0.00000                    0.00000   \nCSM79HOL                       0.00000                    0.00000   \nCSM67U9D                       0.00000                    0.00000   \nMSM6J2MF                       0.00000                    0.00000   \nHSM7J4N4                       0.00000                    0.00000   \n...                                ...                        ...   \nMSMA26BL                       0.00493                    0.00196   \nMSM79H9A                       0.00493                    0.00196   \nHSM7J4KK                       0.00493                    0.00196   \nMSM79HC4                       0.00493                    0.00196   \nHSM7J4G1                       0.00493                    0.00196   \n\n             s__Lachnoclostridium_sp_An298  Diagnosis  \nExternal ID                                            \nPSM7J14T                           0.00000         CD  \nCSM79HOL                           0.00000         CD  \nCSM67U9D                           0.00000         CD  \nMSM6J2MF                           0.00000         CD  \nHSM7J4N4                           0.00000         CD  \n...                                    ...        ...  \nMSMA26BL                           0.01555    Control  \nMSM79H9A                           0.01555    Control  \nHSM7J4KK                           0.01555    Control  \nMSM79HC4                           0.01555    Control  \nHSM7J4G1                           0.01555    Control  \n\n[1338 rows x 636 columns]",
      "text/html": "<div>\n<style scoped>\n    .dataframe tbody tr th:only-of-type {\n        vertical-align: middle;\n    }\n\n    .dataframe tbody tr th {\n        vertical-align: top;\n    }\n\n    .dataframe thead th {\n        text-align: right;\n    }\n</style>\n<table border=\"1\" class=\"dataframe\">\n  <thead>\n    <tr style=\"text-align: right;\">\n      <th></th>\n      <th>k__Bacteria</th>\n      <th>p__Firmicutes</th>\n      <th>p__Bacteroidetes</th>\n      <th>p__Actinobacteria</th>\n      <th>p__Proteobacteria</th>\n      <th>c__Negativicutes</th>\n      <th>c__Actinobacteria</th>\n      <th>c__Bacilli</th>\n      <th>c__Gammaproteobacteria</th>\n      <th>c__Coriobacteriia</th>\n      <th>...</th>\n      <th>s__Dysgonomonas_mossii</th>\n      <th>s__Lactobacillus_oris</th>\n      <th>s__Anaerostipes_sp_992a</th>\n      <th>s__Prevotella_amnii</th>\n      <th>s__Clostridium_sp_CAG_413</th>\n      <th>s__Bacteroides_pectinophilus</th>\n      <th>s__Bacteroides_sp_CAG_661</th>\n      <th>s__Bacteroides_sp_CAG_598</th>\n      <th>s__Lachnoclostridium_sp_An298</th>\n      <th>Diagnosis</th>\n    </tr>\n    <tr>\n      <th>External ID</th>\n      <th></th>\n      <th></th>\n      <th></th>\n      <th></th>\n      <th></th>\n      <th></th>\n      <th></th>\n      <th></th>\n      <th></th>\n      <th></th>\n      <th></th>\n      <th></th>\n      <th></th>\n      <th></th>\n      <th></th>\n      <th></th>\n      <th></th>\n      <th></th>\n      <th></th>\n      <th></th>\n      <th></th>\n    </tr>\n  </thead>\n  <tbody>\n    <tr>\n      <th>PSM7J14T</th>\n      <td>100.00000</td>\n      <td>67.61532</td>\n      <td>31.66794</td>\n      <td>0.36386</td>\n      <td>0.35288</td>\n      <td>2.98834</td>\n      <td>0.29015</td>\n      <td>0.14747</td>\n      <td>0.13561</td>\n      <td>0.07371</td>\n      <td>...</td>\n      <td>0.00000</td>\n      <td>0.00000</td>\n      <td>0.00000</td>\n      <td>0.000</td>\n      <td>0.00000</td>\n      <td>0.00000</td>\n      <td>0.00000</td>\n      <td>0.00000</td>\n      <td>0.00000</td>\n      <td>CD</td>\n    </tr>\n    <tr>\n      <th>CSM79HOL</th>\n      <td>100.00000</td>\n      <td>28.91057</td>\n      <td>70.64680</td>\n      <td>0.34668</td>\n      <td>0.09595</td>\n      <td>2.86351</td>\n      <td>0.28805</td>\n      <td>0.14747</td>\n      <td>0.13561</td>\n      <td>0.05863</td>\n      <td>...</td>\n      <td>0.00000</td>\n      <td>0.00000</td>\n      <td>0.00000</td>\n      <td>0.000</td>\n      <td>0.00000</td>\n      <td>0.00000</td>\n      <td>0.00000</td>\n      <td>0.00000</td>\n      <td>0.00000</td>\n      <td>CD</td>\n    </tr>\n    <tr>\n      <th>CSM67U9D</th>\n      <td>100.00000</td>\n      <td>47.11364</td>\n      <td>52.38839</td>\n      <td>0.42247</td>\n      <td>0.07550</td>\n      <td>2.56107</td>\n      <td>0.23156</td>\n      <td>0.14747</td>\n      <td>0.03417</td>\n      <td>0.19091</td>\n      <td>...</td>\n      <td>0.00000</td>\n      <td>0.00000</td>\n      <td>0.00000</td>\n      <td>0.000</td>\n      <td>0.00000</td>\n      <td>0.00000</td>\n      <td>0.00000</td>\n      <td>0.00000</td>\n      <td>0.00000</td>\n      <td>CD</td>\n    </tr>\n    <tr>\n      <th>MSM6J2MF</th>\n      <td>100.00000</td>\n      <td>96.01353</td>\n      <td>0.22109</td>\n      <td>0.20955</td>\n      <td>3.55583</td>\n      <td>10.64325</td>\n      <td>0.15724</td>\n      <td>0.47343</td>\n      <td>3.55583</td>\n      <td>0.05230</td>\n      <td>...</td>\n      <td>0.00000</td>\n      <td>0.00000</td>\n      <td>0.00000</td>\n      <td>0.000</td>\n      <td>0.00000</td>\n      <td>0.00000</td>\n      <td>0.00000</td>\n      <td>0.00000</td>\n      <td>0.00000</td>\n      <td>CD</td>\n    </tr>\n    <tr>\n      <th>HSM7J4N4</th>\n      <td>100.00000</td>\n      <td>17.14361</td>\n      <td>80.79733</td>\n      <td>0.05757</td>\n      <td>2.00149</td>\n      <td>0.80214</td>\n      <td>0.15724</td>\n      <td>0.47343</td>\n      <td>1.38644</td>\n      <td>0.05757</td>\n      <td>...</td>\n      <td>0.00000</td>\n      <td>0.00000</td>\n      <td>0.00000</td>\n      <td>0.000</td>\n      <td>0.00000</td>\n      <td>0.00000</td>\n      <td>0.00000</td>\n      <td>0.00000</td>\n      <td>0.00000</td>\n      <td>CD</td>\n    </tr>\n    <tr>\n      <th>...</th>\n      <td>...</td>\n      <td>...</td>\n      <td>...</td>\n      <td>...</td>\n      <td>...</td>\n      <td>...</td>\n      <td>...</td>\n      <td>...</td>\n      <td>...</td>\n      <td>...</td>\n      <td>...</td>\n      <td>...</td>\n      <td>...</td>\n      <td>...</td>\n      <td>...</td>\n      <td>...</td>\n      <td>...</td>\n      <td>...</td>\n      <td>...</td>\n      <td>...</td>\n      <td>...</td>\n    </tr>\n    <tr>\n      <th>MSMA26BL</th>\n      <td>100.00000</td>\n      <td>27.79505</td>\n      <td>71.62210</td>\n      <td>0.29711</td>\n      <td>0.28574</td>\n      <td>1.62632</td>\n      <td>0.27860</td>\n      <td>0.04210</td>\n      <td>0.25020</td>\n      <td>0.01850</td>\n      <td>...</td>\n      <td>0.11053</td>\n      <td>0.00381</td>\n      <td>0.34556</td>\n      <td>0.027</td>\n      <td>0.14151</td>\n      <td>0.03613</td>\n      <td>0.00493</td>\n      <td>0.00196</td>\n      <td>0.01555</td>\n      <td>Control</td>\n    </tr>\n    <tr>\n      <th>MSM79H9A</th>\n      <td>99.66905</td>\n      <td>28.47878</td>\n      <td>65.11674</td>\n      <td>0.86353</td>\n      <td>0.23498</td>\n      <td>0.27598</td>\n      <td>0.76428</td>\n      <td>0.04392</td>\n      <td>0.07296</td>\n      <td>0.09925</td>\n      <td>...</td>\n      <td>0.11053</td>\n      <td>0.00381</td>\n      <td>0.34556</td>\n      <td>0.027</td>\n      <td>0.14151</td>\n      <td>0.03613</td>\n      <td>0.00493</td>\n      <td>0.00196</td>\n      <td>0.01555</td>\n      <td>Control</td>\n    </tr>\n    <tr>\n      <th>HSM7J4KK</th>\n      <td>100.00000</td>\n      <td>19.76531</td>\n      <td>76.59708</td>\n      <td>1.49518</td>\n      <td>0.91694</td>\n      <td>0.89954</td>\n      <td>1.06601</td>\n      <td>0.01202</td>\n      <td>0.65780</td>\n      <td>0.42918</td>\n      <td>...</td>\n      <td>0.11053</td>\n      <td>0.00381</td>\n      <td>0.34556</td>\n      <td>0.027</td>\n      <td>0.14151</td>\n      <td>0.03613</td>\n      <td>0.00493</td>\n      <td>0.00196</td>\n      <td>0.01555</td>\n      <td>Control</td>\n    </tr>\n    <tr>\n      <th>MSM79HC4</th>\n      <td>100.00000</td>\n      <td>76.87305</td>\n      <td>21.60764</td>\n      <td>1.29456</td>\n      <td>0.21910</td>\n      <td>0.76407</td>\n      <td>1.02146</td>\n      <td>0.06620</td>\n      <td>0.07774</td>\n      <td>0.27311</td>\n      <td>...</td>\n      <td>0.11053</td>\n      <td>0.00381</td>\n      <td>0.34556</td>\n      <td>0.027</td>\n      <td>0.14151</td>\n      <td>0.03613</td>\n      <td>0.00493</td>\n      <td>0.00196</td>\n      <td>0.01555</td>\n      <td>Control</td>\n    </tr>\n    <tr>\n      <th>HSM7J4G1</th>\n      <td>100.00000</td>\n      <td>18.40620</td>\n      <td>80.04964</td>\n      <td>0.41987</td>\n      <td>1.10611</td>\n      <td>1.41417</td>\n      <td>0.18141</td>\n      <td>0.11689</td>\n      <td>0.91017</td>\n      <td>0.23846</td>\n      <td>...</td>\n      <td>0.11053</td>\n      <td>0.00381</td>\n      <td>0.34556</td>\n      <td>0.027</td>\n      <td>0.14151</td>\n      <td>0.03613</td>\n      <td>0.00493</td>\n      <td>0.00196</td>\n      <td>0.01555</td>\n      <td>Control</td>\n    </tr>\n  </tbody>\n</table>\n<p>1338 rows × 636 columns</p>\n</div>"
     },
     "execution_count": 4,
     "metadata": {},
     "output_type": "execute_result"
    }
   ],
   "source": [
    "mp = pd.read_csv('~/Desktop/To_prediction/Metaphlan3_pheno_out.csv').rename(columns={'Unnamed: 0' : 'External ID'})\n",
    "mp = mp.set_index('External ID')\n",
    "mp"
   ],
   "metadata": {
    "collapsed": false,
    "pycharm": {
     "name": "#%%\n"
    }
   }
  },
  {
   "cell_type": "code",
   "execution_count": 5,
   "outputs": [
    {
     "data": {
      "text/plain": "             fecalcal_max Diagnosis\nExternal ID                        \nCSM67UA2         37.17836        CD\nCSM5MCVN         16.32450        CD\nCSM67UBZ         14.30000        UC\nCSM5MCXL         70.91411        UC\nCSM5MCY8        232.60620        UC\n...                   ...       ...\nPSM7J19N         16.78459    nonIBD\nPSM6XBW3         79.82248    nonIBD\nPSM7J12J        289.22620        CD\nPSM7J1BX         21.31494        UC\nPSMA264O        127.56480        UC\n\n[83 rows x 2 columns]",
      "text/html": "<div>\n<style scoped>\n    .dataframe tbody tr th:only-of-type {\n        vertical-align: middle;\n    }\n\n    .dataframe tbody tr th {\n        vertical-align: top;\n    }\n\n    .dataframe thead th {\n        text-align: right;\n    }\n</style>\n<table border=\"1\" class=\"dataframe\">\n  <thead>\n    <tr style=\"text-align: right;\">\n      <th></th>\n      <th>fecalcal_max</th>\n      <th>Diagnosis</th>\n    </tr>\n    <tr>\n      <th>External ID</th>\n      <th></th>\n      <th></th>\n    </tr>\n  </thead>\n  <tbody>\n    <tr>\n      <th>CSM67UA2</th>\n      <td>37.17836</td>\n      <td>CD</td>\n    </tr>\n    <tr>\n      <th>CSM5MCVN</th>\n      <td>16.32450</td>\n      <td>CD</td>\n    </tr>\n    <tr>\n      <th>CSM67UBZ</th>\n      <td>14.30000</td>\n      <td>UC</td>\n    </tr>\n    <tr>\n      <th>CSM5MCXL</th>\n      <td>70.91411</td>\n      <td>UC</td>\n    </tr>\n    <tr>\n      <th>CSM5MCY8</th>\n      <td>232.60620</td>\n      <td>UC</td>\n    </tr>\n    <tr>\n      <th>...</th>\n      <td>...</td>\n      <td>...</td>\n    </tr>\n    <tr>\n      <th>PSM7J19N</th>\n      <td>16.78459</td>\n      <td>nonIBD</td>\n    </tr>\n    <tr>\n      <th>PSM6XBW3</th>\n      <td>79.82248</td>\n      <td>nonIBD</td>\n    </tr>\n    <tr>\n      <th>PSM7J12J</th>\n      <td>289.22620</td>\n      <td>CD</td>\n    </tr>\n    <tr>\n      <th>PSM7J1BX</th>\n      <td>21.31494</td>\n      <td>UC</td>\n    </tr>\n    <tr>\n      <th>PSMA264O</th>\n      <td>127.56480</td>\n      <td>UC</td>\n    </tr>\n  </tbody>\n</table>\n<p>83 rows × 2 columns</p>\n</div>"
     },
     "execution_count": 5,
     "metadata": {},
     "output_type": "execute_result"
    }
   ],
   "source": [
    "select_sampels = pd.read_csv('~/Desktop/selected_samples.csv')\n",
    "select_sampels = select_sampels.set_index('External ID')\n",
    "select_sampels.drop(\"Participant ID\", inplace=True, axis=1)\n",
    "select_sampels"
   ],
   "metadata": {
    "collapsed": false,
    "pycharm": {
     "name": "#%%\n"
    }
   }
  },
  {
   "cell_type": "code",
   "execution_count": 10,
   "outputs": [
    {
     "data": {
      "text/plain": "             s__Eubacterium_rectale  s__Bacteroides_vulgatus  \\\nExternal ID                                                    \nCSM67UA2                    1.60280                 36.71092   \nCSM5MCVN                    1.40462                 59.26093   \nCSM67UBZ                    0.19670                 54.03134   \nCSM5MCXL                    4.00191                 28.84702   \nCSM5MCY8                    0.88858                 37.24257   \n...                             ...                      ...   \nPSM7J19N                    1.76115                  5.96316   \nPSM6XBW3                    0.01044                  7.59653   \nPSM7J12J                    2.08201                 31.18294   \nPSM7J1BX                   13.54000                 19.07588   \nPSMA264O                    0.17537                  6.91706   \n\n             s__Roseburia_faecis  s__Roseburia_inulinivorans  \\\nExternal ID                                                    \nCSM67UA2                 2.08272                     0.04617   \nCSM5MCVN                 0.04425                     0.22007   \nCSM67UBZ                 4.19026                     0.02277   \nCSM5MCXL                14.26485                     1.05975   \nCSM5MCY8                 0.04678                     0.51389   \n...                          ...                         ...   \nPSM7J19N                 0.02227                     0.78443   \nPSM6XBW3                 0.36539                     0.09284   \nPSM7J12J                 1.86483                     0.29568   \nPSM7J1BX                 2.74675                     0.02717   \nPSMA264O                 3.80985                     1.32083   \n\n             s__Faecalibacterium_prausnitzii  s__Bacteroides_uniformis  \\\nExternal ID                                                              \nCSM67UA2                             1.35692                  27.54215   \nCSM5MCVN                             1.65773                  21.76774   \nCSM67UBZ                             9.26557                  20.48908   \nCSM5MCXL                             1.21332                  17.05426   \nCSM5MCY8                             1.98052                  12.58333   \n...                                      ...                       ...   \nPSM7J19N                             5.45038                   5.43963   \nPSM6XBW3                             4.52676                   1.40925   \nPSM7J12J                             6.08941                   9.68155   \nPSM7J1BX                            18.13113                   8.34907   \nPSMA264O                             5.51157                   1.36557   \n\n             s__Ruminococcus_bromii  s__Roseburia_intestinalis  \\\nExternal ID                                                      \nCSM67UA2                    0.09280                    0.06951   \nCSM5MCVN                    0.36580                    0.06669   \nCSM67UBZ                    1.21533                    1.17502   \nCSM5MCXL                    0.13059                   12.08812   \nCSM5MCY8                    0.30843                    0.68305   \n...                             ...                        ...   \nPSM7J19N                    0.33984                    0.94363   \nPSM6XBW3                    0.22098                    0.39336   \nPSM7J12J                    0.39770                    0.84954   \nPSM7J1BX                    1.96454                    6.52488   \nPSMA264O                    3.11505                    0.14374   \n\n             s__Bacteroides_xylanisolvens  s__Eubacterium_sp_CAG_38  ...  \\\nExternal ID                                                          ...   \nCSM67UA2                         10.33616                   0.22458  ...   \nCSM5MCVN                          3.50131                   0.27288  ...   \nCSM67UBZ                          0.31175                   0.07447  ...   \nCSM5MCXL                          0.00460                   1.60439  ...   \nCSM5MCY8                          3.88345                   1.21840  ...   \n...                                   ...                       ...  ...   \nPSM7J19N                          1.69432                   0.47594  ...   \nPSM6XBW3                          0.20741                   0.14176  ...   \nPSM7J12J                          0.67501                   0.84226  ...   \nPSM7J1BX                          0.11197                   0.09460  ...   \nPSMA264O                          0.02432                   0.13855  ...   \n\n             s__Dysgonomonas_mossii  s__Lactobacillus_oris  \\\nExternal ID                                                  \nCSM67UA2                    0.00000                0.00000   \nCSM5MCVN                    0.00000                0.00000   \nCSM67UBZ                    0.00000                0.00000   \nCSM5MCXL                    0.00000                0.00000   \nCSM5MCY8                    0.00000                0.00000   \n...                             ...                    ...   \nPSM7J19N                    0.32258                0.01943   \nPSM6XBW3                    0.11053                0.01943   \nPSM7J12J                    0.00000                0.00000   \nPSM7J1BX                    0.00000                0.00000   \nPSMA264O                    0.00000                0.00000   \n\n             s__Anaerostipes_sp_992a  s__Prevotella_amnii  \\\nExternal ID                                                 \nCSM67UA2                     0.00000                0.000   \nCSM5MCVN                     0.00000                0.000   \nCSM67UBZ                     0.00000                0.000   \nCSM5MCXL                     0.00000                0.000   \nCSM5MCY8                     0.00000                0.000   \n...                              ...                  ...   \nPSM7J19N                     0.34556                0.027   \nPSM6XBW3                     0.34556                0.027   \nPSM7J12J                     0.00000                0.000   \nPSM7J1BX                     0.00000                0.000   \nPSMA264O                     0.00000                0.000   \n\n             s__Clostridium_sp_CAG_413  s__Bacteroides_pectinophilus  \\\nExternal ID                                                            \nCSM67UA2                       0.00000                       0.00000   \nCSM5MCVN                       0.00000                       0.00000   \nCSM67UBZ                       0.00000                       0.00000   \nCSM5MCXL                       0.00000                       0.00000   \nCSM5MCY8                       0.00000                       0.00000   \n...                                ...                           ...   \nPSM7J19N                       0.14151                       1.05774   \nPSM6XBW3                       0.14151                       0.03613   \nPSM7J12J                       0.00000                       0.00000   \nPSM7J1BX                       0.00000                       0.00000   \nPSMA264O                       0.00000                       0.00000   \n\n             s__Bacteroides_sp_CAG_661  s__Bacteroides_sp_CAG_598  \\\nExternal ID                                                         \nCSM67UA2                       0.00000                    0.00000   \nCSM5MCVN                       0.00000                    0.00000   \nCSM67UBZ                       0.00000                    0.00000   \nCSM5MCXL                       0.00000                    0.00000   \nCSM5MCY8                       0.00000                    0.00000   \n...                                ...                        ...   \nPSM7J19N                       0.00493                    0.00196   \nPSM6XBW3                       0.00493                    0.00196   \nPSM7J12J                       0.00000                    0.00000   \nPSM7J1BX                       0.00000                    0.00000   \nPSMA264O                       0.00000                    0.00000   \n\n             s__Lachnoclostridium_sp_An298  diagnosis  \nExternal ID                                            \nCSM67UA2                           0.00000         CD  \nCSM5MCVN                           0.00000         CD  \nCSM67UBZ                           0.00000         UC  \nCSM5MCXL                           0.00000         UC  \nCSM5MCY8                           0.00000         UC  \n...                                    ...        ...  \nPSM7J19N                           0.01555     nonIBD  \nPSM6XBW3                           0.01555     nonIBD  \nPSM7J12J                           0.00000         CD  \nPSM7J1BX                           0.00000         UC  \nPSMA264O                           0.00000         UC  \n\n[83 rows x 499 columns]",
      "text/html": "<div>\n<style scoped>\n    .dataframe tbody tr th:only-of-type {\n        vertical-align: middle;\n    }\n\n    .dataframe tbody tr th {\n        vertical-align: top;\n    }\n\n    .dataframe thead th {\n        text-align: right;\n    }\n</style>\n<table border=\"1\" class=\"dataframe\">\n  <thead>\n    <tr style=\"text-align: right;\">\n      <th></th>\n      <th>s__Eubacterium_rectale</th>\n      <th>s__Bacteroides_vulgatus</th>\n      <th>s__Roseburia_faecis</th>\n      <th>s__Roseburia_inulinivorans</th>\n      <th>s__Faecalibacterium_prausnitzii</th>\n      <th>s__Bacteroides_uniformis</th>\n      <th>s__Ruminococcus_bromii</th>\n      <th>s__Roseburia_intestinalis</th>\n      <th>s__Bacteroides_xylanisolvens</th>\n      <th>s__Eubacterium_sp_CAG_38</th>\n      <th>...</th>\n      <th>s__Dysgonomonas_mossii</th>\n      <th>s__Lactobacillus_oris</th>\n      <th>s__Anaerostipes_sp_992a</th>\n      <th>s__Prevotella_amnii</th>\n      <th>s__Clostridium_sp_CAG_413</th>\n      <th>s__Bacteroides_pectinophilus</th>\n      <th>s__Bacteroides_sp_CAG_661</th>\n      <th>s__Bacteroides_sp_CAG_598</th>\n      <th>s__Lachnoclostridium_sp_An298</th>\n      <th>diagnosis</th>\n    </tr>\n    <tr>\n      <th>External ID</th>\n      <th></th>\n      <th></th>\n      <th></th>\n      <th></th>\n      <th></th>\n      <th></th>\n      <th></th>\n      <th></th>\n      <th></th>\n      <th></th>\n      <th></th>\n      <th></th>\n      <th></th>\n      <th></th>\n      <th></th>\n      <th></th>\n      <th></th>\n      <th></th>\n      <th></th>\n      <th></th>\n      <th></th>\n    </tr>\n  </thead>\n  <tbody>\n    <tr>\n      <th>CSM67UA2</th>\n      <td>1.60280</td>\n      <td>36.71092</td>\n      <td>2.08272</td>\n      <td>0.04617</td>\n      <td>1.35692</td>\n      <td>27.54215</td>\n      <td>0.09280</td>\n      <td>0.06951</td>\n      <td>10.33616</td>\n      <td>0.22458</td>\n      <td>...</td>\n      <td>0.00000</td>\n      <td>0.00000</td>\n      <td>0.00000</td>\n      <td>0.000</td>\n      <td>0.00000</td>\n      <td>0.00000</td>\n      <td>0.00000</td>\n      <td>0.00000</td>\n      <td>0.00000</td>\n      <td>CD</td>\n    </tr>\n    <tr>\n      <th>CSM5MCVN</th>\n      <td>1.40462</td>\n      <td>59.26093</td>\n      <td>0.04425</td>\n      <td>0.22007</td>\n      <td>1.65773</td>\n      <td>21.76774</td>\n      <td>0.36580</td>\n      <td>0.06669</td>\n      <td>3.50131</td>\n      <td>0.27288</td>\n      <td>...</td>\n      <td>0.00000</td>\n      <td>0.00000</td>\n      <td>0.00000</td>\n      <td>0.000</td>\n      <td>0.00000</td>\n      <td>0.00000</td>\n      <td>0.00000</td>\n      <td>0.00000</td>\n      <td>0.00000</td>\n      <td>CD</td>\n    </tr>\n    <tr>\n      <th>CSM67UBZ</th>\n      <td>0.19670</td>\n      <td>54.03134</td>\n      <td>4.19026</td>\n      <td>0.02277</td>\n      <td>9.26557</td>\n      <td>20.48908</td>\n      <td>1.21533</td>\n      <td>1.17502</td>\n      <td>0.31175</td>\n      <td>0.07447</td>\n      <td>...</td>\n      <td>0.00000</td>\n      <td>0.00000</td>\n      <td>0.00000</td>\n      <td>0.000</td>\n      <td>0.00000</td>\n      <td>0.00000</td>\n      <td>0.00000</td>\n      <td>0.00000</td>\n      <td>0.00000</td>\n      <td>UC</td>\n    </tr>\n    <tr>\n      <th>CSM5MCXL</th>\n      <td>4.00191</td>\n      <td>28.84702</td>\n      <td>14.26485</td>\n      <td>1.05975</td>\n      <td>1.21332</td>\n      <td>17.05426</td>\n      <td>0.13059</td>\n      <td>12.08812</td>\n      <td>0.00460</td>\n      <td>1.60439</td>\n      <td>...</td>\n      <td>0.00000</td>\n      <td>0.00000</td>\n      <td>0.00000</td>\n      <td>0.000</td>\n      <td>0.00000</td>\n      <td>0.00000</td>\n      <td>0.00000</td>\n      <td>0.00000</td>\n      <td>0.00000</td>\n      <td>UC</td>\n    </tr>\n    <tr>\n      <th>CSM5MCY8</th>\n      <td>0.88858</td>\n      <td>37.24257</td>\n      <td>0.04678</td>\n      <td>0.51389</td>\n      <td>1.98052</td>\n      <td>12.58333</td>\n      <td>0.30843</td>\n      <td>0.68305</td>\n      <td>3.88345</td>\n      <td>1.21840</td>\n      <td>...</td>\n      <td>0.00000</td>\n      <td>0.00000</td>\n      <td>0.00000</td>\n      <td>0.000</td>\n      <td>0.00000</td>\n      <td>0.00000</td>\n      <td>0.00000</td>\n      <td>0.00000</td>\n      <td>0.00000</td>\n      <td>UC</td>\n    </tr>\n    <tr>\n      <th>...</th>\n      <td>...</td>\n      <td>...</td>\n      <td>...</td>\n      <td>...</td>\n      <td>...</td>\n      <td>...</td>\n      <td>...</td>\n      <td>...</td>\n      <td>...</td>\n      <td>...</td>\n      <td>...</td>\n      <td>...</td>\n      <td>...</td>\n      <td>...</td>\n      <td>...</td>\n      <td>...</td>\n      <td>...</td>\n      <td>...</td>\n      <td>...</td>\n      <td>...</td>\n      <td>...</td>\n    </tr>\n    <tr>\n      <th>PSM7J19N</th>\n      <td>1.76115</td>\n      <td>5.96316</td>\n      <td>0.02227</td>\n      <td>0.78443</td>\n      <td>5.45038</td>\n      <td>5.43963</td>\n      <td>0.33984</td>\n      <td>0.94363</td>\n      <td>1.69432</td>\n      <td>0.47594</td>\n      <td>...</td>\n      <td>0.32258</td>\n      <td>0.01943</td>\n      <td>0.34556</td>\n      <td>0.027</td>\n      <td>0.14151</td>\n      <td>1.05774</td>\n      <td>0.00493</td>\n      <td>0.00196</td>\n      <td>0.01555</td>\n      <td>nonIBD</td>\n    </tr>\n    <tr>\n      <th>PSM6XBW3</th>\n      <td>0.01044</td>\n      <td>7.59653</td>\n      <td>0.36539</td>\n      <td>0.09284</td>\n      <td>4.52676</td>\n      <td>1.40925</td>\n      <td>0.22098</td>\n      <td>0.39336</td>\n      <td>0.20741</td>\n      <td>0.14176</td>\n      <td>...</td>\n      <td>0.11053</td>\n      <td>0.01943</td>\n      <td>0.34556</td>\n      <td>0.027</td>\n      <td>0.14151</td>\n      <td>0.03613</td>\n      <td>0.00493</td>\n      <td>0.00196</td>\n      <td>0.01555</td>\n      <td>nonIBD</td>\n    </tr>\n    <tr>\n      <th>PSM7J12J</th>\n      <td>2.08201</td>\n      <td>31.18294</td>\n      <td>1.86483</td>\n      <td>0.29568</td>\n      <td>6.08941</td>\n      <td>9.68155</td>\n      <td>0.39770</td>\n      <td>0.84954</td>\n      <td>0.67501</td>\n      <td>0.84226</td>\n      <td>...</td>\n      <td>0.00000</td>\n      <td>0.00000</td>\n      <td>0.00000</td>\n      <td>0.000</td>\n      <td>0.00000</td>\n      <td>0.00000</td>\n      <td>0.00000</td>\n      <td>0.00000</td>\n      <td>0.00000</td>\n      <td>CD</td>\n    </tr>\n    <tr>\n      <th>PSM7J1BX</th>\n      <td>13.54000</td>\n      <td>19.07588</td>\n      <td>2.74675</td>\n      <td>0.02717</td>\n      <td>18.13113</td>\n      <td>8.34907</td>\n      <td>1.96454</td>\n      <td>6.52488</td>\n      <td>0.11197</td>\n      <td>0.09460</td>\n      <td>...</td>\n      <td>0.00000</td>\n      <td>0.00000</td>\n      <td>0.00000</td>\n      <td>0.000</td>\n      <td>0.00000</td>\n      <td>0.00000</td>\n      <td>0.00000</td>\n      <td>0.00000</td>\n      <td>0.00000</td>\n      <td>UC</td>\n    </tr>\n    <tr>\n      <th>PSMA264O</th>\n      <td>0.17537</td>\n      <td>6.91706</td>\n      <td>3.80985</td>\n      <td>1.32083</td>\n      <td>5.51157</td>\n      <td>1.36557</td>\n      <td>3.11505</td>\n      <td>0.14374</td>\n      <td>0.02432</td>\n      <td>0.13855</td>\n      <td>...</td>\n      <td>0.00000</td>\n      <td>0.00000</td>\n      <td>0.00000</td>\n      <td>0.000</td>\n      <td>0.00000</td>\n      <td>0.00000</td>\n      <td>0.00000</td>\n      <td>0.00000</td>\n      <td>0.00000</td>\n      <td>UC</td>\n    </tr>\n  </tbody>\n</table>\n<p>83 rows × 499 columns</p>\n</div>"
     },
     "execution_count": 10,
     "metadata": {},
     "output_type": "execute_result"
    }
   ],
   "source": [
    "mp = mp.loc[select_sampels.index,:]\n",
    "mp = mp.loc[:,mp.columns.str.startswith('s__')]\n",
    "mp[\"diagnosis\"] = select_sampels.iloc[:,-1]\n",
    "mp"
   ],
   "metadata": {
    "collapsed": false,
    "pycharm": {
     "name": "#%%\n"
    }
   }
  },
  {
   "cell_type": "code",
   "execution_count": 15,
   "outputs": [],
   "source": [
    "MTX_X = mp.iloc[:,1:498]\n",
    "MTX_y = select_sampels.iloc[:,-1]\n",
    "\n",
    "#fill NA's\n",
    "MTX_X.fillna(MTX_X.median(), inplace=True)\n",
    "MTX_X = StandardScaler().fit_transform(MTX_X)\n",
    "\n",
    "from sklearn.model_selection import train_test_split\n",
    "X_train, X_test, y_train, y_test = train_test_split(MTX_X, MTX_y, test_size=0.40, random_state=42)"
   ],
   "metadata": {
    "collapsed": false,
    "pycharm": {
     "name": "#%%\n"
    }
   }
  },
  {
   "cell_type": "code",
   "execution_count": 16,
   "outputs": [
    {
     "name": "stdout",
     "output_type": "stream",
     "text": [
      "Best Model:\n",
      "RandomForestClassifier(max_features=2, min_samples_split=5, n_estimators=50,\n",
      "                       random_state=42)\n"
     ]
    },
    {
     "data": {
      "text/plain": "<AxesSubplot:>"
     },
     "execution_count": 16,
     "metadata": {},
     "output_type": "execute_result"
    },
    {
     "data": {
      "text/plain": "<Figure size 432x288 with 2 Axes>",
      "image/png": "[encoded data removed]"
     },
     "metadata": {},
     "output_type": "display_data"
    }
   ],
   "source": [
    "n_estimators_RF = [50, 100, 250, 500, 1000]\n",
    "max_features_RF = [2,4,8,16,32,None]\n",
    "parameters_RF = {'n_estimators': n_estimators_RF,\n",
    "                'max_features': max_features_RF}\n",
    "\n",
    "RF_model = RandomForestClassifier(max_depth=None,\n",
    "                                  min_samples_split=5, random_state=42)\n",
    "RF_clf = GridSearchCV(RF_model, parameters_RF, cv=5, scoring= 'accuracy') #completeness_score')\n",
    "\n",
    "RF_clf.fit(X_train, y_train)\n",
    "\n",
    "print(\"Best Model:\")\n",
    "RF_model = RF_clf.best_estimator_\n",
    "print(RF_model)\n",
    "\n",
    "RF_predictions = RF_model.predict(X_test)\n",
    "\n",
    "# creating a confusion matrix\n",
    "cm_RF = confusion_matrix(y_test, RF_predictions)\n",
    "cm_RF\n",
    "sns.heatmap(cm_RF, cmap=\"YlGnBu\", annot=True)"
   ],
   "metadata": {
    "collapsed": false,
    "pycharm": {
     "name": "#%%\n"
    }
   }
  },
  {
   "cell_type": "code",
   "execution_count": 17,
   "outputs": [
    {
     "data": {
      "text/plain": "<AxesSubplot:xlabel='Diagnosis', ylabel='row_0'>"
     },
     "execution_count": 17,
     "metadata": {},
     "output_type": "execute_result"
    },
    {
     "data": {
      "text/plain": "<Figure size 432x288 with 2 Axes>",
      "image/png": "[encoded data removed]"
     },
     "metadata": {},
     "output_type": "display_data"
    }
   ],
   "source": [
    "mod2 = RandomForestClassifier()\n",
    "\n",
    "mod2.fit(X_train,y_train)\n",
    "\n",
    "pred2 = mod2.predict(X_test)\n",
    "cm_RF_ = pd.crosstab(pred2, y_test)\n",
    "\n",
    "sns.heatmap(cm_RF_, cmap=\"YlGnBu\", annot=True)"
   ],
   "metadata": {
    "collapsed": false,
    "pycharm": {
     "name": "#%%\n"
    }
   }
  },
  {
   "cell_type": "code",
   "execution_count": 18,
   "outputs": [
    {
     "name": "stdout",
     "output_type": "stream",
     "text": [
      "Accuracy 1.0\n"
     ]
    }
   ],
   "source": [
    "from sklearn import metrics\n",
    "print(\"Accuracy\", metrics.accuracy_score(y_test, RF_predictions))"
   ],
   "metadata": {
    "collapsed": false,
    "pycharm": {
     "name": "#%%\n"
    }
   }
  },
  {
   "cell_type": "code",
   "execution_count": null,
   "outputs": [],
   "source": [],
   "metadata": {
    "collapsed": false,
    "pycharm": {
     "name": "#%%\n"
    }
   }
  }
 ],
 "metadata": {
  "kernelspec": {
   "display_name": "Python 3",
   "language": "python",
   "name": "python3"
  },
  "language_info": {
   "codemirror_mode": {
    "name": "ipython",
    "version": 2
   },
   "file_extension": ".py",
   "mimetype": "text/x-python",
   "name": "python",
   "nbconvert_exporter": "python",
   "pygments_lexer": "ipython2",
   "version": "2.7.6"
  }
 },
 "nbformat": 4,
 "nbformat_minor": 0
}