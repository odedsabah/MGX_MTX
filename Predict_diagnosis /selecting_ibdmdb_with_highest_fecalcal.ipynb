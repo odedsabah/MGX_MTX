{
 "cells": [
  {
   "cell_type": "code",
   "execution_count": 2,
   "outputs": [],
   "source": [
    "import pandas as pd\n",
    "import numpy as np\n",
    "import math\n",
    "import matplotlib.pyplot as plt"
   ],
   "metadata": {
    "collapsed": false,
    "pycharm": {
     "name": "#%%\n"
    }
   }
  },
  {
   "cell_type": "code",
   "execution_count": null,
   "outputs": [],
   "source": [
    "metadata = pd.read_csv(\"~/Desktop/hmp2_metadata.csv\")\n",
    "fecalcal_info = metadata.loc[metadata.data_type == \"metatranscriptomics\", [\"External ID\", \"Participant ID\", \"diagnosis\", \"visit_num\", \"fecalcal\", \"fecalcal_ng_ml\"]]\n",
    "fecalcal_info = fecalcal_info[~fecalcal_info[\"External ID\"].str.contains(\"_P\")]\n",
    "fecalcal_info = fecalcal_info[~fecalcal_info[\"External ID\"].str.contains(\"_TR\")]\n",
    "# print( fecalcal_info.drop(fecalcal_info[fecalcal_info[\"External ID\"].str.contains('_P')]))\n",
    "fc1 = [not math.isnan(x) for x in fecalcal_info.fecalcal]\n",
    "fc2 = [not math.isnan(x) for x in fecalcal_info.fecalcal_ng_ml]\n",
    "fc = [fc1[i] or fc2[i] for i in range(len(fc1))]\n",
    "fecalcal_info = fecalcal_info.loc[fc, :]\n",
    "fc1 = [not math.isnan(x) for x in fecalcal_info.fecalcal]\n",
    "fc2 = [not math.isnan(x) for x in fecalcal_info.fecalcal_ng_ml]\n",
    "fecalcal_info.fecalcal = fecalcal_info.fecalcal.fillna(fecalcal_info['fecalcal_ng_ml'])\n",
    "fecalcal_info.drop([\"fecalcal_ng_ml\"], inplace=True, axis=1)\n",
    "diagnosis = fecalcal_info.loc[:, [\"Participant ID\", \"diagnosis\"]].drop_duplicates()\n",
    "diagnosis[\"External ID\"] = fecalcal_info[\"External ID\"]\n",
    "diagnosis.set_index([\"Participant ID\"], inplace=True)\n",
    "diagnosis"
   ],
   "metadata": {
    "collapsed": false,
    "pycharm": {
     "name": "#%%\n"
    }
   }
  },
  {
   "cell_type": "code",
   "execution_count": null,
   "outputs": [],
   "source": [
    "selected_samples = fecalcal_info.groupby([\"Participant ID\"]).agg({\"fecalcal\": [max]})\n",
    "selected_samples[\"diagnosis\"] = diagnosis.diagnosis\n",
    "selected_samples[\"External ID\"] = diagnosis[\"External ID\"]\n",
    "selected_samples.columns = [\"fecalcal_max\", \"Diagnosis\", \"External ID\"]\n",
    "selected_samples.set_index(\"External ID\")\n",
    "selected_samples.to_csv(\"~/Desktop/selected_samples_MTX.csv\")\n",
    "# selected_samples"
   ],
   "metadata": {
    "collapsed": false,
    "pycharm": {
     "name": "#%%\n"
    }
   }
  },
  {
   "cell_type": "code",
   "execution_count": null,
   "outputs": [],
   "source": [
    "plt.style.use('seaborn-deep')\n",
    "plt.hist([selected_samples.loc[selected_samples.Diagnosis==\"nonIBD\", :].fecalcal_max, selected_samples.loc[selected_samples.Diagnosis==\"CD\", :].fecalcal_max, selected_samples.loc[selected_samples.Diagnosis==\"UC\", :].fecalcal_max], label=[\"nonIBD\", \"CD\", \"UC\"])\n",
    "plt.legend()"
   ],
   "metadata": {
    "collapsed": false,
    "pycharm": {
     "name": "#%%\n"
    }
   }
  },
  {
   "cell_type": "code",
   "execution_count": null,
   "outputs": [],
   "source": [],
   "metadata": {
    "collapsed": false,
    "pycharm": {
     "name": "#%%\n"
    }
   }
  },
  {
   "cell_type": "code",
   "execution_count": 6,
   "outputs": [
    {
     "data": {
      "text/plain": "<matplotlib.legend.Legend at 0x7faaa1f26d90>"
     },
     "execution_count": 6,
     "metadata": {},
     "output_type": "execute_result"
    },
    {
     "data": {
      "text/plain": "<Figure size 432x288 with 1 Axes>",
      "image/png": "[encoded data removed]"
     },
     "metadata": {},
     "output_type": "display_data"
    }
   ],
   "source": [
    "plt.style.use('seaborn-deep')\n",
    "plt.hist([selected_samples.loc[selected_samples.Diagnosis==\"nonIBD\", :].fecalcal_max, selected_samples.loc[selected_samples.Diagnosis==\"CD\", :].fecalcal_max, selected_samples.loc[selected_samples.Diagnosis==\"UC\", :].fecalcal_max], label=[\"nonIBD\", \"CD\", \"UC\"])\n",
    "plt.legend()"
   ],
   "metadata": {
    "collapsed": false,
    "pycharm": {
     "name": "#%%\n"
    }
   }
  },
  {
   "cell_type": "code",
   "execution_count": null,
   "outputs": [],
   "source": [],
   "metadata": {
    "collapsed": false,
    "pycharm": {
     "name": "#%%\n"
    }
   }
  }
 ],
 "metadata": {
  "kernelspec": {
   "display_name": "Python 3 (ipykernel)",
   "language": "python",
   "name": "python3"
  },
  "language_info": {
   "codemirror_mode": {
    "name": "ipython",
    "version": 3
   },
   "file_extension": ".py",
   "mimetype": "text/x-python",
   "name": "python",
   "nbconvert_exporter": "python",
   "pygments_lexer": "ipython3",
   "version": "3.7.0"
  }
 },
 "nbformat": 4,
 "nbformat_minor": 5
}