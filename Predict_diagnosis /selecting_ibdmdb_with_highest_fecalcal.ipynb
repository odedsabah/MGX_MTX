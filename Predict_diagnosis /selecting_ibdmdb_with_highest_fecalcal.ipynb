{
 "cells": [
  {
   "cell_type": "code",
   "execution_count": null,
   "outputs": [],
   "source": [
    "import pandas as pd\n",
    "import numpy as np\n",
    "import math\n",
    "import matplotlib.pyplot as plt"
   ],
   "metadata": {
    "collapsed": false,
    "pycharm": {
     "name": "#%%\n"
    }
   }
  },
  {
   "cell_type": "code",
   "execution_count": null,
   "outputs": [],
   "source": [
    "metadata = pd.read_csv(\"hmp2_metadata.csv\")\n",
    "fecalcal_info = metadata.loc[metadata.data_type == \"metagenomics\", [\"External ID\", \"Participant ID\", \"diagnosis\", \"visit_num\", \"fecalcal\", \"fecalcal_ng_ml\"]]\n",
    "fc1 = [not math.isnan(x) for x in fecalcal_info.fecalcal]\n",
    "fc2 = [not math.isnan(x) for x in fecalcal_info.fecalcal_ng_ml]\n",
    "fc = [fc1[i] or fc2[i] for i in range(len(fc1))]\n",
    "fecalcal_info = fecalcal_info.loc[fc, :]\n",
    "fc1 = [not math.isnan(x) for x in fecalcal_info.fecalcal]\n",
    "fc2 = [not math.isnan(x) for x in fecalcal_info.fecalcal_ng_ml]\n",
    "fecalcal_info.fecalcal = fecalcal_info.fecalcal.fillna(fecalcal_info['fecalcal_ng_ml'])\n",
    "fecalcal_info.drop([\"fecalcal_ng_ml\"], inplace=True, axis=1)\n",
    "diagnosis = fecalcal_info.loc[:, [\"Participant ID\", \"diagnosis\"]].drop_duplicates()\n",
    "diagnosis.set_index([\"Participant ID\"], inplace=True)\n",
    "diagnosis\n",
    "selected_samples = fecalcal_info.groupby([\"Participant ID\"]).agg({\"fecalcal\": [max]})\n",
    "selected_samples[\"diagnosis\"] = diagnosis.diagnosis\n",
    "selected_samples.columns = [\"fecalcal_max\", \"diagnosis\"]"
   ],
   "metadata": {
    "collapsed": false,
    "pycharm": {
     "name": "#%%\n",
     "is_executing": true
    }
   }
  },
  {
   "cell_type": "code",
   "execution_count": null,
   "outputs": [],
   "source": [
    "plt.style.use('seaborn-deep')\n",
    "plt.hist([selected_samples.loc[selected_samples.diagnosis==\"nonIBD\", :].fecalcal_max, selected_samples.loc[selected_samples.diagnosis==\"CD\", :].fecalcal_max, selected_samples.loc[selected_samples.diagnosis==\"UC\", :].fecalcal_max], label=[\"nonIBD\", \"CD\", \"UC\"])\n",
    "plt.legend()"
   ],
   "metadata": {
    "collapsed": false,
    "pycharm": {
     "name": "#%%\n"
    }
   }
  }
 ],
 "metadata": {
  "kernelspec": {
   "display_name": "Python 3 (ipykernel)",
   "language": "python",
   "name": "python3"
  },
  "language_info": {
   "codemirror_mode": {
    "name": "ipython",
    "version": 3
   },
   "file_extension": ".py",
   "mimetype": "text/x-python",
   "name": "python",
   "nbconvert_exporter": "python",
   "pygments_lexer": "ipython3",
   "version": "3.7.0"
  }
 },
 "nbformat": 4,
 "nbformat_minor": 5
}