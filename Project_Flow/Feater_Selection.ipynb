{
 "cells": [
  {
   "cell_type": "markdown",
   "source": [
    "### Feature Selection"
   ],
   "metadata": {
    "collapsed": false
   }
  },
  {
   "cell_type": "code",
   "execution_count": 2,
   "outputs": [],
   "source": [
    "# import packages\n",
    "import pandas as pd\n",
    "import numpy as np\n",
    "import seaborn as sns\n",
    "from sklearn.ensemble import RandomForestClassifier\n",
    "from sklearn.feature_selection import SelectFromModel\n",
    "from sklearn.ensemble import RandomForestClassifier\n",
    "from sklearn.svm import LinearSVC\n",
    "from sklearn.linear_model import LogisticRegression\n",
    "\n",
    "from sklearn.ensemble import GradientBoostingClassifier\n",
    "from sklearn.model_selection import cross_val_score\n",
    "from sksurv.linear_model import CoxPHSurvivalAnalysis, CoxnetSurvivalAnalysis\n",
    "from tableone import TableOne"
   ],
   "metadata": {
    "collapsed": false
   }
  },
  {
   "cell_type": "markdown",
   "source": [
    "Import Data"
   ],
   "metadata": {
    "collapsed": false
   }
  },
  {
   "cell_type": "code",
   "execution_count": 3,
   "outputs": [],
   "source": [
    "POST_METADATA = pd.read_csv('~/Desktop/POST_METADATA.csv').set_index('External ID')"
   ],
   "metadata": {
    "collapsed": false
   }
  },
  {
   "cell_type": "code",
   "execution_count": 36,
   "outputs": [
    {
     "data": {
      "text/plain": "                       data_type         IntervalName  \\\nExternal ID                                             \nCSM5FZ4MM    metatranscriptomics  Stool Collection #6   \nCSM5FZ4MM1          metagenomics  Stool Collection #6   \nCSM5MCUOM    metatranscriptomics  Stool Collection #6   \nCSM5MCUOM1          metagenomics  Stool Collection #6   \nCSM5MCWQM           metagenomics  Stool Collection #9   \n\n                          Education Level Occupation  \\\nExternal ID                                            \nCSM5FZ4MM                 Master's degree       Paid   \nCSM5FZ4MM1                Master's degree       Paid   \nCSM5MCUOM    Professional/Doctoral degree       Paid   \nCSM5MCUOM1   Professional/Doctoral degree       Paid   \nCSM5MCWQM                 Master's degree    Unknown   \n\n            Soft drinks, tea or coffee with sugar (corn syrup, maple syrup, cane sugar, etc)  \\\nExternal ID                                                                                    \nCSM5FZ4MM                              Yesterday, 1 to 2 times                                 \nCSM5FZ4MM1                             Yesterday, 1 to 2 times                                 \nCSM5MCUOM    No, I did not consume these products in the la...                                 \nCSM5MCUOM1   No, I did not consume these products in the la...                                 \nCSM5MCWQM                              Yesterday, 1 to 2 times                                 \n\n            Diet soft drinks, tea or coffee with sugar (Stevia, Equal, Splenda etc)  \\\nExternal ID                                                                           \nCSM5FZ4MM                              Yesterday, 1 to 2 times                        \nCSM5FZ4MM1                             Yesterday, 1 to 2 times                        \nCSM5MCUOM    No, I did not consume these products in the la...                        \nCSM5MCUOM1   No, I did not consume these products in the la...                        \nCSM5MCWQM                              Yesterday, 1 to 2 times                        \n\n            Fruit juice (orange, apple, cranberry, prune etc.)  \\\nExternal ID                                                      \nCSM5FZ4MM    No, I did not consume these products in the la...   \nCSM5FZ4MM1   No, I did not consume these products in the la...   \nCSM5MCUOM                                              Unknown   \nCSM5MCUOM1                         Within the past 4 to 7 days   \nCSM5MCWQM                          Within the past 2 to 3 days   \n\n                                  Water  \\\nExternal ID                               \nCSM5FZ4MM    Yesterday, 3 or more times   \nCSM5FZ4MM1   Yesterday, 3 or more times   \nCSM5MCUOM    Yesterday, 3 or more times   \nCSM5MCUOM1   Yesterday, 3 or more times   \nCSM5MCWQM    Yesterday, 3 or more times   \n\n            Alcohol (beer, brandy, spirits, hard liquor, wine, aperitif, etc.)  \\\nExternal ID                                                                      \nCSM5FZ4MM                              Yesterday, 1 to 2 times                   \nCSM5FZ4MM1                             Yesterday, 1 to 2 times                   \nCSM5MCUOM                          Within the past 2 to 3 days                   \nCSM5MCUOM1                         Within the past 2 to 3 days                   \nCSM5MCWQM                          Within the past 2 to 3 days                   \n\n            Yogurt or other foods containing active bacterial cultures (kefir, sauerkraut)  \\\nExternal ID                                                                                  \nCSM5FZ4MM    No, I did not consume these products in the la...                               \nCSM5FZ4MM1                                             Unknown                               \nCSM5MCUOM                              Yesterday, 1 to 2 times                               \nCSM5MCUOM1                             Yesterday, 1 to 2 times                               \nCSM5MCWQM    No, I did not consume these products in the la...                               \n\n             ... consent_age    fecalcal fecalcal_ng_ml interval_days  \\\nExternal ID  ...                                                        \nCSM5FZ4MM    ...        37.0  240.090243      19.888863     25.856009   \nCSM5FZ4MM1   ...        58.0  223.285885     317.063094     26.000000   \nCSM5MCUOM    ...        67.0  222.001161      68.541729     88.000000   \nCSM5MCUOM1   ...        18.0  343.835485     175.609929     76.000000   \nCSM5MCWQM    ...        43.0  194.991146     248.368993      1.000000   \n\n            s__Bacteroides_uniformis s__Faecalibacterium_prausnitzii  \\\nExternal ID                                                            \nCSM5FZ4MM                   0.979500                        0.601848   \nCSM5FZ4MM1                  0.979500                        0.601848   \nCSM5MCUOM                   1.316983                        0.389485   \nCSM5MCUOM1                  1.316983                        0.389485   \nCSM5MCWQM                   0.715550                        0.638939   \n\n            s__Parabacteroides_distasonis  visit_num week_num diagnosis  \nExternal ID                                                              \nCSM5FZ4MM                        1.022414  20.409917     41.0        UC  \nCSM5FZ4MM1                       1.022414  25.385270     48.0        UC  \nCSM5MCUOM                        0.736020   9.000000     15.0        UC  \nCSM5MCUOM1                       0.916576  15.944661     31.0        UC  \nCSM5MCWQM                        0.171210   3.000000     17.0        UC  \n\n[5 rows x 62 columns]",
      "text/html": "<div>\n<style scoped>\n    .dataframe tbody tr th:only-of-type {\n        vertical-align: middle;\n    }\n\n    .dataframe tbody tr th {\n        vertical-align: top;\n    }\n\n    .dataframe thead th {\n        text-align: right;\n    }\n</style>\n<table border=\"1\" class=\"dataframe\">\n  <thead>\n    <tr style=\"text-align: right;\">\n      <th></th>\n      <th>data_type</th>\n      <th>IntervalName</th>\n      <th>Education Level</th>\n      <th>Occupation</th>\n      <th>Soft drinks, tea or coffee with sugar (corn syrup, maple syrup, cane sugar, etc)</th>\n      <th>Diet soft drinks, tea or coffee with sugar (Stevia, Equal, Splenda etc)</th>\n      <th>Fruit juice (orange, apple, cranberry, prune etc.)</th>\n      <th>Water</th>\n      <th>Alcohol (beer, brandy, spirits, hard liquor, wine, aperitif, etc.)</th>\n      <th>Yogurt or other foods containing active bacterial cultures (kefir, sauerkraut)</th>\n      <th>...</th>\n      <th>consent_age</th>\n      <th>fecalcal</th>\n      <th>fecalcal_ng_ml</th>\n      <th>interval_days</th>\n      <th>s__Bacteroides_uniformis</th>\n      <th>s__Faecalibacterium_prausnitzii</th>\n      <th>s__Parabacteroides_distasonis</th>\n      <th>visit_num</th>\n      <th>week_num</th>\n      <th>diagnosis</th>\n    </tr>\n    <tr>\n      <th>External ID</th>\n      <th></th>\n      <th></th>\n      <th></th>\n      <th></th>\n      <th></th>\n      <th></th>\n      <th></th>\n      <th></th>\n      <th></th>\n      <th></th>\n      <th></th>\n      <th></th>\n      <th></th>\n      <th></th>\n      <th></th>\n      <th></th>\n      <th></th>\n      <th></th>\n      <th></th>\n      <th></th>\n      <th></th>\n    </tr>\n  </thead>\n  <tbody>\n    <tr>\n      <th>CSM5FZ4MM</th>\n      <td>metatranscriptomics</td>\n      <td>Stool Collection #6</td>\n      <td>Master's degree</td>\n      <td>Paid</td>\n      <td>Yesterday, 1 to 2 times</td>\n      <td>Yesterday, 1 to 2 times</td>\n      <td>No, I did not consume these products in the la...</td>\n      <td>Yesterday, 3 or more times</td>\n      <td>Yesterday, 1 to 2 times</td>\n      <td>No, I did not consume these products in the la...</td>\n      <td>...</td>\n      <td>37.0</td>\n      <td>240.090243</td>\n      <td>19.888863</td>\n      <td>25.856009</td>\n      <td>0.979500</td>\n      <td>0.601848</td>\n      <td>1.022414</td>\n      <td>20.409917</td>\n      <td>41.0</td>\n      <td>UC</td>\n    </tr>\n    <tr>\n      <th>CSM5FZ4MM1</th>\n      <td>metagenomics</td>\n      <td>Stool Collection #6</td>\n      <td>Master's degree</td>\n      <td>Paid</td>\n      <td>Yesterday, 1 to 2 times</td>\n      <td>Yesterday, 1 to 2 times</td>\n      <td>No, I did not consume these products in the la...</td>\n      <td>Yesterday, 3 or more times</td>\n      <td>Yesterday, 1 to 2 times</td>\n      <td>Unknown</td>\n      <td>...</td>\n      <td>58.0</td>\n      <td>223.285885</td>\n      <td>317.063094</td>\n      <td>26.000000</td>\n      <td>0.979500</td>\n      <td>0.601848</td>\n      <td>1.022414</td>\n      <td>25.385270</td>\n      <td>48.0</td>\n      <td>UC</td>\n    </tr>\n    <tr>\n      <th>CSM5MCUOM</th>\n      <td>metatranscriptomics</td>\n      <td>Stool Collection #6</td>\n      <td>Professional/Doctoral degree</td>\n      <td>Paid</td>\n      <td>No, I did not consume these products in the la...</td>\n      <td>No, I did not consume these products in the la...</td>\n      <td>Unknown</td>\n      <td>Yesterday, 3 or more times</td>\n      <td>Within the past 2 to 3 days</td>\n      <td>Yesterday, 1 to 2 times</td>\n      <td>...</td>\n      <td>67.0</td>\n      <td>222.001161</td>\n      <td>68.541729</td>\n      <td>88.000000</td>\n      <td>1.316983</td>\n      <td>0.389485</td>\n      <td>0.736020</td>\n      <td>9.000000</td>\n      <td>15.0</td>\n      <td>UC</td>\n    </tr>\n    <tr>\n      <th>CSM5MCUOM1</th>\n      <td>metagenomics</td>\n      <td>Stool Collection #6</td>\n      <td>Professional/Doctoral degree</td>\n      <td>Paid</td>\n      <td>No, I did not consume these products in the la...</td>\n      <td>No, I did not consume these products in the la...</td>\n      <td>Within the past 4 to 7 days</td>\n      <td>Yesterday, 3 or more times</td>\n      <td>Within the past 2 to 3 days</td>\n      <td>Yesterday, 1 to 2 times</td>\n      <td>...</td>\n      <td>18.0</td>\n      <td>343.835485</td>\n      <td>175.609929</td>\n      <td>76.000000</td>\n      <td>1.316983</td>\n      <td>0.389485</td>\n      <td>0.916576</td>\n      <td>15.944661</td>\n      <td>31.0</td>\n      <td>UC</td>\n    </tr>\n    <tr>\n      <th>CSM5MCWQM</th>\n      <td>metagenomics</td>\n      <td>Stool Collection #9</td>\n      <td>Master's degree</td>\n      <td>Unknown</td>\n      <td>Yesterday, 1 to 2 times</td>\n      <td>Yesterday, 1 to 2 times</td>\n      <td>Within the past 2 to 3 days</td>\n      <td>Yesterday, 3 or more times</td>\n      <td>Within the past 2 to 3 days</td>\n      <td>No, I did not consume these products in the la...</td>\n      <td>...</td>\n      <td>43.0</td>\n      <td>194.991146</td>\n      <td>248.368993</td>\n      <td>1.000000</td>\n      <td>0.715550</td>\n      <td>0.638939</td>\n      <td>0.171210</td>\n      <td>3.000000</td>\n      <td>17.0</td>\n      <td>UC</td>\n    </tr>\n  </tbody>\n</table>\n<p>5 rows × 62 columns</p>\n</div>"
     },
     "execution_count": 36,
     "metadata": {},
     "output_type": "execute_result"
    }
   ],
   "source": [
    "POST_METADATA.head()"
   ],
   "metadata": {
    "collapsed": false
   }
  },
  {
   "cell_type": "markdown",
   "source": [
    " ### Table division:\n",
    "\n",
    "  - Target variable\n",
    "  - Continuous variables\n",
    "  - Categorical variables"
   ],
   "metadata": {
    "collapsed": false
   }
  },
  {
   "cell_type": "code",
   "execution_count": 5,
   "outputs": [],
   "source": [
    "Target = POST_METADATA.iloc[:,-1]\n",
    "IBD_X_N = POST_METADATA.select_dtypes(include = ['float64', 'int64'])\n",
    "IBD_X_C = POST_METADATA.loc[:,POST_METADATA.columns != 'diagnosis']\n",
    "IBD_X_C = IBD_X_C.select_dtypes(include = [object])"
   ],
   "metadata": {
    "collapsed": false
   }
  },
  {
   "cell_type": "markdown",
   "source": [
    "Create a dataframe to summarize the results"
   ],
   "metadata": {
    "collapsed": false
   }
  },
  {
   "cell_type": "code",
   "execution_count": 6,
   "outputs": [],
   "source": [
    "FearSel = pd.DataFrame({'Variable': IBD_X_N.columns}).set_index('Variable')"
   ],
   "metadata": {
    "collapsed": false
   }
  },
  {
   "cell_type": "code",
   "execution_count": 7,
   "outputs": [],
   "source": [
    "X = IBD_X_N.copy()\n",
    "y = Target"
   ],
   "metadata": {
    "collapsed": false
   }
  },
  {
   "cell_type": "markdown",
   "source": [
    "To compute univariate, use Tabla1"
   ],
   "metadata": {
    "collapsed": false
   }
  },
  {
   "cell_type": "code",
   "execution_count": 8,
   "outputs": [],
   "source": [
    "#upload data\n",
    "data = POST_METADATA\n",
    "\n",
    "# columns to summarize\n",
    "columns = list(POST_METADATA.columns)\n",
    "\n",
    "# columns containing categorical variables\n",
    "categorical = list(IBD_X_C.columns)\n",
    "\n",
    "# non-normal variables\n",
    "nonnormal = list(IBD_X_N.columns)\n",
    "\n",
    "# optionally, a categorical variable for stratification\n",
    "groupby = ['diagnosis']"
   ],
   "metadata": {
    "collapsed": false
   }
  },
  {
   "cell_type": "code",
   "execution_count": 9,
   "outputs": [
    {
     "data": {
      "text/plain": "               level_0               level_1 Missing     Overall          CD  \\\n0                    n                                      1064         496   \n1     data_type, n (%)          metagenomics       0  531 (49.9)  250 (50.4)   \n2     data_type, n (%)   metatranscriptomics          533 (50.1)  246 (49.6)   \n3  IntervalName, n (%)   Stool Collection #1       0    12 (1.1)     2 (0.4)   \n4  IntervalName, n (%)  Stool Collection #10            27 (2.5)    13 (2.6)   \n\n           UC      nonIBD P-Value                                       Test  \n0         296         272                                                     \n1  145 (49.0)  136 (50.0)   0.928                                Chi-squared  \n2  151 (51.0)  136 (50.0)                                                     \n3     4 (1.4)     6 (2.2)   0.005  Chi-squared (warning: expected count < 5)  \n4    10 (3.4)     4 (1.5)                                                     ",
      "text/html": "<div>\n<style scoped>\n    .dataframe tbody tr th:only-of-type {\n        vertical-align: middle;\n    }\n\n    .dataframe tbody tr th {\n        vertical-align: top;\n    }\n\n    .dataframe thead th {\n        text-align: right;\n    }\n</style>\n<table border=\"1\" class=\"dataframe\">\n  <thead>\n    <tr style=\"text-align: right;\">\n      <th></th>\n      <th>level_0</th>\n      <th>level_1</th>\n      <th>Missing</th>\n      <th>Overall</th>\n      <th>CD</th>\n      <th>UC</th>\n      <th>nonIBD</th>\n      <th>P-Value</th>\n      <th>Test</th>\n    </tr>\n  </thead>\n  <tbody>\n    <tr>\n      <th>0</th>\n      <td>n</td>\n      <td></td>\n      <td></td>\n      <td>1064</td>\n      <td>496</td>\n      <td>296</td>\n      <td>272</td>\n      <td></td>\n      <td></td>\n    </tr>\n    <tr>\n      <th>1</th>\n      <td>data_type, n (%)</td>\n      <td>metagenomics</td>\n      <td>0</td>\n      <td>531 (49.9)</td>\n      <td>250 (50.4)</td>\n      <td>145 (49.0)</td>\n      <td>136 (50.0)</td>\n      <td>0.928</td>\n      <td>Chi-squared</td>\n    </tr>\n    <tr>\n      <th>2</th>\n      <td>data_type, n (%)</td>\n      <td>metatranscriptomics</td>\n      <td></td>\n      <td>533 (50.1)</td>\n      <td>246 (49.6)</td>\n      <td>151 (51.0)</td>\n      <td>136 (50.0)</td>\n      <td></td>\n      <td></td>\n    </tr>\n    <tr>\n      <th>3</th>\n      <td>IntervalName, n (%)</td>\n      <td>Stool Collection #1</td>\n      <td>0</td>\n      <td>12 (1.1)</td>\n      <td>2 (0.4)</td>\n      <td>4 (1.4)</td>\n      <td>6 (2.2)</td>\n      <td>0.005</td>\n      <td>Chi-squared (warning: expected count &lt; 5)</td>\n    </tr>\n    <tr>\n      <th>4</th>\n      <td>IntervalName, n (%)</td>\n      <td>Stool Collection #10</td>\n      <td></td>\n      <td>27 (2.5)</td>\n      <td>13 (2.6)</td>\n      <td>10 (3.4)</td>\n      <td>4 (1.5)</td>\n      <td></td>\n      <td></td>\n    </tr>\n  </tbody>\n</table>\n</div>"
     },
     "execution_count": 9,
     "metadata": {},
     "output_type": "execute_result"
    }
   ],
   "source": [
    "table1 = TableOne(data, columns,categorical, groupby, nonnormal, pval = True,\n",
    "                  htest_name=True)\n",
    "Univariable_table = table1.tableone\n",
    "Univariable_table.columns = Univariable_table.columns.droplevel(0)\n",
    "Univariable_table.reset_index(inplace=True)\n",
    "Univariable_table.head()"
   ],
   "metadata": {
    "collapsed": false
   }
  },
  {
   "cell_type": "markdown",
   "source": [
    "Choosing significant features"
   ],
   "metadata": {
    "collapsed": false
   }
  },
  {
   "cell_type": "code",
   "execution_count": 10,
   "outputs": [
    {
     "data": {
      "text/plain": "               level_0               level_1 Missing     Overall          CD  \\\n0                    n                                      1064         496   \n1     data_type, n (%)          metagenomics       0  531 (49.9)  250 (50.4)   \n2     data_type, n (%)   metatranscriptomics          533 (50.1)  246 (49.6)   \n3  IntervalName, n (%)   Stool Collection #1       0    12 (1.1)     2 (0.4)   \n4  IntervalName, n (%)  Stool Collection #10            27 (2.5)    13 (2.6)   \n\n           UC      nonIBD  P-Value                                       Test  \n0         296         272      NaN                                             \n1  145 (49.0)  136 (50.0)    0.928                                Chi-squared  \n2  151 (51.0)  136 (50.0)      NaN                                             \n3     4 (1.4)     6 (2.2)    0.005  Chi-squared (warning: expected count < 5)  \n4    10 (3.4)     4 (1.5)      NaN                                             ",
      "text/html": "<div>\n<style scoped>\n    .dataframe tbody tr th:only-of-type {\n        vertical-align: middle;\n    }\n\n    .dataframe tbody tr th {\n        vertical-align: top;\n    }\n\n    .dataframe thead th {\n        text-align: right;\n    }\n</style>\n<table border=\"1\" class=\"dataframe\">\n  <thead>\n    <tr style=\"text-align: right;\">\n      <th></th>\n      <th>level_0</th>\n      <th>level_1</th>\n      <th>Missing</th>\n      <th>Overall</th>\n      <th>CD</th>\n      <th>UC</th>\n      <th>nonIBD</th>\n      <th>P-Value</th>\n      <th>Test</th>\n    </tr>\n  </thead>\n  <tbody>\n    <tr>\n      <th>0</th>\n      <td>n</td>\n      <td></td>\n      <td></td>\n      <td>1064</td>\n      <td>496</td>\n      <td>296</td>\n      <td>272</td>\n      <td>NaN</td>\n      <td></td>\n    </tr>\n    <tr>\n      <th>1</th>\n      <td>data_type, n (%)</td>\n      <td>metagenomics</td>\n      <td>0</td>\n      <td>531 (49.9)</td>\n      <td>250 (50.4)</td>\n      <td>145 (49.0)</td>\n      <td>136 (50.0)</td>\n      <td>0.928</td>\n      <td>Chi-squared</td>\n    </tr>\n    <tr>\n      <th>2</th>\n      <td>data_type, n (%)</td>\n      <td>metatranscriptomics</td>\n      <td></td>\n      <td>533 (50.1)</td>\n      <td>246 (49.6)</td>\n      <td>151 (51.0)</td>\n      <td>136 (50.0)</td>\n      <td>NaN</td>\n      <td></td>\n    </tr>\n    <tr>\n      <th>3</th>\n      <td>IntervalName, n (%)</td>\n      <td>Stool Collection #1</td>\n      <td>0</td>\n      <td>12 (1.1)</td>\n      <td>2 (0.4)</td>\n      <td>4 (1.4)</td>\n      <td>6 (2.2)</td>\n      <td>0.005</td>\n      <td>Chi-squared (warning: expected count &lt; 5)</td>\n    </tr>\n    <tr>\n      <th>4</th>\n      <td>IntervalName, n (%)</td>\n      <td>Stool Collection #10</td>\n      <td></td>\n      <td>27 (2.5)</td>\n      <td>13 (2.6)</td>\n      <td>10 (3.4)</td>\n      <td>4 (1.5)</td>\n      <td>NaN</td>\n      <td></td>\n    </tr>\n  </tbody>\n</table>\n</div>"
     },
     "execution_count": 10,
     "metadata": {},
     "output_type": "execute_result"
    }
   ],
   "source": [
    "Univariable_table['P-Value'] = pd.to_numeric(Univariable_table['P-Value'].str.replace(\"<0.001\", \"0\", regex=True))\n",
    "Univariable_table.head()"
   ],
   "metadata": {
    "collapsed": false
   }
  },
  {
   "cell_type": "code",
   "execution_count": 11,
   "outputs": [
    {
     "name": "stderr",
     "output_type": "stream",
     "text": [
      "/var/folders/qz/fy7nnm954f76spkqc86w7g_c0000gn/T/ipykernel_16085/2679104909.py:2: SettingWithCopyWarning: \n",
      "A value is trying to be set on a copy of a slice from a DataFrame.\n",
      "Try using .loc[row_indexer,col_indexer] = value instead\n",
      "\n",
      "See the caveats in the documentation: https://pandas.pydata.org/pandas-docs/stable/user_guide/indexing.html#returning-a-view-versus-a-copy\n",
      "  Univariable_table['Univariable'] = 1\n"
     ]
    },
    {
     "data": {
      "text/plain": "                                               level_0  \\\n3                                  IntervalName, n (%)   \n28                              Education Level, n (%)   \n37                                   Occupation, n (%)   \n43   Soft drinks, tea or coffee with sugar (corn sy...   \n49   Diet soft drinks, tea or coffee with sugar (St...   \n55   Fruit juice (orange, apple, cranberry, prune e...   \n61                                        Water, n (%)   \n67   Alcohol (beer, brandy, spirits, hard liquor, w...   \n73   Yogurt or other foods containing active bacter...   \n78   Dairy (milk, cream, ice cream, cheese, cream c...   \n84                                    Probiotic, n (%)   \n90   Fruits (no juice) (Apples, raisins, bananas, o...   \n96   Vegetables (salad, tomatoes, onions, greens, c...   \n102  Beans (tofu, soy, soy burgers, lentils, Mexica...   \n108  Whole grains (wheat, oats, brown rice, rye, qu...   \n114  Starch (white rice, bread, pizza, potatoes, ya...   \n120                                        Eggs, n (%)   \n126  Processed meat (other red or white meat such a...   \n132      Red meat (beef, hamburger, pork, lamb), n (%)   \n138          White meat (chicken, turkey, etc.), n (%)   \n144  Shellfish (shrimp, lobster, scallops, etc.), n...   \n150  Fish (fish nuggets, breaded fish, fish cakes, ...   \n156  Sweets (pies, jam, chocolate, cake, cookies, e...   \n162  Tea or coffee no sugar and no sugar replacemen...   \n168                                 Antibiotics, n (%)   \n171  In the past 2 weeks, have you had diarrhea?, n...   \n174            Have you ever had bowel surgery?, n (%)   \n177                  Did you grow up on a farm?, n (%)   \n180                Were you born in a hospital?, n (%)   \n183                Were you born via C-section?, n (%)   \n187  What are your dietary preferences with respect...   \n191  How often do you consume alcoholic beverages?,...   \n197                         I felt depressed..., n (%)   \n203                           I felt nervous..., n (%)   \n208  I felt like I needed help for my anxiety..., n...   \n213                             I felt tense..., n (%)   \n219               Did you have pets growing up?, n (%)   \n223                              Abdominal pain, n (%)   \n228                                 Weight loss, n (%)   \n231                                        race, n (%)   \n236              Bowel frequency during the day, n (%)   \n240                                         sex, n (%)   \n243                              smoking status, n (%)   \n\n                                               level_1 Missing     Overall  \\\n3                                  Stool Collection #1       0    12 (1.1)   \n28                                   7th grade or less       0  212 (19.9)   \n37                                                Paid       0  346 (32.5)   \n43   No, I did not consume these products in the la...       0  243 (22.8)   \n49   No, I did not consume these products in the la...       0  662 (62.2)   \n55   No, I did not consume these products in the la...       0  291 (27.3)   \n61                                             Unknown       0    93 (8.7)   \n67   No, I did not consume these products in the la...       0  559 (52.5)   \n73   No, I did not consume these products in the la...       0  454 (42.7)   \n78   No, I did not consume these products in the la...       0    36 (3.4)   \n84   No, I did not consume these products in the la...       0  751 (70.6)   \n90   No, I did not consume these products in the la...       0    95 (8.9)   \n96   No, I did not consume these products in the la...       0    92 (8.6)   \n102  No, I did not consume these products in the la...       0  494 (46.4)   \n108  No, I did not consume these products in the la...       0  241 (22.7)   \n114  No, I did not consume these products in the la...       0    53 (5.0)   \n120  No, I did not consume these products in the la...       0  217 (20.4)   \n126  No, I did not consume these products in the la...       0  230 (21.6)   \n132  No, I did not consume these products in the la...       0  209 (19.6)   \n138  No, I did not consume these products in the la...       0  107 (10.1)   \n144  No, I did not consume these products in the la...       0  641 (60.2)   \n150  No, I did not consume these products in the la...       0  536 (50.4)   \n156  No, I did not consume these products in the la...       0    70 (6.6)   \n162  No, I did not consume these products in the la...       0  637 (59.9)   \n168                                                 No       0  759 (71.3)   \n171                                                 No       0  516 (48.5)   \n174                                                 No       0  828 (77.8)   \n177                                                 No       0  824 (77.4)   \n180                                            Unknown       0  208 (19.5)   \n183                                                 No       0  842 (79.1)   \n187                                      Standard Diet       0  800 (75.2)   \n191                                   1-5 times a week       0  627 (58.9)   \n197                                              Never       0  637 (59.9)   \n203                                              Never       0  303 (28.5)   \n208                                              Never       0  736 (69.2)   \n213                                              Never       0  420 (39.5)   \n219                                                 No       0  169 (15.9)   \n223                                               Mild       0  153 (14.4)   \n228                                                 No       0  533 (50.1)   \n231                                 More than one race       0    37 (3.5)   \n236                                              0 - 3       0  686 (64.5)   \n240                                             Female       0  439 (41.3)   \n243                                     Current smoker       0    10 (0.9)   \n\n             CD          UC      nonIBD  P-Value  \\\n3       2 (0.4)     4 (1.4)     6 (2.2)    0.005   \n28   102 (20.6)   38 (12.8)   72 (26.5)    0.000   \n37   173 (34.9)   75 (25.3)   98 (36.0)    0.000   \n43    74 (14.9)  100 (33.8)   69 (25.4)    0.000   \n49   336 (67.7)  183 (61.8)  143 (52.6)    0.000   \n55   106 (21.4)   71 (24.0)  114 (41.9)    0.000   \n61     48 (9.7)   32 (10.8)    13 (4.8)    0.000   \n67   295 (59.5)  135 (45.6)  129 (47.4)    0.000   \n73   230 (46.4)  109 (36.8)  115 (42.3)    0.000   \n78     21 (4.2)    13 (4.4)     2 (0.7)    0.000   \n84   394 (79.4)  156 (52.7)  201 (73.9)    0.000   \n90     35 (7.1)   33 (11.1)    27 (9.9)    0.000   \n96     45 (9.1)   43 (14.5)     4 (1.5)    0.000   \n102  212 (42.7)  154 (52.0)  128 (47.1)    0.000   \n108  101 (20.4)   80 (27.0)   60 (22.1)    0.000   \n114    32 (6.5)     6 (2.0)    15 (5.5)    0.000   \n120   96 (19.4)   57 (19.3)   64 (23.5)    0.000   \n126  125 (25.2)   49 (16.6)   56 (20.6)    0.000   \n132   91 (18.3)   87 (29.4)   31 (11.4)    0.000   \n138   53 (10.7)    24 (8.1)   30 (11.0)    0.002   \n144  269 (54.2)  191 (64.5)  181 (66.5)    0.001   \n150  267 (53.8)  175 (59.1)   94 (34.6)    0.000   \n156    40 (8.1)    19 (6.4)    11 (4.0)    0.000   \n162  297 (59.9)  179 (60.5)  161 (59.2)    0.000   \n168  301 (60.7)  228 (77.0)  230 (84.6)    0.000   \n171  166 (33.5)  140 (47.3)  210 (77.2)    0.000   \n174  344 (69.4)  229 (77.4)  255 (93.8)    0.000   \n177  365 (73.6)  230 (77.7)  229 (84.2)    0.000   \n180  148 (29.8)    25 (8.4)   35 (12.9)    0.000   \n183  391 (78.8)  221 (74.7)  230 (84.6)    0.000   \n187  380 (76.6)  194 (65.5)  226 (83.1)    0.000   \n191  387 (78.0)  215 (72.6)    25 (9.2)    0.000   \n197  213 (42.9)  205 (69.3)  219 (80.5)    0.000   \n203  127 (25.6)    24 (8.1)  152 (55.9)    0.000   \n208  377 (76.0)  204 (68.9)  155 (57.0)    0.000   \n213  119 (24.0)  172 (58.1)  129 (47.4)    0.000   \n219   97 (19.6)    27 (9.1)   45 (16.5)    0.000   \n223  153 (30.8)                            0.000   \n228  113 (22.8)  215 (72.6)  205 (75.4)    0.000   \n231    17 (3.4)    12 (4.1)     8 (2.9)    0.000   \n236  437 (88.1)  249 (84.1)                0.000   \n240  194 (39.1)  160 (54.1)   85 (31.2)    0.000   \n243    10 (2.0)                            0.000   \n\n                                          Test  Univariable  \n3    Chi-squared (warning: expected count < 5)            1  \n28                                 Chi-squared            1  \n37   Chi-squared (warning: expected count < 5)            1  \n43                                 Chi-squared            1  \n49                                 Chi-squared            1  \n55                                 Chi-squared            1  \n61   Chi-squared (warning: expected count < 5)            1  \n67                                 Chi-squared            1  \n73                                 Chi-squared            1  \n78                                 Chi-squared            1  \n84   Chi-squared (warning: expected count < 5)            1  \n90                                 Chi-squared            1  \n96                                 Chi-squared            1  \n102  Chi-squared (warning: expected count < 5)            1  \n108  Chi-squared (warning: expected count < 5)            1  \n114                                Chi-squared            1  \n120  Chi-squared (warning: expected count < 5)            1  \n126  Chi-squared (warning: expected count < 5)            1  \n132  Chi-squared (warning: expected count < 5)            1  \n138  Chi-squared (warning: expected count < 5)            1  \n144  Chi-squared (warning: expected count < 5)            1  \n150  Chi-squared (warning: expected count < 5)            1  \n156                                Chi-squared            1  \n162  Chi-squared (warning: expected count < 5)            1  \n168                                Chi-squared            1  \n171                                Chi-squared            1  \n174                                Chi-squared            1  \n177                                Chi-squared            1  \n180  Chi-squared (warning: expected count < 5)            1  \n183  Chi-squared (warning: expected count < 5)            1  \n187                                Chi-squared            1  \n191  Chi-squared (warning: expected count < 5)            1  \n197  Chi-squared (warning: expected count < 5)            1  \n203                                Chi-squared            1  \n208  Chi-squared (warning: expected count < 5)            1  \n213  Chi-squared (warning: expected count < 5)            1  \n219  Chi-squared (warning: expected count < 5)            1  \n223  Chi-squared (warning: expected count < 5)            1  \n228                                Chi-squared            1  \n231                                Chi-squared            1  \n236  Chi-squared (warning: expected count < 5)            1  \n240                                Chi-squared            1  \n243  Chi-squared (warning: expected count < 5)            1  ",
      "text/html": "<div>\n<style scoped>\n    .dataframe tbody tr th:only-of-type {\n        vertical-align: middle;\n    }\n\n    .dataframe tbody tr th {\n        vertical-align: top;\n    }\n\n    .dataframe thead th {\n        text-align: right;\n    }\n</style>\n<table border=\"1\" class=\"dataframe\">\n  <thead>\n    <tr style=\"text-align: right;\">\n      <th></th>\n      <th>level_0</th>\n      <th>level_1</th>\n      <th>Missing</th>\n      <th>Overall</th>\n      <th>CD</th>\n      <th>UC</th>\n      <th>nonIBD</th>\n      <th>P-Value</th>\n      <th>Test</th>\n      <th>Univariable</th>\n    </tr>\n  </thead>\n  <tbody>\n    <tr>\n      <th>3</th>\n      <td>IntervalName, n (%)</td>\n      <td>Stool Collection #1</td>\n      <td>0</td>\n      <td>12 (1.1)</td>\n      <td>2 (0.4)</td>\n      <td>4 (1.4)</td>\n      <td>6 (2.2)</td>\n      <td>0.005</td>\n      <td>Chi-squared (warning: expected count &lt; 5)</td>\n      <td>1</td>\n    </tr>\n    <tr>\n      <th>28</th>\n      <td>Education Level, n (%)</td>\n      <td>7th grade or less</td>\n      <td>0</td>\n      <td>212 (19.9)</td>\n      <td>102 (20.6)</td>\n      <td>38 (12.8)</td>\n      <td>72 (26.5)</td>\n      <td>0.000</td>\n      <td>Chi-squared</td>\n      <td>1</td>\n    </tr>\n    <tr>\n      <th>37</th>\n      <td>Occupation, n (%)</td>\n      <td>Paid</td>\n      <td>0</td>\n      <td>346 (32.5)</td>\n      <td>173 (34.9)</td>\n      <td>75 (25.3)</td>\n      <td>98 (36.0)</td>\n      <td>0.000</td>\n      <td>Chi-squared (warning: expected count &lt; 5)</td>\n      <td>1</td>\n    </tr>\n    <tr>\n      <th>43</th>\n      <td>Soft drinks, tea or coffee with sugar (corn sy...</td>\n      <td>No, I did not consume these products in the la...</td>\n      <td>0</td>\n      <td>243 (22.8)</td>\n      <td>74 (14.9)</td>\n      <td>100 (33.8)</td>\n      <td>69 (25.4)</td>\n      <td>0.000</td>\n      <td>Chi-squared</td>\n      <td>1</td>\n    </tr>\n    <tr>\n      <th>49</th>\n      <td>Diet soft drinks, tea or coffee with sugar (St...</td>\n      <td>No, I did not consume these products in the la...</td>\n      <td>0</td>\n      <td>662 (62.2)</td>\n      <td>336 (67.7)</td>\n      <td>183 (61.8)</td>\n      <td>143 (52.6)</td>\n      <td>0.000</td>\n      <td>Chi-squared</td>\n      <td>1</td>\n    </tr>\n    <tr>\n      <th>55</th>\n      <td>Fruit juice (orange, apple, cranberry, prune e...</td>\n      <td>No, I did not consume these products in the la...</td>\n      <td>0</td>\n      <td>291 (27.3)</td>\n      <td>106 (21.4)</td>\n      <td>71 (24.0)</td>\n      <td>114 (41.9)</td>\n      <td>0.000</td>\n      <td>Chi-squared</td>\n      <td>1</td>\n    </tr>\n    <tr>\n      <th>61</th>\n      <td>Water, n (%)</td>\n      <td>Unknown</td>\n      <td>0</td>\n      <td>93 (8.7)</td>\n      <td>48 (9.7)</td>\n      <td>32 (10.8)</td>\n      <td>13 (4.8)</td>\n      <td>0.000</td>\n      <td>Chi-squared (warning: expected count &lt; 5)</td>\n      <td>1</td>\n    </tr>\n    <tr>\n      <th>67</th>\n      <td>Alcohol (beer, brandy, spirits, hard liquor, w...</td>\n      <td>No, I did not consume these products in the la...</td>\n      <td>0</td>\n      <td>559 (52.5)</td>\n      <td>295 (59.5)</td>\n      <td>135 (45.6)</td>\n      <td>129 (47.4)</td>\n      <td>0.000</td>\n      <td>Chi-squared</td>\n      <td>1</td>\n    </tr>\n    <tr>\n      <th>73</th>\n      <td>Yogurt or other foods containing active bacter...</td>\n      <td>No, I did not consume these products in the la...</td>\n      <td>0</td>\n      <td>454 (42.7)</td>\n      <td>230 (46.4)</td>\n      <td>109 (36.8)</td>\n      <td>115 (42.3)</td>\n      <td>0.000</td>\n      <td>Chi-squared</td>\n      <td>1</td>\n    </tr>\n    <tr>\n      <th>78</th>\n      <td>Dairy (milk, cream, ice cream, cheese, cream c...</td>\n      <td>No, I did not consume these products in the la...</td>\n      <td>0</td>\n      <td>36 (3.4)</td>\n      <td>21 (4.2)</td>\n      <td>13 (4.4)</td>\n      <td>2 (0.7)</td>\n      <td>0.000</td>\n      <td>Chi-squared</td>\n      <td>1</td>\n    </tr>\n    <tr>\n      <th>84</th>\n      <td>Probiotic, n (%)</td>\n      <td>No, I did not consume these products in the la...</td>\n      <td>0</td>\n      <td>751 (70.6)</td>\n      <td>394 (79.4)</td>\n      <td>156 (52.7)</td>\n      <td>201 (73.9)</td>\n      <td>0.000</td>\n      <td>Chi-squared (warning: expected count &lt; 5)</td>\n      <td>1</td>\n    </tr>\n    <tr>\n      <th>90</th>\n      <td>Fruits (no juice) (Apples, raisins, bananas, o...</td>\n      <td>No, I did not consume these products in the la...</td>\n      <td>0</td>\n      <td>95 (8.9)</td>\n      <td>35 (7.1)</td>\n      <td>33 (11.1)</td>\n      <td>27 (9.9)</td>\n      <td>0.000</td>\n      <td>Chi-squared</td>\n      <td>1</td>\n    </tr>\n    <tr>\n      <th>96</th>\n      <td>Vegetables (salad, tomatoes, onions, greens, c...</td>\n      <td>No, I did not consume these products in the la...</td>\n      <td>0</td>\n      <td>92 (8.6)</td>\n      <td>45 (9.1)</td>\n      <td>43 (14.5)</td>\n      <td>4 (1.5)</td>\n      <td>0.000</td>\n      <td>Chi-squared</td>\n      <td>1</td>\n    </tr>\n    <tr>\n      <th>102</th>\n      <td>Beans (tofu, soy, soy burgers, lentils, Mexica...</td>\n      <td>No, I did not consume these products in the la...</td>\n      <td>0</td>\n      <td>494 (46.4)</td>\n      <td>212 (42.7)</td>\n      <td>154 (52.0)</td>\n      <td>128 (47.1)</td>\n      <td>0.000</td>\n      <td>Chi-squared (warning: expected count &lt; 5)</td>\n      <td>1</td>\n    </tr>\n    <tr>\n      <th>108</th>\n      <td>Whole grains (wheat, oats, brown rice, rye, qu...</td>\n      <td>No, I did not consume these products in the la...</td>\n      <td>0</td>\n      <td>241 (22.7)</td>\n      <td>101 (20.4)</td>\n      <td>80 (27.0)</td>\n      <td>60 (22.1)</td>\n      <td>0.000</td>\n      <td>Chi-squared (warning: expected count &lt; 5)</td>\n      <td>1</td>\n    </tr>\n    <tr>\n      <th>114</th>\n      <td>Starch (white rice, bread, pizza, potatoes, ya...</td>\n      <td>No, I did not consume these products in the la...</td>\n      <td>0</td>\n      <td>53 (5.0)</td>\n      <td>32 (6.5)</td>\n      <td>6 (2.0)</td>\n      <td>15 (5.5)</td>\n      <td>0.000</td>\n      <td>Chi-squared</td>\n      <td>1</td>\n    </tr>\n    <tr>\n      <th>120</th>\n      <td>Eggs, n (%)</td>\n      <td>No, I did not consume these products in the la...</td>\n      <td>0</td>\n      <td>217 (20.4)</td>\n      <td>96 (19.4)</td>\n      <td>57 (19.3)</td>\n      <td>64 (23.5)</td>\n      <td>0.000</td>\n      <td>Chi-squared (warning: expected count &lt; 5)</td>\n      <td>1</td>\n    </tr>\n    <tr>\n      <th>126</th>\n      <td>Processed meat (other red or white meat such a...</td>\n      <td>No, I did not consume these products in the la...</td>\n      <td>0</td>\n      <td>230 (21.6)</td>\n      <td>125 (25.2)</td>\n      <td>49 (16.6)</td>\n      <td>56 (20.6)</td>\n      <td>0.000</td>\n      <td>Chi-squared (warning: expected count &lt; 5)</td>\n      <td>1</td>\n    </tr>\n    <tr>\n      <th>132</th>\n      <td>Red meat (beef, hamburger, pork, lamb), n (%)</td>\n      <td>No, I did not consume these products in the la...</td>\n      <td>0</td>\n      <td>209 (19.6)</td>\n      <td>91 (18.3)</td>\n      <td>87 (29.4)</td>\n      <td>31 (11.4)</td>\n      <td>0.000</td>\n      <td>Chi-squared (warning: expected count &lt; 5)</td>\n      <td>1</td>\n    </tr>\n    <tr>\n      <th>138</th>\n      <td>White meat (chicken, turkey, etc.), n (%)</td>\n      <td>No, I did not consume these products in the la...</td>\n      <td>0</td>\n      <td>107 (10.1)</td>\n      <td>53 (10.7)</td>\n      <td>24 (8.1)</td>\n      <td>30 (11.0)</td>\n      <td>0.002</td>\n      <td>Chi-squared (warning: expected count &lt; 5)</td>\n      <td>1</td>\n    </tr>\n    <tr>\n      <th>144</th>\n      <td>Shellfish (shrimp, lobster, scallops, etc.), n...</td>\n      <td>No, I did not consume these products in the la...</td>\n      <td>0</td>\n      <td>641 (60.2)</td>\n      <td>269 (54.2)</td>\n      <td>191 (64.5)</td>\n      <td>181 (66.5)</td>\n      <td>0.001</td>\n      <td>Chi-squared (warning: expected count &lt; 5)</td>\n      <td>1</td>\n    </tr>\n    <tr>\n      <th>150</th>\n      <td>Fish (fish nuggets, breaded fish, fish cakes, ...</td>\n      <td>No, I did not consume these products in the la...</td>\n      <td>0</td>\n      <td>536 (50.4)</td>\n      <td>267 (53.8)</td>\n      <td>175 (59.1)</td>\n      <td>94 (34.6)</td>\n      <td>0.000</td>\n      <td>Chi-squared (warning: expected count &lt; 5)</td>\n      <td>1</td>\n    </tr>\n    <tr>\n      <th>156</th>\n      <td>Sweets (pies, jam, chocolate, cake, cookies, e...</td>\n      <td>No, I did not consume these products in the la...</td>\n      <td>0</td>\n      <td>70 (6.6)</td>\n      <td>40 (8.1)</td>\n      <td>19 (6.4)</td>\n      <td>11 (4.0)</td>\n      <td>0.000</td>\n      <td>Chi-squared</td>\n      <td>1</td>\n    </tr>\n    <tr>\n      <th>162</th>\n      <td>Tea or coffee no sugar and no sugar replacemen...</td>\n      <td>No, I did not consume these products in the la...</td>\n      <td>0</td>\n      <td>637 (59.9)</td>\n      <td>297 (59.9)</td>\n      <td>179 (60.5)</td>\n      <td>161 (59.2)</td>\n      <td>0.000</td>\n      <td>Chi-squared (warning: expected count &lt; 5)</td>\n      <td>1</td>\n    </tr>\n    <tr>\n      <th>168</th>\n      <td>Antibiotics, n (%)</td>\n      <td>No</td>\n      <td>0</td>\n      <td>759 (71.3)</td>\n      <td>301 (60.7)</td>\n      <td>228 (77.0)</td>\n      <td>230 (84.6)</td>\n      <td>0.000</td>\n      <td>Chi-squared</td>\n      <td>1</td>\n    </tr>\n    <tr>\n      <th>171</th>\n      <td>In the past 2 weeks, have you had diarrhea?, n...</td>\n      <td>No</td>\n      <td>0</td>\n      <td>516 (48.5)</td>\n      <td>166 (33.5)</td>\n      <td>140 (47.3)</td>\n      <td>210 (77.2)</td>\n      <td>0.000</td>\n      <td>Chi-squared</td>\n      <td>1</td>\n    </tr>\n    <tr>\n      <th>174</th>\n      <td>Have you ever had bowel surgery?, n (%)</td>\n      <td>No</td>\n      <td>0</td>\n      <td>828 (77.8)</td>\n      <td>344 (69.4)</td>\n      <td>229 (77.4)</td>\n      <td>255 (93.8)</td>\n      <td>0.000</td>\n      <td>Chi-squared</td>\n      <td>1</td>\n    </tr>\n    <tr>\n      <th>177</th>\n      <td>Did you grow up on a farm?, n (%)</td>\n      <td>No</td>\n      <td>0</td>\n      <td>824 (77.4)</td>\n      <td>365 (73.6)</td>\n      <td>230 (77.7)</td>\n      <td>229 (84.2)</td>\n      <td>0.000</td>\n      <td>Chi-squared</td>\n      <td>1</td>\n    </tr>\n    <tr>\n      <th>180</th>\n      <td>Were you born in a hospital?, n (%)</td>\n      <td>Unknown</td>\n      <td>0</td>\n      <td>208 (19.5)</td>\n      <td>148 (29.8)</td>\n      <td>25 (8.4)</td>\n      <td>35 (12.9)</td>\n      <td>0.000</td>\n      <td>Chi-squared (warning: expected count &lt; 5)</td>\n      <td>1</td>\n    </tr>\n    <tr>\n      <th>183</th>\n      <td>Were you born via C-section?, n (%)</td>\n      <td>No</td>\n      <td>0</td>\n      <td>842 (79.1)</td>\n      <td>391 (78.8)</td>\n      <td>221 (74.7)</td>\n      <td>230 (84.6)</td>\n      <td>0.000</td>\n      <td>Chi-squared (warning: expected count &lt; 5)</td>\n      <td>1</td>\n    </tr>\n    <tr>\n      <th>187</th>\n      <td>What are your dietary preferences with respect...</td>\n      <td>Standard Diet</td>\n      <td>0</td>\n      <td>800 (75.2)</td>\n      <td>380 (76.6)</td>\n      <td>194 (65.5)</td>\n      <td>226 (83.1)</td>\n      <td>0.000</td>\n      <td>Chi-squared</td>\n      <td>1</td>\n    </tr>\n    <tr>\n      <th>191</th>\n      <td>How often do you consume alcoholic beverages?,...</td>\n      <td>1-5 times a week</td>\n      <td>0</td>\n      <td>627 (58.9)</td>\n      <td>387 (78.0)</td>\n      <td>215 (72.6)</td>\n      <td>25 (9.2)</td>\n      <td>0.000</td>\n      <td>Chi-squared (warning: expected count &lt; 5)</td>\n      <td>1</td>\n    </tr>\n    <tr>\n      <th>197</th>\n      <td>I felt depressed..., n (%)</td>\n      <td>Never</td>\n      <td>0</td>\n      <td>637 (59.9)</td>\n      <td>213 (42.9)</td>\n      <td>205 (69.3)</td>\n      <td>219 (80.5)</td>\n      <td>0.000</td>\n      <td>Chi-squared (warning: expected count &lt; 5)</td>\n      <td>1</td>\n    </tr>\n    <tr>\n      <th>203</th>\n      <td>I felt nervous..., n (%)</td>\n      <td>Never</td>\n      <td>0</td>\n      <td>303 (28.5)</td>\n      <td>127 (25.6)</td>\n      <td>24 (8.1)</td>\n      <td>152 (55.9)</td>\n      <td>0.000</td>\n      <td>Chi-squared</td>\n      <td>1</td>\n    </tr>\n    <tr>\n      <th>208</th>\n      <td>I felt like I needed help for my anxiety..., n...</td>\n      <td>Never</td>\n      <td>0</td>\n      <td>736 (69.2)</td>\n      <td>377 (76.0)</td>\n      <td>204 (68.9)</td>\n      <td>155 (57.0)</td>\n      <td>0.000</td>\n      <td>Chi-squared (warning: expected count &lt; 5)</td>\n      <td>1</td>\n    </tr>\n    <tr>\n      <th>213</th>\n      <td>I felt tense..., n (%)</td>\n      <td>Never</td>\n      <td>0</td>\n      <td>420 (39.5)</td>\n      <td>119 (24.0)</td>\n      <td>172 (58.1)</td>\n      <td>129 (47.4)</td>\n      <td>0.000</td>\n      <td>Chi-squared (warning: expected count &lt; 5)</td>\n      <td>1</td>\n    </tr>\n    <tr>\n      <th>219</th>\n      <td>Did you have pets growing up?, n (%)</td>\n      <td>No</td>\n      <td>0</td>\n      <td>169 (15.9)</td>\n      <td>97 (19.6)</td>\n      <td>27 (9.1)</td>\n      <td>45 (16.5)</td>\n      <td>0.000</td>\n      <td>Chi-squared (warning: expected count &lt; 5)</td>\n      <td>1</td>\n    </tr>\n    <tr>\n      <th>223</th>\n      <td>Abdominal pain, n (%)</td>\n      <td>Mild</td>\n      <td>0</td>\n      <td>153 (14.4)</td>\n      <td>153 (30.8)</td>\n      <td></td>\n      <td></td>\n      <td>0.000</td>\n      <td>Chi-squared (warning: expected count &lt; 5)</td>\n      <td>1</td>\n    </tr>\n    <tr>\n      <th>228</th>\n      <td>Weight loss, n (%)</td>\n      <td>No</td>\n      <td>0</td>\n      <td>533 (50.1)</td>\n      <td>113 (22.8)</td>\n      <td>215 (72.6)</td>\n      <td>205 (75.4)</td>\n      <td>0.000</td>\n      <td>Chi-squared</td>\n      <td>1</td>\n    </tr>\n    <tr>\n      <th>231</th>\n      <td>race, n (%)</td>\n      <td>More than one race</td>\n      <td>0</td>\n      <td>37 (3.5)</td>\n      <td>17 (3.4)</td>\n      <td>12 (4.1)</td>\n      <td>8 (2.9)</td>\n      <td>0.000</td>\n      <td>Chi-squared</td>\n      <td>1</td>\n    </tr>\n    <tr>\n      <th>236</th>\n      <td>Bowel frequency during the day, n (%)</td>\n      <td>0 - 3</td>\n      <td>0</td>\n      <td>686 (64.5)</td>\n      <td>437 (88.1)</td>\n      <td>249 (84.1)</td>\n      <td></td>\n      <td>0.000</td>\n      <td>Chi-squared (warning: expected count &lt; 5)</td>\n      <td>1</td>\n    </tr>\n    <tr>\n      <th>240</th>\n      <td>sex, n (%)</td>\n      <td>Female</td>\n      <td>0</td>\n      <td>439 (41.3)</td>\n      <td>194 (39.1)</td>\n      <td>160 (54.1)</td>\n      <td>85 (31.2)</td>\n      <td>0.000</td>\n      <td>Chi-squared</td>\n      <td>1</td>\n    </tr>\n    <tr>\n      <th>243</th>\n      <td>smoking status, n (%)</td>\n      <td>Current smoker</td>\n      <td>0</td>\n      <td>10 (0.9)</td>\n      <td>10 (2.0)</td>\n      <td></td>\n      <td></td>\n      <td>0.000</td>\n      <td>Chi-squared (warning: expected count &lt; 5)</td>\n      <td>1</td>\n    </tr>\n  </tbody>\n</table>\n</div>"
     },
     "execution_count": 11,
     "metadata": {},
     "output_type": "execute_result"
    }
   ],
   "source": [
    "Univariable_table = Univariable_table[Univariable_table['P-Value'] <= 0.05]\n",
    "Univariable_table['Univariable'] = 1\n",
    "Univariable_table_categorical = Univariable_table.iloc[0:-13,:]\n",
    "Univariable_table_numerical = Univariable_table.iloc[-13:len(Univariable_table),:]\n",
    "Univariable_table_categorical"
   ],
   "metadata": {
    "collapsed": false
   }
  },
  {
   "cell_type": "code",
   "execution_count": 12,
   "outputs": [
    {
     "name": "stderr",
     "output_type": "stream",
     "text": [
      "/var/folders/qz/fy7nnm954f76spkqc86w7g_c0000gn/T/ipykernel_16085/2014247253.py:1: SettingWithCopyWarning: \n",
      "A value is trying to be set on a copy of a slice from a DataFrame.\n",
      "Try using .loc[row_indexer,col_indexer] = value instead\n",
      "\n",
      "See the caveats in the documentation: https://pandas.pydata.org/pandas-docs/stable/user_guide/indexing.html#returning-a-view-versus-a-copy\n",
      "  Univariable_table_categorical[['Feature','By_Freq']] = Univariable_table_categorical.level_0.str.rsplit(',',1, expand= True)\n",
      "/var/folders/qz/fy7nnm954f76spkqc86w7g_c0000gn/T/ipykernel_16085/2014247253.py:1: SettingWithCopyWarning: \n",
      "A value is trying to be set on a copy of a slice from a DataFrame.\n",
      "Try using .loc[row_indexer,col_indexer] = value instead\n",
      "\n",
      "See the caveats in the documentation: https://pandas.pydata.org/pandas-docs/stable/user_guide/indexing.html#returning-a-view-versus-a-copy\n",
      "  Univariable_table_categorical[['Feature','By_Freq']] = Univariable_table_categorical.level_0.str.rsplit(',',1, expand= True)\n",
      "/var/folders/qz/fy7nnm954f76spkqc86w7g_c0000gn/T/ipykernel_16085/2014247253.py:2: SettingWithCopyWarning: \n",
      "A value is trying to be set on a copy of a slice from a DataFrame.\n",
      "Try using .loc[row_indexer,col_indexer] = value instead\n",
      "\n",
      "See the caveats in the documentation: https://pandas.pydata.org/pandas-docs/stable/user_guide/indexing.html#returning-a-view-versus-a-copy\n",
      "  Univariable_table_numerical[['Feature','By_Freq']] = Univariable_table_numerical.level_0.str.split(',',1, expand= True)\n",
      "/var/folders/qz/fy7nnm954f76spkqc86w7g_c0000gn/T/ipykernel_16085/2014247253.py:2: SettingWithCopyWarning: \n",
      "A value is trying to be set on a copy of a slice from a DataFrame.\n",
      "Try using .loc[row_indexer,col_indexer] = value instead\n",
      "\n",
      "See the caveats in the documentation: https://pandas.pydata.org/pandas-docs/stable/user_guide/indexing.html#returning-a-view-versus-a-copy\n",
      "  Univariable_table_numerical[['Feature','By_Freq']] = Univariable_table_numerical.level_0.str.split(',',1, expand= True)\n"
     ]
    }
   ],
   "source": [
    "Univariable_table_categorical[['Feature','By_Freq']] = Univariable_table_categorical.level_0.str.rsplit(',',1, expand= True)\n",
    "Univariable_table_numerical[['Feature','By_Freq']] = Univariable_table_numerical.level_0.str.split(',',1, expand= True)"
   ],
   "metadata": {
    "collapsed": false
   }
  },
  {
   "cell_type": "code",
   "execution_count": 13,
   "outputs": [],
   "source": [
    "Univariable_table_categorical = Univariable_table_categorical.drop(['level_0'],axis=1).set_index('Feature')\n",
    "Univariable_table_numerical = Univariable_table_numerical.drop(['level_0','level_1'],axis=1).set_index('Feature')"
   ],
   "metadata": {
    "collapsed": false
   }
  },
  {
   "cell_type": "code",
   "execution_count": 14,
   "outputs": [
    {
     "name": "stdout",
     "output_type": "stream",
     "text": [
      "Columns number to keep: 43\n"
     ]
    }
   ],
   "source": [
    "List_categorical_selected = Univariable_table_categorical.index.tolist()\n",
    "print(f'Columns number to keep: {len(List_categorical_selected)}')"
   ],
   "metadata": {
    "collapsed": false
   }
  },
  {
   "cell_type": "markdown",
   "source": [
    "Find the distinct values for each characteristic and convert the data to a binary one-hot encoding"
   ],
   "metadata": {
    "collapsed": false
   }
  },
  {
   "cell_type": "code",
   "execution_count": 15,
   "outputs": [
    {
     "data": {
      "text/plain": "             IntervalName_Stool Collection #1  \\\nExternal ID                                     \nCSM5FZ4MM                                   0   \nCSM5FZ4MM1                                  0   \nCSM5MCUOM                                   0   \nCSM5MCUOM1                                  0   \nCSM5MCWQM                                   0   \n...                                       ...   \nPSMB4MBSM1                                  0   \nPSMB4MC5M                                   0   \nPSMB4MC5M1                                  0   \nPSMB4MC7M                                   0   \nPSMB4MC7M1                                  0   \n\n             IntervalName_Stool Collection #10  \\\nExternal ID                                      \nCSM5FZ4MM                                    0   \nCSM5FZ4MM1                                   0   \nCSM5MCUOM                                    0   \nCSM5MCUOM1                                   0   \nCSM5MCWQM                                    0   \n...                                        ...   \nPSMB4MBSM1                                   0   \nPSMB4MC5M                                    0   \nPSMB4MC5M1                                   0   \nPSMB4MC7M                                    0   \nPSMB4MC7M1                                   0   \n\n             IntervalName_Stool Collection #11  \\\nExternal ID                                      \nCSM5FZ4MM                                    0   \nCSM5FZ4MM1                                   0   \nCSM5MCUOM                                    0   \nCSM5MCUOM1                                   0   \nCSM5MCWQM                                    0   \n...                                        ...   \nPSMB4MBSM1                                   0   \nPSMB4MC5M                                    0   \nPSMB4MC5M1                                   0   \nPSMB4MC7M                                    0   \nPSMB4MC7M1                                   0   \n\n             IntervalName_Stool Collection #12  \\\nExternal ID                                      \nCSM5FZ4MM                                    0   \nCSM5FZ4MM1                                   0   \nCSM5MCUOM                                    0   \nCSM5MCUOM1                                   0   \nCSM5MCWQM                                    0   \n...                                        ...   \nPSMB4MBSM1                                   0   \nPSMB4MC5M                                    0   \nPSMB4MC5M1                                   0   \nPSMB4MC7M                                    0   \nPSMB4MC7M1                                   0   \n\n             IntervalName_Stool Collection #13  \\\nExternal ID                                      \nCSM5FZ4MM                                    0   \nCSM5FZ4MM1                                   0   \nCSM5MCUOM                                    0   \nCSM5MCUOM1                                   0   \nCSM5MCWQM                                    0   \n...                                        ...   \nPSMB4MBSM1                                   0   \nPSMB4MC5M                                    0   \nPSMB4MC5M1                                   0   \nPSMB4MC7M                                    0   \nPSMB4MC7M1                                   0   \n\n             IntervalName_Stool Collection #14  \\\nExternal ID                                      \nCSM5FZ4MM                                    0   \nCSM5FZ4MM1                                   0   \nCSM5MCUOM                                    0   \nCSM5MCUOM1                                   0   \nCSM5MCWQM                                    0   \n...                                        ...   \nPSMB4MBSM1                                   0   \nPSMB4MC5M                                    0   \nPSMB4MC5M1                                   0   \nPSMB4MC7M                                    0   \nPSMB4MC7M1                                   0   \n\n             IntervalName_Stool Collection #15  \\\nExternal ID                                      \nCSM5FZ4MM                                    0   \nCSM5FZ4MM1                                   0   \nCSM5MCUOM                                    0   \nCSM5MCUOM1                                   0   \nCSM5MCWQM                                    0   \n...                                        ...   \nPSMB4MBSM1                                   0   \nPSMB4MC5M                                    0   \nPSMB4MC5M1                                   0   \nPSMB4MC7M                                    0   \nPSMB4MC7M1                                   0   \n\n             IntervalName_Stool Collection #16  \\\nExternal ID                                      \nCSM5FZ4MM                                    0   \nCSM5FZ4MM1                                   0   \nCSM5MCUOM                                    0   \nCSM5MCUOM1                                   0   \nCSM5MCWQM                                    0   \n...                                        ...   \nPSMB4MBSM1                                   1   \nPSMB4MC5M                                    0   \nPSMB4MC5M1                                   0   \nPSMB4MC7M                                    0   \nPSMB4MC7M1                                   0   \n\n             IntervalName_Stool Collection #17  \\\nExternal ID                                      \nCSM5FZ4MM                                    0   \nCSM5FZ4MM1                                   0   \nCSM5MCUOM                                    0   \nCSM5MCUOM1                                   0   \nCSM5MCWQM                                    0   \n...                                        ...   \nPSMB4MBSM1                                   0   \nPSMB4MC5M                                    0   \nPSMB4MC5M1                                   0   \nPSMB4MC7M                                    0   \nPSMB4MC7M1                                   0   \n\n             IntervalName_Stool Collection #18  ...  \\\nExternal ID                                     ...   \nCSM5FZ4MM                                    0  ...   \nCSM5FZ4MM1                                   0  ...   \nCSM5MCUOM                                    0  ...   \nCSM5MCUOM1                                   0  ...   \nCSM5MCWQM                                    0  ...   \n...                                        ...  ...   \nPSMB4MBSM1                                   0  ...   \nPSMB4MC5M                                    0  ...   \nPSMB4MC5M1                                   0  ...   \nPSMB4MC7M                                    1  ...   \nPSMB4MC7M1                                   1  ...   \n\n             Bowel frequency during the day_06-Apr  \\\nExternal ID                                          \nCSM5FZ4MM                                        0   \nCSM5FZ4MM1                                       0   \nCSM5MCUOM                                        0   \nCSM5MCUOM1                                       0   \nCSM5MCWQM                                        0   \n...                                            ...   \nPSMB4MBSM1                                       0   \nPSMB4MC5M                                        0   \nPSMB4MC5M1                                       0   \nPSMB4MC7M                                        0   \nPSMB4MC7M1                                       0   \n\n             Bowel frequency during the day_09-Jul  \\\nExternal ID                                          \nCSM5FZ4MM                                        0   \nCSM5FZ4MM1                                       0   \nCSM5MCUOM                                        0   \nCSM5MCUOM1                                       0   \nCSM5MCWQM                                        0   \n...                                            ...   \nPSMB4MBSM1                                       0   \nPSMB4MC5M                                        0   \nPSMB4MC5M1                                       0   \nPSMB4MC7M                                        0   \nPSMB4MC7M1                                       0   \n\n             Bowel frequency during the day_Unknown  sex_Female  sex_Male  \\\nExternal ID                                                                 \nCSM5FZ4MM                                         0           1         0   \nCSM5FZ4MM1                                        0           1         0   \nCSM5MCUOM                                         0           0         1   \nCSM5MCUOM1                                        0           0         1   \nCSM5MCWQM                                         0           0         0   \n...                                             ...         ...       ...   \nPSMB4MBSM1                                        0           0         1   \nPSMB4MC5M                                         1           1         0   \nPSMB4MC5M1                                        0           0         0   \nPSMB4MC7M                                         0           0         1   \nPSMB4MC7M1                                        0           0         1   \n\n             sex_Unknown  smoking status_Current smoker  \\\nExternal ID                                               \nCSM5FZ4MM              0                              0   \nCSM5FZ4MM1             0                              0   \nCSM5MCUOM              0                              0   \nCSM5MCUOM1             0                              0   \nCSM5MCWQM              1                              0   \n...                  ...                            ...   \nPSMB4MBSM1             0                              0   \nPSMB4MC5M              0                              0   \nPSMB4MC5M1             1                              0   \nPSMB4MC7M              0                              0   \nPSMB4MC7M1             0                              0   \n\n             smoking status_Former smoker  smoking status_Never smoked  \\\nExternal ID                                                              \nCSM5FZ4MM                               0                            1   \nCSM5FZ4MM1                              0                            0   \nCSM5MCUOM                               0                            0   \nCSM5MCUOM1                              0                            0   \nCSM5MCWQM                               0                            0   \n...                                   ...                          ...   \nPSMB4MBSM1                              0                            1   \nPSMB4MC5M                               0                            1   \nPSMB4MC5M1                              0                            1   \nPSMB4MC7M                               0                            0   \nPSMB4MC7M1                              0                            0   \n\n             smoking status_Unknown  \nExternal ID                          \nCSM5FZ4MM                         0  \nCSM5FZ4MM1                        1  \nCSM5MCUOM                         1  \nCSM5MCUOM1                        1  \nCSM5MCWQM                         1  \n...                             ...  \nPSMB4MBSM1                        0  \nPSMB4MC5M                         0  \nPSMB4MC5M1                        0  \nPSMB4MC7M                         1  \nPSMB4MC7M1                        1  \n\n[1064 rows x 244 columns]",
      "text/html": "<div>\n<style scoped>\n    .dataframe tbody tr th:only-of-type {\n        vertical-align: middle;\n    }\n\n    .dataframe tbody tr th {\n        vertical-align: top;\n    }\n\n    .dataframe thead th {\n        text-align: right;\n    }\n</style>\n<table border=\"1\" class=\"dataframe\">\n  <thead>\n    <tr style=\"text-align: right;\">\n      <th></th>\n      <th>IntervalName_Stool Collection #1</th>\n      <th>IntervalName_Stool Collection #10</th>\n      <th>IntervalName_Stool Collection #11</th>\n      <th>IntervalName_Stool Collection #12</th>\n      <th>IntervalName_Stool Collection #13</th>\n      <th>IntervalName_Stool Collection #14</th>\n      <th>IntervalName_Stool Collection #15</th>\n      <th>IntervalName_Stool Collection #16</th>\n      <th>IntervalName_Stool Collection #17</th>\n      <th>IntervalName_Stool Collection #18</th>\n      <th>...</th>\n      <th>Bowel frequency during the day_06-Apr</th>\n      <th>Bowel frequency during the day_09-Jul</th>\n      <th>Bowel frequency during the day_Unknown</th>\n      <th>sex_Female</th>\n      <th>sex_Male</th>\n      <th>sex_Unknown</th>\n      <th>smoking status_Current smoker</th>\n      <th>smoking status_Former smoker</th>\n      <th>smoking status_Never smoked</th>\n      <th>smoking status_Unknown</th>\n    </tr>\n    <tr>\n      <th>External ID</th>\n      <th></th>\n      <th></th>\n      <th></th>\n      <th></th>\n      <th></th>\n      <th></th>\n      <th></th>\n      <th></th>\n      <th></th>\n      <th></th>\n      <th></th>\n      <th></th>\n      <th></th>\n      <th></th>\n      <th></th>\n      <th></th>\n      <th></th>\n      <th></th>\n      <th></th>\n      <th></th>\n      <th></th>\n    </tr>\n  </thead>\n  <tbody>\n    <tr>\n      <th>CSM5FZ4MM</th>\n      <td>0</td>\n      <td>0</td>\n      <td>0</td>\n      <td>0</td>\n      <td>0</td>\n      <td>0</td>\n      <td>0</td>\n      <td>0</td>\n      <td>0</td>\n      <td>0</td>\n      <td>...</td>\n      <td>0</td>\n      <td>0</td>\n      <td>0</td>\n      <td>1</td>\n      <td>0</td>\n      <td>0</td>\n      <td>0</td>\n      <td>0</td>\n      <td>1</td>\n      <td>0</td>\n    </tr>\n    <tr>\n      <th>CSM5FZ4MM1</th>\n      <td>0</td>\n      <td>0</td>\n      <td>0</td>\n      <td>0</td>\n      <td>0</td>\n      <td>0</td>\n      <td>0</td>\n      <td>0</td>\n      <td>0</td>\n      <td>0</td>\n      <td>...</td>\n      <td>0</td>\n      <td>0</td>\n      <td>0</td>\n      <td>1</td>\n      <td>0</td>\n      <td>0</td>\n      <td>0</td>\n      <td>0</td>\n      <td>0</td>\n      <td>1</td>\n    </tr>\n    <tr>\n      <th>CSM5MCUOM</th>\n      <td>0</td>\n      <td>0</td>\n      <td>0</td>\n      <td>0</td>\n      <td>0</td>\n      <td>0</td>\n      <td>0</td>\n      <td>0</td>\n      <td>0</td>\n      <td>0</td>\n      <td>...</td>\n      <td>0</td>\n      <td>0</td>\n      <td>0</td>\n      <td>0</td>\n      <td>1</td>\n      <td>0</td>\n      <td>0</td>\n      <td>0</td>\n      <td>0</td>\n      <td>1</td>\n    </tr>\n    <tr>\n      <th>CSM5MCUOM1</th>\n      <td>0</td>\n      <td>0</td>\n      <td>0</td>\n      <td>0</td>\n      <td>0</td>\n      <td>0</td>\n      <td>0</td>\n      <td>0</td>\n      <td>0</td>\n      <td>0</td>\n      <td>...</td>\n      <td>0</td>\n      <td>0</td>\n      <td>0</td>\n      <td>0</td>\n      <td>1</td>\n      <td>0</td>\n      <td>0</td>\n      <td>0</td>\n      <td>0</td>\n      <td>1</td>\n    </tr>\n    <tr>\n      <th>CSM5MCWQM</th>\n      <td>0</td>\n      <td>0</td>\n      <td>0</td>\n      <td>0</td>\n      <td>0</td>\n      <td>0</td>\n      <td>0</td>\n      <td>0</td>\n      <td>0</td>\n      <td>0</td>\n      <td>...</td>\n      <td>0</td>\n      <td>0</td>\n      <td>0</td>\n      <td>0</td>\n      <td>0</td>\n      <td>1</td>\n      <td>0</td>\n      <td>0</td>\n      <td>0</td>\n      <td>1</td>\n    </tr>\n    <tr>\n      <th>...</th>\n      <td>...</td>\n      <td>...</td>\n      <td>...</td>\n      <td>...</td>\n      <td>...</td>\n      <td>...</td>\n      <td>...</td>\n      <td>...</td>\n      <td>...</td>\n      <td>...</td>\n      <td>...</td>\n      <td>...</td>\n      <td>...</td>\n      <td>...</td>\n      <td>...</td>\n      <td>...</td>\n      <td>...</td>\n      <td>...</td>\n      <td>...</td>\n      <td>...</td>\n      <td>...</td>\n    </tr>\n    <tr>\n      <th>PSMB4MBSM1</th>\n      <td>0</td>\n      <td>0</td>\n      <td>0</td>\n      <td>0</td>\n      <td>0</td>\n      <td>0</td>\n      <td>0</td>\n      <td>1</td>\n      <td>0</td>\n      <td>0</td>\n      <td>...</td>\n      <td>0</td>\n      <td>0</td>\n      <td>0</td>\n      <td>0</td>\n      <td>1</td>\n      <td>0</td>\n      <td>0</td>\n      <td>0</td>\n      <td>1</td>\n      <td>0</td>\n    </tr>\n    <tr>\n      <th>PSMB4MC5M</th>\n      <td>0</td>\n      <td>0</td>\n      <td>0</td>\n      <td>0</td>\n      <td>0</td>\n      <td>0</td>\n      <td>0</td>\n      <td>0</td>\n      <td>0</td>\n      <td>0</td>\n      <td>...</td>\n      <td>0</td>\n      <td>0</td>\n      <td>1</td>\n      <td>1</td>\n      <td>0</td>\n      <td>0</td>\n      <td>0</td>\n      <td>0</td>\n      <td>1</td>\n      <td>0</td>\n    </tr>\n    <tr>\n      <th>PSMB4MC5M1</th>\n      <td>0</td>\n      <td>0</td>\n      <td>0</td>\n      <td>0</td>\n      <td>0</td>\n      <td>0</td>\n      <td>0</td>\n      <td>0</td>\n      <td>0</td>\n      <td>0</td>\n      <td>...</td>\n      <td>0</td>\n      <td>0</td>\n      <td>0</td>\n      <td>0</td>\n      <td>0</td>\n      <td>1</td>\n      <td>0</td>\n      <td>0</td>\n      <td>1</td>\n      <td>0</td>\n    </tr>\n    <tr>\n      <th>PSMB4MC7M</th>\n      <td>0</td>\n      <td>0</td>\n      <td>0</td>\n      <td>0</td>\n      <td>0</td>\n      <td>0</td>\n      <td>0</td>\n      <td>0</td>\n      <td>0</td>\n      <td>1</td>\n      <td>...</td>\n      <td>0</td>\n      <td>0</td>\n      <td>0</td>\n      <td>0</td>\n      <td>1</td>\n      <td>0</td>\n      <td>0</td>\n      <td>0</td>\n      <td>0</td>\n      <td>1</td>\n    </tr>\n    <tr>\n      <th>PSMB4MC7M1</th>\n      <td>0</td>\n      <td>0</td>\n      <td>0</td>\n      <td>0</td>\n      <td>0</td>\n      <td>0</td>\n      <td>0</td>\n      <td>0</td>\n      <td>0</td>\n      <td>1</td>\n      <td>...</td>\n      <td>0</td>\n      <td>0</td>\n      <td>0</td>\n      <td>0</td>\n      <td>1</td>\n      <td>0</td>\n      <td>0</td>\n      <td>0</td>\n      <td>0</td>\n      <td>1</td>\n    </tr>\n  </tbody>\n</table>\n<p>1064 rows × 244 columns</p>\n</div>"
     },
     "execution_count": 15,
     "metadata": {},
     "output_type": "execute_result"
    }
   ],
   "source": [
    "Keep_Categorical = IBD_X_C[IBD_X_C.columns[IBD_X_C.columns.isin(List_categorical_selected)]]\n",
    "OneHot_table_categorical = pd.get_dummies(Keep_Categorical)\n",
    "OneHot_table_categorical"
   ],
   "metadata": {
    "collapsed": false
   }
  },
  {
   "cell_type": "markdown",
   "source": [
    "Set missing values to zero"
   ],
   "metadata": {
    "collapsed": false
   }
  },
  {
   "cell_type": "code",
   "execution_count": 16,
   "outputs": [
    {
     "data": {
      "text/plain": "Variable\nBMI                                1.0\nCRP (mg/L)                         1.0\nESR (mm/hr)                        1.0\nHeight                             1.0\nIntervalSequence                   0.0\nTotal Reads                        1.0\nWeight                             1.0\nWeight_n                           1.0\nconsent_age                        1.0\nfecalcal                           1.0\nfecalcal_ng_ml                     1.0\ninterval_days                      1.0\ns__Bacteroides_uniformis           0.0\ns__Faecalibacterium_prausnitzii    1.0\ns__Parabacteroides_distasonis      1.0\nvisit_num                          0.0\nweek_num                           0.0\nName: Univariable, dtype: float64"
     },
     "execution_count": 16,
     "metadata": {},
     "output_type": "execute_result"
    }
   ],
   "source": [
    "FearSel['Univariable'] = Univariable_table_numerical['Univariable'].astype('int64')\n",
    "FearSel['Univariable'] = FearSel['Univariable'].fillna(0)\n",
    "FearSel['Univariable']"
   ],
   "metadata": {
    "collapsed": false
   }
  },
  {
   "cell_type": "markdown",
   "source": [
    "Find important features with Random Forest model"
   ],
   "metadata": {
    "collapsed": false
   }
  },
  {
   "cell_type": "code",
   "execution_count": 17,
   "outputs": [],
   "source": [
    "rfmod = RandomForestClassifier().fit(X, y)"
   ],
   "metadata": {
    "collapsed": false
   }
  },
  {
   "cell_type": "code",
   "execution_count": 18,
   "outputs": [],
   "source": [
    "model = SelectFromModel(rfmod, prefit=True)"
   ],
   "metadata": {
    "collapsed": false
   }
  },
  {
   "cell_type": "code",
   "execution_count": 19,
   "outputs": [
    {
     "data": {
      "text/plain": "                                 Univariable  RandomForest\nVariable                                                  \nBMI                                      1.0             0\nCRP (mg/L)                               1.0             1\nESR (mm/hr)                              1.0             1\nHeight                                   1.0             1\nIntervalSequence                         0.0             0\nTotal Reads                              1.0             0\nWeight                                   1.0             0\nWeight_n                                 1.0             1\nconsent_age                              1.0             0\nfecalcal                                 1.0             0\nfecalcal_ng_ml                           1.0             1\ninterval_days                            1.0             1\ns__Bacteroides_uniformis                 0.0             0\ns__Faecalibacterium_prausnitzii          1.0             0\ns__Parabacteroides_distasonis            1.0             0\nvisit_num                                0.0             0\nweek_num                                 0.0             0",
      "text/html": "<div>\n<style scoped>\n    .dataframe tbody tr th:only-of-type {\n        vertical-align: middle;\n    }\n\n    .dataframe tbody tr th {\n        vertical-align: top;\n    }\n\n    .dataframe thead th {\n        text-align: right;\n    }\n</style>\n<table border=\"1\" class=\"dataframe\">\n  <thead>\n    <tr style=\"text-align: right;\">\n      <th></th>\n      <th>Univariable</th>\n      <th>RandomForest</th>\n    </tr>\n    <tr>\n      <th>Variable</th>\n      <th></th>\n      <th></th>\n    </tr>\n  </thead>\n  <tbody>\n    <tr>\n      <th>BMI</th>\n      <td>1.0</td>\n      <td>0</td>\n    </tr>\n    <tr>\n      <th>CRP (mg/L)</th>\n      <td>1.0</td>\n      <td>1</td>\n    </tr>\n    <tr>\n      <th>ESR (mm/hr)</th>\n      <td>1.0</td>\n      <td>1</td>\n    </tr>\n    <tr>\n      <th>Height</th>\n      <td>1.0</td>\n      <td>1</td>\n    </tr>\n    <tr>\n      <th>IntervalSequence</th>\n      <td>0.0</td>\n      <td>0</td>\n    </tr>\n    <tr>\n      <th>Total Reads</th>\n      <td>1.0</td>\n      <td>0</td>\n    </tr>\n    <tr>\n      <th>Weight</th>\n      <td>1.0</td>\n      <td>0</td>\n    </tr>\n    <tr>\n      <th>Weight_n</th>\n      <td>1.0</td>\n      <td>1</td>\n    </tr>\n    <tr>\n      <th>consent_age</th>\n      <td>1.0</td>\n      <td>0</td>\n    </tr>\n    <tr>\n      <th>fecalcal</th>\n      <td>1.0</td>\n      <td>0</td>\n    </tr>\n    <tr>\n      <th>fecalcal_ng_ml</th>\n      <td>1.0</td>\n      <td>1</td>\n    </tr>\n    <tr>\n      <th>interval_days</th>\n      <td>1.0</td>\n      <td>1</td>\n    </tr>\n    <tr>\n      <th>s__Bacteroides_uniformis</th>\n      <td>0.0</td>\n      <td>0</td>\n    </tr>\n    <tr>\n      <th>s__Faecalibacterium_prausnitzii</th>\n      <td>1.0</td>\n      <td>0</td>\n    </tr>\n    <tr>\n      <th>s__Parabacteroides_distasonis</th>\n      <td>1.0</td>\n      <td>0</td>\n    </tr>\n    <tr>\n      <th>visit_num</th>\n      <td>0.0</td>\n      <td>0</td>\n    </tr>\n    <tr>\n      <th>week_num</th>\n      <td>0.0</td>\n      <td>0</td>\n    </tr>\n  </tbody>\n</table>\n</div>"
     },
     "execution_count": 19,
     "metadata": {},
     "output_type": "execute_result"
    }
   ],
   "source": [
    "FearSel['RandomForest'] = model.get_support().astype('int64')\n",
    "FearSel"
   ],
   "metadata": {
    "collapsed": false
   }
  },
  {
   "cell_type": "markdown",
   "source": [
    "Find important features with Gradient Boosting Classifier model"
   ],
   "metadata": {
    "collapsed": false
   }
  },
  {
   "cell_type": "code",
   "execution_count": 20,
   "outputs": [],
   "source": [
    "gbmod = GradientBoostingClassifier().fit(X, y)"
   ],
   "metadata": {
    "collapsed": false
   }
  },
  {
   "cell_type": "code",
   "execution_count": 21,
   "outputs": [],
   "source": [
    "model = SelectFromModel(gbmod, prefit=True)"
   ],
   "metadata": {
    "collapsed": false
   }
  },
  {
   "cell_type": "code",
   "execution_count": 22,
   "outputs": [
    {
     "data": {
      "text/plain": "                                 Univariable  RandomForest  GradientBoost\nVariable                                                                 \nBMI                                      1.0             0              0\nCRP (mg/L)                               1.0             1              1\nESR (mm/hr)                              1.0             1              1\nHeight                                   1.0             1              0\nIntervalSequence                         0.0             0              0\nTotal Reads                              1.0             0              0\nWeight                                   1.0             0              0\nWeight_n                                 1.0             1              0\nconsent_age                              1.0             0              0\nfecalcal                                 1.0             0              0\nfecalcal_ng_ml                           1.0             1              0\ninterval_days                            1.0             1              1\ns__Bacteroides_uniformis                 0.0             0              0\ns__Faecalibacterium_prausnitzii          1.0             0              0\ns__Parabacteroides_distasonis            1.0             0              0\nvisit_num                                0.0             0              0\nweek_num                                 0.0             0              0",
      "text/html": "<div>\n<style scoped>\n    .dataframe tbody tr th:only-of-type {\n        vertical-align: middle;\n    }\n\n    .dataframe tbody tr th {\n        vertical-align: top;\n    }\n\n    .dataframe thead th {\n        text-align: right;\n    }\n</style>\n<table border=\"1\" class=\"dataframe\">\n  <thead>\n    <tr style=\"text-align: right;\">\n      <th></th>\n      <th>Univariable</th>\n      <th>RandomForest</th>\n      <th>GradientBoost</th>\n    </tr>\n    <tr>\n      <th>Variable</th>\n      <th></th>\n      <th></th>\n      <th></th>\n    </tr>\n  </thead>\n  <tbody>\n    <tr>\n      <th>BMI</th>\n      <td>1.0</td>\n      <td>0</td>\n      <td>0</td>\n    </tr>\n    <tr>\n      <th>CRP (mg/L)</th>\n      <td>1.0</td>\n      <td>1</td>\n      <td>1</td>\n    </tr>\n    <tr>\n      <th>ESR (mm/hr)</th>\n      <td>1.0</td>\n      <td>1</td>\n      <td>1</td>\n    </tr>\n    <tr>\n      <th>Height</th>\n      <td>1.0</td>\n      <td>1</td>\n      <td>0</td>\n    </tr>\n    <tr>\n      <th>IntervalSequence</th>\n      <td>0.0</td>\n      <td>0</td>\n      <td>0</td>\n    </tr>\n    <tr>\n      <th>Total Reads</th>\n      <td>1.0</td>\n      <td>0</td>\n      <td>0</td>\n    </tr>\n    <tr>\n      <th>Weight</th>\n      <td>1.0</td>\n      <td>0</td>\n      <td>0</td>\n    </tr>\n    <tr>\n      <th>Weight_n</th>\n      <td>1.0</td>\n      <td>1</td>\n      <td>0</td>\n    </tr>\n    <tr>\n      <th>consent_age</th>\n      <td>1.0</td>\n      <td>0</td>\n      <td>0</td>\n    </tr>\n    <tr>\n      <th>fecalcal</th>\n      <td>1.0</td>\n      <td>0</td>\n      <td>0</td>\n    </tr>\n    <tr>\n      <th>fecalcal_ng_ml</th>\n      <td>1.0</td>\n      <td>1</td>\n      <td>0</td>\n    </tr>\n    <tr>\n      <th>interval_days</th>\n      <td>1.0</td>\n      <td>1</td>\n      <td>1</td>\n    </tr>\n    <tr>\n      <th>s__Bacteroides_uniformis</th>\n      <td>0.0</td>\n      <td>0</td>\n      <td>0</td>\n    </tr>\n    <tr>\n      <th>s__Faecalibacterium_prausnitzii</th>\n      <td>1.0</td>\n      <td>0</td>\n      <td>0</td>\n    </tr>\n    <tr>\n      <th>s__Parabacteroides_distasonis</th>\n      <td>1.0</td>\n      <td>0</td>\n      <td>0</td>\n    </tr>\n    <tr>\n      <th>visit_num</th>\n      <td>0.0</td>\n      <td>0</td>\n      <td>0</td>\n    </tr>\n    <tr>\n      <th>week_num</th>\n      <td>0.0</td>\n      <td>0</td>\n      <td>0</td>\n    </tr>\n  </tbody>\n</table>\n</div>"
     },
     "execution_count": 22,
     "metadata": {},
     "output_type": "execute_result"
    }
   ],
   "source": [
    "FearSel['GradientBoost'] = model.get_support().astype('int64')\n",
    "FearSel"
   ],
   "metadata": {
    "collapsed": false
   }
  },
  {
   "cell_type": "markdown",
   "source": [
    "Find important features with Support Vector Classifier model"
   ],
   "metadata": {
    "collapsed": false
   }
  },
  {
   "cell_type": "code",
   "execution_count": 23,
   "outputs": [],
   "source": [
    "svmmod = LinearSVC(C=0.01, penalty=\"l1\",dual=False).fit(X, y)"
   ],
   "metadata": {
    "collapsed": false
   }
  },
  {
   "cell_type": "code",
   "execution_count": 24,
   "outputs": [],
   "source": [
    "model = SelectFromModel(svmmod, prefit=True)"
   ],
   "metadata": {
    "collapsed": false
   }
  },
  {
   "cell_type": "code",
   "execution_count": 25,
   "outputs": [
    {
     "data": {
      "text/plain": "                                 Univariable  RandomForest  GradientBoost  SVC\nVariable                                                                      \nBMI                                      1.0             0              0    1\nCRP (mg/L)                               1.0             1              1    1\nESR (mm/hr)                              1.0             1              1    1\nHeight                                   1.0             1              0    1\nIntervalSequence                         0.0             0              0    1\nTotal Reads                              1.0             0              0    0\nWeight                                   1.0             0              0    1\nWeight_n                                 1.0             1              0    1\nconsent_age                              1.0             0              0    1\nfecalcal                                 1.0             0              0    1\nfecalcal_ng_ml                           1.0             1              0    1\ninterval_days                            1.0             1              1    1\ns__Bacteroides_uniformis                 0.0             0              0    0\ns__Faecalibacterium_prausnitzii          1.0             0              0    0\ns__Parabacteroides_distasonis            1.0             0              0    0\nvisit_num                                0.0             0              0    1\nweek_num                                 0.0             0              0    1",
      "text/html": "<div>\n<style scoped>\n    .dataframe tbody tr th:only-of-type {\n        vertical-align: middle;\n    }\n\n    .dataframe tbody tr th {\n        vertical-align: top;\n    }\n\n    .dataframe thead th {\n        text-align: right;\n    }\n</style>\n<table border=\"1\" class=\"dataframe\">\n  <thead>\n    <tr style=\"text-align: right;\">\n      <th></th>\n      <th>Univariable</th>\n      <th>RandomForest</th>\n      <th>GradientBoost</th>\n      <th>SVC</th>\n    </tr>\n    <tr>\n      <th>Variable</th>\n      <th></th>\n      <th></th>\n      <th></th>\n      <th></th>\n    </tr>\n  </thead>\n  <tbody>\n    <tr>\n      <th>BMI</th>\n      <td>1.0</td>\n      <td>0</td>\n      <td>0</td>\n      <td>1</td>\n    </tr>\n    <tr>\n      <th>CRP (mg/L)</th>\n      <td>1.0</td>\n      <td>1</td>\n      <td>1</td>\n      <td>1</td>\n    </tr>\n    <tr>\n      <th>ESR (mm/hr)</th>\n      <td>1.0</td>\n      <td>1</td>\n      <td>1</td>\n      <td>1</td>\n    </tr>\n    <tr>\n      <th>Height</th>\n      <td>1.0</td>\n      <td>1</td>\n      <td>0</td>\n      <td>1</td>\n    </tr>\n    <tr>\n      <th>IntervalSequence</th>\n      <td>0.0</td>\n      <td>0</td>\n      <td>0</td>\n      <td>1</td>\n    </tr>\n    <tr>\n      <th>Total Reads</th>\n      <td>1.0</td>\n      <td>0</td>\n      <td>0</td>\n      <td>0</td>\n    </tr>\n    <tr>\n      <th>Weight</th>\n      <td>1.0</td>\n      <td>0</td>\n      <td>0</td>\n      <td>1</td>\n    </tr>\n    <tr>\n      <th>Weight_n</th>\n      <td>1.0</td>\n      <td>1</td>\n      <td>0</td>\n      <td>1</td>\n    </tr>\n    <tr>\n      <th>consent_age</th>\n      <td>1.0</td>\n      <td>0</td>\n      <td>0</td>\n      <td>1</td>\n    </tr>\n    <tr>\n      <th>fecalcal</th>\n      <td>1.0</td>\n      <td>0</td>\n      <td>0</td>\n      <td>1</td>\n    </tr>\n    <tr>\n      <th>fecalcal_ng_ml</th>\n      <td>1.0</td>\n      <td>1</td>\n      <td>0</td>\n      <td>1</td>\n    </tr>\n    <tr>\n      <th>interval_days</th>\n      <td>1.0</td>\n      <td>1</td>\n      <td>1</td>\n      <td>1</td>\n    </tr>\n    <tr>\n      <th>s__Bacteroides_uniformis</th>\n      <td>0.0</td>\n      <td>0</td>\n      <td>0</td>\n      <td>0</td>\n    </tr>\n    <tr>\n      <th>s__Faecalibacterium_prausnitzii</th>\n      <td>1.0</td>\n      <td>0</td>\n      <td>0</td>\n      <td>0</td>\n    </tr>\n    <tr>\n      <th>s__Parabacteroides_distasonis</th>\n      <td>1.0</td>\n      <td>0</td>\n      <td>0</td>\n      <td>0</td>\n    </tr>\n    <tr>\n      <th>visit_num</th>\n      <td>0.0</td>\n      <td>0</td>\n      <td>0</td>\n      <td>1</td>\n    </tr>\n    <tr>\n      <th>week_num</th>\n      <td>0.0</td>\n      <td>0</td>\n      <td>0</td>\n      <td>1</td>\n    </tr>\n  </tbody>\n</table>\n</div>"
     },
     "execution_count": 25,
     "metadata": {},
     "output_type": "execute_result"
    }
   ],
   "source": [
    "FearSel['SVC'] = model.get_support().astype('int64')\n",
    "FearSel"
   ],
   "metadata": {
    "collapsed": false
   }
  },
  {
   "cell_type": "markdown",
   "source": [
    "Find important features with Logistic Regression model"
   ],
   "metadata": {
    "collapsed": false
   }
  },
  {
   "cell_type": "code",
   "execution_count": 26,
   "outputs": [],
   "source": [
    "Log_R = LogisticRegression().fit(X, y)"
   ],
   "metadata": {
    "collapsed": false
   }
  },
  {
   "cell_type": "code",
   "execution_count": 27,
   "outputs": [],
   "source": [
    "model = SelectFromModel(Log_R, prefit=True)"
   ],
   "metadata": {
    "collapsed": false
   }
  },
  {
   "cell_type": "code",
   "execution_count": 28,
   "outputs": [
    {
     "data": {
      "text/plain": "                                 Univariable  RandomForest  GradientBoost  \\\nVariable                                                                    \nBMI                                      1.0             0              0   \nCRP (mg/L)                               1.0             1              1   \nESR (mm/hr)                              1.0             1              1   \nHeight                                   1.0             1              0   \nIntervalSequence                         0.0             0              0   \nTotal Reads                              1.0             0              0   \nWeight                                   1.0             0              0   \nWeight_n                                 1.0             1              0   \nconsent_age                              1.0             0              0   \nfecalcal                                 1.0             0              0   \nfecalcal_ng_ml                           1.0             1              0   \ninterval_days                            1.0             1              1   \ns__Bacteroides_uniformis                 0.0             0              0   \ns__Faecalibacterium_prausnitzii          1.0             0              0   \ns__Parabacteroides_distasonis            1.0             0              0   \nvisit_num                                0.0             0              0   \nweek_num                                 0.0             0              0   \n\n                                 SVC  LogisticRegression  \nVariable                                                  \nBMI                                1                   0  \nCRP (mg/L)                         1                   0  \nESR (mm/hr)                        1                   0  \nHeight                             1                   0  \nIntervalSequence                   1                   0  \nTotal Reads                        0                   1  \nWeight                             1                   0  \nWeight_n                           1                   0  \nconsent_age                        1                   0  \nfecalcal                           1                   0  \nfecalcal_ng_ml                     1                   0  \ninterval_days                      1                   0  \ns__Bacteroides_uniformis           0                   0  \ns__Faecalibacterium_prausnitzii    0                   0  \ns__Parabacteroides_distasonis      0                   0  \nvisit_num                          1                   0  \nweek_num                           1                   0  ",
      "text/html": "<div>\n<style scoped>\n    .dataframe tbody tr th:only-of-type {\n        vertical-align: middle;\n    }\n\n    .dataframe tbody tr th {\n        vertical-align: top;\n    }\n\n    .dataframe thead th {\n        text-align: right;\n    }\n</style>\n<table border=\"1\" class=\"dataframe\">\n  <thead>\n    <tr style=\"text-align: right;\">\n      <th></th>\n      <th>Univariable</th>\n      <th>RandomForest</th>\n      <th>GradientBoost</th>\n      <th>SVC</th>\n      <th>LogisticRegression</th>\n    </tr>\n    <tr>\n      <th>Variable</th>\n      <th></th>\n      <th></th>\n      <th></th>\n      <th></th>\n      <th></th>\n    </tr>\n  </thead>\n  <tbody>\n    <tr>\n      <th>BMI</th>\n      <td>1.0</td>\n      <td>0</td>\n      <td>0</td>\n      <td>1</td>\n      <td>0</td>\n    </tr>\n    <tr>\n      <th>CRP (mg/L)</th>\n      <td>1.0</td>\n      <td>1</td>\n      <td>1</td>\n      <td>1</td>\n      <td>0</td>\n    </tr>\n    <tr>\n      <th>ESR (mm/hr)</th>\n      <td>1.0</td>\n      <td>1</td>\n      <td>1</td>\n      <td>1</td>\n      <td>0</td>\n    </tr>\n    <tr>\n      <th>Height</th>\n      <td>1.0</td>\n      <td>1</td>\n      <td>0</td>\n      <td>1</td>\n      <td>0</td>\n    </tr>\n    <tr>\n      <th>IntervalSequence</th>\n      <td>0.0</td>\n      <td>0</td>\n      <td>0</td>\n      <td>1</td>\n      <td>0</td>\n    </tr>\n    <tr>\n      <th>Total Reads</th>\n      <td>1.0</td>\n      <td>0</td>\n      <td>0</td>\n      <td>0</td>\n      <td>1</td>\n    </tr>\n    <tr>\n      <th>Weight</th>\n      <td>1.0</td>\n      <td>0</td>\n      <td>0</td>\n      <td>1</td>\n      <td>0</td>\n    </tr>\n    <tr>\n      <th>Weight_n</th>\n      <td>1.0</td>\n      <td>1</td>\n      <td>0</td>\n      <td>1</td>\n      <td>0</td>\n    </tr>\n    <tr>\n      <th>consent_age</th>\n      <td>1.0</td>\n      <td>0</td>\n      <td>0</td>\n      <td>1</td>\n      <td>0</td>\n    </tr>\n    <tr>\n      <th>fecalcal</th>\n      <td>1.0</td>\n      <td>0</td>\n      <td>0</td>\n      <td>1</td>\n      <td>0</td>\n    </tr>\n    <tr>\n      <th>fecalcal_ng_ml</th>\n      <td>1.0</td>\n      <td>1</td>\n      <td>0</td>\n      <td>1</td>\n      <td>0</td>\n    </tr>\n    <tr>\n      <th>interval_days</th>\n      <td>1.0</td>\n      <td>1</td>\n      <td>1</td>\n      <td>1</td>\n      <td>0</td>\n    </tr>\n    <tr>\n      <th>s__Bacteroides_uniformis</th>\n      <td>0.0</td>\n      <td>0</td>\n      <td>0</td>\n      <td>0</td>\n      <td>0</td>\n    </tr>\n    <tr>\n      <th>s__Faecalibacterium_prausnitzii</th>\n      <td>1.0</td>\n      <td>0</td>\n      <td>0</td>\n      <td>0</td>\n      <td>0</td>\n    </tr>\n    <tr>\n      <th>s__Parabacteroides_distasonis</th>\n      <td>1.0</td>\n      <td>0</td>\n      <td>0</td>\n      <td>0</td>\n      <td>0</td>\n    </tr>\n    <tr>\n      <th>visit_num</th>\n      <td>0.0</td>\n      <td>0</td>\n      <td>0</td>\n      <td>1</td>\n      <td>0</td>\n    </tr>\n    <tr>\n      <th>week_num</th>\n      <td>0.0</td>\n      <td>0</td>\n      <td>0</td>\n      <td>1</td>\n      <td>0</td>\n    </tr>\n  </tbody>\n</table>\n</div>"
     },
     "execution_count": 28,
     "metadata": {},
     "output_type": "execute_result"
    }
   ],
   "source": [
    "FearSel['LogisticRegression'] = model.get_support().astype('int64')\n",
    "FearSel"
   ],
   "metadata": {
    "collapsed": false
   }
  },
  {
   "cell_type": "markdown",
   "source": [
    "All models summary"
   ],
   "metadata": {
    "collapsed": false
   }
  },
  {
   "cell_type": "code",
   "execution_count": 29,
   "outputs": [
    {
     "data": {
      "text/plain": "                                 Univariable  RandomForest  GradientBoost  \\\nVariable                                                                    \nBMI                                      1.0             0              0   \nCRP (mg/L)                               1.0             1              1   \nESR (mm/hr)                              1.0             1              1   \nHeight                                   1.0             1              0   \nIntervalSequence                         0.0             0              0   \nTotal Reads                              1.0             0              0   \nWeight                                   1.0             0              0   \nWeight_n                                 1.0             1              0   \nconsent_age                              1.0             0              0   \nfecalcal                                 1.0             0              0   \nfecalcal_ng_ml                           1.0             1              0   \ninterval_days                            1.0             1              1   \ns__Bacteroides_uniformis                 0.0             0              0   \ns__Faecalibacterium_prausnitzii          1.0             0              0   \ns__Parabacteroides_distasonis            1.0             0              0   \nvisit_num                                0.0             0              0   \nweek_num                                 0.0             0              0   \n\n                                 SVC  LogisticRegression  Sum  \nVariable                                                       \nBMI                                1                   0  2.0  \nCRP (mg/L)                         1                   0  4.0  \nESR (mm/hr)                        1                   0  4.0  \nHeight                             1                   0  3.0  \nIntervalSequence                   1                   0  1.0  \nTotal Reads                        0                   1  2.0  \nWeight                             1                   0  2.0  \nWeight_n                           1                   0  3.0  \nconsent_age                        1                   0  2.0  \nfecalcal                           1                   0  2.0  \nfecalcal_ng_ml                     1                   0  3.0  \ninterval_days                      1                   0  4.0  \ns__Bacteroides_uniformis           0                   0  0.0  \ns__Faecalibacterium_prausnitzii    0                   0  1.0  \ns__Parabacteroides_distasonis      0                   0  1.0  \nvisit_num                          1                   0  1.0  \nweek_num                           1                   0  1.0  ",
      "text/html": "<div>\n<style scoped>\n    .dataframe tbody tr th:only-of-type {\n        vertical-align: middle;\n    }\n\n    .dataframe tbody tr th {\n        vertical-align: top;\n    }\n\n    .dataframe thead th {\n        text-align: right;\n    }\n</style>\n<table border=\"1\" class=\"dataframe\">\n  <thead>\n    <tr style=\"text-align: right;\">\n      <th></th>\n      <th>Univariable</th>\n      <th>RandomForest</th>\n      <th>GradientBoost</th>\n      <th>SVC</th>\n      <th>LogisticRegression</th>\n      <th>Sum</th>\n    </tr>\n    <tr>\n      <th>Variable</th>\n      <th></th>\n      <th></th>\n      <th></th>\n      <th></th>\n      <th></th>\n      <th></th>\n    </tr>\n  </thead>\n  <tbody>\n    <tr>\n      <th>BMI</th>\n      <td>1.0</td>\n      <td>0</td>\n      <td>0</td>\n      <td>1</td>\n      <td>0</td>\n      <td>2.0</td>\n    </tr>\n    <tr>\n      <th>CRP (mg/L)</th>\n      <td>1.0</td>\n      <td>1</td>\n      <td>1</td>\n      <td>1</td>\n      <td>0</td>\n      <td>4.0</td>\n    </tr>\n    <tr>\n      <th>ESR (mm/hr)</th>\n      <td>1.0</td>\n      <td>1</td>\n      <td>1</td>\n      <td>1</td>\n      <td>0</td>\n      <td>4.0</td>\n    </tr>\n    <tr>\n      <th>Height</th>\n      <td>1.0</td>\n      <td>1</td>\n      <td>0</td>\n      <td>1</td>\n      <td>0</td>\n      <td>3.0</td>\n    </tr>\n    <tr>\n      <th>IntervalSequence</th>\n      <td>0.0</td>\n      <td>0</td>\n      <td>0</td>\n      <td>1</td>\n      <td>0</td>\n      <td>1.0</td>\n    </tr>\n    <tr>\n      <th>Total Reads</th>\n      <td>1.0</td>\n      <td>0</td>\n      <td>0</td>\n      <td>0</td>\n      <td>1</td>\n      <td>2.0</td>\n    </tr>\n    <tr>\n      <th>Weight</th>\n      <td>1.0</td>\n      <td>0</td>\n      <td>0</td>\n      <td>1</td>\n      <td>0</td>\n      <td>2.0</td>\n    </tr>\n    <tr>\n      <th>Weight_n</th>\n      <td>1.0</td>\n      <td>1</td>\n      <td>0</td>\n      <td>1</td>\n      <td>0</td>\n      <td>3.0</td>\n    </tr>\n    <tr>\n      <th>consent_age</th>\n      <td>1.0</td>\n      <td>0</td>\n      <td>0</td>\n      <td>1</td>\n      <td>0</td>\n      <td>2.0</td>\n    </tr>\n    <tr>\n      <th>fecalcal</th>\n      <td>1.0</td>\n      <td>0</td>\n      <td>0</td>\n      <td>1</td>\n      <td>0</td>\n      <td>2.0</td>\n    </tr>\n    <tr>\n      <th>fecalcal_ng_ml</th>\n      <td>1.0</td>\n      <td>1</td>\n      <td>0</td>\n      <td>1</td>\n      <td>0</td>\n      <td>3.0</td>\n    </tr>\n    <tr>\n      <th>interval_days</th>\n      <td>1.0</td>\n      <td>1</td>\n      <td>1</td>\n      <td>1</td>\n      <td>0</td>\n      <td>4.0</td>\n    </tr>\n    <tr>\n      <th>s__Bacteroides_uniformis</th>\n      <td>0.0</td>\n      <td>0</td>\n      <td>0</td>\n      <td>0</td>\n      <td>0</td>\n      <td>0.0</td>\n    </tr>\n    <tr>\n      <th>s__Faecalibacterium_prausnitzii</th>\n      <td>1.0</td>\n      <td>0</td>\n      <td>0</td>\n      <td>0</td>\n      <td>0</td>\n      <td>1.0</td>\n    </tr>\n    <tr>\n      <th>s__Parabacteroides_distasonis</th>\n      <td>1.0</td>\n      <td>0</td>\n      <td>0</td>\n      <td>0</td>\n      <td>0</td>\n      <td>1.0</td>\n    </tr>\n    <tr>\n      <th>visit_num</th>\n      <td>0.0</td>\n      <td>0</td>\n      <td>0</td>\n      <td>1</td>\n      <td>0</td>\n      <td>1.0</td>\n    </tr>\n    <tr>\n      <th>week_num</th>\n      <td>0.0</td>\n      <td>0</td>\n      <td>0</td>\n      <td>1</td>\n      <td>0</td>\n      <td>1.0</td>\n    </tr>\n  </tbody>\n</table>\n</div>"
     },
     "execution_count": 29,
     "metadata": {},
     "output_type": "execute_result"
    }
   ],
   "source": [
    "FearSel['Sum'] =  np.sum(FearSel,axis=1)\n",
    "FearSel"
   ],
   "metadata": {
    "collapsed": false
   }
  },
  {
   "cell_type": "markdown",
   "source": [
    "The selection features threshold was set to a high value of 2."
   ],
   "metadata": {
    "collapsed": false
   }
  },
  {
   "cell_type": "code",
   "execution_count": 30,
   "outputs": [
    {
     "data": {
      "text/plain": "                Univariable  RandomForest  GradientBoost  SVC  \\\nVariable                                                        \nBMI                     1.0             0              0    1   \nCRP (mg/L)              1.0             1              1    1   \nESR (mm/hr)             1.0             1              1    1   \nHeight                  1.0             1              0    1   \nTotal Reads             1.0             0              0    0   \nWeight                  1.0             0              0    1   \nWeight_n                1.0             1              0    1   \nconsent_age             1.0             0              0    1   \nfecalcal                1.0             0              0    1   \nfecalcal_ng_ml          1.0             1              0    1   \ninterval_days           1.0             1              1    1   \n\n                LogisticRegression  Sum  \nVariable                                 \nBMI                              0  2.0  \nCRP (mg/L)                       0  4.0  \nESR (mm/hr)                      0  4.0  \nHeight                           0  3.0  \nTotal Reads                      1  2.0  \nWeight                           0  2.0  \nWeight_n                         0  3.0  \nconsent_age                      0  2.0  \nfecalcal                         0  2.0  \nfecalcal_ng_ml                   0  3.0  \ninterval_days                    0  4.0  ",
      "text/html": "<div>\n<style scoped>\n    .dataframe tbody tr th:only-of-type {\n        vertical-align: middle;\n    }\n\n    .dataframe tbody tr th {\n        vertical-align: top;\n    }\n\n    .dataframe thead th {\n        text-align: right;\n    }\n</style>\n<table border=\"1\" class=\"dataframe\">\n  <thead>\n    <tr style=\"text-align: right;\">\n      <th></th>\n      <th>Univariable</th>\n      <th>RandomForest</th>\n      <th>GradientBoost</th>\n      <th>SVC</th>\n      <th>LogisticRegression</th>\n      <th>Sum</th>\n    </tr>\n    <tr>\n      <th>Variable</th>\n      <th></th>\n      <th></th>\n      <th></th>\n      <th></th>\n      <th></th>\n      <th></th>\n    </tr>\n  </thead>\n  <tbody>\n    <tr>\n      <th>BMI</th>\n      <td>1.0</td>\n      <td>0</td>\n      <td>0</td>\n      <td>1</td>\n      <td>0</td>\n      <td>2.0</td>\n    </tr>\n    <tr>\n      <th>CRP (mg/L)</th>\n      <td>1.0</td>\n      <td>1</td>\n      <td>1</td>\n      <td>1</td>\n      <td>0</td>\n      <td>4.0</td>\n    </tr>\n    <tr>\n      <th>ESR (mm/hr)</th>\n      <td>1.0</td>\n      <td>1</td>\n      <td>1</td>\n      <td>1</td>\n      <td>0</td>\n      <td>4.0</td>\n    </tr>\n    <tr>\n      <th>Height</th>\n      <td>1.0</td>\n      <td>1</td>\n      <td>0</td>\n      <td>1</td>\n      <td>0</td>\n      <td>3.0</td>\n    </tr>\n    <tr>\n      <th>Total Reads</th>\n      <td>1.0</td>\n      <td>0</td>\n      <td>0</td>\n      <td>0</td>\n      <td>1</td>\n      <td>2.0</td>\n    </tr>\n    <tr>\n      <th>Weight</th>\n      <td>1.0</td>\n      <td>0</td>\n      <td>0</td>\n      <td>1</td>\n      <td>0</td>\n      <td>2.0</td>\n    </tr>\n    <tr>\n      <th>Weight_n</th>\n      <td>1.0</td>\n      <td>1</td>\n      <td>0</td>\n      <td>1</td>\n      <td>0</td>\n      <td>3.0</td>\n    </tr>\n    <tr>\n      <th>consent_age</th>\n      <td>1.0</td>\n      <td>0</td>\n      <td>0</td>\n      <td>1</td>\n      <td>0</td>\n      <td>2.0</td>\n    </tr>\n    <tr>\n      <th>fecalcal</th>\n      <td>1.0</td>\n      <td>0</td>\n      <td>0</td>\n      <td>1</td>\n      <td>0</td>\n      <td>2.0</td>\n    </tr>\n    <tr>\n      <th>fecalcal_ng_ml</th>\n      <td>1.0</td>\n      <td>1</td>\n      <td>0</td>\n      <td>1</td>\n      <td>0</td>\n      <td>3.0</td>\n    </tr>\n    <tr>\n      <th>interval_days</th>\n      <td>1.0</td>\n      <td>1</td>\n      <td>1</td>\n      <td>1</td>\n      <td>0</td>\n      <td>4.0</td>\n    </tr>\n  </tbody>\n</table>\n</div>"
     },
     "execution_count": 30,
     "metadata": {},
     "output_type": "execute_result"
    }
   ],
   "source": [
    "FearSel = FearSel[FearSel['Sum'] >= 2]\n",
    "FearSel"
   ],
   "metadata": {
    "collapsed": false
   }
  },
  {
   "cell_type": "code",
   "execution_count": 31,
   "outputs": [
    {
     "name": "stdout",
     "output_type": "stream",
     "text": [
      "column number to keep: 11\n"
     ]
    }
   ],
   "source": [
    "List_numerical_selected = FearSel.index.tolist()\n",
    "print(f'column number to keep: {len(List_numerical_selected)}')"
   ],
   "metadata": {
    "collapsed": false
   }
  },
  {
   "cell_type": "markdown",
   "source": [
    "Only the variables selected by the models are saved"
   ],
   "metadata": {
    "collapsed": false
   }
  },
  {
   "cell_type": "code",
   "execution_count": 32,
   "outputs": [
    {
     "data": {
      "text/plain": "                   BMI  CRP (mg/L)  ESR (mm/hr)      Height   Total Reads  \\\nExternal ID                                                                 \nCSM5FZ4MM    16.945470    9.597698    98.184831  192.000000  5.524543e+07   \nCSM5FZ4MM1   16.456143   40.320708    20.960983  152.000000  3.786562e+07   \nCSM5MCUOM    15.711854   48.569000    36.625684  144.313066  2.553641e+05   \nCSM5MCUOM1   31.439759   11.180201    12.256574  143.666757  6.052792e+06   \nCSM5MCWQM    39.813988   54.326659    28.496137  164.418809  1.043272e+07   \n...                ...         ...          ...         ...           ...   \nPSMB4MBSM1   25.104382    0.840428    44.057621  169.000000  5.611575e+07   \nPSMB4MC5M    16.327456   13.047489    91.892652  167.000000  5.457551e+07   \nPSMB4MC5M1   36.369043    9.849275    45.065309  118.000000  1.777290e+07   \nPSMB4MC7M    15.010792    0.294873    74.353697  177.000000  2.791377e+07   \nPSMB4MC7M1   27.898958   14.064003    34.221092  151.366355  3.397833e+07   \n\n             Weight    Weight_n  consent_age    fecalcal  fecalcal_ng_ml  \\\nExternal ID                                                                \nCSM5FZ4MM     112.0   24.000000    37.000000  240.090243       19.888863   \nCSM5FZ4MM1     70.0   53.000000    58.000000  223.285885      317.063094   \nCSM5MCUOM      64.0  116.000000    67.000000  222.001161       68.541729   \nCSM5MCUOM1     86.0   98.000000    18.000000  343.835485      175.609929   \nCSM5MCWQM     103.0   28.000000    43.000000  194.991146      248.368993   \n...             ...         ...          ...         ...             ...   \nPSMB4MBSM1     92.0   77.528729    32.000000  194.538209       59.287025   \nPSMB4MC5M      19.0   31.000000    25.000000  420.326372      138.643638   \nPSMB4MC5M1     77.0   94.000000    49.000000  153.919317      391.352492   \nPSMB4MC7M      58.0   95.000000    46.000000  161.859549      102.213957   \nPSMB4MC7M1     97.0   58.744771    41.111205  462.545422       85.339232   \n\n             interval_days  \nExternal ID                 \nCSM5FZ4MM        25.856009  \nCSM5FZ4MM1       26.000000  \nCSM5MCUOM        88.000000  \nCSM5MCUOM1       76.000000  \nCSM5MCWQM         1.000000  \n...                    ...  \nPSMB4MBSM1       50.000000  \nPSMB4MC5M        60.000000  \nPSMB4MC5M1       29.000000  \nPSMB4MC7M        14.106637  \nPSMB4MC7M1        2.000000  \n\n[1064 rows x 11 columns]",
      "text/html": "<div>\n<style scoped>\n    .dataframe tbody tr th:only-of-type {\n        vertical-align: middle;\n    }\n\n    .dataframe tbody tr th {\n        vertical-align: top;\n    }\n\n    .dataframe thead th {\n        text-align: right;\n    }\n</style>\n<table border=\"1\" class=\"dataframe\">\n  <thead>\n    <tr style=\"text-align: right;\">\n      <th></th>\n      <th>BMI</th>\n      <th>CRP (mg/L)</th>\n      <th>ESR (mm/hr)</th>\n      <th>Height</th>\n      <th>Total Reads</th>\n      <th>Weight</th>\n      <th>Weight_n</th>\n      <th>consent_age</th>\n      <th>fecalcal</th>\n      <th>fecalcal_ng_ml</th>\n      <th>interval_days</th>\n    </tr>\n    <tr>\n      <th>External ID</th>\n      <th></th>\n      <th></th>\n      <th></th>\n      <th></th>\n      <th></th>\n      <th></th>\n      <th></th>\n      <th></th>\n      <th></th>\n      <th></th>\n      <th></th>\n    </tr>\n  </thead>\n  <tbody>\n    <tr>\n      <th>CSM5FZ4MM</th>\n      <td>16.945470</td>\n      <td>9.597698</td>\n      <td>98.184831</td>\n      <td>192.000000</td>\n      <td>5.524543e+07</td>\n      <td>112.0</td>\n      <td>24.000000</td>\n      <td>37.000000</td>\n      <td>240.090243</td>\n      <td>19.888863</td>\n      <td>25.856009</td>\n    </tr>\n    <tr>\n      <th>CSM5FZ4MM1</th>\n      <td>16.456143</td>\n      <td>40.320708</td>\n      <td>20.960983</td>\n      <td>152.000000</td>\n      <td>3.786562e+07</td>\n      <td>70.0</td>\n      <td>53.000000</td>\n      <td>58.000000</td>\n      <td>223.285885</td>\n      <td>317.063094</td>\n      <td>26.000000</td>\n    </tr>\n    <tr>\n      <th>CSM5MCUOM</th>\n      <td>15.711854</td>\n      <td>48.569000</td>\n      <td>36.625684</td>\n      <td>144.313066</td>\n      <td>2.553641e+05</td>\n      <td>64.0</td>\n      <td>116.000000</td>\n      <td>67.000000</td>\n      <td>222.001161</td>\n      <td>68.541729</td>\n      <td>88.000000</td>\n    </tr>\n    <tr>\n      <th>CSM5MCUOM1</th>\n      <td>31.439759</td>\n      <td>11.180201</td>\n      <td>12.256574</td>\n      <td>143.666757</td>\n      <td>6.052792e+06</td>\n      <td>86.0</td>\n      <td>98.000000</td>\n      <td>18.000000</td>\n      <td>343.835485</td>\n      <td>175.609929</td>\n      <td>76.000000</td>\n    </tr>\n    <tr>\n      <th>CSM5MCWQM</th>\n      <td>39.813988</td>\n      <td>54.326659</td>\n      <td>28.496137</td>\n      <td>164.418809</td>\n      <td>1.043272e+07</td>\n      <td>103.0</td>\n      <td>28.000000</td>\n      <td>43.000000</td>\n      <td>194.991146</td>\n      <td>248.368993</td>\n      <td>1.000000</td>\n    </tr>\n    <tr>\n      <th>...</th>\n      <td>...</td>\n      <td>...</td>\n      <td>...</td>\n      <td>...</td>\n      <td>...</td>\n      <td>...</td>\n      <td>...</td>\n      <td>...</td>\n      <td>...</td>\n      <td>...</td>\n      <td>...</td>\n    </tr>\n    <tr>\n      <th>PSMB4MBSM1</th>\n      <td>25.104382</td>\n      <td>0.840428</td>\n      <td>44.057621</td>\n      <td>169.000000</td>\n      <td>5.611575e+07</td>\n      <td>92.0</td>\n      <td>77.528729</td>\n      <td>32.000000</td>\n      <td>194.538209</td>\n      <td>59.287025</td>\n      <td>50.000000</td>\n    </tr>\n    <tr>\n      <th>PSMB4MC5M</th>\n      <td>16.327456</td>\n      <td>13.047489</td>\n      <td>91.892652</td>\n      <td>167.000000</td>\n      <td>5.457551e+07</td>\n      <td>19.0</td>\n      <td>31.000000</td>\n      <td>25.000000</td>\n      <td>420.326372</td>\n      <td>138.643638</td>\n      <td>60.000000</td>\n    </tr>\n    <tr>\n      <th>PSMB4MC5M1</th>\n      <td>36.369043</td>\n      <td>9.849275</td>\n      <td>45.065309</td>\n      <td>118.000000</td>\n      <td>1.777290e+07</td>\n      <td>77.0</td>\n      <td>94.000000</td>\n      <td>49.000000</td>\n      <td>153.919317</td>\n      <td>391.352492</td>\n      <td>29.000000</td>\n    </tr>\n    <tr>\n      <th>PSMB4MC7M</th>\n      <td>15.010792</td>\n      <td>0.294873</td>\n      <td>74.353697</td>\n      <td>177.000000</td>\n      <td>2.791377e+07</td>\n      <td>58.0</td>\n      <td>95.000000</td>\n      <td>46.000000</td>\n      <td>161.859549</td>\n      <td>102.213957</td>\n      <td>14.106637</td>\n    </tr>\n    <tr>\n      <th>PSMB4MC7M1</th>\n      <td>27.898958</td>\n      <td>14.064003</td>\n      <td>34.221092</td>\n      <td>151.366355</td>\n      <td>3.397833e+07</td>\n      <td>97.0</td>\n      <td>58.744771</td>\n      <td>41.111205</td>\n      <td>462.545422</td>\n      <td>85.339232</td>\n      <td>2.000000</td>\n    </tr>\n  </tbody>\n</table>\n<p>1064 rows × 11 columns</p>\n</div>"
     },
     "execution_count": 32,
     "metadata": {},
     "output_type": "execute_result"
    }
   ],
   "source": [
    "Keep_numeric = IBD_X_N[IBD_X_N.columns[IBD_X_N.columns.isin(List_numerical_selected)]]\n",
    "Keep_numeric"
   ],
   "metadata": {
    "collapsed": false
   }
  },
  {
   "cell_type": "markdown",
   "source": [
    "Combining with the target variable"
   ],
   "metadata": {
    "collapsed": false
   }
  },
  {
   "cell_type": "code",
   "execution_count": 33,
   "outputs": [
    {
     "data": {
      "text/plain": "                   BMI  CRP (mg/L)  ESR (mm/hr)      Height   Total Reads  \\\nExternal ID                                                                 \nCSM5FZ4MM    16.945470    9.597698    98.184831  192.000000  5.524543e+07   \nCSM5FZ4MM1   16.456143   40.320708    20.960983  152.000000  3.786562e+07   \nCSM5MCUOM    15.711854   48.569000    36.625684  144.313066  2.553641e+05   \nCSM5MCUOM1   31.439759   11.180201    12.256574  143.666757  6.052792e+06   \nCSM5MCWQM    39.813988   54.326659    28.496137  164.418809  1.043272e+07   \n...                ...         ...          ...         ...           ...   \nPSMB4MBSM1   25.104382    0.840428    44.057621  169.000000  5.611575e+07   \nPSMB4MC5M    16.327456   13.047489    91.892652  167.000000  5.457551e+07   \nPSMB4MC5M1   36.369043    9.849275    45.065309  118.000000  1.777290e+07   \nPSMB4MC7M    15.010792    0.294873    74.353697  177.000000  2.791377e+07   \nPSMB4MC7M1   27.898958   14.064003    34.221092  151.366355  3.397833e+07   \n\n             Weight    Weight_n  consent_age    fecalcal  fecalcal_ng_ml  ...  \\\nExternal ID                                                               ...   \nCSM5FZ4MM     112.0   24.000000    37.000000  240.090243       19.888863  ...   \nCSM5FZ4MM1     70.0   53.000000    58.000000  223.285885      317.063094  ...   \nCSM5MCUOM      64.0  116.000000    67.000000  222.001161       68.541729  ...   \nCSM5MCUOM1     86.0   98.000000    18.000000  343.835485      175.609929  ...   \nCSM5MCWQM     103.0   28.000000    43.000000  194.991146      248.368993  ...   \n...             ...         ...          ...         ...             ...  ...   \nPSMB4MBSM1     92.0   77.528729    32.000000  194.538209       59.287025  ...   \nPSMB4MC5M      19.0   31.000000    25.000000  420.326372      138.643638  ...   \nPSMB4MC5M1     77.0   94.000000    49.000000  153.919317      391.352492  ...   \nPSMB4MC7M      58.0   95.000000    46.000000  161.859549      102.213957  ...   \nPSMB4MC7M1     97.0   58.744771    41.111205  462.545422       85.339232  ...   \n\n             Bowel frequency during the day_09-Jul  \\\nExternal ID                                          \nCSM5FZ4MM                                        0   \nCSM5FZ4MM1                                       0   \nCSM5MCUOM                                        0   \nCSM5MCUOM1                                       0   \nCSM5MCWQM                                        0   \n...                                            ...   \nPSMB4MBSM1                                       0   \nPSMB4MC5M                                        0   \nPSMB4MC5M1                                       0   \nPSMB4MC7M                                        0   \nPSMB4MC7M1                                       0   \n\n             Bowel frequency during the day_Unknown  sex_Female  sex_Male  \\\nExternal ID                                                                 \nCSM5FZ4MM                                         0           1         0   \nCSM5FZ4MM1                                        0           1         0   \nCSM5MCUOM                                         0           0         1   \nCSM5MCUOM1                                        0           0         1   \nCSM5MCWQM                                         0           0         0   \n...                                             ...         ...       ...   \nPSMB4MBSM1                                        0           0         1   \nPSMB4MC5M                                         1           1         0   \nPSMB4MC5M1                                        0           0         0   \nPSMB4MC7M                                         0           0         1   \nPSMB4MC7M1                                        0           0         1   \n\n             sex_Unknown  smoking status_Current smoker  \\\nExternal ID                                               \nCSM5FZ4MM              0                              0   \nCSM5FZ4MM1             0                              0   \nCSM5MCUOM              0                              0   \nCSM5MCUOM1             0                              0   \nCSM5MCWQM              1                              0   \n...                  ...                            ...   \nPSMB4MBSM1             0                              0   \nPSMB4MC5M              0                              0   \nPSMB4MC5M1             1                              0   \nPSMB4MC7M              0                              0   \nPSMB4MC7M1             0                              0   \n\n             smoking status_Former smoker  smoking status_Never smoked  \\\nExternal ID                                                              \nCSM5FZ4MM                               0                            1   \nCSM5FZ4MM1                              0                            0   \nCSM5MCUOM                               0                            0   \nCSM5MCUOM1                              0                            0   \nCSM5MCWQM                               0                            0   \n...                                   ...                          ...   \nPSMB4MBSM1                              0                            1   \nPSMB4MC5M                               0                            1   \nPSMB4MC5M1                              0                            1   \nPSMB4MC7M                               0                            0   \nPSMB4MC7M1                              0                            0   \n\n             smoking status_Unknown  diagnosis  \nExternal ID                                     \nCSM5FZ4MM                         0         UC  \nCSM5FZ4MM1                        1         UC  \nCSM5MCUOM                         1         UC  \nCSM5MCUOM1                        1         UC  \nCSM5MCWQM                         1         UC  \n...                             ...        ...  \nPSMB4MBSM1                        0         CD  \nPSMB4MC5M                         0         UC  \nPSMB4MC5M1                        0         UC  \nPSMB4MC7M                         1         UC  \nPSMB4MC7M1                        1         UC  \n\n[1064 rows x 256 columns]",
      "text/html": "<div>\n<style scoped>\n    .dataframe tbody tr th:only-of-type {\n        vertical-align: middle;\n    }\n\n    .dataframe tbody tr th {\n        vertical-align: top;\n    }\n\n    .dataframe thead th {\n        text-align: right;\n    }\n</style>\n<table border=\"1\" class=\"dataframe\">\n  <thead>\n    <tr style=\"text-align: right;\">\n      <th></th>\n      <th>BMI</th>\n      <th>CRP (mg/L)</th>\n      <th>ESR (mm/hr)</th>\n      <th>Height</th>\n      <th>Total Reads</th>\n      <th>Weight</th>\n      <th>Weight_n</th>\n      <th>consent_age</th>\n      <th>fecalcal</th>\n      <th>fecalcal_ng_ml</th>\n      <th>...</th>\n      <th>Bowel frequency during the day_09-Jul</th>\n      <th>Bowel frequency during the day_Unknown</th>\n      <th>sex_Female</th>\n      <th>sex_Male</th>\n      <th>sex_Unknown</th>\n      <th>smoking status_Current smoker</th>\n      <th>smoking status_Former smoker</th>\n      <th>smoking status_Never smoked</th>\n      <th>smoking status_Unknown</th>\n      <th>diagnosis</th>\n    </tr>\n    <tr>\n      <th>External ID</th>\n      <th></th>\n      <th></th>\n      <th></th>\n      <th></th>\n      <th></th>\n      <th></th>\n      <th></th>\n      <th></th>\n      <th></th>\n      <th></th>\n      <th></th>\n      <th></th>\n      <th></th>\n      <th></th>\n      <th></th>\n      <th></th>\n      <th></th>\n      <th></th>\n      <th></th>\n      <th></th>\n      <th></th>\n    </tr>\n  </thead>\n  <tbody>\n    <tr>\n      <th>CSM5FZ4MM</th>\n      <td>16.945470</td>\n      <td>9.597698</td>\n      <td>98.184831</td>\n      <td>192.000000</td>\n      <td>5.524543e+07</td>\n      <td>112.0</td>\n      <td>24.000000</td>\n      <td>37.000000</td>\n      <td>240.090243</td>\n      <td>19.888863</td>\n      <td>...</td>\n      <td>0</td>\n      <td>0</td>\n      <td>1</td>\n      <td>0</td>\n      <td>0</td>\n      <td>0</td>\n      <td>0</td>\n      <td>1</td>\n      <td>0</td>\n      <td>UC</td>\n    </tr>\n    <tr>\n      <th>CSM5FZ4MM1</th>\n      <td>16.456143</td>\n      <td>40.320708</td>\n      <td>20.960983</td>\n      <td>152.000000</td>\n      <td>3.786562e+07</td>\n      <td>70.0</td>\n      <td>53.000000</td>\n      <td>58.000000</td>\n      <td>223.285885</td>\n      <td>317.063094</td>\n      <td>...</td>\n      <td>0</td>\n      <td>0</td>\n      <td>1</td>\n      <td>0</td>\n      <td>0</td>\n      <td>0</td>\n      <td>0</td>\n      <td>0</td>\n      <td>1</td>\n      <td>UC</td>\n    </tr>\n    <tr>\n      <th>CSM5MCUOM</th>\n      <td>15.711854</td>\n      <td>48.569000</td>\n      <td>36.625684</td>\n      <td>144.313066</td>\n      <td>2.553641e+05</td>\n      <td>64.0</td>\n      <td>116.000000</td>\n      <td>67.000000</td>\n      <td>222.001161</td>\n      <td>68.541729</td>\n      <td>...</td>\n      <td>0</td>\n      <td>0</td>\n      <td>0</td>\n      <td>1</td>\n      <td>0</td>\n      <td>0</td>\n      <td>0</td>\n      <td>0</td>\n      <td>1</td>\n      <td>UC</td>\n    </tr>\n    <tr>\n      <th>CSM5MCUOM1</th>\n      <td>31.439759</td>\n      <td>11.180201</td>\n      <td>12.256574</td>\n      <td>143.666757</td>\n      <td>6.052792e+06</td>\n      <td>86.0</td>\n      <td>98.000000</td>\n      <td>18.000000</td>\n      <td>343.835485</td>\n      <td>175.609929</td>\n      <td>...</td>\n      <td>0</td>\n      <td>0</td>\n      <td>0</td>\n      <td>1</td>\n      <td>0</td>\n      <td>0</td>\n      <td>0</td>\n      <td>0</td>\n      <td>1</td>\n      <td>UC</td>\n    </tr>\n    <tr>\n      <th>CSM5MCWQM</th>\n      <td>39.813988</td>\n      <td>54.326659</td>\n      <td>28.496137</td>\n      <td>164.418809</td>\n      <td>1.043272e+07</td>\n      <td>103.0</td>\n      <td>28.000000</td>\n      <td>43.000000</td>\n      <td>194.991146</td>\n      <td>248.368993</td>\n      <td>...</td>\n      <td>0</td>\n      <td>0</td>\n      <td>0</td>\n      <td>0</td>\n      <td>1</td>\n      <td>0</td>\n      <td>0</td>\n      <td>0</td>\n      <td>1</td>\n      <td>UC</td>\n    </tr>\n    <tr>\n      <th>...</th>\n      <td>...</td>\n      <td>...</td>\n      <td>...</td>\n      <td>...</td>\n      <td>...</td>\n      <td>...</td>\n      <td>...</td>\n      <td>...</td>\n      <td>...</td>\n      <td>...</td>\n      <td>...</td>\n      <td>...</td>\n      <td>...</td>\n      <td>...</td>\n      <td>...</td>\n      <td>...</td>\n      <td>...</td>\n      <td>...</td>\n      <td>...</td>\n      <td>...</td>\n      <td>...</td>\n    </tr>\n    <tr>\n      <th>PSMB4MBSM1</th>\n      <td>25.104382</td>\n      <td>0.840428</td>\n      <td>44.057621</td>\n      <td>169.000000</td>\n      <td>5.611575e+07</td>\n      <td>92.0</td>\n      <td>77.528729</td>\n      <td>32.000000</td>\n      <td>194.538209</td>\n      <td>59.287025</td>\n      <td>...</td>\n      <td>0</td>\n      <td>0</td>\n      <td>0</td>\n      <td>1</td>\n      <td>0</td>\n      <td>0</td>\n      <td>0</td>\n      <td>1</td>\n      <td>0</td>\n      <td>CD</td>\n    </tr>\n    <tr>\n      <th>PSMB4MC5M</th>\n      <td>16.327456</td>\n      <td>13.047489</td>\n      <td>91.892652</td>\n      <td>167.000000</td>\n      <td>5.457551e+07</td>\n      <td>19.0</td>\n      <td>31.000000</td>\n      <td>25.000000</td>\n      <td>420.326372</td>\n      <td>138.643638</td>\n      <td>...</td>\n      <td>0</td>\n      <td>1</td>\n      <td>1</td>\n      <td>0</td>\n      <td>0</td>\n      <td>0</td>\n      <td>0</td>\n      <td>1</td>\n      <td>0</td>\n      <td>UC</td>\n    </tr>\n    <tr>\n      <th>PSMB4MC5M1</th>\n      <td>36.369043</td>\n      <td>9.849275</td>\n      <td>45.065309</td>\n      <td>118.000000</td>\n      <td>1.777290e+07</td>\n      <td>77.0</td>\n      <td>94.000000</td>\n      <td>49.000000</td>\n      <td>153.919317</td>\n      <td>391.352492</td>\n      <td>...</td>\n      <td>0</td>\n      <td>0</td>\n      <td>0</td>\n      <td>0</td>\n      <td>1</td>\n      <td>0</td>\n      <td>0</td>\n      <td>1</td>\n      <td>0</td>\n      <td>UC</td>\n    </tr>\n    <tr>\n      <th>PSMB4MC7M</th>\n      <td>15.010792</td>\n      <td>0.294873</td>\n      <td>74.353697</td>\n      <td>177.000000</td>\n      <td>2.791377e+07</td>\n      <td>58.0</td>\n      <td>95.000000</td>\n      <td>46.000000</td>\n      <td>161.859549</td>\n      <td>102.213957</td>\n      <td>...</td>\n      <td>0</td>\n      <td>0</td>\n      <td>0</td>\n      <td>1</td>\n      <td>0</td>\n      <td>0</td>\n      <td>0</td>\n      <td>0</td>\n      <td>1</td>\n      <td>UC</td>\n    </tr>\n    <tr>\n      <th>PSMB4MC7M1</th>\n      <td>27.898958</td>\n      <td>14.064003</td>\n      <td>34.221092</td>\n      <td>151.366355</td>\n      <td>3.397833e+07</td>\n      <td>97.0</td>\n      <td>58.744771</td>\n      <td>41.111205</td>\n      <td>462.545422</td>\n      <td>85.339232</td>\n      <td>...</td>\n      <td>0</td>\n      <td>0</td>\n      <td>0</td>\n      <td>1</td>\n      <td>0</td>\n      <td>0</td>\n      <td>0</td>\n      <td>0</td>\n      <td>1</td>\n      <td>UC</td>\n    </tr>\n  </tbody>\n</table>\n<p>1064 rows × 256 columns</p>\n</div>"
     },
     "execution_count": 33,
     "metadata": {},
     "output_type": "execute_result"
    }
   ],
   "source": [
    "Feat_prediction = pd.concat([Keep_numeric,OneHot_table_categorical,Target],axis=1)\n",
    "Feat_prediction"
   ],
   "metadata": {
    "collapsed": false
   }
  },
  {
   "cell_type": "markdown",
   "source": [
    "Export data"
   ],
   "metadata": {
    "collapsed": false
   }
  },
  {
   "cell_type": "code",
   "execution_count": 34,
   "outputs": [],
   "source": [
    "Feat_prediction.to_csv('~/Desktop/Feat_prediction.csv')"
   ],
   "metadata": {
    "collapsed": false
   }
  }
 ],
 "metadata": {
  "kernelspec": {
   "display_name": "Python 3",
   "language": "python",
   "name": "python3"
  },
  "language_info": {
   "codemirror_mode": {
    "name": "ipython",
    "version": 2
   },
   "file_extension": ".py",
   "mimetype": "text/x-python",
   "name": "python",
   "nbconvert_exporter": "python",
   "pygments_lexer": "ipython2",
   "version": "2.7.6"
  }
 },
 "nbformat": 4,
 "nbformat_minor": 0
}
