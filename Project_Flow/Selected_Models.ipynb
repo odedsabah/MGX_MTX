{
 "cells": [
  {
   "cell_type": "code",
   "execution_count": 73,
   "metadata": {
    "collapsed": true
   },
   "outputs": [],
   "source": [
    "import pandas as pd\n",
    "import seaborn as sns\n",
    "import numpy as np\n",
    "\n",
    "import matplotlib.pyplot as plt\n",
    "\n",
    "from sklearn import metrics\n",
    "from sklearn.metrics import roc_curve\n",
    "from sklearn.model_selection import GridSearchCV\n",
    "from sklearn.neighbors import KNeighborsClassifier\n",
    "from sklearn.neighbors import RadiusNeighborsClassifier\n",
    "from sklearn.linear_model import LogisticRegression\n",
    "from sklearn.tree import DecisionTreeClassifier\n",
    "from sklearn.linear_model import LogisticRegressionCV\n",
    "from sklearn.ensemble import RandomForestClassifier\n",
    "from sklearn.neural_network import MLPClassifier\n",
    "from sklearn.metrics import roc_curve, auc\n",
    "from sklearn.preprocessing import label_binarize\n",
    "import matplotlib.pyplot as plt\n",
    "import xgboost as XGBClassifier\n",
    "from sklearn.preprocessing import LabelEncoder\n",
    "from sklearn.preprocessing import StandardScaler\n",
    "from sklearn.model_selection import train_test_split\n",
    "import warnings\n",
    "\n",
    "from sklearn import svm\n",
    "from sklearn.metrics import roc_auc_score\n",
    "from sklearn.metrics import roc_curve\n",
    "from sklearn.metrics import confusion_matrix\n",
    "from sklearn.metrics import cohen_kappa_score, make_scorer, f1_score, accuracy_score"
   ]
  },
  {
   "cell_type": "code",
   "execution_count": 74,
   "outputs": [],
   "source": [
    "warnings.filterwarnings(\"ignore\")"
   ],
   "metadata": {
    "collapsed": false
   }
  },
  {
   "cell_type": "code",
   "execution_count": 75,
   "outputs": [],
   "source": [
    "Post_selected = pd.read_csv('~/Desktop/Feat_prediction.csv').set_index('External ID')"
   ],
   "metadata": {
    "collapsed": false
   }
  },
  {
   "cell_type": "code",
   "execution_count": 76,
   "outputs": [
    {
     "data": {
      "text/plain": "                   BMI  CRP (mg/L)  ESR (mm/hr)      Height   Total Reads  \\\nExternal ID                                                                 \nCSM5FZ4MM    16.945470    9.597698    98.184831  192.000000  5.524543e+07   \nCSM5FZ4MM1   16.456143   40.320708    20.960983  152.000000  3.786562e+07   \nCSM5MCUOM    15.711854   48.569000    36.625684  144.313066  2.553641e+05   \nCSM5MCUOM1   31.439759   11.180201    12.256574  143.666757  6.052792e+06   \nCSM5MCWQM    39.813988   54.326659    28.496137  164.418809  1.043272e+07   \n...                ...         ...          ...         ...           ...   \nPSMB4MBSM1   25.104382    0.840428    44.057621  169.000000  5.611575e+07   \nPSMB4MC5M    16.327456   13.047489    91.892652  167.000000  5.457551e+07   \nPSMB4MC5M1   36.369043    9.849275    45.065309  118.000000  1.777290e+07   \nPSMB4MC7M    15.010792    0.294873    74.353697  177.000000  2.791377e+07   \nPSMB4MC7M1   27.898958   14.064003    34.221092  151.366355  3.397833e+07   \n\n             Weight    Weight_n  consent_age    fecalcal  fecalcal_ng_ml  ...  \\\nExternal ID                                                               ...   \nCSM5FZ4MM     112.0   24.000000    37.000000  240.090243       19.888863  ...   \nCSM5FZ4MM1     70.0   53.000000    58.000000  223.285885      317.063094  ...   \nCSM5MCUOM      64.0  116.000000    67.000000  222.001161       68.541729  ...   \nCSM5MCUOM1     86.0   98.000000    18.000000  343.835485      175.609929  ...   \nCSM5MCWQM     103.0   28.000000    43.000000  194.991146      248.368993  ...   \n...             ...         ...          ...         ...             ...  ...   \nPSMB4MBSM1     92.0   77.528729    32.000000  194.538209       59.287025  ...   \nPSMB4MC5M      19.0   31.000000    25.000000  420.326372      138.643638  ...   \nPSMB4MC5M1     77.0   94.000000    49.000000  153.919317      391.352492  ...   \nPSMB4MC7M      58.0   95.000000    46.000000  161.859549      102.213957  ...   \nPSMB4MC7M1     97.0   58.744771    41.111205  462.545422       85.339232  ...   \n\n             Bowel frequency during the day_09-Jul  \\\nExternal ID                                          \nCSM5FZ4MM                                        0   \nCSM5FZ4MM1                                       0   \nCSM5MCUOM                                        0   \nCSM5MCUOM1                                       0   \nCSM5MCWQM                                        0   \n...                                            ...   \nPSMB4MBSM1                                       0   \nPSMB4MC5M                                        0   \nPSMB4MC5M1                                       0   \nPSMB4MC7M                                        0   \nPSMB4MC7M1                                       0   \n\n             Bowel frequency during the day_Unknown  sex_Female  sex_Male  \\\nExternal ID                                                                 \nCSM5FZ4MM                                         0           1         0   \nCSM5FZ4MM1                                        0           1         0   \nCSM5MCUOM                                         0           0         1   \nCSM5MCUOM1                                        0           0         1   \nCSM5MCWQM                                         0           0         0   \n...                                             ...         ...       ...   \nPSMB4MBSM1                                        0           0         1   \nPSMB4MC5M                                         1           1         0   \nPSMB4MC5M1                                        0           0         0   \nPSMB4MC7M                                         0           0         1   \nPSMB4MC7M1                                        0           0         1   \n\n             sex_Unknown  smoking status_Current smoker  \\\nExternal ID                                               \nCSM5FZ4MM              0                              0   \nCSM5FZ4MM1             0                              0   \nCSM5MCUOM              0                              0   \nCSM5MCUOM1             0                              0   \nCSM5MCWQM              1                              0   \n...                  ...                            ...   \nPSMB4MBSM1             0                              0   \nPSMB4MC5M              0                              0   \nPSMB4MC5M1             1                              0   \nPSMB4MC7M              0                              0   \nPSMB4MC7M1             0                              0   \n\n             smoking status_Former smoker  smoking status_Never smoked  \\\nExternal ID                                                              \nCSM5FZ4MM                               0                            1   \nCSM5FZ4MM1                              0                            0   \nCSM5MCUOM                               0                            0   \nCSM5MCUOM1                              0                            0   \nCSM5MCWQM                               0                            0   \n...                                   ...                          ...   \nPSMB4MBSM1                              0                            1   \nPSMB4MC5M                               0                            1   \nPSMB4MC5M1                              0                            1   \nPSMB4MC7M                               0                            0   \nPSMB4MC7M1                              0                            0   \n\n             smoking status_Unknown  diagnosis  \nExternal ID                                     \nCSM5FZ4MM                         0         UC  \nCSM5FZ4MM1                        1         UC  \nCSM5MCUOM                         1         UC  \nCSM5MCUOM1                        1         UC  \nCSM5MCWQM                         1         UC  \n...                             ...        ...  \nPSMB4MBSM1                        0         CD  \nPSMB4MC5M                         0         UC  \nPSMB4MC5M1                        0         UC  \nPSMB4MC7M                         1         UC  \nPSMB4MC7M1                        1         UC  \n\n[1064 rows x 256 columns]",
      "text/html": "<div>\n<style scoped>\n    .dataframe tbody tr th:only-of-type {\n        vertical-align: middle;\n    }\n\n    .dataframe tbody tr th {\n        vertical-align: top;\n    }\n\n    .dataframe thead th {\n        text-align: right;\n    }\n</style>\n<table border=\"1\" class=\"dataframe\">\n  <thead>\n    <tr style=\"text-align: right;\">\n      <th></th>\n      <th>BMI</th>\n      <th>CRP (mg/L)</th>\n      <th>ESR (mm/hr)</th>\n      <th>Height</th>\n      <th>Total Reads</th>\n      <th>Weight</th>\n      <th>Weight_n</th>\n      <th>consent_age</th>\n      <th>fecalcal</th>\n      <th>fecalcal_ng_ml</th>\n      <th>...</th>\n      <th>Bowel frequency during the day_09-Jul</th>\n      <th>Bowel frequency during the day_Unknown</th>\n      <th>sex_Female</th>\n      <th>sex_Male</th>\n      <th>sex_Unknown</th>\n      <th>smoking status_Current smoker</th>\n      <th>smoking status_Former smoker</th>\n      <th>smoking status_Never smoked</th>\n      <th>smoking status_Unknown</th>\n      <th>diagnosis</th>\n    </tr>\n    <tr>\n      <th>External ID</th>\n      <th></th>\n      <th></th>\n      <th></th>\n      <th></th>\n      <th></th>\n      <th></th>\n      <th></th>\n      <th></th>\n      <th></th>\n      <th></th>\n      <th></th>\n      <th></th>\n      <th></th>\n      <th></th>\n      <th></th>\n      <th></th>\n      <th></th>\n      <th></th>\n      <th></th>\n      <th></th>\n      <th></th>\n    </tr>\n  </thead>\n  <tbody>\n    <tr>\n      <th>CSM5FZ4MM</th>\n      <td>16.945470</td>\n      <td>9.597698</td>\n      <td>98.184831</td>\n      <td>192.000000</td>\n      <td>5.524543e+07</td>\n      <td>112.0</td>\n      <td>24.000000</td>\n      <td>37.000000</td>\n      <td>240.090243</td>\n      <td>19.888863</td>\n      <td>...</td>\n      <td>0</td>\n      <td>0</td>\n      <td>1</td>\n      <td>0</td>\n      <td>0</td>\n      <td>0</td>\n      <td>0</td>\n      <td>1</td>\n      <td>0</td>\n      <td>UC</td>\n    </tr>\n    <tr>\n      <th>CSM5FZ4MM1</th>\n      <td>16.456143</td>\n      <td>40.320708</td>\n      <td>20.960983</td>\n      <td>152.000000</td>\n      <td>3.786562e+07</td>\n      <td>70.0</td>\n      <td>53.000000</td>\n      <td>58.000000</td>\n      <td>223.285885</td>\n      <td>317.063094</td>\n      <td>...</td>\n      <td>0</td>\n      <td>0</td>\n      <td>1</td>\n      <td>0</td>\n      <td>0</td>\n      <td>0</td>\n      <td>0</td>\n      <td>0</td>\n      <td>1</td>\n      <td>UC</td>\n    </tr>\n    <tr>\n      <th>CSM5MCUOM</th>\n      <td>15.711854</td>\n      <td>48.569000</td>\n      <td>36.625684</td>\n      <td>144.313066</td>\n      <td>2.553641e+05</td>\n      <td>64.0</td>\n      <td>116.000000</td>\n      <td>67.000000</td>\n      <td>222.001161</td>\n      <td>68.541729</td>\n      <td>...</td>\n      <td>0</td>\n      <td>0</td>\n      <td>0</td>\n      <td>1</td>\n      <td>0</td>\n      <td>0</td>\n      <td>0</td>\n      <td>0</td>\n      <td>1</td>\n      <td>UC</td>\n    </tr>\n    <tr>\n      <th>CSM5MCUOM1</th>\n      <td>31.439759</td>\n      <td>11.180201</td>\n      <td>12.256574</td>\n      <td>143.666757</td>\n      <td>6.052792e+06</td>\n      <td>86.0</td>\n      <td>98.000000</td>\n      <td>18.000000</td>\n      <td>343.835485</td>\n      <td>175.609929</td>\n      <td>...</td>\n      <td>0</td>\n      <td>0</td>\n      <td>0</td>\n      <td>1</td>\n      <td>0</td>\n      <td>0</td>\n      <td>0</td>\n      <td>0</td>\n      <td>1</td>\n      <td>UC</td>\n    </tr>\n    <tr>\n      <th>CSM5MCWQM</th>\n      <td>39.813988</td>\n      <td>54.326659</td>\n      <td>28.496137</td>\n      <td>164.418809</td>\n      <td>1.043272e+07</td>\n      <td>103.0</td>\n      <td>28.000000</td>\n      <td>43.000000</td>\n      <td>194.991146</td>\n      <td>248.368993</td>\n      <td>...</td>\n      <td>0</td>\n      <td>0</td>\n      <td>0</td>\n      <td>0</td>\n      <td>1</td>\n      <td>0</td>\n      <td>0</td>\n      <td>0</td>\n      <td>1</td>\n      <td>UC</td>\n    </tr>\n    <tr>\n      <th>...</th>\n      <td>...</td>\n      <td>...</td>\n      <td>...</td>\n      <td>...</td>\n      <td>...</td>\n      <td>...</td>\n      <td>...</td>\n      <td>...</td>\n      <td>...</td>\n      <td>...</td>\n      <td>...</td>\n      <td>...</td>\n      <td>...</td>\n      <td>...</td>\n      <td>...</td>\n      <td>...</td>\n      <td>...</td>\n      <td>...</td>\n      <td>...</td>\n      <td>...</td>\n      <td>...</td>\n    </tr>\n    <tr>\n      <th>PSMB4MBSM1</th>\n      <td>25.104382</td>\n      <td>0.840428</td>\n      <td>44.057621</td>\n      <td>169.000000</td>\n      <td>5.611575e+07</td>\n      <td>92.0</td>\n      <td>77.528729</td>\n      <td>32.000000</td>\n      <td>194.538209</td>\n      <td>59.287025</td>\n      <td>...</td>\n      <td>0</td>\n      <td>0</td>\n      <td>0</td>\n      <td>1</td>\n      <td>0</td>\n      <td>0</td>\n      <td>0</td>\n      <td>1</td>\n      <td>0</td>\n      <td>CD</td>\n    </tr>\n    <tr>\n      <th>PSMB4MC5M</th>\n      <td>16.327456</td>\n      <td>13.047489</td>\n      <td>91.892652</td>\n      <td>167.000000</td>\n      <td>5.457551e+07</td>\n      <td>19.0</td>\n      <td>31.000000</td>\n      <td>25.000000</td>\n      <td>420.326372</td>\n      <td>138.643638</td>\n      <td>...</td>\n      <td>0</td>\n      <td>1</td>\n      <td>1</td>\n      <td>0</td>\n      <td>0</td>\n      <td>0</td>\n      <td>0</td>\n      <td>1</td>\n      <td>0</td>\n      <td>UC</td>\n    </tr>\n    <tr>\n      <th>PSMB4MC5M1</th>\n      <td>36.369043</td>\n      <td>9.849275</td>\n      <td>45.065309</td>\n      <td>118.000000</td>\n      <td>1.777290e+07</td>\n      <td>77.0</td>\n      <td>94.000000</td>\n      <td>49.000000</td>\n      <td>153.919317</td>\n      <td>391.352492</td>\n      <td>...</td>\n      <td>0</td>\n      <td>0</td>\n      <td>0</td>\n      <td>0</td>\n      <td>1</td>\n      <td>0</td>\n      <td>0</td>\n      <td>1</td>\n      <td>0</td>\n      <td>UC</td>\n    </tr>\n    <tr>\n      <th>PSMB4MC7M</th>\n      <td>15.010792</td>\n      <td>0.294873</td>\n      <td>74.353697</td>\n      <td>177.000000</td>\n      <td>2.791377e+07</td>\n      <td>58.0</td>\n      <td>95.000000</td>\n      <td>46.000000</td>\n      <td>161.859549</td>\n      <td>102.213957</td>\n      <td>...</td>\n      <td>0</td>\n      <td>0</td>\n      <td>0</td>\n      <td>1</td>\n      <td>0</td>\n      <td>0</td>\n      <td>0</td>\n      <td>0</td>\n      <td>1</td>\n      <td>UC</td>\n    </tr>\n    <tr>\n      <th>PSMB4MC7M1</th>\n      <td>27.898958</td>\n      <td>14.064003</td>\n      <td>34.221092</td>\n      <td>151.366355</td>\n      <td>3.397833e+07</td>\n      <td>97.0</td>\n      <td>58.744771</td>\n      <td>41.111205</td>\n      <td>462.545422</td>\n      <td>85.339232</td>\n      <td>...</td>\n      <td>0</td>\n      <td>0</td>\n      <td>0</td>\n      <td>1</td>\n      <td>0</td>\n      <td>0</td>\n      <td>0</td>\n      <td>0</td>\n      <td>1</td>\n      <td>UC</td>\n    </tr>\n  </tbody>\n</table>\n<p>1064 rows × 256 columns</p>\n</div>"
     },
     "execution_count": 76,
     "metadata": {},
     "output_type": "execute_result"
    }
   ],
   "source": [
    "Post_selected"
   ],
   "metadata": {
    "collapsed": false
   }
  },
  {
   "cell_type": "code",
   "execution_count": 77,
   "outputs": [],
   "source": [
    "Feature = Post_selected.iloc[:,:255]\n",
    "Target = Post_selected.iloc[:,-1]\n",
    "from sklearn.model_selection import train_test_split\n",
    "X_train, X_test, y_train, y_test = train_test_split(Feature, Target, test_size=0.33, random_state=42)"
   ],
   "metadata": {
    "collapsed": false
   }
  },
  {
   "cell_type": "code",
   "execution_count": 78,
   "outputs": [],
   "source": [
    "# feature selection\n",
    "from sklearn.svm import LinearSVC\n",
    "from sklearn.feature_selection import SelectFromModel\n",
    "lsvc = LinearSVC(C=0.01, penalty=\"l1\", dual=False).fit(X_train, y_train)\n",
    "model = SelectFromModel(lsvc, prefit=True)\n",
    "X_train = model.transform(X_train)\n",
    "X_test = model.transform(X_test)"
   ],
   "metadata": {
    "collapsed": false
   }
  },
  {
   "cell_type": "code",
   "execution_count": 79,
   "outputs": [],
   "source": [
    "# feature selection\n",
    "from sklearn.svm import LinearSVC\n",
    "from sklearn.feature_selection import SelectFromModel\n",
    "lsvc = LinearSVC(C=0.01, penalty=\"l1\", dual=False).fit(X_train, y_train)\n",
    "model = SelectFromModel(lsvc, prefit=True)\n",
    "X_train = model.transform(X_train)\n",
    "X_test = model.transform(X_test)"
   ],
   "metadata": {
    "collapsed": false
   }
  },
  {
   "cell_type": "code",
   "execution_count": 80,
   "outputs": [
    {
     "name": "stdout",
     "output_type": "stream",
     "text": [
      "Best Model:\n",
      "DecisionTreeClassifier(class_weight='balanced', max_depth=3, min_samples_leaf=3,\n",
      "                       min_samples_split=3, random_state=0)\n"
     ]
    },
    {
     "data": {
      "text/plain": "<AxesSubplot:>"
     },
     "execution_count": 80,
     "metadata": {},
     "output_type": "execute_result"
    },
    {
     "data": {
      "text/plain": "<Figure size 432x288 with 2 Axes>",
      "image/png": "[encoded data removed]"
     },
     "metadata": {},
     "output_type": "display_data"
    }
   ],
   "source": [
    "min_samples_split_DT = [3,4,5,6,7,8,9]\n",
    "min_samples_leaf_DT = [3,4,5,6,7,8,9]\n",
    "max_depth_DT = [3,4,5,6,7,8,9,10]\n",
    "max_features_DT = ['sqrt', 'log2', None, 1, 2, 3, 4, 5]\n",
    "\n",
    "parameters_DT = {#'max_features':max_features_DT,\n",
    "                'min_samples_split': min_samples_split_DT,\n",
    "                 'max_depth': max_depth_DT,\n",
    "                'min_samples_leaf': min_samples_leaf_DT\n",
    "                }\n",
    "\n",
    "DT_model = DecisionTreeClassifier(random_state = 0, class_weight=\"balanced\")\n",
    "DT_clf = GridSearchCV(DT_model, parameters_DT, cv=5, scoring='roc_auc')\n",
    "DT_clf.fit(X_train, y_train)\n",
    "\n",
    "print(\"Best Model:\")\n",
    "DT_model = DT_clf.best_estimator_\n",
    "print(DT_model)\n",
    "\n",
    "DT_predictions = DT_model.predict(X_test)\n",
    "\n",
    "# creating a confusion matrix\n",
    "labels = np.unique(y_test)\n",
    "cm_DT = confusion_matrix(y_test, DT_predictions,labels=labels)\n",
    "cm_DT = pd.DataFrame(cm_DT, index=labels, columns=labels)\n",
    "sns.heatmap(cm_DT, cmap=\"YlGnBu\", annot=True)"
   ],
   "metadata": {
    "collapsed": false
   }
  },
  {
   "cell_type": "code",
   "execution_count": 81,
   "outputs": [
    {
     "name": "stdout",
     "output_type": "stream",
     "text": [
      "Best Model:\n",
      "LogisticRegression(C=1.9306977288832496, class_weight='balanced',\n",
      "                   random_state=0)\n"
     ]
    },
    {
     "data": {
      "text/plain": "<AxesSubplot:>"
     },
     "execution_count": 81,
     "metadata": {},
     "output_type": "execute_result"
    },
    {
     "data": {
      "text/plain": "<Figure size 432x288 with 2 Axes>",
      "image/png": "[encoded data removed]"
     },
     "metadata": {},
     "output_type": "display_data"
    }
   ],
   "source": [
    "penalty_list_LR = ['l1','l2']\n",
    "regularization_list_LR = [i for i in np.logspace(-4,2,15)]\n",
    "parameters_LR = {'penalty':penalty_list_LR,\n",
    "                'C': regularization_list_LR}\n",
    "\n",
    "LR_model = LogisticRegression(class_weight = 'balanced')\n",
    "LR_clf = GridSearchCV(LR_model, parameters_LR, cv=5, scoring=\"accuracy\")\n",
    "\n",
    "LR_model = LogisticRegression(random_state = 0, class_weight=\"balanced\")\n",
    "LR_clf = GridSearchCV(LR_model, parameters_LR, cv=5, scoring='accuracy')\n",
    "LR_clf.fit(X_train, y_train)\n",
    "\n",
    "print(\"Best Model:\")\n",
    "LR_model = LR_clf.best_estimator_\n",
    "print(LR_model)\n",
    "\n",
    "LR_predictions = LR_model.predict(X_test)\n",
    "\n",
    "# creating a confusion matrix\n",
    "labels = np.unique(y_test)\n",
    "cm_LR = confusion_matrix(y_test, LR_predictions,labels=labels)\n",
    "cm_LR = pd.DataFrame(cm_LR, index=labels, columns=labels)\n",
    "sns.heatmap(cm_LR, cmap=\"YlGnBu\", annot=True)"
   ],
   "metadata": {
    "collapsed": false
   }
  },
  {
   "cell_type": "code",
   "execution_count": 82,
   "outputs": [
    {
     "name": "stdout",
     "output_type": "stream",
     "text": [
      "Best Model:\n",
      "GaussianNB(var_smoothing=1e-12)\n"
     ]
    },
    {
     "data": {
      "text/plain": "<AxesSubplot:>"
     },
     "execution_count": 82,
     "metadata": {},
     "output_type": "execute_result"
    },
    {
     "data": {
      "text/plain": "<Figure size 432x288 with 2 Axes>",
      "image/png": "[encoded data removed]"
     },
     "metadata": {},
     "output_type": "display_data"
    }
   ],
   "source": [
    "from sklearn.naive_bayes import GaussianNB\n",
    "\n",
    "var_smooth_NB = [i for i in np.logspace(-12,-6,20)]\n",
    "\n",
    "parameters_NB = {'var_smoothing':var_smooth_NB}\n",
    "\n",
    "NB_model = GaussianNB()\n",
    "NB_clf = GridSearchCV(NB_model, parameters_NB, cv=5, scoring=\"roc_auc\")\n",
    "\n",
    "NB_clf.fit(X_train, y_train)\n",
    "\n",
    "print(\"Best Model:\")\n",
    "NB_model = NB_clf.best_estimator_\n",
    "print(NB_model)\n",
    "\n",
    "NB_predictions = NB_model.predict(X_test)\n",
    "\n",
    "# creating a confusion matrix\n",
    "labels = np.unique(y_test)\n",
    "cm_NB = confusion_matrix(y_test, NB_predictions,labels=labels)\n",
    "cm_NB = pd.DataFrame(cm_NB, index=labels, columns=labels)\n",
    "sns.heatmap(cm_NB, cmap=\"YlGnBu\", annot=True)"
   ],
   "metadata": {
    "collapsed": false
   }
  },
  {
   "cell_type": "code",
   "execution_count": 83,
   "outputs": [
    {
     "name": "stdout",
     "output_type": "stream",
     "text": [
      "Best Model:\n",
      "LinearSVC(C=0.0001, class_weight='balanced', multi_class='crammer_singer',\n",
      "          penalty='l1')\n"
     ]
    },
    {
     "data": {
      "text/plain": "<AxesSubplot:>"
     },
     "execution_count": 83,
     "metadata": {},
     "output_type": "execute_result"
    },
    {
     "data": {
      "text/plain": "<Figure size 432x288 with 2 Axes>",
      "image/png": "[encoded data removed]"
     },
     "metadata": {},
     "output_type": "display_data"
    }
   ],
   "source": [
    "penalty_list_SVM = ['l1','l2']\n",
    "regularization_list_SVM = [i for i in np.logspace(-4,-1,15)]\n",
    "parameters_SVM = {'penalty':penalty_list_SVM,\n",
    "                'C': regularization_list_SVM}\n",
    "\n",
    "SVM_model = LinearSVC(class_weight = 'balanced', multi_class=\"crammer_singer\")\n",
    "SVM_clf = GridSearchCV(SVM_model, parameters_SVM, cv=5, scoring=\"roc_auc\")\n",
    "\n",
    "SVM_clf.fit(X_train, y_train)\n",
    "\n",
    "print(\"Best Model:\")\n",
    "SVM_model = SVM_clf.best_estimator_\n",
    "print(SVM_model)\n",
    "\n",
    "SVM_predictions = SVM_model.predict(X_test)\n",
    "\n",
    "# creating a confusion matrix\n",
    "labels = np.unique(y_test)\n",
    "cm_SVM = confusion_matrix(y_test, SVM_predictions,labels=labels)\n",
    "cm_SVM = pd.DataFrame(cm_SVM, index=labels, columns=labels)\n",
    "sns.heatmap(cm_LR, cmap=\"YlGnBu\", annot=True)"
   ],
   "metadata": {
    "collapsed": false
   }
  },
  {
   "cell_type": "code",
   "execution_count": 84,
   "outputs": [
    {
     "name": "stdout",
     "output_type": "stream",
     "text": [
      "Best Model:\n",
      "KNeighborsClassifier(n_neighbors=2)\n"
     ]
    },
    {
     "data": {
      "text/plain": "<AxesSubplot:>"
     },
     "execution_count": 84,
     "metadata": {},
     "output_type": "execute_result"
    },
    {
     "data": {
      "text/plain": "<Figure size 432x288 with 2 Axes>",
      "image/png": "[encoded data removed]"
     },
     "metadata": {},
     "output_type": "display_data"
    }
   ],
   "source": [
    "nneighbors_KNN = [i+2 for i in range(10)]\n",
    "weights_list_KNN = ['uniform', 'distance']\n",
    "parameters_KNN = {'n_neighbors':nneighbors_KNN,\n",
    "                'weights': weights_list_KNN}\n",
    "KNN_model = KNeighborsClassifier()\n",
    "KNN_clf = GridSearchCV(KNN_model, parameters_KNN, cv=5, scoring=\"roc_auc\")\n",
    "\n",
    "KNN_clf.fit(X_train, y_train)\n",
    "\n",
    "print(\"Best Model:\")\n",
    "KNN_model = KNN_clf.best_estimator_\n",
    "print(KNN_model)\n",
    "\n",
    "KNN_predictions = KNN_model.predict(X_test)\n",
    "\n",
    "# creating a confusion matrix\n",
    "labels = np.unique(y_test)\n",
    "cm_KNN = confusion_matrix(y_test, KNN_predictions,labels=labels)\n",
    "cm_KNN = pd.DataFrame(cm_KNN, index=labels, columns=labels)\n",
    "sns.heatmap(cm_KNN, cmap=\"YlGnBu\", annot=True)"
   ],
   "metadata": {
    "collapsed": false
   }
  },
  {
   "cell_type": "code",
   "execution_count": 85,
   "outputs": [
    {
     "name": "stdout",
     "output_type": "stream",
     "text": [
      "Best Model:\n",
      "RandomForestClassifier(max_features=None, n_estimators=50, random_state=0)\n"
     ]
    },
    {
     "data": {
      "text/plain": "<AxesSubplot:>"
     },
     "execution_count": 85,
     "metadata": {},
     "output_type": "execute_result"
    },
    {
     "data": {
      "text/plain": "<Figure size 432x288 with 2 Axes>",
      "image/png": "[encoded data removed]"
     },
     "metadata": {},
     "output_type": "display_data"
    }
   ],
   "source": [
    "n_estimators_RF = [50, 100, 250, 500, 1000]\n",
    "max_features_RF = [ None]\n",
    "parameters_RF = {'n_estimators': n_estimators_RF,\n",
    "                'max_features': max_features_RF}\n",
    "\n",
    "RF_model = RandomForestClassifier(max_depth=None,\n",
    "                                  min_samples_split=2, random_state=0)\n",
    "RF_clf = GridSearchCV(RF_model, parameters_RF, cv=5, scoring=\"roc_auc\")\n",
    "\n",
    "RF_clf.fit(X_train, y_train)\n",
    "\n",
    "print(\"Best Model:\")\n",
    "RF_model = RF_clf.best_estimator_\n",
    "print(RF_model)\n",
    "\n",
    "RF_predictions = RF_model.predict(X_test)\n",
    "\n",
    "# creating a confusion matrix\n",
    "labels = np.unique(y_test)\n",
    "cm_RF = confusion_matrix(y_test, RF_predictions,labels=labels)\n",
    "cm_RF = pd.DataFrame(cm_RF, index=labels, columns=labels)\n",
    "sns.heatmap(cm_RF, cmap=\"YlGnBu\", annot=True)"
   ],
   "metadata": {
    "collapsed": false
   }
  },
  {
   "cell_type": "code",
   "execution_count": 86,
   "outputs": [
    {
     "name": "stdout",
     "output_type": "stream",
     "text": [
      "{1: 'CD', 2: 'UC', 3: 'nonIBD'}\n",
      "Best Model:\n",
      "XGBClassifier(base_score=0.5, booster='gbtree', callbacks=None,\n",
      "              colsample_bylevel=1, colsample_bynode=1, colsample_bytree=1,\n",
      "              early_stopping_rounds=None, enable_categorical=False,\n",
      "              eval_metric=None, gamma=0, gpu_id=-1, grow_policy='depthwise',\n",
      "              importance_type=None, interaction_constraints='',\n",
      "              learning_rate=0.300000012, max_bin=256, max_cat_to_onehot=4,\n",
      "              max_delta_step=0, max_depth=6, max_leaves=0, min_child_weight=1,\n",
      "              missing=nan, monotone_constraints='()', n_estimators=100,\n",
      "              n_jobs=0, num_parallel_tree=1, objective='multi:softprob',\n",
      "              predictor='auto', random_state=0, reg_alpha=0, ...)\n"
     ]
    },
    {
     "data": {
      "text/plain": "<AxesSubplot:>"
     },
     "execution_count": 86,
     "metadata": {},
     "output_type": "execute_result"
    },
    {
     "data": {
      "text/plain": "<Figure size 432x288 with 2 Axes>",
      "image/png": "[encoded data removed]"
     },
     "metadata": {},
     "output_type": "display_data"
    }
   ],
   "source": [
    "le = LabelEncoder()\n",
    "y_train_ = le.fit_transform(y_train)\n",
    "mapping = dict(zip(le.classes_, range(1, len(le.classes_)+1)))\n",
    "mapping = {v: k for k, v in mapping.items()}\n",
    "print(mapping)\n",
    "parameters_XB = {}\n",
    "    # 'objective': ['multi:softprob'],\n",
    "    # 'num_class': [5]}\n",
    "\n",
    "XB_model = XGBClassifier.XGBClassifier( random_state=0)\n",
    "XB_clf = GridSearchCV(XB_model, parameters_XB, scoring=\"roc_auc\")\n",
    "\n",
    "XB_clf.fit(X_train, y_train_)\n",
    "\n",
    "print(\"Best Model:\")\n",
    "XB_model = XB_clf.best_estimator_\n",
    "print(XB_model)\n",
    "\n",
    "XB_predictions = XB_model.predict(X_test)\n",
    "XB_predictions = pd.DataFrame(XB_predictions)\n",
    "XB = XB_predictions[0].replace(mapping)\n",
    "# creating a confusion matrix\n",
    "labels = np.unique(y_test)\n",
    "NXB = XB.to_numpy()\n",
    "cm_XB = confusion_matrix(list(y_test),list(NXB),labels=labels)\n",
    "cm_XB = pd.DataFrame(cm_XB, index=labels, columns=labels)\n",
    "sns.heatmap(cm_XB, cmap=\"YlGnBu\", annot=True)"
   ],
   "metadata": {
    "collapsed": false
   }
  },
  {
   "cell_type": "code",
   "execution_count": 87,
   "outputs": [
    {
     "name": "stdout",
     "output_type": "stream",
     "text": [
      "Best Model:\n",
      "MLPClassifier(alpha=0.1, hidden_layer_sizes=(10, 10), random_state=1,\n",
      "              solver='lbfgs')\n"
     ]
    },
    {
     "data": {
      "text/plain": "<AxesSubplot:>"
     },
     "execution_count": 87,
     "metadata": {},
     "output_type": "execute_result"
    },
    {
     "data": {
      "text/plain": "<Figure size 432x288 with 2 Axes>",
      "image/png": "[encoded data removed]"
     },
     "metadata": {},
     "output_type": "display_data"
    }
   ],
   "source": [
    "alpha_MLP = [i for i in 10.0 ** -np.arange(1,7)]\n",
    "hidden_layer_sizes_MLP = [(10,10), (20,20), (40,40),\n",
    "                     (10,20),(10,40),(20,10), (40,10)]\n",
    "parameters_MLP = {'alpha': alpha_MLP,\n",
    "                 'hidden_layer_sizes': hidden_layer_sizes_MLP}\n",
    "\n",
    "MLP_model = MLPClassifier(solver='lbfgs',\n",
    "                    random_state=1)\n",
    "MLP_clf = GridSearchCV(MLP_model, parameters_MLP, cv=5, scoring=\"roc_auc\")\n",
    "\n",
    "MLP_clf.fit(X_train, y_train)\n",
    "\n",
    "print(\"Best Model:\")\n",
    "MLP_model = MLP_clf.best_estimator_\n",
    "print(MLP_model)\n",
    "\n",
    "MLP_predictions = MLP_model.predict(X_test)\n",
    "\n",
    "# creating a confusion matrix\n",
    "labels = np.unique(y_test)\n",
    "cm_MLP = confusion_matrix(y_test, MLP_predictions,labels=labels)\n",
    "cm_MLP = pd.DataFrame(cm_MLP, index=labels, columns=labels)\n",
    "sns.heatmap(cm_MLP, cmap=\"YlGnBu\", annot=True)"
   ],
   "metadata": {
    "collapsed": false
   }
  },
  {
   "cell_type": "code",
   "execution_count": 88,
   "outputs": [
    {
     "name": "stdout",
     "output_type": "stream",
     "text": [
      "Best Model:\n",
      "MLPClassifier(alpha=0.1, hidden_layer_sizes=(20, 100, 100, 20), random_state=1,\n",
      "              solver='lbfgs')\n"
     ]
    },
    {
     "data": {
      "text/plain": "<AxesSubplot:>"
     },
     "execution_count": 88,
     "metadata": {},
     "output_type": "execute_result"
    },
    {
     "data": {
      "text/plain": "<Figure size 432x288 with 2 Axes>",
      "image/png": "[encoded data removed]"
     },
     "metadata": {},
     "output_type": "display_data"
    }
   ],
   "source": [
    "alpha_MLP = [i for i in 10.0 ** -np.arange(1,7)]\n",
    "\n",
    "parameters_MLP = {'alpha': alpha_MLP}\n",
    "\n",
    "MLP_model = MLPClassifier(solver='lbfgs',\n",
    "                    random_state=1, hidden_layer_sizes=(20,100,100,20))\n",
    "MLP_clf = GridSearchCV(MLP_model, parameters_MLP, cv=5, scoring=\"roc_auc\")\n",
    "\n",
    "MLP_clf.fit(X_train, y_train)\n",
    "\n",
    "print(\"Best Model:\")\n",
    "MLP_model = MLP_clf.best_estimator_\n",
    "print(MLP_model)\n",
    "\n",
    "MLP_predictions = MLP_model.predict(X_test)\n",
    "\n",
    "# creating a confusion matrix\n",
    "cm_MLP = confusion_matrix(y_test, MLP_predictions)\n",
    "\n",
    "labels = np.unique(y_test)\n",
    "cm_MLP = confusion_matrix(y_test, MLP_predictions,labels=labels)\n",
    "cm_MLP = pd.DataFrame(cm_MLP, index=labels, columns=labels)\n",
    "sns.heatmap(cm_MLP, cmap=\"YlGnBu\", annot=True)"
   ],
   "metadata": {
    "collapsed": false
   }
  },
  {
   "cell_type": "code",
   "execution_count": 89,
   "outputs": [
    {
     "data": {
      "text/plain": "            diagnosis  DT KNN     SVC      LR  RF  XGB MLP\nExternal ID                                               \nCSM9X21TM1         CD  CD  CD      CD      CD  CD    0  CD\nHSM67VHFM1         CD  CD  CD      UC      CD  CD    0  CD\nCSM7KOTCM1         CD  UC  CD  nonIBD  nonIBD  CD    0  CD\nPSM7J17LM          CD  CD  CD      CD      CD  CD    0  CD\nHSMA33MKM          UC  UC  CD      CD      CD  UC    1  UC\n...               ...  ..  ..     ...     ...  ..  ...  ..\nHSM67VEMM1         CD  CD  CD      CD      CD  CD    0  CD\nHSM7J4HQM1         UC  UC  UC      UC      UC  UC    1  UC\nCSM79HLGM1         UC  UC  UC      UC      UC  UC    1  UC\nPSMA267PM          UC  UC  UC      UC      UC  UC    1  UC\nMSMA26AVM          UC  UC  CD      UC      UC  UC    1  CD\n\n[712 rows x 8 columns]",
      "text/html": "<div>\n<style scoped>\n    .dataframe tbody tr th:only-of-type {\n        vertical-align: middle;\n    }\n\n    .dataframe tbody tr th {\n        vertical-align: top;\n    }\n\n    .dataframe thead th {\n        text-align: right;\n    }\n</style>\n<table border=\"1\" class=\"dataframe\">\n  <thead>\n    <tr style=\"text-align: right;\">\n      <th></th>\n      <th>diagnosis</th>\n      <th>DT</th>\n      <th>KNN</th>\n      <th>SVC</th>\n      <th>LR</th>\n      <th>RF</th>\n      <th>XGB</th>\n      <th>MLP</th>\n    </tr>\n    <tr>\n      <th>External ID</th>\n      <th></th>\n      <th></th>\n      <th></th>\n      <th></th>\n      <th></th>\n      <th></th>\n      <th></th>\n      <th></th>\n    </tr>\n  </thead>\n  <tbody>\n    <tr>\n      <th>CSM9X21TM1</th>\n      <td>CD</td>\n      <td>CD</td>\n      <td>CD</td>\n      <td>CD</td>\n      <td>CD</td>\n      <td>CD</td>\n      <td>0</td>\n      <td>CD</td>\n    </tr>\n    <tr>\n      <th>HSM67VHFM1</th>\n      <td>CD</td>\n      <td>CD</td>\n      <td>CD</td>\n      <td>UC</td>\n      <td>CD</td>\n      <td>CD</td>\n      <td>0</td>\n      <td>CD</td>\n    </tr>\n    <tr>\n      <th>CSM7KOTCM1</th>\n      <td>CD</td>\n      <td>UC</td>\n      <td>CD</td>\n      <td>nonIBD</td>\n      <td>nonIBD</td>\n      <td>CD</td>\n      <td>0</td>\n      <td>CD</td>\n    </tr>\n    <tr>\n      <th>PSM7J17LM</th>\n      <td>CD</td>\n      <td>CD</td>\n      <td>CD</td>\n      <td>CD</td>\n      <td>CD</td>\n      <td>CD</td>\n      <td>0</td>\n      <td>CD</td>\n    </tr>\n    <tr>\n      <th>HSMA33MKM</th>\n      <td>UC</td>\n      <td>UC</td>\n      <td>CD</td>\n      <td>CD</td>\n      <td>CD</td>\n      <td>UC</td>\n      <td>1</td>\n      <td>UC</td>\n    </tr>\n    <tr>\n      <th>...</th>\n      <td>...</td>\n      <td>...</td>\n      <td>...</td>\n      <td>...</td>\n      <td>...</td>\n      <td>...</td>\n      <td>...</td>\n      <td>...</td>\n    </tr>\n    <tr>\n      <th>HSM67VEMM1</th>\n      <td>CD</td>\n      <td>CD</td>\n      <td>CD</td>\n      <td>CD</td>\n      <td>CD</td>\n      <td>CD</td>\n      <td>0</td>\n      <td>CD</td>\n    </tr>\n    <tr>\n      <th>HSM7J4HQM1</th>\n      <td>UC</td>\n      <td>UC</td>\n      <td>UC</td>\n      <td>UC</td>\n      <td>UC</td>\n      <td>UC</td>\n      <td>1</td>\n      <td>UC</td>\n    </tr>\n    <tr>\n      <th>CSM79HLGM1</th>\n      <td>UC</td>\n      <td>UC</td>\n      <td>UC</td>\n      <td>UC</td>\n      <td>UC</td>\n      <td>UC</td>\n      <td>1</td>\n      <td>UC</td>\n    </tr>\n    <tr>\n      <th>PSMA267PM</th>\n      <td>UC</td>\n      <td>UC</td>\n      <td>UC</td>\n      <td>UC</td>\n      <td>UC</td>\n      <td>UC</td>\n      <td>1</td>\n      <td>UC</td>\n    </tr>\n    <tr>\n      <th>MSMA26AVM</th>\n      <td>UC</td>\n      <td>UC</td>\n      <td>CD</td>\n      <td>UC</td>\n      <td>UC</td>\n      <td>UC</td>\n      <td>1</td>\n      <td>CD</td>\n    </tr>\n  </tbody>\n</table>\n<p>712 rows × 8 columns</p>\n</div>"
     },
     "execution_count": 89,
     "metadata": {},
     "output_type": "execute_result"
    }
   ],
   "source": [
    "allclf_train = pd.DataFrame({'diagnosis':y_train})\n",
    "\n",
    "allclf_train['DT'] = DT_clf.best_estimator_.predict(X_train)\n",
    "allclf_train['KNN'] = KNN_clf.best_estimator_.predict(X_train)\n",
    "allclf_train['SVC'] = SVM_clf.best_estimator_.predict(X_train)\n",
    "allclf_train['LR'] = LR_clf.best_estimator_.predict(X_train)\n",
    "allclf_train['RF'] = RF_clf.best_estimator_.predict(X_train)\n",
    "allclf_train['XGB'] = XB_clf.best_estimator_.predict(X_train)\n",
    "allclf_train['MLP'] = MLP_clf.best_estimator_.predict(X_train)\n",
    "allclf_train"
   ],
   "metadata": {
    "collapsed": false
   }
  },
  {
   "cell_type": "code",
   "execution_count": 90,
   "outputs": [],
   "source": [
    "allclf_test = pd.DataFrame({'diagnosis':y_test})\n",
    "\n",
    "allclf_test['DT'] = DT_clf.best_estimator_.predict(X_test)\n",
    "allclf_test['KNN'] = KNN_clf.best_estimator_.predict(X_test)\n",
    "allclf_test['SVC'] = SVM_clf.best_estimator_.predict(X_test)\n",
    "allclf_test['LR'] = LR_clf.best_estimator_.predict(X_test)\n",
    "allclf_test['RF'] = RF_clf.best_estimator_.predict(X_test)\n",
    "allclf_test['XGB'] = XB_clf.best_estimator_.predict(X_test)\n",
    "allclf_test['MLP'] = MLP_clf.best_estimator_.predict(X_test)"
   ],
   "metadata": {
    "collapsed": false
   }
  },
  {
   "cell_type": "code",
   "execution_count": 91,
   "outputs": [],
   "source": [
    "allclf_train['Consensus'] = allclf_train[['DT', 'KNN', 'SVC', 'LR', 'RF','XGB', 'MLP']].mode(axis=1).iloc[:,0]\n",
    "allclf_test['Consensus'] = allclf_test[['DT', 'KNN', 'SVC', 'LR', 'RF','XGB', 'MLP']].mode(axis=1).iloc[:,0]"
   ],
   "metadata": {
    "collapsed": false
   }
  },
  {
   "cell_type": "code",
   "execution_count": 92,
   "outputs": [],
   "source": [
    "cm_Consensus_train = confusion_matrix(y_train, allclf_train['Consensus'])\n",
    "cm_Consensus_test = confusion_matrix(y_test, allclf_test['Consensus'])"
   ],
   "metadata": {
    "collapsed": false
   }
  },
  {
   "cell_type": "code",
   "execution_count": 93,
   "outputs": [
    {
     "data": {
      "text/plain": "<Figure size 432x288 with 2 Axes>",
      "image/png": "[encoded data removed]"
     },
     "metadata": {},
     "output_type": "display_data"
    }
   ],
   "source": [
    "sns.heatmap(cm_Consensus_train, cmap=\"YlGnBu\", annot=True)\n",
    "plt.show()"
   ],
   "metadata": {
    "collapsed": false
   }
  },
  {
   "cell_type": "code",
   "execution_count": 94,
   "outputs": [
    {
     "data": {
      "text/plain": "<Figure size 432x288 with 2 Axes>",
      "image/png": "[encoded data removed]"
     },
     "metadata": {},
     "output_type": "display_data"
    }
   ],
   "source": [
    "sns.heatmap(cm_Consensus_test, cmap=\"YlGnBu\", annot=True)\n",
    "plt.show()"
   ],
   "metadata": {
    "collapsed": false
   }
  },
  {
   "cell_type": "code",
   "execution_count": 95,
   "outputs": [
    {
     "data": {
      "text/plain": "(352, 9)"
     },
     "execution_count": 95,
     "metadata": {},
     "output_type": "execute_result"
    }
   ],
   "source": [
    "allclf_test.shape"
   ],
   "metadata": {
    "collapsed": false
   }
  },
  {
   "cell_type": "code",
   "execution_count": 96,
   "outputs": [],
   "source": [
    "validation_metric = pd.DataFrame(columns = ['roc_auc_score'])\n",
    "validation_metric['Model'] = ( 'DT', 'KNN', 'SVC', 'LR','RF','XGB','MLP')\n",
    "validation_metric.set_index('Model',inplace=True)"
   ],
   "metadata": {
    "collapsed": false
   }
  },
  {
   "cell_type": "code",
   "execution_count": 97,
   "outputs": [],
   "source": [
    "\n",
    "# print(f'{round(roc_auc_score(y_test, DT_clf.predict_proba(X_test), multi_class=\"ovr\")*100,2)}%')\n",
    "#\n",
    "# print(roc_auc_score(y_test, DT_clf.predict_proba(X_test), multi_class='ovr'))\n",
    "# print(roc_auc_score(y_test, KNN_clf.predict_proba(X_test), multi_class='ovr'))\n",
    "# # print(roc_auc_score(y_test, SVM_clf.predict_proba(X_test), multi_class='ovr'))\n",
    "# print(roc_auc_score(y_test, LR_clf.predict_proba(X_test), multi_class='ovr'))\n",
    "# print(roc_auc_score(y_test, RF_clf.predict_proba(X_test), multi_class='ovr'))\n",
    "# print(roc_auc_score(y_test, MLP_clf.predict_proba(X_test), multi_class='ovr'))\n",
    "validation_metric= round(roc_auc_score(y_test, DT_clf.predict_proba(X_test), multi_class=\"ovr\")*100,2)\n",
    "# validation_metric['KNN'] = KNN_clf.best_estimator_.predict(X_test)\n",
    "# validation_metric['SVC'] = SVM_clf.best_estimator_.predict(X_test)\n",
    "# validation_metric['LR'] = LR_clf.best_estimator_.predict(X_test)\n",
    "# validation_metric['RF'] = RF_clf.best_estimator_.predict(X_test)\n",
    "# validation_metric['MLP'] = MLP_clf.best_estimator_.predict(X_test)"
   ],
   "metadata": {
    "collapsed": false
   }
  },
  {
   "cell_type": "code",
   "execution_count": 98,
   "outputs": [
    {
     "data": {
      "text/plain": "94.76"
     },
     "execution_count": 98,
     "metadata": {},
     "output_type": "execute_result"
    }
   ],
   "source": [
    "validation_metric"
   ],
   "metadata": {
    "collapsed": false
   }
  },
  {
   "cell_type": "code",
   "execution_count": 98,
   "outputs": [],
   "source": [],
   "metadata": {
    "collapsed": false
   }
  }
 ],
 "metadata": {
  "kernelspec": {
   "display_name": "Python 3",
   "language": "python",
   "name": "python3"
  },
  "language_info": {
   "codemirror_mode": {
    "name": "ipython",
    "version": 2
   },
   "file_extension": ".py",
   "mimetype": "text/x-python",
   "name": "python",
   "nbconvert_exporter": "python",
   "pygments_lexer": "ipython2",
   "version": "2.7.6"
  }
 },
 "nbformat": 4,
 "nbformat_minor": 0
}
