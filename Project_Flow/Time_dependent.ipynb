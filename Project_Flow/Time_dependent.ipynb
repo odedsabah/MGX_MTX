{
 "cells": [
  {
   "cell_type": "markdown",
   "source": [
    "### Time dependent analysis"
   ],
   "metadata": {
    "collapsed": false
   }
  },
  {
   "cell_type": "code",
   "execution_count": 170,
   "outputs": [],
   "source": [
    "# Upload packages\n",
    "import pandas as pd\n",
    "from lifelines import KaplanMeierFitter\n",
    "import math"
   ],
   "metadata": {
    "collapsed": false
   }
  },
  {
   "cell_type": "code",
   "execution_count": 171,
   "outputs": [
    {
     "name": "stderr",
     "output_type": "stream",
     "text": [
      "/var/folders/qz/fy7nnm954f76spkqc86w7g_c0000gn/T/ipykernel_25778/541646005.py:1: DtypeWarning: Columns (12,13,14,40,46,55,65,66,67,68,177,294,298,299,300,301,304,305,306,307,308,309,310,318,320,328,330,346,348,350,352,354,359,361,363,366,373,377,381,383,418,419,432,433,434,435,436,438,439,440,441,442,444,445,446,447,448,450,451,452,453,454) have mixed types. Specify dtype option on import or set low_memory=False.\n",
      "  metadata = pd.read_csv(\"~/Desktop/hmp2_metadata.csv\")\n"
     ]
    }
   ],
   "source": [
    "metadata = pd.read_csv(\"~/Desktop/hmp2_metadata.csv\")\n",
    "fecalcal_info_MGX = metadata.loc[metadata.data_type == \"metagenomics\", [\"External ID\", \"Participant ID\", \"diagnosis\", \"visit_num\", \"fecalcal\", \"fecalcal_ng_ml\",\"sex\",\"date_of_receipt\"]]\n",
    "fecalcal_info_MGX = fecalcal_info_MGX[~fecalcal_info_MGX[\"External ID\"].str.contains(\"_P\")]\n",
    "fecalcal_info_MGX = fecalcal_info_MGX[~fecalcal_info_MGX[\"External ID\"].str.contains(\"_TR\")]\n",
    "fc1 = [not math.isnan(x) for x in fecalcal_info_MGX.fecalcal]\n",
    "fc2 = [not math.isnan(x) for x in fecalcal_info_MGX.fecalcal_ng_ml]\n",
    "fc = [fc1[i] or fc2[i] for i in range(len(fc1))]\n",
    "fecalcal_info_MGX = fecalcal_info_MGX.loc[fc, :]\n",
    "fc1 = [not math.isnan(x) for x in fecalcal_info_MGX.fecalcal]\n",
    "fc2 = [not math.isnan(x) for x in fecalcal_info_MGX.fecalcal_ng_ml]\n",
    "fecalcal_info_MGX.fecalcal = fecalcal_info_MGX.fecalcal.fillna(fecalcal_info_MGX['fecalcal_ng_ml'])\n",
    "fecalcal_info_MGX.drop([\"fecalcal_ng_ml\"], inplace=True, axis=1)\n",
    "fecalcal_info_MGX.to_csv('~/Desktop/select_samples_MGX.csv')"
   ],
   "metadata": {
    "collapsed": false
   }
  },
  {
   "cell_type": "code",
   "execution_count": 172,
   "outputs": [
    {
     "data": {
      "text/plain": "     External ID Participant ID diagnosis  visit_num   fecalcal     sex  \\\n2710    CSM67UA2          C3001        CD         20   23.20350  Female   \n2711    CSM79HGP          C3001        CD         26   37.17836  Female   \n2715    CSM5MCVN          C3002        CD         13   15.97901  Female   \n2716    CSM67UBH          C3002        CD         19   14.51068  Female   \n2717    CSM67UBN          C3002        CD         22   16.32450  Female   \n...          ...            ...       ...        ...        ...     ...   \n3507    PSMA263W          P6024        CD         25  255.10000    Male   \n3520    PSMA264U          P6035        UC          8   17.44622    Male   \n3521    PSMA267J          P6035        UC         12   15.50000    Male   \n3522    PSMA267P          P6035        UC         15   14.57958    Male   \n3524    PSMB4MBK          P6035        UC         21  127.56480    Male   \n\n     date_of_receipt  \n2710      30/09/2014  \n2711      10/12/2014  \n2715      19/08/2014  \n2716      28/10/2014  \n2717      09/12/2014  \n...              ...  \n3507      16/12/2015  \n3520      01/12/2015  \n3521      19/01/2016  \n3522      15/03/2016  \n3524      01/06/2016  \n\n[215 rows x 7 columns]",
      "text/html": "<div>\n<style scoped>\n    .dataframe tbody tr th:only-of-type {\n        vertical-align: middle;\n    }\n\n    .dataframe tbody tr th {\n        vertical-align: top;\n    }\n\n    .dataframe thead th {\n        text-align: right;\n    }\n</style>\n<table border=\"1\" class=\"dataframe\">\n  <thead>\n    <tr style=\"text-align: right;\">\n      <th></th>\n      <th>External ID</th>\n      <th>Participant ID</th>\n      <th>diagnosis</th>\n      <th>visit_num</th>\n      <th>fecalcal</th>\n      <th>sex</th>\n      <th>date_of_receipt</th>\n    </tr>\n  </thead>\n  <tbody>\n    <tr>\n      <th>2710</th>\n      <td>CSM67UA2</td>\n      <td>C3001</td>\n      <td>CD</td>\n      <td>20</td>\n      <td>23.20350</td>\n      <td>Female</td>\n      <td>30/09/2014</td>\n    </tr>\n    <tr>\n      <th>2711</th>\n      <td>CSM79HGP</td>\n      <td>C3001</td>\n      <td>CD</td>\n      <td>26</td>\n      <td>37.17836</td>\n      <td>Female</td>\n      <td>10/12/2014</td>\n    </tr>\n    <tr>\n      <th>2715</th>\n      <td>CSM5MCVN</td>\n      <td>C3002</td>\n      <td>CD</td>\n      <td>13</td>\n      <td>15.97901</td>\n      <td>Female</td>\n      <td>19/08/2014</td>\n    </tr>\n    <tr>\n      <th>2716</th>\n      <td>CSM67UBH</td>\n      <td>C3002</td>\n      <td>CD</td>\n      <td>19</td>\n      <td>14.51068</td>\n      <td>Female</td>\n      <td>28/10/2014</td>\n    </tr>\n    <tr>\n      <th>2717</th>\n      <td>CSM67UBN</td>\n      <td>C3002</td>\n      <td>CD</td>\n      <td>22</td>\n      <td>16.32450</td>\n      <td>Female</td>\n      <td>09/12/2014</td>\n    </tr>\n    <tr>\n      <th>...</th>\n      <td>...</td>\n      <td>...</td>\n      <td>...</td>\n      <td>...</td>\n      <td>...</td>\n      <td>...</td>\n      <td>...</td>\n    </tr>\n    <tr>\n      <th>3507</th>\n      <td>PSMA263W</td>\n      <td>P6024</td>\n      <td>CD</td>\n      <td>25</td>\n      <td>255.10000</td>\n      <td>Male</td>\n      <td>16/12/2015</td>\n    </tr>\n    <tr>\n      <th>3520</th>\n      <td>PSMA264U</td>\n      <td>P6035</td>\n      <td>UC</td>\n      <td>8</td>\n      <td>17.44622</td>\n      <td>Male</td>\n      <td>01/12/2015</td>\n    </tr>\n    <tr>\n      <th>3521</th>\n      <td>PSMA267J</td>\n      <td>P6035</td>\n      <td>UC</td>\n      <td>12</td>\n      <td>15.50000</td>\n      <td>Male</td>\n      <td>19/01/2016</td>\n    </tr>\n    <tr>\n      <th>3522</th>\n      <td>PSMA267P</td>\n      <td>P6035</td>\n      <td>UC</td>\n      <td>15</td>\n      <td>14.57958</td>\n      <td>Male</td>\n      <td>15/03/2016</td>\n    </tr>\n    <tr>\n      <th>3524</th>\n      <td>PSMB4MBK</td>\n      <td>P6035</td>\n      <td>UC</td>\n      <td>21</td>\n      <td>127.56480</td>\n      <td>Male</td>\n      <td>01/06/2016</td>\n    </tr>\n  </tbody>\n</table>\n<p>215 rows × 7 columns</p>\n</div>"
     },
     "execution_count": 172,
     "metadata": {},
     "output_type": "execute_result"
    }
   ],
   "source": [
    "fecalcal_info_MTX= metadata.loc[metadata.data_type == \"metatranscriptomics\", [\"External ID\", \"Participant ID\", \"diagnosis\", \"visit_num\", \"fecalcal\", \"fecalcal_ng_ml\",\"sex\",\"date_of_receipt\"]]\n",
    "fecalcal_info_MTX = fecalcal_info_MTX[~fecalcal_info_MTX[\"External ID\"].str.contains(\"_P\")]\n",
    "fecalcal_info_MTX = fecalcal_info_MTX[~fecalcal_info_MTX[\"External ID\"].str.contains(\"_TR\")]\n",
    "fc1 = [not math.isnan(x) for x in fecalcal_info_MTX.fecalcal]\n",
    "fc2 = [not math.isnan(x) for x in fecalcal_info_MTX.fecalcal_ng_ml]\n",
    "fc = [fc1[i] or fc2[i] for i in range(len(fc1))]\n",
    "fecalcal_info_MTX = fecalcal_info_MTX.loc[fc, :]\n",
    "fc1 = [not math.isnan(x) for x in fecalcal_info_MTX.fecalcal]\n",
    "fc2 = [not math.isnan(x) for x in fecalcal_info_MTX.fecalcal_ng_ml]\n",
    "fecalcal_info_MTX.fecalcal = fecalcal_info_MTX.fecalcal.fillna(fecalcal_info_MTX['fecalcal_ng_ml'])\n",
    "fecalcal_info_MTX.drop([\"fecalcal_ng_ml\"], inplace=True, axis=1)\n",
    "fecalcal_info_MTX"
   ],
   "metadata": {
    "collapsed": false
   }
  },
  {
   "cell_type": "code",
   "execution_count": 174,
   "outputs": [
    {
     "name": "stderr",
     "output_type": "stream",
     "text": [
      "/var/folders/qz/fy7nnm954f76spkqc86w7g_c0000gn/T/ipykernel_25778/1927362229.py:3: UserWarning: Parsing '30/09/2014' in DD/MM/YYYY format. Provide format or specify infer_datetime_format=True for consistent parsing.\n",
      "  fecalcal_time[\"date_of_receipt\"] = pd.to_datetime(fecalcal_time[\"date_of_receipt\"])\n",
      "/var/folders/qz/fy7nnm954f76spkqc86w7g_c0000gn/T/ipykernel_25778/1927362229.py:3: UserWarning: Parsing '19/08/2014' in DD/MM/YYYY format. Provide format or specify infer_datetime_format=True for consistent parsing.\n",
      "  fecalcal_time[\"date_of_receipt\"] = pd.to_datetime(fecalcal_time[\"date_of_receipt\"])\n",
      "/var/folders/qz/fy7nnm954f76spkqc86w7g_c0000gn/T/ipykernel_25778/1927362229.py:3: UserWarning: Parsing '28/10/2014' in DD/MM/YYYY format. Provide format or specify infer_datetime_format=True for consistent parsing.\n",
      "  fecalcal_time[\"date_of_receipt\"] = pd.to_datetime(fecalcal_time[\"date_of_receipt\"])\n",
      "/var/folders/qz/fy7nnm954f76spkqc86w7g_c0000gn/T/ipykernel_25778/1927362229.py:3: UserWarning: Parsing '25/11/2014' in DD/MM/YYYY format. Provide format or specify infer_datetime_format=True for consistent parsing.\n",
      "  fecalcal_time[\"date_of_receipt\"] = pd.to_datetime(fecalcal_time[\"date_of_receipt\"])\n",
      "/var/folders/qz/fy7nnm954f76spkqc86w7g_c0000gn/T/ipykernel_25778/1927362229.py:3: UserWarning: Parsing '20/01/2015' in DD/MM/YYYY format. Provide format or specify infer_datetime_format=True for consistent parsing.\n",
      "  fecalcal_time[\"date_of_receipt\"] = pd.to_datetime(fecalcal_time[\"date_of_receipt\"])\n",
      "/var/folders/qz/fy7nnm954f76spkqc86w7g_c0000gn/T/ipykernel_25778/1927362229.py:3: UserWarning: Parsing '29/01/2015' in DD/MM/YYYY format. Provide format or specify infer_datetime_format=True for consistent parsing.\n",
      "  fecalcal_time[\"date_of_receipt\"] = pd.to_datetime(fecalcal_time[\"date_of_receipt\"])\n",
      "/var/folders/qz/fy7nnm954f76spkqc86w7g_c0000gn/T/ipykernel_25778/1927362229.py:3: UserWarning: Parsing '16/09/2014' in DD/MM/YYYY format. Provide format or specify infer_datetime_format=True for consistent parsing.\n",
      "  fecalcal_time[\"date_of_receipt\"] = pd.to_datetime(fecalcal_time[\"date_of_receipt\"])\n",
      "/var/folders/qz/fy7nnm954f76spkqc86w7g_c0000gn/T/ipykernel_25778/1927362229.py:3: UserWarning: Parsing '21/10/2014' in DD/MM/YYYY format. Provide format or specify infer_datetime_format=True for consistent parsing.\n",
      "  fecalcal_time[\"date_of_receipt\"] = pd.to_datetime(fecalcal_time[\"date_of_receipt\"])\n",
      "/var/folders/qz/fy7nnm954f76spkqc86w7g_c0000gn/T/ipykernel_25778/1927362229.py:3: UserWarning: Parsing '27/05/2015' in DD/MM/YYYY format. Provide format or specify infer_datetime_format=True for consistent parsing.\n",
      "  fecalcal_time[\"date_of_receipt\"] = pd.to_datetime(fecalcal_time[\"date_of_receipt\"])\n",
      "/var/folders/qz/fy7nnm954f76spkqc86w7g_c0000gn/T/ipykernel_25778/1927362229.py:3: UserWarning: Parsing '20/11/2014' in DD/MM/YYYY format. Provide format or specify infer_datetime_format=True for consistent parsing.\n",
      "  fecalcal_time[\"date_of_receipt\"] = pd.to_datetime(fecalcal_time[\"date_of_receipt\"])\n",
      "/var/folders/qz/fy7nnm954f76spkqc86w7g_c0000gn/T/ipykernel_25778/1927362229.py:3: UserWarning: Parsing '16/06/2015' in DD/MM/YYYY format. Provide format or specify infer_datetime_format=True for consistent parsing.\n",
      "  fecalcal_time[\"date_of_receipt\"] = pd.to_datetime(fecalcal_time[\"date_of_receipt\"])\n",
      "/var/folders/qz/fy7nnm954f76spkqc86w7g_c0000gn/T/ipykernel_25778/1927362229.py:3: UserWarning: Parsing '17/12/2014' in DD/MM/YYYY format. Provide format or specify infer_datetime_format=True for consistent parsing.\n",
      "  fecalcal_time[\"date_of_receipt\"] = pd.to_datetime(fecalcal_time[\"date_of_receipt\"])\n",
      "/var/folders/qz/fy7nnm954f76spkqc86w7g_c0000gn/T/ipykernel_25778/1927362229.py:3: UserWarning: Parsing '24/02/2015' in DD/MM/YYYY format. Provide format or specify infer_datetime_format=True for consistent parsing.\n",
      "  fecalcal_time[\"date_of_receipt\"] = pd.to_datetime(fecalcal_time[\"date_of_receipt\"])\n",
      "/var/folders/qz/fy7nnm954f76spkqc86w7g_c0000gn/T/ipykernel_25778/1927362229.py:3: UserWarning: Parsing '14/07/2015' in DD/MM/YYYY format. Provide format or specify infer_datetime_format=True for consistent parsing.\n",
      "  fecalcal_time[\"date_of_receipt\"] = pd.to_datetime(fecalcal_time[\"date_of_receipt\"])\n",
      "/var/folders/qz/fy7nnm954f76spkqc86w7g_c0000gn/T/ipykernel_25778/1927362229.py:3: UserWarning: Parsing '28/04/2015' in DD/MM/YYYY format. Provide format or specify infer_datetime_format=True for consistent parsing.\n",
      "  fecalcal_time[\"date_of_receipt\"] = pd.to_datetime(fecalcal_time[\"date_of_receipt\"])\n",
      "/var/folders/qz/fy7nnm954f76spkqc86w7g_c0000gn/T/ipykernel_25778/1927362229.py:3: UserWarning: Parsing '23/06/2015' in DD/MM/YYYY format. Provide format or specify infer_datetime_format=True for consistent parsing.\n",
      "  fecalcal_time[\"date_of_receipt\"] = pd.to_datetime(fecalcal_time[\"date_of_receipt\"])\n",
      "/var/folders/qz/fy7nnm954f76spkqc86w7g_c0000gn/T/ipykernel_25778/1927362229.py:3: UserWarning: Parsing '22/01/2015' in DD/MM/YYYY format. Provide format or specify infer_datetime_format=True for consistent parsing.\n",
      "  fecalcal_time[\"date_of_receipt\"] = pd.to_datetime(fecalcal_time[\"date_of_receipt\"])\n",
      "/var/folders/qz/fy7nnm954f76spkqc86w7g_c0000gn/T/ipykernel_25778/1927362229.py:3: UserWarning: Parsing '17/03/2015' in DD/MM/YYYY format. Provide format or specify infer_datetime_format=True for consistent parsing.\n",
      "  fecalcal_time[\"date_of_receipt\"] = pd.to_datetime(fecalcal_time[\"date_of_receipt\"])\n",
      "/var/folders/qz/fy7nnm954f76spkqc86w7g_c0000gn/T/ipykernel_25778/1927362229.py:3: UserWarning: Parsing '29/05/2015' in DD/MM/YYYY format. Provide format or specify infer_datetime_format=True for consistent parsing.\n",
      "  fecalcal_time[\"date_of_receipt\"] = pd.to_datetime(fecalcal_time[\"date_of_receipt\"])\n",
      "/var/folders/qz/fy7nnm954f76spkqc86w7g_c0000gn/T/ipykernel_25778/1927362229.py:3: UserWarning: Parsing '15/10/2015' in DD/MM/YYYY format. Provide format or specify infer_datetime_format=True for consistent parsing.\n",
      "  fecalcal_time[\"date_of_receipt\"] = pd.to_datetime(fecalcal_time[\"date_of_receipt\"])\n",
      "/var/folders/qz/fy7nnm954f76spkqc86w7g_c0000gn/T/ipykernel_25778/1927362229.py:3: UserWarning: Parsing '21/07/2015' in DD/MM/YYYY format. Provide format or specify infer_datetime_format=True for consistent parsing.\n",
      "  fecalcal_time[\"date_of_receipt\"] = pd.to_datetime(fecalcal_time[\"date_of_receipt\"])\n",
      "/var/folders/qz/fy7nnm954f76spkqc86w7g_c0000gn/T/ipykernel_25778/1927362229.py:3: UserWarning: Parsing '13/10/2015' in DD/MM/YYYY format. Provide format or specify infer_datetime_format=True for consistent parsing.\n",
      "  fecalcal_time[\"date_of_receipt\"] = pd.to_datetime(fecalcal_time[\"date_of_receipt\"])\n",
      "/var/folders/qz/fy7nnm954f76spkqc86w7g_c0000gn/T/ipykernel_25778/1927362229.py:3: UserWarning: Parsing '17/06/2015' in DD/MM/YYYY format. Provide format or specify infer_datetime_format=True for consistent parsing.\n",
      "  fecalcal_time[\"date_of_receipt\"] = pd.to_datetime(fecalcal_time[\"date_of_receipt\"])\n",
      "/var/folders/qz/fy7nnm954f76spkqc86w7g_c0000gn/T/ipykernel_25778/1927362229.py:3: UserWarning: Parsing '24/03/2015' in DD/MM/YYYY format. Provide format or specify infer_datetime_format=True for consistent parsing.\n",
      "  fecalcal_time[\"date_of_receipt\"] = pd.to_datetime(fecalcal_time[\"date_of_receipt\"])\n",
      "/var/folders/qz/fy7nnm954f76spkqc86w7g_c0000gn/T/ipykernel_25778/1927362229.py:3: UserWarning: Parsing '26/08/2015' in DD/MM/YYYY format. Provide format or specify infer_datetime_format=True for consistent parsing.\n",
      "  fecalcal_time[\"date_of_receipt\"] = pd.to_datetime(fecalcal_time[\"date_of_receipt\"])\n",
      "/var/folders/qz/fy7nnm954f76spkqc86w7g_c0000gn/T/ipykernel_25778/1927362229.py:3: UserWarning: Parsing '20/08/2014' in DD/MM/YYYY format. Provide format or specify infer_datetime_format=True for consistent parsing.\n",
      "  fecalcal_time[\"date_of_receipt\"] = pd.to_datetime(fecalcal_time[\"date_of_receipt\"])\n",
      "/var/folders/qz/fy7nnm954f76spkqc86w7g_c0000gn/T/ipykernel_25778/1927362229.py:3: UserWarning: Parsing '30/10/2014' in DD/MM/YYYY format. Provide format or specify infer_datetime_format=True for consistent parsing.\n",
      "  fecalcal_time[\"date_of_receipt\"] = pd.to_datetime(fecalcal_time[\"date_of_receipt\"])\n",
      "/var/folders/qz/fy7nnm954f76spkqc86w7g_c0000gn/T/ipykernel_25778/1927362229.py:3: UserWarning: Parsing '18/03/2015' in DD/MM/YYYY format. Provide format or specify infer_datetime_format=True for consistent parsing.\n",
      "  fecalcal_time[\"date_of_receipt\"] = pd.to_datetime(fecalcal_time[\"date_of_receipt\"])\n",
      "/var/folders/qz/fy7nnm954f76spkqc86w7g_c0000gn/T/ipykernel_25778/1927362229.py:3: UserWarning: Parsing '31/07/2014' in DD/MM/YYYY format. Provide format or specify infer_datetime_format=True for consistent parsing.\n",
      "  fecalcal_time[\"date_of_receipt\"] = pd.to_datetime(fecalcal_time[\"date_of_receipt\"])\n",
      "/var/folders/qz/fy7nnm954f76spkqc86w7g_c0000gn/T/ipykernel_25778/1927362229.py:3: UserWarning: Parsing '28/01/2015' in DD/MM/YYYY format. Provide format or specify infer_datetime_format=True for consistent parsing.\n",
      "  fecalcal_time[\"date_of_receipt\"] = pd.to_datetime(fecalcal_time[\"date_of_receipt\"])\n",
      "/var/folders/qz/fy7nnm954f76spkqc86w7g_c0000gn/T/ipykernel_25778/1927362229.py:3: UserWarning: Parsing '23/09/2014' in DD/MM/YYYY format. Provide format or specify infer_datetime_format=True for consistent parsing.\n",
      "  fecalcal_time[\"date_of_receipt\"] = pd.to_datetime(fecalcal_time[\"date_of_receipt\"])\n",
      "/var/folders/qz/fy7nnm954f76spkqc86w7g_c0000gn/T/ipykernel_25778/1927362229.py:3: UserWarning: Parsing '21/04/2015' in DD/MM/YYYY format. Provide format or specify infer_datetime_format=True for consistent parsing.\n",
      "  fecalcal_time[\"date_of_receipt\"] = pd.to_datetime(fecalcal_time[\"date_of_receipt\"])\n",
      "/var/folders/qz/fy7nnm954f76spkqc86w7g_c0000gn/T/ipykernel_25778/1927362229.py:3: UserWarning: Parsing '23/12/2014' in DD/MM/YYYY format. Provide format or specify infer_datetime_format=True for consistent parsing.\n",
      "  fecalcal_time[\"date_of_receipt\"] = pd.to_datetime(fecalcal_time[\"date_of_receipt\"])\n",
      "/var/folders/qz/fy7nnm954f76spkqc86w7g_c0000gn/T/ipykernel_25778/1927362229.py:3: UserWarning: Parsing '21/08/2014' in DD/MM/YYYY format. Provide format or specify infer_datetime_format=True for consistent parsing.\n",
      "  fecalcal_time[\"date_of_receipt\"] = pd.to_datetime(fecalcal_time[\"date_of_receipt\"])\n",
      "/var/folders/qz/fy7nnm954f76spkqc86w7g_c0000gn/T/ipykernel_25778/1927362229.py:3: UserWarning: Parsing '15/10/2014' in DD/MM/YYYY format. Provide format or specify infer_datetime_format=True for consistent parsing.\n",
      "  fecalcal_time[\"date_of_receipt\"] = pd.to_datetime(fecalcal_time[\"date_of_receipt\"])\n",
      "/var/folders/qz/fy7nnm954f76spkqc86w7g_c0000gn/T/ipykernel_25778/1927362229.py:3: UserWarning: Parsing '24/09/2014' in DD/MM/YYYY format. Provide format or specify infer_datetime_format=True for consistent parsing.\n",
      "  fecalcal_time[\"date_of_receipt\"] = pd.to_datetime(fecalcal_time[\"date_of_receipt\"])\n",
      "/var/folders/qz/fy7nnm954f76spkqc86w7g_c0000gn/T/ipykernel_25778/1927362229.py:3: UserWarning: Parsing '27/01/2015' in DD/MM/YYYY format. Provide format or specify infer_datetime_format=True for consistent parsing.\n",
      "  fecalcal_time[\"date_of_receipt\"] = pd.to_datetime(fecalcal_time[\"date_of_receipt\"])\n",
      "/var/folders/qz/fy7nnm954f76spkqc86w7g_c0000gn/T/ipykernel_25778/1927362229.py:3: UserWarning: Parsing '21/05/2015' in DD/MM/YYYY format. Provide format or specify infer_datetime_format=True for consistent parsing.\n",
      "  fecalcal_time[\"date_of_receipt\"] = pd.to_datetime(fecalcal_time[\"date_of_receipt\"])\n",
      "/var/folders/qz/fy7nnm954f76spkqc86w7g_c0000gn/T/ipykernel_25778/1927362229.py:3: UserWarning: Parsing '17/07/2015' in DD/MM/YYYY format. Provide format or specify infer_datetime_format=True for consistent parsing.\n",
      "  fecalcal_time[\"date_of_receipt\"] = pd.to_datetime(fecalcal_time[\"date_of_receipt\"])\n",
      "/var/folders/qz/fy7nnm954f76spkqc86w7g_c0000gn/T/ipykernel_25778/1927362229.py:3: UserWarning: Parsing '29/07/2015' in DD/MM/YYYY format. Provide format or specify infer_datetime_format=True for consistent parsing.\n",
      "  fecalcal_time[\"date_of_receipt\"] = pd.to_datetime(fecalcal_time[\"date_of_receipt\"])\n",
      "/var/folders/qz/fy7nnm954f76spkqc86w7g_c0000gn/T/ipykernel_25778/1927362229.py:3: UserWarning: Parsing '18/08/2015' in DD/MM/YYYY format. Provide format or specify infer_datetime_format=True for consistent parsing.\n",
      "  fecalcal_time[\"date_of_receipt\"] = pd.to_datetime(fecalcal_time[\"date_of_receipt\"])\n",
      "/var/folders/qz/fy7nnm954f76spkqc86w7g_c0000gn/T/ipykernel_25778/1927362229.py:3: UserWarning: Parsing '14/05/2015' in DD/MM/YYYY format. Provide format or specify infer_datetime_format=True for consistent parsing.\n",
      "  fecalcal_time[\"date_of_receipt\"] = pd.to_datetime(fecalcal_time[\"date_of_receipt\"])\n",
      "/var/folders/qz/fy7nnm954f76spkqc86w7g_c0000gn/T/ipykernel_25778/1927362229.py:3: UserWarning: Parsing '23/07/2015' in DD/MM/YYYY format. Provide format or specify infer_datetime_format=True for consistent parsing.\n",
      "  fecalcal_time[\"date_of_receipt\"] = pd.to_datetime(fecalcal_time[\"date_of_receipt\"])\n",
      "/var/folders/qz/fy7nnm954f76spkqc86w7g_c0000gn/T/ipykernel_25778/1927362229.py:3: UserWarning: Parsing '16/09/2015' in DD/MM/YYYY format. Provide format or specify infer_datetime_format=True for consistent parsing.\n",
      "  fecalcal_time[\"date_of_receipt\"] = pd.to_datetime(fecalcal_time[\"date_of_receipt\"])\n",
      "/var/folders/qz/fy7nnm954f76spkqc86w7g_c0000gn/T/ipykernel_25778/1927362229.py:3: UserWarning: Parsing '28/07/2015' in DD/MM/YYYY format. Provide format or specify infer_datetime_format=True for consistent parsing.\n",
      "  fecalcal_time[\"date_of_receipt\"] = pd.to_datetime(fecalcal_time[\"date_of_receipt\"])\n",
      "/var/folders/qz/fy7nnm954f76spkqc86w7g_c0000gn/T/ipykernel_25778/1927362229.py:3: UserWarning: Parsing '17/08/2015' in DD/MM/YYYY format. Provide format or specify infer_datetime_format=True for consistent parsing.\n",
      "  fecalcal_time[\"date_of_receipt\"] = pd.to_datetime(fecalcal_time[\"date_of_receipt\"])\n",
      "/var/folders/qz/fy7nnm954f76spkqc86w7g_c0000gn/T/ipykernel_25778/1927362229.py:3: UserWarning: Parsing '17/11/2015' in DD/MM/YYYY format. Provide format or specify infer_datetime_format=True for consistent parsing.\n",
      "  fecalcal_time[\"date_of_receipt\"] = pd.to_datetime(fecalcal_time[\"date_of_receipt\"])\n",
      "/var/folders/qz/fy7nnm954f76spkqc86w7g_c0000gn/T/ipykernel_25778/1927362229.py:3: UserWarning: Parsing '15/07/2015' in DD/MM/YYYY format. Provide format or specify infer_datetime_format=True for consistent parsing.\n",
      "  fecalcal_time[\"date_of_receipt\"] = pd.to_datetime(fecalcal_time[\"date_of_receipt\"])\n",
      "/var/folders/qz/fy7nnm954f76spkqc86w7g_c0000gn/T/ipykernel_25778/1927362229.py:3: UserWarning: Parsing '25/08/2015' in DD/MM/YYYY format. Provide format or specify infer_datetime_format=True for consistent parsing.\n",
      "  fecalcal_time[\"date_of_receipt\"] = pd.to_datetime(fecalcal_time[\"date_of_receipt\"])\n",
      "/var/folders/qz/fy7nnm954f76spkqc86w7g_c0000gn/T/ipykernel_25778/1927362229.py:3: UserWarning: Parsing '20/10/2015' in DD/MM/YYYY format. Provide format or specify infer_datetime_format=True for consistent parsing.\n",
      "  fecalcal_time[\"date_of_receipt\"] = pd.to_datetime(fecalcal_time[\"date_of_receipt\"])\n",
      "/var/folders/qz/fy7nnm954f76spkqc86w7g_c0000gn/T/ipykernel_25778/1927362229.py:3: UserWarning: Parsing '24/09/2015' in DD/MM/YYYY format. Provide format or specify infer_datetime_format=True for consistent parsing.\n",
      "  fecalcal_time[\"date_of_receipt\"] = pd.to_datetime(fecalcal_time[\"date_of_receipt\"])\n",
      "/var/folders/qz/fy7nnm954f76spkqc86w7g_c0000gn/T/ipykernel_25778/1927362229.py:3: UserWarning: Parsing '13/01/2016' in DD/MM/YYYY format. Provide format or specify infer_datetime_format=True for consistent parsing.\n",
      "  fecalcal_time[\"date_of_receipt\"] = pd.to_datetime(fecalcal_time[\"date_of_receipt\"])\n",
      "/var/folders/qz/fy7nnm954f76spkqc86w7g_c0000gn/T/ipykernel_25778/1927362229.py:3: UserWarning: Parsing '19/04/2016' in DD/MM/YYYY format. Provide format or specify infer_datetime_format=True for consistent parsing.\n",
      "  fecalcal_time[\"date_of_receipt\"] = pd.to_datetime(fecalcal_time[\"date_of_receipt\"])\n",
      "/var/folders/qz/fy7nnm954f76spkqc86w7g_c0000gn/T/ipykernel_25778/1927362229.py:3: UserWarning: Parsing '19/02/2014' in DD/MM/YYYY format. Provide format or specify infer_datetime_format=True for consistent parsing.\n",
      "  fecalcal_time[\"date_of_receipt\"] = pd.to_datetime(fecalcal_time[\"date_of_receipt\"])\n",
      "/var/folders/qz/fy7nnm954f76spkqc86w7g_c0000gn/T/ipykernel_25778/1927362229.py:3: UserWarning: Parsing '27/08/2014' in DD/MM/YYYY format. Provide format or specify infer_datetime_format=True for consistent parsing.\n",
      "  fecalcal_time[\"date_of_receipt\"] = pd.to_datetime(fecalcal_time[\"date_of_receipt\"])\n",
      "/var/folders/qz/fy7nnm954f76spkqc86w7g_c0000gn/T/ipykernel_25778/1927362229.py:3: UserWarning: Parsing '13/08/2014' in DD/MM/YYYY format. Provide format or specify infer_datetime_format=True for consistent parsing.\n",
      "  fecalcal_time[\"date_of_receipt\"] = pd.to_datetime(fecalcal_time[\"date_of_receipt\"])\n",
      "/var/folders/qz/fy7nnm954f76spkqc86w7g_c0000gn/T/ipykernel_25778/1927362229.py:3: UserWarning: Parsing '28/08/2014' in DD/MM/YYYY format. Provide format or specify infer_datetime_format=True for consistent parsing.\n",
      "  fecalcal_time[\"date_of_receipt\"] = pd.to_datetime(fecalcal_time[\"date_of_receipt\"])\n",
      "/var/folders/qz/fy7nnm954f76spkqc86w7g_c0000gn/T/ipykernel_25778/1927362229.py:3: UserWarning: Parsing '21/01/2015' in DD/MM/YYYY format. Provide format or specify infer_datetime_format=True for consistent parsing.\n",
      "  fecalcal_time[\"date_of_receipt\"] = pd.to_datetime(fecalcal_time[\"date_of_receipt\"])\n",
      "/var/folders/qz/fy7nnm954f76spkqc86w7g_c0000gn/T/ipykernel_25778/1927362229.py:3: UserWarning: Parsing '17/02/2015' in DD/MM/YYYY format. Provide format or specify infer_datetime_format=True for consistent parsing.\n",
      "  fecalcal_time[\"date_of_receipt\"] = pd.to_datetime(fecalcal_time[\"date_of_receipt\"])\n",
      "/var/folders/qz/fy7nnm954f76spkqc86w7g_c0000gn/T/ipykernel_25778/1927362229.py:3: UserWarning: Parsing '29/10/2014' in DD/MM/YYYY format. Provide format or specify infer_datetime_format=True for consistent parsing.\n",
      "  fecalcal_time[\"date_of_receipt\"] = pd.to_datetime(fecalcal_time[\"date_of_receipt\"])\n",
      "/var/folders/qz/fy7nnm954f76spkqc86w7g_c0000gn/T/ipykernel_25778/1927362229.py:3: UserWarning: Parsing '19/12/2014' in DD/MM/YYYY format. Provide format or specify infer_datetime_format=True for consistent parsing.\n",
      "  fecalcal_time[\"date_of_receipt\"] = pd.to_datetime(fecalcal_time[\"date_of_receipt\"])\n",
      "/var/folders/qz/fy7nnm954f76spkqc86w7g_c0000gn/T/ipykernel_25778/1927362229.py:3: UserWarning: Parsing '25/06/2015' in DD/MM/YYYY format. Provide format or specify infer_datetime_format=True for consistent parsing.\n",
      "  fecalcal_time[\"date_of_receipt\"] = pd.to_datetime(fecalcal_time[\"date_of_receipt\"])\n",
      "/var/folders/qz/fy7nnm954f76spkqc86w7g_c0000gn/T/ipykernel_25778/1927362229.py:3: UserWarning: Parsing '13/04/2015' in DD/MM/YYYY format. Provide format or specify infer_datetime_format=True for consistent parsing.\n",
      "  fecalcal_time[\"date_of_receipt\"] = pd.to_datetime(fecalcal_time[\"date_of_receipt\"])\n",
      "/var/folders/qz/fy7nnm954f76spkqc86w7g_c0000gn/T/ipykernel_25778/1927362229.py:3: UserWarning: Parsing '28/09/2015' in DD/MM/YYYY format. Provide format or specify infer_datetime_format=True for consistent parsing.\n",
      "  fecalcal_time[\"date_of_receipt\"] = pd.to_datetime(fecalcal_time[\"date_of_receipt\"])\n",
      "/var/folders/qz/fy7nnm954f76spkqc86w7g_c0000gn/T/ipykernel_25778/1927362229.py:3: UserWarning: Parsing '23/04/2015' in DD/MM/YYYY format. Provide format or specify infer_datetime_format=True for consistent parsing.\n",
      "  fecalcal_time[\"date_of_receipt\"] = pd.to_datetime(fecalcal_time[\"date_of_receipt\"])\n",
      "/var/folders/qz/fy7nnm954f76spkqc86w7g_c0000gn/T/ipykernel_25778/1927362229.py:3: UserWarning: Parsing '14/09/2015' in DD/MM/YYYY format. Provide format or specify infer_datetime_format=True for consistent parsing.\n",
      "  fecalcal_time[\"date_of_receipt\"] = pd.to_datetime(fecalcal_time[\"date_of_receipt\"])\n",
      "/var/folders/qz/fy7nnm954f76spkqc86w7g_c0000gn/T/ipykernel_25778/1927362229.py:3: UserWarning: Parsing '15/09/2015' in DD/MM/YYYY format. Provide format or specify infer_datetime_format=True for consistent parsing.\n",
      "  fecalcal_time[\"date_of_receipt\"] = pd.to_datetime(fecalcal_time[\"date_of_receipt\"])\n",
      "/var/folders/qz/fy7nnm954f76spkqc86w7g_c0000gn/T/ipykernel_25778/1927362229.py:3: UserWarning: Parsing '29/10/2015' in DD/MM/YYYY format. Provide format or specify infer_datetime_format=True for consistent parsing.\n",
      "  fecalcal_time[\"date_of_receipt\"] = pd.to_datetime(fecalcal_time[\"date_of_receipt\"])\n",
      "/var/folders/qz/fy7nnm954f76spkqc86w7g_c0000gn/T/ipykernel_25778/1927362229.py:3: UserWarning: Parsing '24/02/2016' in DD/MM/YYYY format. Provide format or specify infer_datetime_format=True for consistent parsing.\n",
      "  fecalcal_time[\"date_of_receipt\"] = pd.to_datetime(fecalcal_time[\"date_of_receipt\"])\n",
      "/var/folders/qz/fy7nnm954f76spkqc86w7g_c0000gn/T/ipykernel_25778/1927362229.py:3: UserWarning: Parsing '14/10/2015' in DD/MM/YYYY format. Provide format or specify infer_datetime_format=True for consistent parsing.\n",
      "  fecalcal_time[\"date_of_receipt\"] = pd.to_datetime(fecalcal_time[\"date_of_receipt\"])\n",
      "/var/folders/qz/fy7nnm954f76spkqc86w7g_c0000gn/T/ipykernel_25778/1927362229.py:3: UserWarning: Parsing '15/12/2015' in DD/MM/YYYY format. Provide format or specify infer_datetime_format=True for consistent parsing.\n",
      "  fecalcal_time[\"date_of_receipt\"] = pd.to_datetime(fecalcal_time[\"date_of_receipt\"])\n",
      "/var/folders/qz/fy7nnm954f76spkqc86w7g_c0000gn/T/ipykernel_25778/1927362229.py:3: UserWarning: Parsing '22/09/2015' in DD/MM/YYYY format. Provide format or specify infer_datetime_format=True for consistent parsing.\n",
      "  fecalcal_time[\"date_of_receipt\"] = pd.to_datetime(fecalcal_time[\"date_of_receipt\"])\n",
      "/var/folders/qz/fy7nnm954f76spkqc86w7g_c0000gn/T/ipykernel_25778/1927362229.py:3: UserWarning: Parsing '30/03/2015' in DD/MM/YYYY format. Provide format or specify infer_datetime_format=True for consistent parsing.\n",
      "  fecalcal_time[\"date_of_receipt\"] = pd.to_datetime(fecalcal_time[\"date_of_receipt\"])\n",
      "/var/folders/qz/fy7nnm954f76spkqc86w7g_c0000gn/T/ipykernel_25778/1927362229.py:3: UserWarning: Parsing '16/12/2015' in DD/MM/YYYY format. Provide format or specify infer_datetime_format=True for consistent parsing.\n",
      "  fecalcal_time[\"date_of_receipt\"] = pd.to_datetime(fecalcal_time[\"date_of_receipt\"])\n",
      "/var/folders/qz/fy7nnm954f76spkqc86w7g_c0000gn/T/ipykernel_25778/1927362229.py:3: UserWarning: Parsing '19/01/2016' in DD/MM/YYYY format. Provide format or specify infer_datetime_format=True for consistent parsing.\n",
      "  fecalcal_time[\"date_of_receipt\"] = pd.to_datetime(fecalcal_time[\"date_of_receipt\"])\n",
      "/var/folders/qz/fy7nnm954f76spkqc86w7g_c0000gn/T/ipykernel_25778/1927362229.py:3: UserWarning: Parsing '15/03/2016' in DD/MM/YYYY format. Provide format or specify infer_datetime_format=True for consistent parsing.\n",
      "  fecalcal_time[\"date_of_receipt\"] = pd.to_datetime(fecalcal_time[\"date_of_receipt\"])\n",
      "/var/folders/qz/fy7nnm954f76spkqc86w7g_c0000gn/T/ipykernel_25778/1927362229.py:3: UserWarning: Parsing '31/03/2015' in DD/MM/YYYY format. Provide format or specify infer_datetime_format=True for consistent parsing.\n",
      "  fecalcal_time[\"date_of_receipt\"] = pd.to_datetime(fecalcal_time[\"date_of_receipt\"])\n",
      "/var/folders/qz/fy7nnm954f76spkqc86w7g_c0000gn/T/ipykernel_25778/1927362229.py:3: UserWarning: Parsing '24/11/2014' in DD/MM/YYYY format. Provide format or specify infer_datetime_format=True for consistent parsing.\n",
      "  fecalcal_time[\"date_of_receipt\"] = pd.to_datetime(fecalcal_time[\"date_of_receipt\"])\n",
      "/var/folders/qz/fy7nnm954f76spkqc86w7g_c0000gn/T/ipykernel_25778/1927362229.py:3: UserWarning: Parsing '20/05/2015' in DD/MM/YYYY format. Provide format or specify infer_datetime_format=True for consistent parsing.\n",
      "  fecalcal_time[\"date_of_receipt\"] = pd.to_datetime(fecalcal_time[\"date_of_receipt\"])\n",
      "/var/folders/qz/fy7nnm954f76spkqc86w7g_c0000gn/T/ipykernel_25778/1927362229.py:3: UserWarning: Parsing '18/11/2014' in DD/MM/YYYY format. Provide format or specify infer_datetime_format=True for consistent parsing.\n",
      "  fecalcal_time[\"date_of_receipt\"] = pd.to_datetime(fecalcal_time[\"date_of_receipt\"])\n",
      "/var/folders/qz/fy7nnm954f76spkqc86w7g_c0000gn/T/ipykernel_25778/1927362229.py:3: UserWarning: Parsing '15/04/2015' in DD/MM/YYYY format. Provide format or specify infer_datetime_format=True for consistent parsing.\n",
      "  fecalcal_time[\"date_of_receipt\"] = pd.to_datetime(fecalcal_time[\"date_of_receipt\"])\n",
      "/var/folders/qz/fy7nnm954f76spkqc86w7g_c0000gn/T/ipykernel_25778/1927362229.py:3: UserWarning: Parsing '18/06/2015' in DD/MM/YYYY format. Provide format or specify infer_datetime_format=True for consistent parsing.\n",
      "  fecalcal_time[\"date_of_receipt\"] = pd.to_datetime(fecalcal_time[\"date_of_receipt\"])\n",
      "/var/folders/qz/fy7nnm954f76spkqc86w7g_c0000gn/T/ipykernel_25778/1927362229.py:3: UserWarning: Parsing '16/12/2014' in DD/MM/YYYY format. Provide format or specify infer_datetime_format=True for consistent parsing.\n",
      "  fecalcal_time[\"date_of_receipt\"] = pd.to_datetime(fecalcal_time[\"date_of_receipt\"])\n",
      "/var/folders/qz/fy7nnm954f76spkqc86w7g_c0000gn/T/ipykernel_25778/1927362229.py:3: UserWarning: Parsing '23/02/2016' in DD/MM/YYYY format. Provide format or specify infer_datetime_format=True for consistent parsing.\n",
      "  fecalcal_time[\"date_of_receipt\"] = pd.to_datetime(fecalcal_time[\"date_of_receipt\"])\n",
      "/var/folders/qz/fy7nnm954f76spkqc86w7g_c0000gn/T/ipykernel_25778/1927362229.py:3: UserWarning: Parsing '14/12/2015' in DD/MM/YYYY format. Provide format or specify infer_datetime_format=True for consistent parsing.\n",
      "  fecalcal_time[\"date_of_receipt\"] = pd.to_datetime(fecalcal_time[\"date_of_receipt\"])\n",
      "/var/folders/qz/fy7nnm954f76spkqc86w7g_c0000gn/T/ipykernel_25778/1927362229.py:3: UserWarning: Parsing '23/09/2015' in DD/MM/YYYY format. Provide format or specify infer_datetime_format=True for consistent parsing.\n",
      "  fecalcal_time[\"date_of_receipt\"] = pd.to_datetime(fecalcal_time[\"date_of_receipt\"])\n",
      "/var/folders/qz/fy7nnm954f76spkqc86w7g_c0000gn/T/ipykernel_25778/1927362229.py:3: UserWarning: Parsing '23/10/2015' in DD/MM/YYYY format. Provide format or specify infer_datetime_format=True for consistent parsing.\n",
      "  fecalcal_time[\"date_of_receipt\"] = pd.to_datetime(fecalcal_time[\"date_of_receipt\"])\n",
      "/var/folders/qz/fy7nnm954f76spkqc86w7g_c0000gn/T/ipykernel_25778/1927362229.py:3: UserWarning: Parsing '16/01/2015' in DD/MM/YYYY format. Provide format or specify infer_datetime_format=True for consistent parsing.\n",
      "  fecalcal_time[\"date_of_receipt\"] = pd.to_datetime(fecalcal_time[\"date_of_receipt\"])\n",
      "/var/folders/qz/fy7nnm954f76spkqc86w7g_c0000gn/T/ipykernel_25778/1927362229.py:3: UserWarning: Parsing '22/08/2014' in DD/MM/YYYY format. Provide format or specify infer_datetime_format=True for consistent parsing.\n",
      "  fecalcal_time[\"date_of_receipt\"] = pd.to_datetime(fecalcal_time[\"date_of_receipt\"])\n",
      "/var/folders/qz/fy7nnm954f76spkqc86w7g_c0000gn/T/ipykernel_25778/1927362229.py:3: UserWarning: Parsing '19/03/2015' in DD/MM/YYYY format. Provide format or specify infer_datetime_format=True for consistent parsing.\n",
      "  fecalcal_time[\"date_of_receipt\"] = pd.to_datetime(fecalcal_time[\"date_of_receipt\"])\n",
      "/var/folders/qz/fy7nnm954f76spkqc86w7g_c0000gn/T/ipykernel_25778/1927362229.py:3: UserWarning: Parsing '29/04/2015' in DD/MM/YYYY format. Provide format or specify infer_datetime_format=True for consistent parsing.\n",
      "  fecalcal_time[\"date_of_receipt\"] = pd.to_datetime(fecalcal_time[\"date_of_receipt\"])\n",
      "/var/folders/qz/fy7nnm954f76spkqc86w7g_c0000gn/T/ipykernel_25778/1927362229.py:3: UserWarning: Parsing '30/06/2015' in DD/MM/YYYY format. Provide format or specify infer_datetime_format=True for consistent parsing.\n",
      "  fecalcal_time[\"date_of_receipt\"] = pd.to_datetime(fecalcal_time[\"date_of_receipt\"])\n",
      "/var/folders/qz/fy7nnm954f76spkqc86w7g_c0000gn/T/ipykernel_25778/1927362229.py:3: UserWarning: Parsing '17/02/2016' in DD/MM/YYYY format. Provide format or specify infer_datetime_format=True for consistent parsing.\n",
      "  fecalcal_time[\"date_of_receipt\"] = pd.to_datetime(fecalcal_time[\"date_of_receipt\"])\n",
      "/var/folders/qz/fy7nnm954f76spkqc86w7g_c0000gn/T/ipykernel_25778/1927362229.py:3: UserWarning: Parsing '29/09/2015' in DD/MM/YYYY format. Provide format or specify infer_datetime_format=True for consistent parsing.\n",
      "  fecalcal_time[\"date_of_receipt\"] = pd.to_datetime(fecalcal_time[\"date_of_receipt\"])\n",
      "/var/folders/qz/fy7nnm954f76spkqc86w7g_c0000gn/T/ipykernel_25778/1927362229.py:3: UserWarning: Parsing '18/05/2016' in DD/MM/YYYY format. Provide format or specify infer_datetime_format=True for consistent parsing.\n",
      "  fecalcal_time[\"date_of_receipt\"] = pd.to_datetime(fecalcal_time[\"date_of_receipt\"])\n",
      "/var/folders/qz/fy7nnm954f76spkqc86w7g_c0000gn/T/ipykernel_25778/1927362229.py:3: UserWarning: Parsing '14/04/2015' in DD/MM/YYYY format. Provide format or specify infer_datetime_format=True for consistent parsing.\n",
      "  fecalcal_time[\"date_of_receipt\"] = pd.to_datetime(fecalcal_time[\"date_of_receipt\"])\n",
      "/var/folders/qz/fy7nnm954f76spkqc86w7g_c0000gn/T/ipykernel_25778/1927362229.py:3: UserWarning: Parsing '22/04/2015' in DD/MM/YYYY format. Provide format or specify infer_datetime_format=True for consistent parsing.\n",
      "  fecalcal_time[\"date_of_receipt\"] = pd.to_datetime(fecalcal_time[\"date_of_receipt\"])\n",
      "/var/folders/qz/fy7nnm954f76spkqc86w7g_c0000gn/T/ipykernel_25778/1927362229.py:3: UserWarning: Parsing '22/07/2015' in DD/MM/YYYY format. Provide format or specify infer_datetime_format=True for consistent parsing.\n",
      "  fecalcal_time[\"date_of_receipt\"] = pd.to_datetime(fecalcal_time[\"date_of_receipt\"])\n"
     ]
    }
   ],
   "source": [
    "fecalcal_time = pd.concat([fecalcal_info_MTX, fecalcal_info_MGX])\n",
    "fecalcal_time.sort_values(by=\"Participant ID\").drop_duplicates()\n",
    "fecalcal_time[\"date_of_receipt\"] = pd.to_datetime(fecalcal_time[\"date_of_receipt\"])\n"
   ],
   "metadata": {
    "collapsed": false
   }
  },
  {
   "cell_type": "code",
   "execution_count": 175,
   "outputs": [
    {
     "name": "stdout",
     "output_type": "stream",
     "text": [
      "Data min: 2013-11-12 00:00:00\n",
      "Data max: 2016-11-05 00:00:00\n",
      "1089 days 00:00:00\n"
     ]
    }
   ],
   "source": [
    "date_min = min(fecalcal_time[\"date_of_receipt\"])\n",
    "date_max = max(fecalcal_time[\"date_of_receipt\"])\n",
    "study_len = date_max - date_min\n",
    "print(f'Data min: {date_min}')\n",
    "print(f'Data max: {date_max}')\n",
    "print(study_len)"
   ],
   "metadata": {
    "collapsed": false
   }
  },
  {
   "cell_type": "code",
   "execution_count": 176,
   "outputs": [
    {
     "data": {
      "text/plain": "     External ID Participant ID diagnosis  visit_num   fecalcal     sex  \\\n2710    CSM67UA2          C3001        CD         20   23.20350  Female   \n2711    CSM79HGP          C3001        CD         26   37.17836  Female   \n2715    CSM5MCVN          C3002        CD         13   15.97901  Female   \n2716    CSM67UBH          C3002        CD         19   14.51068  Female   \n2717    CSM67UBN          C3002        CD         22   16.32450  Female   \n...          ...            ...       ...        ...        ...     ...   \n2676    PSMA264Q          P6035        UC          6   63.81772    Male   \n2678    PSMA264U          P6035        UC          8   17.44622    Male   \n2680    PSMA267J          P6035        UC         12   15.50000    Male   \n2681    PSMA267P          P6035        UC         15   14.57958    Male   \n2683    PSMB4MBK          P6035        UC         21  127.56480    Male   \n\n     date_of_receipt fecalcal_bin  days_event  \n2710      2014-09-30            0         322  \n2711      2014-10-12            0         334  \n2715      2014-08-19            0         280  \n2716      2014-10-28            0         350  \n2717      2014-09-12            0         304  \n...              ...          ...         ...  \n2676      2015-03-11            0         484  \n2678      2015-01-12            0         426  \n2680      2016-01-19            0         798  \n2681      2016-03-15            0         854  \n2683      2016-01-06            0         785  \n\n[536 rows x 9 columns]",
      "text/html": "<div>\n<style scoped>\n    .dataframe tbody tr th:only-of-type {\n        vertical-align: middle;\n    }\n\n    .dataframe tbody tr th {\n        vertical-align: top;\n    }\n\n    .dataframe thead th {\n        text-align: right;\n    }\n</style>\n<table border=\"1\" class=\"dataframe\">\n  <thead>\n    <tr style=\"text-align: right;\">\n      <th></th>\n      <th>External ID</th>\n      <th>Participant ID</th>\n      <th>diagnosis</th>\n      <th>visit_num</th>\n      <th>fecalcal</th>\n      <th>sex</th>\n      <th>date_of_receipt</th>\n      <th>fecalcal_bin</th>\n      <th>days_event</th>\n    </tr>\n  </thead>\n  <tbody>\n    <tr>\n      <th>2710</th>\n      <td>CSM67UA2</td>\n      <td>C3001</td>\n      <td>CD</td>\n      <td>20</td>\n      <td>23.20350</td>\n      <td>Female</td>\n      <td>2014-09-30</td>\n      <td>0</td>\n      <td>322</td>\n    </tr>\n    <tr>\n      <th>2711</th>\n      <td>CSM79HGP</td>\n      <td>C3001</td>\n      <td>CD</td>\n      <td>26</td>\n      <td>37.17836</td>\n      <td>Female</td>\n      <td>2014-10-12</td>\n      <td>0</td>\n      <td>334</td>\n    </tr>\n    <tr>\n      <th>2715</th>\n      <td>CSM5MCVN</td>\n      <td>C3002</td>\n      <td>CD</td>\n      <td>13</td>\n      <td>15.97901</td>\n      <td>Female</td>\n      <td>2014-08-19</td>\n      <td>0</td>\n      <td>280</td>\n    </tr>\n    <tr>\n      <th>2716</th>\n      <td>CSM67UBH</td>\n      <td>C3002</td>\n      <td>CD</td>\n      <td>19</td>\n      <td>14.51068</td>\n      <td>Female</td>\n      <td>2014-10-28</td>\n      <td>0</td>\n      <td>350</td>\n    </tr>\n    <tr>\n      <th>2717</th>\n      <td>CSM67UBN</td>\n      <td>C3002</td>\n      <td>CD</td>\n      <td>22</td>\n      <td>16.32450</td>\n      <td>Female</td>\n      <td>2014-09-12</td>\n      <td>0</td>\n      <td>304</td>\n    </tr>\n    <tr>\n      <th>...</th>\n      <td>...</td>\n      <td>...</td>\n      <td>...</td>\n      <td>...</td>\n      <td>...</td>\n      <td>...</td>\n      <td>...</td>\n      <td>...</td>\n      <td>...</td>\n    </tr>\n    <tr>\n      <th>2676</th>\n      <td>PSMA264Q</td>\n      <td>P6035</td>\n      <td>UC</td>\n      <td>6</td>\n      <td>63.81772</td>\n      <td>Male</td>\n      <td>2015-03-11</td>\n      <td>0</td>\n      <td>484</td>\n    </tr>\n    <tr>\n      <th>2678</th>\n      <td>PSMA264U</td>\n      <td>P6035</td>\n      <td>UC</td>\n      <td>8</td>\n      <td>17.44622</td>\n      <td>Male</td>\n      <td>2015-01-12</td>\n      <td>0</td>\n      <td>426</td>\n    </tr>\n    <tr>\n      <th>2680</th>\n      <td>PSMA267J</td>\n      <td>P6035</td>\n      <td>UC</td>\n      <td>12</td>\n      <td>15.50000</td>\n      <td>Male</td>\n      <td>2016-01-19</td>\n      <td>0</td>\n      <td>798</td>\n    </tr>\n    <tr>\n      <th>2681</th>\n      <td>PSMA267P</td>\n      <td>P6035</td>\n      <td>UC</td>\n      <td>15</td>\n      <td>14.57958</td>\n      <td>Male</td>\n      <td>2016-03-15</td>\n      <td>0</td>\n      <td>854</td>\n    </tr>\n    <tr>\n      <th>2683</th>\n      <td>PSMB4MBK</td>\n      <td>P6035</td>\n      <td>UC</td>\n      <td>21</td>\n      <td>127.56480</td>\n      <td>Male</td>\n      <td>2016-01-06</td>\n      <td>0</td>\n      <td>785</td>\n    </tr>\n  </tbody>\n</table>\n<p>536 rows × 9 columns</p>\n</div>"
     },
     "execution_count": 176,
     "metadata": {},
     "output_type": "execute_result"
    }
   ],
   "source": [
    "fecalcal_time.loc[fecalcal_time['fecalcal']<200, 'fecalcal_bin'] = '0'\n",
    "fecalcal_time.loc[fecalcal_time['fecalcal']>=200, 'fecalcal_bin'] = '1'\n",
    "fecalcal_time['days_event'] = (fecalcal_time['date_of_receipt'] - date_min)\n",
    "fecalcal_time['days_event'] = fecalcal_time['days_event'].dt.days\n",
    "fecalcal_time"
   ],
   "metadata": {
    "collapsed": false
   }
  },
  {
   "cell_type": "code",
   "execution_count": 177,
   "outputs": [
    {
     "name": "stderr",
     "output_type": "stream",
     "text": [
      "/Users/odedsabah/PycharmProjects/MGX_MTX_Analysis/venv/lib/python3.8/site-packages/lifelines/utils/__init__.py:1187: UserWarning: Attempting to convert an unexpected datatype 'object' to float. Suggestion: 1) use `lifelines.utils.datetimes_to_durations` to do conversions or 2) manually convert to floats/booleans.\n",
      "  warnings.warn(warning_text, UserWarning)\n"
     ]
    },
    {
     "data": {
      "text/plain": "          Kaplan Meier Estimate\ntimeline                       \n0.0                    0.996269\n56.0                   0.996269\n57.0                   0.996269\n59.0                   0.996269\n90.0                   0.992502\n...                         ...\n918.0                  0.242139\n935.0                  0.242139\n994.0                  0.242139\n1086.0                 0.080713\n1089.0                 0.080713\n\n[176 rows x 1 columns]",
      "text/html": "<div>\n<style scoped>\n    .dataframe tbody tr th:only-of-type {\n        vertical-align: middle;\n    }\n\n    .dataframe tbody tr th {\n        vertical-align: top;\n    }\n\n    .dataframe thead th {\n        text-align: right;\n    }\n</style>\n<table border=\"1\" class=\"dataframe\">\n  <thead>\n    <tr style=\"text-align: right;\">\n      <th></th>\n      <th>Kaplan Meier Estimate</th>\n    </tr>\n    <tr>\n      <th>timeline</th>\n      <th></th>\n    </tr>\n  </thead>\n  <tbody>\n    <tr>\n      <th>0.0</th>\n      <td>0.996269</td>\n    </tr>\n    <tr>\n      <th>56.0</th>\n      <td>0.996269</td>\n    </tr>\n    <tr>\n      <th>57.0</th>\n      <td>0.996269</td>\n    </tr>\n    <tr>\n      <th>59.0</th>\n      <td>0.996269</td>\n    </tr>\n    <tr>\n      <th>90.0</th>\n      <td>0.992502</td>\n    </tr>\n    <tr>\n      <th>...</th>\n      <td>...</td>\n    </tr>\n    <tr>\n      <th>918.0</th>\n      <td>0.242139</td>\n    </tr>\n    <tr>\n      <th>935.0</th>\n      <td>0.242139</td>\n    </tr>\n    <tr>\n      <th>994.0</th>\n      <td>0.242139</td>\n    </tr>\n    <tr>\n      <th>1086.0</th>\n      <td>0.080713</td>\n    </tr>\n    <tr>\n      <th>1089.0</th>\n      <td>0.080713</td>\n    </tr>\n  </tbody>\n</table>\n<p>176 rows × 1 columns</p>\n</div>"
     },
     "execution_count": 177,
     "metadata": {},
     "output_type": "execute_result"
    }
   ],
   "source": [
    "kmf = KaplanMeierFitter()\n",
    "kmf.fit(fecalcal_time.days_event, fecalcal_time.fecalcal_bin, label='Kaplan Meier Estimate')\n",
    "kmf.survival_function_"
   ],
   "metadata": {
    "collapsed": false
   }
  },
  {
   "cell_type": "code",
   "execution_count": 178,
   "outputs": [
    {
     "data": {
      "text/plain": "<AxesSubplot: xlabel='timeline'>"
     },
     "execution_count": 178,
     "metadata": {},
     "output_type": "execute_result"
    },
    {
     "data": {
      "text/plain": "<Figure size 432x288 with 1 Axes>",
      "image/png": "[encoded data removed]"
     },
     "metadata": {},
     "output_type": "display_data"
    }
   ],
   "source": [
    "kmf.plot(ci_show=True)\n"
   ],
   "metadata": {
    "collapsed": false
   }
  },
  {
   "cell_type": "code",
   "execution_count": 179,
   "outputs": [
    {
     "name": "stderr",
     "output_type": "stream",
     "text": [
      "/Users/odedsabah/PycharmProjects/MGX_MTX_Analysis/venv/lib/python3.8/site-packages/lifelines/utils/__init__.py:1187: UserWarning: Attempting to convert an unexpected datatype 'object' to float. Suggestion: 1) use `lifelines.utils.datetimes_to_durations` to do conversions or 2) manually convert to floats/booleans.\n",
      "  warnings.warn(warning_text, UserWarning)\n"
     ]
    },
    {
     "data": {
      "text/plain": "<lifelines.KaplanMeierFitter:\"Male\", fitted with 291 total observations, 208 right-censored observations>"
     },
     "execution_count": 179,
     "metadata": {},
     "output_type": "execute_result"
    }
   ],
   "source": [
    "fecalcal_time['sex'] = fecalcal_time['sex'].astype('category')\n",
    "groups = fecalcal_time['sex']\n",
    "i1 = (groups == 'Male')  ## males\n",
    "i2 = (groups == 'Female') ## females\n",
    "\n",
    "kmf1 = KaplanMeierFitter()\n",
    "kmf1.fit(fecalcal_time['days_event'][fecalcal_time['sex'] == \"Male\"], fecalcal_time['fecalcal_bin'][fecalcal_time['sex'] == \"Male\"], label='Male')"
   ],
   "metadata": {
    "collapsed": false
   }
  },
  {
   "cell_type": "code",
   "execution_count": 180,
   "outputs": [
    {
     "name": "stderr",
     "output_type": "stream",
     "text": [
      "/Users/odedsabah/PycharmProjects/MGX_MTX_Analysis/venv/lib/python3.8/site-packages/lifelines/utils/__init__.py:1187: UserWarning: Attempting to convert an unexpected datatype 'object' to float. Suggestion: 1) use `lifelines.utils.datetimes_to_durations` to do conversions or 2) manually convert to floats/booleans.\n",
      "  warnings.warn(warning_text, UserWarning)\n"
     ]
    },
    {
     "data": {
      "text/plain": "<lifelines.KaplanMeierFitter:\"Female\", fitted with 245 total observations, 193 right-censored observations>"
     },
     "execution_count": 180,
     "metadata": {},
     "output_type": "execute_result"
    }
   ],
   "source": [
    "kmf2 = KaplanMeierFitter()\n",
    "kmf2.fit(fecalcal_time['days_event'][fecalcal_time['sex'] == 'Female'], fecalcal_time['fecalcal_bin'][fecalcal_time['sex'] == 'Female'], label='Female')"
   ],
   "metadata": {
    "collapsed": false
   }
  },
  {
   "cell_type": "code",
   "execution_count": 181,
   "outputs": [
    {
     "data": {
      "text/plain": "<AxesSubplot: xlabel='timeline'>"
     },
     "execution_count": 181,
     "metadata": {},
     "output_type": "execute_result"
    },
    {
     "data": {
      "text/plain": "<Figure size 432x288 with 1 Axes>",
      "image/png": "[encoded data removed]"
     },
     "metadata": {},
     "output_type": "display_data"
    }
   ],
   "source": [
    "a1 = kmf1.plot()\n",
    "kmf2.plot(ax=a1)"
   ],
   "metadata": {
    "collapsed": false
   }
  },
  {
   "cell_type": "code",
   "execution_count": 182,
   "outputs": [
    {
     "name": "stderr",
     "output_type": "stream",
     "text": [
      "/Users/odedsabah/PycharmProjects/MGX_MTX_Analysis/venv/lib/python3.8/site-packages/lifelines/utils/__init__.py:1187: UserWarning: Attempting to convert an unexpected datatype 'object' to float. Suggestion: 1) use `lifelines.utils.datetimes_to_durations` to do conversions or 2) manually convert to floats/booleans.\n",
      "  warnings.warn(warning_text, UserWarning)\n"
     ]
    },
    {
     "data": {
      "text/plain": "<lifelines.KaplanMeierFitter:\"UC\", fitted with 150 total observations, 94 right-censored observations>"
     },
     "execution_count": 182,
     "metadata": {},
     "output_type": "execute_result"
    }
   ],
   "source": [
    "fecalcal_time['diagnosis'] = fecalcal_time['diagnosis'].astype('category')\n",
    "groups = fecalcal_time['diagnosis']\n",
    "i1 = (groups == 'UC')\n",
    "i2 = (groups == 'CD') ## females\n",
    "i3 = (groups == 'nonIBD') ## females\n",
    "\n",
    "kmf1 = KaplanMeierFitter()\n",
    "kmf1.fit(fecalcal_time['days_event'][fecalcal_time['diagnosis'] == \"UC\"], fecalcal_time['fecalcal_bin'][fecalcal_time['diagnosis'] == \"UC\"], label='UC')"
   ],
   "metadata": {
    "collapsed": false
   }
  },
  {
   "cell_type": "code",
   "execution_count": 183,
   "outputs": [
    {
     "name": "stderr",
     "output_type": "stream",
     "text": [
      "/Users/odedsabah/PycharmProjects/MGX_MTX_Analysis/venv/lib/python3.8/site-packages/lifelines/utils/__init__.py:1187: UserWarning: Attempting to convert an unexpected datatype 'object' to float. Suggestion: 1) use `lifelines.utils.datetimes_to_durations` to do conversions or 2) manually convert to floats/booleans.\n",
      "  warnings.warn(warning_text, UserWarning)\n"
     ]
    },
    {
     "data": {
      "text/plain": "<lifelines.KaplanMeierFitter:\"CD\", fitted with 228 total observations, 149 right-censored observations>"
     },
     "execution_count": 183,
     "metadata": {},
     "output_type": "execute_result"
    }
   ],
   "source": [
    "kmf2 = KaplanMeierFitter()\n",
    "kmf2.fit(fecalcal_time['days_event'][fecalcal_time['diagnosis'] == \"CD\"], fecalcal_time['fecalcal_bin'][fecalcal_time['diagnosis'] == \"CD\"], label='CD')"
   ],
   "metadata": {
    "collapsed": false
   }
  },
  {
   "cell_type": "code",
   "execution_count": 184,
   "outputs": [
    {
     "name": "stderr",
     "output_type": "stream",
     "text": [
      "/Users/odedsabah/PycharmProjects/MGX_MTX_Analysis/venv/lib/python3.8/site-packages/lifelines/utils/__init__.py:1187: UserWarning: Attempting to convert an unexpected datatype 'object' to float. Suggestion: 1) use `lifelines.utils.datetimes_to_durations` to do conversions or 2) manually convert to floats/booleans.\n",
      "  warnings.warn(warning_text, UserWarning)\n"
     ]
    },
    {
     "data": {
      "text/plain": "<lifelines.KaplanMeierFitter:\"nonIBD\", fitted with 158 total observations, 158 right-censored observations>"
     },
     "execution_count": 184,
     "metadata": {},
     "output_type": "execute_result"
    }
   ],
   "source": [
    "kmf3 = KaplanMeierFitter()\n",
    "kmf3.fit(fecalcal_time['days_event'][fecalcal_time['diagnosis'] == \"nonIBD\"], fecalcal_time['fecalcal_bin'][fecalcal_time['diagnosis'] == \"nonIBD\"], label='nonIBD')"
   ],
   "metadata": {
    "collapsed": false
   }
  },
  {
   "cell_type": "code",
   "execution_count": 185,
   "outputs": [
    {
     "data": {
      "text/plain": "<AxesSubplot: xlabel='timeline'>"
     },
     "execution_count": 185,
     "metadata": {},
     "output_type": "execute_result"
    },
    {
     "data": {
      "text/plain": "<Figure size 432x288 with 1 Axes>",
      "image/png": "[encoded data removed]"
     },
     "metadata": {},
     "output_type": "display_data"
    }
   ],
   "source": [
    "a1 = kmf1.plot()\n",
    "kmf2.plot(ax=a1)\n",
    "kmf3.plot(ax=a1)"
   ],
   "metadata": {
    "collapsed": false
   }
  }
 ],
 "metadata": {
  "kernelspec": {
   "display_name": "Python 3",
   "language": "python",
   "name": "python3"
  },
  "language_info": {
   "codemirror_mode": {
    "name": "ipython",
    "version": 2
   },
   "file_extension": ".py",
   "mimetype": "text/x-python",
   "name": "python",
   "nbconvert_exporter": "python",
   "pygments_lexer": "ipython2",
   "version": "2.7.6"
  }
 },
 "nbformat": 4,
 "nbformat_minor": 0
}
